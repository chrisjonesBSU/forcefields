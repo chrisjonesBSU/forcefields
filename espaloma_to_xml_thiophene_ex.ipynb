{
 "cells": [
  {
   "cell_type": "code",
   "execution_count": 1,
   "id": "538feb4b",
   "metadata": {
    "scrolled": true
   },
   "outputs": [
    {
     "name": "stderr",
     "output_type": "stream",
     "text": [
      "Warning: importing 'simtk.openmm' is deprecated.  Import 'openmm' instead.\n",
      "/Users/madilyn/miniconda3/envs/esp/lib/python3.9/site-packages/qcelemental/models/results.py:788: DeprecationWarning: ResultProtocols has been renamed to AtomicResultProtocols and will be removed as soon as v0.13.0\n",
      "  warn(\n",
      "/Users/madilyn/miniconda3/envs/esp/lib/python3.9/site-packages/qcelemental/models/results.py:788: DeprecationWarning: ResultProtocols has been renamed to AtomicResultProtocols and will be removed as soon as v0.13.0\n",
      "  warn(\n",
      "LICENSE: Could not open license file \"oe_license.txt\" in local directory\n",
      "LICENSE: N.B. OE_LICENSE environment variable is not set\n",
      "LICENSE: N.B. OE_DIR environment variable is not set\n",
      "LICENSE: No product keys!\n",
      "LICENSE: No product keys!\n",
      "LICENSE: No product keys!\n",
      "Warning: Unable to load toolkit 'OpenEye Toolkit'. The Open Force Field Toolkit does not require the OpenEye Toolkits, and can use RDKit/AmberTools instead. However, if you have a valid license for the OpenEye Toolkits, consider installing them for faster performance and additional file format support: https://docs.eyesopen.com/toolkits/python/quickstart-python/linuxosx.html OpenEye offers free Toolkit licenses for academics: https://www.eyesopen.com/academic-licensing\n",
      "LICENSE: No product keys!\n",
      "sh: wget: command not found\n"
     ]
    }
   ],
   "source": [
    "from writers import foyer_xml_writer\n",
    "from writers.foyer_xml_writer import parmed_to_foyer_xml, mbuild_to_foyer_xml\n",
    "\n",
    "\n",
    "import ele\n",
    "import espaloma as esp\n",
    "import forcefield_utilities as ffutils\n",
    "import foyer\n",
    "import gmso\n",
    "import mbuild as mb\n",
    "from mbuild.lib.recipes import Polymer\n",
    "from mbuild.formats.hoomd_forcefield import create_hoomd_forcefield\n",
    "import numpy as np\n",
    "from openff.toolkit.topology import Molecule\n",
    "import torch\n",
    "from mbuild.formats.hoomd_forcefield import create_hoomd_forcefield\n",
    "import hoomd\n",
    "import gsd.hoomd\n",
    "import matplotlib.pyplot as plt\n",
    "\n",
    "import numpy as np\n",
    "import os\n",
    "import warnings\n",
    "warnings.filterwarnings(\"ignore\")\n",
    "\n",
    "if not os.path.exists(\"espaloma_model.pt\"):\n",
    "    os.system(\"wget http://data.wangyq.net/espaloma_model.pt\")"
   ]
  },
  {
   "cell_type": "code",
   "execution_count": 7,
   "id": "273bdcb9",
   "metadata": {},
   "outputs": [
    {
     "ename": "OSError",
     "evalue": "The topology is loaded by filename extension, and the detected \".smi\" format is not supported. Supported topology formats include \".pdb\", \".pdb.gz\", \".h5\", \".lh5\", \".prmtop\", \".parm7\", \".prm7\", \".psf\", \".mol2\", \".hoomdxml\", \".gro\", \".arc\", \".hdf5\" and \".gsd\".",
     "output_type": "error",
     "traceback": [
      "\u001b[0;31m---------------------------------------------------------------------------\u001b[0m",
      "\u001b[0;31mOSError\u001b[0m                                   Traceback (most recent call last)",
      "Cell \u001b[0;32mIn[7], line 10\u001b[0m\n\u001b[1;32m      4\u001b[0m mb_thiophene\u001b[38;5;241m.\u001b[39mvisualize()\n\u001b[1;32m      6\u001b[0m \u001b[38;5;66;03m#try to either save molecule as a usable format or get smiles string from mol2 file..\u001b[39;00m\n\u001b[1;32m      7\u001b[0m \n\u001b[1;32m      8\u001b[0m \u001b[38;5;66;03m#mb_thiophene.save(\"thiophene\")\u001b[39;00m\n\u001b[0;32m---> 10\u001b[0m mb_thiophene2 \u001b[38;5;241m=\u001b[39m \u001b[43mmb\u001b[49m\u001b[38;5;241;43m.\u001b[39;49m\u001b[43mload\u001b[49m\u001b[43m(\u001b[49m\u001b[38;5;124;43m\"\u001b[39;49m\u001b[38;5;124;43mthiophene.smi\u001b[39;49m\u001b[38;5;124;43m\"\u001b[39;49m\u001b[43m)\u001b[49m\n",
      "File \u001b[0;32m~/miniconda3/envs/esp/lib/python3.9/site-packages/mbuild/conversion.py:127\u001b[0m, in \u001b[0;36mload\u001b[0;34m(filename_or_object, relative_to_module, compound, coords_only, rigid, smiles, infer_hierarchy, backend, ignore_box_warn, **kwargs)\u001b[0m\n\u001b[1;32m    117\u001b[0m     \u001b[38;5;28;01mreturn\u001b[39;00m load_smiles(\n\u001b[1;32m    118\u001b[0m         smiles_or_filename\u001b[38;5;241m=\u001b[39mfilename_or_object,\n\u001b[1;32m    119\u001b[0m         compound\u001b[38;5;241m=\u001b[39mcompound,\n\u001b[0;32m   (...)\u001b[0m\n\u001b[1;32m    123\u001b[0m         \u001b[38;5;241m*\u001b[39m\u001b[38;5;241m*\u001b[39mkwargs,\n\u001b[1;32m    124\u001b[0m     )\n\u001b[1;32m    125\u001b[0m \u001b[38;5;66;03m# Last, if none of the above, load from file\u001b[39;00m\n\u001b[1;32m    126\u001b[0m \u001b[38;5;28;01melse\u001b[39;00m:\n\u001b[0;32m--> 127\u001b[0m     \u001b[38;5;28;01mreturn\u001b[39;00m \u001b[43mload_file\u001b[49m\u001b[43m(\u001b[49m\n\u001b[1;32m    128\u001b[0m \u001b[43m        \u001b[49m\u001b[43mfilename\u001b[49m\u001b[38;5;241;43m=\u001b[39;49m\u001b[43mfilename_or_object\u001b[49m\u001b[43m,\u001b[49m\n\u001b[1;32m    129\u001b[0m \u001b[43m        \u001b[49m\u001b[43mrelative_to_module\u001b[49m\u001b[38;5;241;43m=\u001b[39;49m\u001b[43mrelative_to_module\u001b[49m\u001b[43m,\u001b[49m\n\u001b[1;32m    130\u001b[0m \u001b[43m        \u001b[49m\u001b[43mcompound\u001b[49m\u001b[38;5;241;43m=\u001b[39;49m\u001b[43mcompound\u001b[49m\u001b[43m,\u001b[49m\n\u001b[1;32m    131\u001b[0m \u001b[43m        \u001b[49m\u001b[43mcoords_only\u001b[49m\u001b[38;5;241;43m=\u001b[39;49m\u001b[43mcoords_only\u001b[49m\u001b[43m,\u001b[49m\n\u001b[1;32m    132\u001b[0m \u001b[43m        \u001b[49m\u001b[43mrigid\u001b[49m\u001b[38;5;241;43m=\u001b[39;49m\u001b[43mrigid\u001b[49m\u001b[43m,\u001b[49m\n\u001b[1;32m    133\u001b[0m \u001b[43m        \u001b[49m\u001b[43mbackend\u001b[49m\u001b[38;5;241;43m=\u001b[39;49m\u001b[43mbackend\u001b[49m\u001b[43m,\u001b[49m\n\u001b[1;32m    134\u001b[0m \u001b[43m        \u001b[49m\u001b[43minfer_hierarchy\u001b[49m\u001b[38;5;241;43m=\u001b[39;49m\u001b[43minfer_hierarchy\u001b[49m\u001b[43m,\u001b[49m\n\u001b[1;32m    135\u001b[0m \u001b[43m        \u001b[49m\u001b[38;5;241;43m*\u001b[39;49m\u001b[38;5;241;43m*\u001b[39;49m\u001b[43mkwargs\u001b[49m\u001b[43m,\u001b[49m\n\u001b[1;32m    136\u001b[0m \u001b[43m    \u001b[49m\u001b[43m)\u001b[49m\n",
      "File \u001b[0;32m~/miniconda3/envs/esp/lib/python3.9/site-packages/mbuild/conversion.py:470\u001b[0m, in \u001b[0;36mload_file\u001b[0;34m(filename, relative_to_module, compound, coords_only, rigid, backend, infer_hierarchy, **kwargs)\u001b[0m\n\u001b[1;32m    468\u001b[0m \u001b[38;5;28;01melif\u001b[39;00m backend \u001b[38;5;241m==\u001b[39m \u001b[38;5;124m\"\u001b[39m\u001b[38;5;124mmdtraj\u001b[39m\u001b[38;5;124m\"\u001b[39m:\n\u001b[1;32m    469\u001b[0m     md \u001b[38;5;241m=\u001b[39m import_(\u001b[38;5;124m\"\u001b[39m\u001b[38;5;124mmdtraj\u001b[39m\u001b[38;5;124m\"\u001b[39m)\n\u001b[0;32m--> 470\u001b[0m     traj \u001b[38;5;241m=\u001b[39m \u001b[43mmd\u001b[49m\u001b[38;5;241;43m.\u001b[39;49m\u001b[43mload\u001b[49m\u001b[43m(\u001b[49m\u001b[43mfilename\u001b[49m\u001b[43m,\u001b[49m\u001b[43m \u001b[49m\u001b[38;5;241;43m*\u001b[39;49m\u001b[38;5;241;43m*\u001b[39;49m\u001b[43mkwargs\u001b[49m\u001b[43m)\u001b[49m\n\u001b[1;32m    471\u001b[0m     compound \u001b[38;5;241m=\u001b[39m from_trajectory(\n\u001b[1;32m    472\u001b[0m         traj\u001b[38;5;241m=\u001b[39mtraj,\n\u001b[1;32m    473\u001b[0m         compound\u001b[38;5;241m=\u001b[39mcompound,\n\u001b[0;32m   (...)\u001b[0m\n\u001b[1;32m    476\u001b[0m         infer_hierarchy\u001b[38;5;241m=\u001b[39minfer_hierarchy,\n\u001b[1;32m    477\u001b[0m     )\n\u001b[1;32m    479\u001b[0m \u001b[38;5;66;03m# Then parmed reader\u001b[39;00m\n",
      "File \u001b[0;32m~/miniconda3/envs/esp/lib/python3.9/site-packages/mdtraj/core/trajectory.py:396\u001b[0m, in \u001b[0;36mload\u001b[0;34m(filename_or_filenames, discard_overlapping_frames, **kwargs)\u001b[0m\n\u001b[1;32m    394\u001b[0m topkwargs\u001b[38;5;241m.\u001b[39mpop(\u001b[38;5;124m\"\u001b[39m\u001b[38;5;124mstride\u001b[39m\u001b[38;5;124m\"\u001b[39m, \u001b[38;5;28;01mNone\u001b[39;00m)\n\u001b[1;32m    395\u001b[0m topkwargs\u001b[38;5;241m.\u001b[39mpop(\u001b[38;5;124m\"\u001b[39m\u001b[38;5;124mstart\u001b[39m\u001b[38;5;124m\"\u001b[39m, \u001b[38;5;28;01mNone\u001b[39;00m)\n\u001b[0;32m--> 396\u001b[0m kwargs[\u001b[38;5;124m\"\u001b[39m\u001b[38;5;124mtop\u001b[39m\u001b[38;5;124m\"\u001b[39m] \u001b[38;5;241m=\u001b[39m \u001b[43m_parse_topology\u001b[49m\u001b[43m(\u001b[49m\u001b[43mkwargs\u001b[49m\u001b[38;5;241;43m.\u001b[39;49m\u001b[43mget\u001b[49m\u001b[43m(\u001b[49m\u001b[38;5;124;43m\"\u001b[39;49m\u001b[38;5;124;43mtop\u001b[39;49m\u001b[38;5;124;43m\"\u001b[39;49m\u001b[43m,\u001b[49m\u001b[43m \u001b[49m\u001b[43mfilename_or_filenames\u001b[49m\u001b[43m[\u001b[49m\u001b[38;5;241;43m0\u001b[39;49m\u001b[43m]\u001b[49m\u001b[43m)\u001b[49m\u001b[43m,\u001b[49m\u001b[43m \u001b[49m\u001b[38;5;241;43m*\u001b[39;49m\u001b[38;5;241;43m*\u001b[39;49m\u001b[43mtopkwargs\u001b[49m\u001b[43m)\u001b[49m\n\u001b[1;32m    398\u001b[0m \u001b[38;5;66;03m#get the right loader\u001b[39;00m\n\u001b[1;32m    399\u001b[0m \u001b[38;5;28;01mtry\u001b[39;00m:\n\u001b[1;32m    400\u001b[0m     \u001b[38;5;66;03m#loader = _LoaderRegistry[extension][0]\u001b[39;00m\n",
      "File \u001b[0;32m~/miniconda3/envs/esp/lib/python3.9/site-packages/mdtraj/core/trajectory.py:191\u001b[0m, in \u001b[0;36m_parse_topology\u001b[0;34m(top, **kwargs)\u001b[0m\n\u001b[1;32m    189\u001b[0m     topology \u001b[38;5;241m=\u001b[39m load_gsd_topology(top, \u001b[38;5;241m*\u001b[39m\u001b[38;5;241m*\u001b[39mkwargs)\n\u001b[1;32m    190\u001b[0m \u001b[38;5;28;01melif\u001b[39;00m \u001b[38;5;28misinstance\u001b[39m(top, (string_types, os\u001b[38;5;241m.\u001b[39mPathLike)):\n\u001b[0;32m--> 191\u001b[0m     \u001b[38;5;28;01mraise\u001b[39;00m \u001b[38;5;167;01mIOError\u001b[39;00m(\u001b[38;5;124m'\u001b[39m\u001b[38;5;124mThe topology is loaded by filename extension, and the \u001b[39m\u001b[38;5;124m'\u001b[39m\n\u001b[1;32m    192\u001b[0m                   \u001b[38;5;124m'\u001b[39m\u001b[38;5;124mdetected \u001b[39m\u001b[38;5;124m\"\u001b[39m\u001b[38;5;132;01m%s\u001b[39;00m\u001b[38;5;124m\"\u001b[39m\u001b[38;5;124m format is not supported. Supported topology \u001b[39m\u001b[38;5;124m'\u001b[39m\n\u001b[1;32m    193\u001b[0m                   \u001b[38;5;124m'\u001b[39m\u001b[38;5;124mformats include \u001b[39m\u001b[38;5;132;01m%s\u001b[39;00m\u001b[38;5;124m and \u001b[39m\u001b[38;5;124m\"\u001b[39m\u001b[38;5;132;01m%s\u001b[39;00m\u001b[38;5;124m\"\u001b[39m\u001b[38;5;124m.\u001b[39m\u001b[38;5;124m'\u001b[39m \u001b[38;5;241m%\u001b[39m (\n\u001b[1;32m    194\u001b[0m                       ext, \u001b[38;5;124m'\u001b[39m\u001b[38;5;124m, \u001b[39m\u001b[38;5;124m'\u001b[39m\u001b[38;5;241m.\u001b[39mjoin([\u001b[38;5;124m'\u001b[39m\u001b[38;5;124m\"\u001b[39m\u001b[38;5;132;01m%s\u001b[39;00m\u001b[38;5;124m\"\u001b[39m\u001b[38;5;124m'\u001b[39m \u001b[38;5;241m%\u001b[39m e \u001b[38;5;28;01mfor\u001b[39;00m e \u001b[38;5;129;01min\u001b[39;00m _TOPOLOGY_EXTS[:\u001b[38;5;241m-\u001b[39m\u001b[38;5;241m1\u001b[39m]]),\n\u001b[1;32m    195\u001b[0m                       _TOPOLOGY_EXTS[\u001b[38;5;241m-\u001b[39m\u001b[38;5;241m1\u001b[39m]))\n\u001b[1;32m    196\u001b[0m \u001b[38;5;28;01melse\u001b[39;00m:\n\u001b[1;32m    197\u001b[0m     \u001b[38;5;28;01mraise\u001b[39;00m \u001b[38;5;167;01mTypeError\u001b[39;00m(\u001b[38;5;124m'\u001b[39m\u001b[38;5;124mA topology is required. You supplied top=\u001b[39m\u001b[38;5;132;01m%s\u001b[39;00m\u001b[38;5;124m'\u001b[39m \u001b[38;5;241m%\u001b[39m \u001b[38;5;28mstr\u001b[39m(top))\n",
      "\u001b[0;31mOSError\u001b[0m: The topology is loaded by filename extension, and the detected \".smi\" format is not supported. Supported topology formats include \".pdb\", \".pdb.gz\", \".h5\", \".lh5\", \".prmtop\", \".parm7\", \".prm7\", \".psf\", \".mol2\", \".hoomdxml\", \".gro\", \".arc\", \".hdf5\" and \".gsd\"."
     ]
    }
   ],
   "source": [
    "# Use espaloma to find the FF parameters for Benzene\n",
    "smiles = \"c1ccsc1\"\n",
    "mb_thiophene = mb.load(\"c1ccsc1\", smiles=True)\n",
    "mb_thiophene.visualize()\n",
    "\n",
    "#try to either save molecule as a usable format or get smiles string from mol2 file..\n",
    "\n",
    "#mb_thiophene.save(\"thiophene\")\n",
    "\n",
    "mb_thiophene2 = mb.load(\"thiophene.smi\")"
   ]
  },
  {
   "cell_type": "code",
   "execution_count": 8,
   "id": "c3eebc8a",
   "metadata": {
    "scrolled": true
   },
   "outputs": [
    {
     "name": "stderr",
     "output_type": "stream",
     "text": [
      "[15:24:40] SMILES Parse Error: syntax error while parsing: [CH]1[CH][CH]S[CH]1\tRES\n",
      "[15:24:40] SMILES Parse Error: Failed parsing SMILES '[CH]1[CH][CH]S[CH]1\tRES' for input: '[CH]1[CH][CH]S[CH]1\tRES'\n",
      "[15:24:40] ERROR: Smiles parse error on line 0\n",
      "[15:24:40] ERROR: Cannot create molecule from : '[CH]1[CH][CH]S[CH]1\tRES'\n"
     ]
    },
    {
     "ename": "Exception",
     "evalue": "Unable to read molecule from file: thiophene.smi",
     "output_type": "error",
     "traceback": [
      "\u001b[0;31m---------------------------------------------------------------------------\u001b[0m",
      "\u001b[0;31mException\u001b[0m                                 Traceback (most recent call last)",
      "Cell \u001b[0;32mIn[8], line 1\u001b[0m\n\u001b[0;32m----> 1\u001b[0m molecule \u001b[38;5;241m=\u001b[39m \u001b[43mMolecule\u001b[49m\u001b[38;5;241;43m.\u001b[39;49m\u001b[43mfrom_file\u001b[49m\u001b[43m(\u001b[49m\u001b[38;5;124;43m\"\u001b[39;49m\u001b[38;5;124;43mthiophene.smi\u001b[39;49m\u001b[38;5;124;43m\"\u001b[39;49m\u001b[43m,\u001b[49m\u001b[43mfile_format\u001b[49m\u001b[43m \u001b[49m\u001b[38;5;241;43m=\u001b[39;49m\u001b[43m \u001b[49m\u001b[38;5;124;43m\"\u001b[39;49m\u001b[38;5;124;43msmi\u001b[39;49m\u001b[38;5;124;43m\"\u001b[39;49m\u001b[43m)\u001b[49m\n\u001b[1;32m      2\u001b[0m \u001b[38;5;66;03m#molecule = Molecule.from_smiles(smiles) #molecule is benzene\u001b[39;00m\n\u001b[1;32m      3\u001b[0m molecule_graph \u001b[38;5;241m=\u001b[39m esp\u001b[38;5;241m.\u001b[39mGraph(molecule)\n",
      "File \u001b[0;32m~/miniconda3/envs/esp/lib/python3.9/site-packages/openff/toolkit/topology/molecule.py:4718\u001b[0m, in \u001b[0;36mFrozenMolecule.from_file\u001b[0;34m(cls, file_path, file_format, toolkit_registry, allow_undefined_stereo)\u001b[0m\n\u001b[1;32m   4710\u001b[0m     mols \u001b[38;5;241m=\u001b[39m toolkit\u001b[38;5;241m.\u001b[39mfrom_file_obj(\n\u001b[1;32m   4711\u001b[0m         file_obj,\n\u001b[1;32m   4712\u001b[0m         file_format\u001b[38;5;241m=\u001b[39mfile_format,\n\u001b[1;32m   4713\u001b[0m         allow_undefined_stereo\u001b[38;5;241m=\u001b[39mallow_undefined_stereo,\n\u001b[1;32m   4714\u001b[0m         _cls\u001b[38;5;241m=\u001b[39m\u001b[38;5;28mcls\u001b[39m,\n\u001b[1;32m   4715\u001b[0m     )\n\u001b[1;32m   4717\u001b[0m \u001b[38;5;28;01mif\u001b[39;00m \u001b[38;5;28mlen\u001b[39m(mols) \u001b[38;5;241m==\u001b[39m \u001b[38;5;241m0\u001b[39m:\n\u001b[0;32m-> 4718\u001b[0m     \u001b[38;5;28;01mraise\u001b[39;00m \u001b[38;5;167;01mException\u001b[39;00m(\u001b[38;5;124m\"\u001b[39m\u001b[38;5;124mUnable to read molecule from file: \u001b[39m\u001b[38;5;132;01m{}\u001b[39;00m\u001b[38;5;124m\"\u001b[39m\u001b[38;5;241m.\u001b[39mformat(file_path))\n\u001b[1;32m   4719\u001b[0m \u001b[38;5;28;01melif\u001b[39;00m \u001b[38;5;28mlen\u001b[39m(mols) \u001b[38;5;241m==\u001b[39m \u001b[38;5;241m1\u001b[39m:\n\u001b[1;32m   4720\u001b[0m     \u001b[38;5;28;01mreturn\u001b[39;00m mols[\u001b[38;5;241m0\u001b[39m]\n",
      "\u001b[0;31mException\u001b[0m: Unable to read molecule from file: thiophene.smi"
     ]
    }
   ],
   "source": [
    "molecule = Molecule.from_file(\"thiophene.smi\",file_format = \"smi\")\n",
    "#molecule = Molecule.from_smiles(smiles) #molecule is benzene\n",
    "molecule_graph = esp.Graph(molecule)\n",
    "#either generate smiles string from the built fragments or get our fragments into a Molecule supported file format\n",
    "\n",
    "espaloma_model = torch.load(\"espaloma_model.pt\")\n",
    "espaloma_model(molecule_graph.heterograph)\n",
    "openmm_system = esp.graphs.deploy.openmm_system_from_graph(molecule_graph)\n",
    "\n",
    "# Store the results for each in something more accessible\n",
    "pair_forces = openmm_system.getForces()[1]\n",
    "angle_forces = openmm_system.getForces()[3]\n",
    "bond_forces = openmm_system.getForces()[2]\n",
    "torsion_forces = openmm_system.getForces()[0]"
   ]
  },
  {
   "cell_type": "code",
   "execution_count": null,
   "id": "ec6cfe57",
   "metadata": {},
   "outputs": [],
   "source": [
    "# get a parmed structure from openmm \n",
    "import parmed as pmd\n",
    "topology = molecule.to_topology()\n",
    "openmm_topology = topology.to_openmm()\n",
    "\n",
    "structure = pmd.openmm.load_topology(topology=openmm_topology, system=openmm_system)\n",
    "structure.bonds.sort(key=lambda x: x.atom1.idx)"
   ]
  },
  {
   "cell_type": "code",
   "execution_count": null,
   "id": "1b98eb25",
   "metadata": {},
   "outputs": [],
   "source": [
    "# step 1: how to get bond parameters\n",
    "\n",
    "bond_parameters = {}\n",
    "\n",
    "for bond in structure.bonds:\n",
    "    bond_parameters[(bond.atom1.name, bond.atom2.name)] = {\"k\":[bond.type.k] , \"l0\":[bond.type.req]}\n",
    "    \n",
    "# step 2: get angle parameters\n",
    "\n",
    "angle_parameters = {}\n",
    "\n",
    "for angle in structure.angles:\n",
    "    angle_parameters[(angle.atom1.name, angle.atom2.name,angle.atom3.name)] = {\"k\":[angle.type.k], \n",
    "                                                                               \"t0\":[angle.type.theteq]}\n",
    "    \n",
    "# step 3: dihedral parameters\n",
    "\n",
    "dihedral_parameters = {}\n",
    "\n",
    "for dihedral in structure.dihedrals:\n",
    "    dihedral_parameters[(dihedral.atom1.name, dihedral.atom2.name,dihedral.atom3.name,\n",
    "                         dihedral.atom4.name)] = {\"periodicity\":[dihedral.type.per],\n",
    "                                                  \"k\":[dihedral.type.phi_k],\"phase\":[dihedral.type.phase]}\n",
    "    \n",
    "# step 4: non-bonding parameters\n",
    "\n",
    "nonbonded_parameters = {}\n",
    "\n",
    "for nonbonded in structure.adjusts:\n",
    "    nonbonded_parameters[(nonbonded.atom1.name,nonbonded.atom2.name)] = {\"sigma\":[nonbonded.type.rmin],\n",
    "                                                    \"epsilon\":[nonbonded.type.epsilon],\n",
    "                                                    \"charge\":[nonbonded.type.chgscale]}"
   ]
  },
  {
   "cell_type": "code",
   "execution_count": null,
   "id": "31a33eae",
   "metadata": {},
   "outputs": [],
   "source": [
    "particle_types = []\n",
    "particle_type_dict = dict()\n",
    "\n",
    "for i in range(pair_forces.getNumParticles()):\n",
    "    pair_parms = pair_forces.getParticleParameters(index=i)\n",
    "    charge = pair_parms[0]\n",
    "    sigma = pair_parms[1]\n",
    "    epsilon = pair_parms[2]\n",
    "    if (charge, sigma, epsilon) not in particle_types: #this is adding the charge,sigma, and epsilon to the particle_types, but only once.\n",
    "        particle_types.append((charge, sigma, epsilon))\n",
    "        #print((charge, sigma, epsilon) )\n",
    "    particle_type_dict[i] = particle_types.index((charge, sigma, epsilon)) #adding only the index of the pair_parms, this gives particle types.\n",
    "print(particle_type_dict)\n",
    "\n",
    "#particle_types gives the sigma, charge, and epsilon associated with each unique particle, \n",
    "#particle_type_dict only gives the index associated with each unique particle type"
   ]
  },
  {
   "cell_type": "code",
   "execution_count": null,
   "id": "4de400b7",
   "metadata": {},
   "outputs": [],
   "source": [
    "#graph check\n",
    "#want to check if the opemm and parmed graphs are the same so we can use types from parmed \n",
    "import networkx  as nx\n",
    "Gopenmm = nx.Graph()\n",
    "Gparmed = nx.Graph()\n",
    "#openmm:\n",
    "for i in range(bond_forces.getNumBonds()):\n",
    "    Gopenmm.add_edge(bond_forces.getBondParameters(index=i)[0],bond_forces.getBondParameters(index=i)[1])\n",
    "#parmed\n",
    "for b in structure.bonds:\n",
    "    Gparmed.add_edge(b.atom1.idx,b.atom2.idx)\n",
    "type_map = {}\n",
    "#nx.rooted_tree_isomorphism\n",
    "#in here we still need to check that one known index on one corresponds to the same index on the other....\n",
    "tree_openmm = nx.bfs_tree(Gopenmm,0)\n",
    "tree_parmed = nx.bfs_tree(Gparmed,0)\n",
    "if nx.is_isomorphic(Gopenmm,Gparmed):\n",
    "#if nx.isomorphism.tree_isomorphism(tree_openmm,tree_parmed):  <- want this work\n",
    "    for b in structure.bonds:\n",
    "        type_map[b.atom1.idx] = b.atom1.atom_type.__str__()\n",
    "        type_map[b.atom2.idx] = b.atom2.atom_type.__str__()\n",
    "print(type_map)"
   ]
  },
  {
   "cell_type": "code",
   "execution_count": null,
   "id": "c07909e7",
   "metadata": {},
   "outputs": [],
   "source": [
    "# Rename the particle types so that they match the xml file\n",
    "# This is needed when we aren't using SMARTS matching with Foyer.\n",
    "\n",
    "for index in type_map:\n",
    "    mb_thiophene2[index].name = type_map[index]"
   ]
  },
  {
   "cell_type": "code",
   "execution_count": null,
   "id": "d7bce47f",
   "metadata": {},
   "outputs": [],
   "source": [
    "bond_types = []\n",
    "bond_dict = dict() #creating an empty dictionary to put our parameters in \n",
    "\n",
    "for i in range(bond_forces.getNumBonds()):\n",
    "    bond_parms = bond_forces.getBondParameters(index=i)\n",
    "    #print(bond_parms)\n",
    "    #atoms = {(bond.atom1.name,bond.atom2.name):[]} #gives you the atom type name and index\n",
    "    l0 = bond_parms[2]/bond_parms[2].unit\n",
    "    k = bond_parms[3]/bond_parms[3].unit\n",
    "    #if (type_map[bond_parms[0]],type_map[bond_parms[1]],k,l0) not in bond_dict:\n",
    "    #    bond_types.append((type_map[bond_parms[0]],type_map[bond_parms[1]],k,l0))\n",
    "    bond_dict[type_map[bond_parms[0]],type_map[bond_parms[1]]] = {'k':k,'l0':l0}\n",
    "print(bond_dict)"
   ]
  },
  {
   "cell_type": "code",
   "execution_count": null,
   "id": "569a6335",
   "metadata": {
    "scrolled": true
   },
   "outputs": [],
   "source": [
    "angle_types = []\n",
    "angle_dict = dict() #creating an empty dictionary to put our parameters in \n",
    "\n",
    "for i in range(angle_forces.getNumAngles()):\n",
    "    angle_parms = angle_forces.getAngleParameters(index=i)\n",
    "    k = angle_parms[4]/angle_parms[4].unit\n",
    "    t0 = angle_parms[3]/angle_parms[3].unit  \n",
    "#    if (type_map[angle_parms[0]],type_map[angle_parms[1]],type_map[angle_parms[2]],k,t0) not in angle_types:\n",
    "#        angle_types.append((type_map[angle_parms[0]],type_map[angle_parms[1]],type_map[angle_parms[2]],k,t0))\n",
    "    angle_dict[type_map[angle_parms[0]],type_map[angle_parms[1]],type_map[angle_parms[2]]] = {'k':k,'t0':t0}\n",
    "print(angle_dict)"
   ]
  },
  {
   "cell_type": "code",
   "execution_count": null,
   "id": "83bacdda",
   "metadata": {},
   "outputs": [],
   "source": [
    "dihedral_types = []\n",
    "dihedral_dict = {}\n",
    "\n",
    "for i in range(torsion_forces.getNumTorsions()):\n",
    "    if i%6==0:\n",
    "        periodicity=[]\n",
    "        phase = []\n",
    "        k = []\n",
    "    dihedral_parms = torsion_forces.getTorsionParameters(index=i)\n",
    "    periodicity.append(dihedral_parms[4])  \n",
    "    phase.append( dihedral_parms[5]/dihedral_parms[5].unit)\n",
    "    k.append(dihedral_parms[6]/dihedral_parms[6].unit)\n",
    "#    if (type_map[dihedral_parms[0]],type_map[dihedral_parms[1]],type_map[dihedral_parms[2]],type_map[dihedral_parms[3]],periodicity,k,phase) not in dihedral_types:\n",
    "#        dihedral_types.append((type_map[dihedral_parms[0]],type_map[dihedral_parms[1]],type_map[dihedral_parms[2]],\n",
    "#        type_map[dihedral_parms[3]],periodicity,k,phase))\n",
    "    dt = (type_map[dihedral_parms[0]],type_map[dihedral_parms[1]],type_map[dihedral_parms[2]],\n",
    "                  type_map[dihedral_parms[3]])\n",
    "   \n",
    "\n",
    "    if periodicity[-1]==6:\n",
    "        #print(dt,periodicity,phase)\n",
    "        dihedral_dict[dt] = {'periodicity':periodicity,'k':k,'phase':phase}\n",
    "print(dihedral_dict)"
   ]
  },
  {
   "cell_type": "code",
   "execution_count": null,
   "id": "eed592f7",
   "metadata": {
    "scrolled": true
   },
   "outputs": [],
   "source": [
    "nonbonded_types = []\n",
    "nonbonded_dict = {}\n",
    "\n",
    "for i in range(pair_forces.getNumParticles()):\n",
    "    nonbonded_parms = pair_forces.getParticleParameters(index=i)\n",
    "    charge = nonbonded_parms[0]/nonbonded_parms[0].unit\n",
    "    sigma = nonbonded_parms[1]/nonbonded_parms[1].unit\n",
    "    epsilon = nonbonded_parms[2]/nonbonded_parms[2].unit\n",
    "    #atom_type = structure.adjusts.atom\n",
    "    if (charge,sigma,epsilon) not in nonbonded_types:\n",
    "        nonbonded_types.append((charge,sigma,epsilon))\n",
    "    nonbonded_dict[(type_map[i])]={'charge':charge,'sigma':sigma,'epsilon':epsilon}\n",
    "print(nonbonded_dict)"
   ]
  },
  {
   "cell_type": "code",
   "execution_count": null,
   "id": "dda945e2",
   "metadata": {},
   "outputs": [],
   "source": [
    "# Save the forcefield XML file for future use, so that we don't have to repeat the espaloma process everytime\n",
    "mbuild_to_foyer_xml(\n",
    "    file_name=\"thiophene_esp.xml\",\n",
    "    compound=mb_thiophene2,\n",
    "    bond_params=bond_dict,\n",
    "    angle_params=angle_dict,\n",
    "    dihedral_params=dihedral_dict,\n",
    "    dihedral_type=\"periodic\",\n",
    "    non_bonded_params=nonbonded_dict,\n",
    "    combining_rule=\"geometric\",\n",
    "    name=\"\",\n",
    "    version=\"\",\n",
    "    coulomb14scale=1.0,\n",
    "    lj14scale=1.0)\n",
    "\n",
    "# Save the mb.Compound with the new atom type names for future use.\n",
    "mb_thiophene2.save(\"thiophene_typed.mol2\", overwrite=True)"
   ]
  },
  {
   "cell_type": "markdown",
   "id": "43a03bf9",
   "metadata": {},
   "source": [
    "## Workflow once we have created an XML file, and a typed mol2 file:\n",
    "\n",
    "Everything above this cell is something that we should only need to do once.\n",
    "Then, once we have an XML file, and a typed mol2 file (i.e. one with the particles renamed correctly)\n",
    "every time we want to run a new simulation, the process would look like the cells below:"
   ]
  },
  {
   "cell_type": "code",
   "execution_count": null,
   "id": "c566e937",
   "metadata": {},
   "outputs": [],
   "source": [
    "import mbuild as mb\n",
    "import foyer\n",
    "import hoomd\n",
    "from mbuild.formats.hoomd_forcefield import create_hoomd_forcefield"
   ]
  },
  {
   "cell_type": "code",
   "execution_count": null,
   "id": "7ceb1a5f",
   "metadata": {},
   "outputs": [],
   "source": [
    "esp_ff = foyer.Forcefield(forcefield_files=\"thiophene_esp.xml\")"
   ]
  },
  {
   "cell_type": "code",
   "execution_count": null,
   "id": "adfa549d",
   "metadata": {},
   "outputs": [],
   "source": [
    "# We have to add the underscore to the names manually if we are using foyer XML files without SMARTS definitions\n",
    "thiophene = mb.load(\"thiophene_typed.mol2\")\n",
    "for p in thiophene.particles():\n",
    "    p.name = f\"_{p.name}\""
   ]
  },
  {
   "cell_type": "code",
   "execution_count": null,
   "id": "1a8fb759",
   "metadata": {},
   "outputs": [],
   "source": [
    "#used this to manually create our box instead of using fill_box command, since we where having issues with it. \n",
    "\n",
    "#box = mb.Compound() #creating an empty compound...aka our empty box to put the molecules in. \n",
    "#vector = np.array([0, 0, 0.5]) #created a vector that we used to translate the copied molecules off of eachother. \n",
    "#for i in range(5):  #cloning our molecule 5 times and translating each one by 0,1,2,3,4*vector, in order. \n",
    "#    comp = mb.clone(thiophene)\n",
    "#    comp.translate(vector * i)\n",
    "#    box.add(comp)  #adding our cloned and translated compounds to our empty box. \n",
    "#\n",
    "#box.box = mb.box.Box.from_lengths_angles(lengths=[20, 20, 20], angles=[90,90,90]) #setting the dimensions of the box\n",
    "#\n",
    "#box.translate_to(  #translating the contents of our box into the center of the box. \n",
    "#    (10, 10, 10)\n",
    "#)  "
   ]
  },
  {
   "cell_type": "code",
   "execution_count": null,
   "id": "83205213",
   "metadata": {},
   "outputs": [],
   "source": [
    "box.save(\"stacked.gsd\", overwrite=True)"
   ]
  },
  {
   "cell_type": "code",
   "execution_count": null,
   "id": "e8226e83",
   "metadata": {
    "scrolled": true
   },
   "outputs": [],
   "source": [
    "box = mb.fill_box(compound=thiophene, n_compounds=50, density=500)\n",
    "box_pmd = esp_ff.apply(box)"
   ]
  },
  {
   "cell_type": "code",
   "execution_count": null,
   "id": "079c3d81",
   "metadata": {},
   "outputs": [],
   "source": [
    "snapshot, forcefield, refs = create_hoomd_forcefield(box_pmd, auto_scale=True, r_cut=2.5)"
   ]
  },
  {
   "cell_type": "code",
   "execution_count": null,
   "id": "5087683d",
   "metadata": {},
   "outputs": [],
   "source": [
    "#setting cpu and simulation \n",
    "cpu = hoomd.device.CPU()\n",
    "sim = hoomd.Simulation(device=cpu,seed=0)\n",
    "sim.create_state_from_snapshot(snapshot)"
   ]
  },
  {
   "cell_type": "code",
   "execution_count": null,
   "id": "0f20d047",
   "metadata": {},
   "outputs": [],
   "source": [
    "#setting the integrator\n",
    "kt = 1.2\n",
    "free_particle = hoomd.filter.Tags(tags=[0,1])  #letting hoomd know which particles to update the positions of\n",
    "integrator = hoomd.md.Integrator(dt=0.0001)\n",
    "nvt = hoomd.md.methods.NVT(kT=kt,filter=hoomd.filter.All(), tau=0.1)\n",
    "integrator.forces = forcefield\n",
    "integrator.methods.append(nvt)\n",
    "sim.operations.integrator = integrator\n",
    "sim.state.thermalize_particle_momenta(filter=free_particle, kT=kt)\n",
    "# Set up GSD writer\n",
    "gsd_writer = hoomd.write.GSD(\n",
    "    trigger=hoomd.trigger.Periodic(int(5e3)),\n",
    "    filename=\"traj_thiophene.gsd\",  #name the output file\n",
    "    mode=\"wb\"\n",
    ")\n",
    "sim.operations.writers.append(gsd_writer)"
   ]
  },
  {
   "cell_type": "code",
   "execution_count": null,
   "id": "83999296",
   "metadata": {},
   "outputs": [],
   "source": [
    "sim.run(5e5)"
   ]
  },
  {
   "cell_type": "code",
   "execution_count": null,
   "id": "8b5d51e3",
   "metadata": {},
   "outputs": [],
   "source": []
  }
 ],
 "metadata": {
  "kernelspec": {
   "display_name": "Python 3 (ipykernel)",
   "language": "python",
   "name": "python3"
  },
  "language_info": {
   "codemirror_mode": {
    "name": "ipython",
    "version": 3
   },
   "file_extension": ".py",
   "mimetype": "text/x-python",
   "name": "python",
   "nbconvert_exporter": "python",
   "pygments_lexer": "ipython3",
   "version": "3.10.8"
  }
 },
 "nbformat": 4,
 "nbformat_minor": 5
}
