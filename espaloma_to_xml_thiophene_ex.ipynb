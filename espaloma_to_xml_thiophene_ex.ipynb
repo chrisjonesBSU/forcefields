{
 "cells": [
  {
   "cell_type": "code",
   "execution_count": 42,
   "id": "538feb4b",
   "metadata": {
    "scrolled": true
   },
   "outputs": [
    {
     "name": "stderr",
     "output_type": "stream",
     "text": [
      "/home/madilyn/miniconda3/envs/esp/lib/python3.10/site-packages/qcelemental/models/results.py:788: DeprecationWarning: ResultProtocols has been renamed to AtomicResultProtocols and will be removed as soon as v0.13.0\n",
      "  warn(\n",
      "/home/madilyn/miniconda3/envs/esp/lib/python3.10/site-packages/qcelemental/models/results.py:788: DeprecationWarning: ResultProtocols has been renamed to AtomicResultProtocols and will be removed as soon as v0.13.0\n",
      "  warn(\n",
      "LICENSE: Could not open license file \"oe_license.txt\" in local directory\n",
      "LICENSE: N.B. OE_LICENSE environment variable is not set\n",
      "LICENSE: N.B. OE_DIR environment variable is not set\n",
      "LICENSE: No product keys!\n",
      "LICENSE: No product keys!\n",
      "LICENSE: No product keys!\n",
      "Warning: Unable to load toolkit 'OpenEye Toolkit'. The Open Force Field Toolkit does not require the OpenEye Toolkits, and can use RDKit/AmberTools instead. However, if you have a valid license for the OpenEye Toolkits, consider installing them for faster performance and additional file format support: https://docs.eyesopen.com/toolkits/python/quickstart-python/linuxosx.html OpenEye offers free Toolkit licenses for academics: https://www.eyesopen.com/academic-licensing\n",
      "LICENSE: No product keys!\n"
     ]
    }
   ],
   "source": [
    "from writers import foyer_xml_writer\n",
    "from writers.foyer_xml_writer import parmed_to_foyer_xml, mbuild_to_foyer_xml\n",
    "\n",
    "\n",
    "import ele\n",
    "import espaloma as esp\n",
    "import forcefield_utilities as ffutils\n",
    "import foyer\n",
    "import gmso\n",
    "import mbuild as mb\n",
    "from mbuild.lib.recipes import Polymer\n",
    "from mbuild.formats.hoomd_forcefield import create_hoomd_forcefield\n",
    "import numpy as np\n",
    "from openff.toolkit.topology import Molecule\n",
    "import torch\n",
    "from mbuild.formats.hoomd_forcefield import create_hoomd_forcefield\n",
    "import hoomd\n",
    "import gsd.hoomd\n",
    "import matplotlib.pyplot as plt\n",
    "\n",
    "import numpy as np\n",
    "import os\n",
    "import warnings\n",
    "warnings.filterwarnings(\"ignore\")\n",
    "\n",
    "if not os.path.exists(\"espaloma_model.pt\"):\n",
    "    os.system(\"wget http://data.wangyq.net/espaloma_model.pt\")"
   ]
  },
  {
   "cell_type": "code",
   "execution_count": 9,
   "id": "273bdcb9",
   "metadata": {},
   "outputs": [],
   "source": [
    "# Use espaloma to find the FF parameters for Benzene\n",
    "smiles = \"c1ccsc1\"\n",
    "mb_thiophene = mb.load(\"c1ccsc1\", smiles=True)\n",
    "mb_thiophene.visualize()\n",
    "\n",
    "#try to either save molecule as a usable format or get smiles string from mol2 file..\n",
    "\n",
    "#mb_thiophene.save(\"thiophene.sdf\")\n",
    "\n",
    "mb_thiophene2 = mb.load(\"thiophene.sdf\")"
   ]
  },
  {
   "cell_type": "code",
   "execution_count": 10,
   "id": "c3eebc8a",
   "metadata": {
    "scrolled": true
   },
   "outputs": [],
   "source": [
    "molecule = Molecule.from_file(\"thiophene.sdf\",file_format = \"sdf\")\n",
    "#molecule = Molecule.from_smiles(smiles) #molecule is benzene\n",
    "molecule_graph = esp.Graph(molecule)\n",
    "#either generate smiles string from the built fragments or get our fragments into a Molecule supported file format\n",
    "\n",
    "espaloma_model = torch.load(\"espaloma_model.pt\")\n",
    "espaloma_model(molecule_graph.heterograph)\n",
    "openmm_system = esp.graphs.deploy.openmm_system_from_graph(molecule_graph)\n",
    "\n",
    "# Store the results for each in something more accessible\n",
    "pair_forces = openmm_system.getForces()[1]\n",
    "angle_forces = openmm_system.getForces()[3]\n",
    "bond_forces = openmm_system.getForces()[2]\n",
    "torsion_forces = openmm_system.getForces()[0]"
   ]
  },
  {
   "cell_type": "code",
   "execution_count": 11,
   "id": "ec6cfe57",
   "metadata": {},
   "outputs": [],
   "source": [
    "# get a parmed structure from openmm \n",
    "import parmed as pmd\n",
    "topology = molecule.to_topology()\n",
    "openmm_topology = topology.to_openmm()\n",
    "\n",
    "structure = pmd.openmm.load_topology(topology=openmm_topology, system=openmm_system)\n",
    "structure.bonds.sort(key=lambda x: x.atom1.idx)"
   ]
  },
  {
   "cell_type": "code",
   "execution_count": 12,
   "id": "1b98eb25",
   "metadata": {},
   "outputs": [],
   "source": [
    "# step 1: how to get bond parameters\n",
    "\n",
    "bond_parameters = {}\n",
    "\n",
    "for bond in structure.bonds:\n",
    "    bond_parameters[(bond.atom1.name, bond.atom2.name)] = {\"k\":[bond.type.k] , \"l0\":[bond.type.req]}\n",
    "    \n",
    "# step 2: get angle parameters\n",
    "\n",
    "angle_parameters = {}\n",
    "\n",
    "for angle in structure.angles:\n",
    "    angle_parameters[(angle.atom1.name, angle.atom2.name,angle.atom3.name)] = {\"k\":[angle.type.k], \n",
    "                                                                               \"t0\":[angle.type.theteq]}\n",
    "    \n",
    "# step 3: dihedral parameters\n",
    "\n",
    "dihedral_parameters = {}\n",
    "\n",
    "for dihedral in structure.dihedrals:\n",
    "    dihedral_parameters[(dihedral.atom1.name, dihedral.atom2.name,dihedral.atom3.name,\n",
    "                         dihedral.atom4.name)] = {\"periodicity\":[dihedral.type.per],\n",
    "                                                  \"k\":[dihedral.type.phi_k],\"phase\":[dihedral.type.phase]}\n",
    "    \n",
    "# step 4: non-bonding parameters\n",
    "\n",
    "nonbonded_parameters = {}\n",
    "\n",
    "for nonbonded in structure.adjusts:\n",
    "    nonbonded_parameters[(nonbonded.atom1.name,nonbonded.atom2.name)] = {\"sigma\":[nonbonded.type.rmin],\n",
    "                                                    \"epsilon\":[nonbonded.type.epsilon],\n",
    "                                                    \"charge\":[nonbonded.type.chgscale]}"
   ]
  },
  {
   "cell_type": "code",
   "execution_count": 13,
   "id": "31a33eae",
   "metadata": {},
   "outputs": [
    {
     "name": "stdout",
     "output_type": "stream",
     "text": [
      "{0: 0, 1: 0, 2: 1, 3: 2, 4: 1, 5: 3, 6: 3, 7: 4, 8: 4}\n"
     ]
    }
   ],
   "source": [
    "particle_types = []\n",
    "particle_type_dict = dict()\n",
    "\n",
    "for i in range(pair_forces.getNumParticles()):\n",
    "    pair_parms = pair_forces.getParticleParameters(index=i)\n",
    "    charge = pair_parms[0]\n",
    "    sigma = pair_parms[1]\n",
    "    epsilon = pair_parms[2]\n",
    "    if (charge, sigma, epsilon) not in particle_types: #this is adding the charge,sigma, and epsilon to the particle_types, but only once.\n",
    "        particle_types.append((charge, sigma, epsilon))\n",
    "        #print((charge, sigma, epsilon) )\n",
    "    particle_type_dict[i] = particle_types.index((charge, sigma, epsilon)) #adding only the index of the pair_parms, this gives particle types.\n",
    "print(particle_type_dict)\n",
    "\n",
    "#particle_types gives the sigma, charge, and epsilon associated with each unique particle, \n",
    "#particle_type_dict only gives the index associated with each unique particle type"
   ]
  },
  {
   "cell_type": "code",
   "execution_count": 14,
   "id": "4de400b7",
   "metadata": {},
   "outputs": [
    {
     "name": "stdout",
     "output_type": "stream",
     "text": [
      "{1: 'C1', 0: 'C1', 2: 'C1', 3: 'S1', 4: 'C1', 5: 'H1', 6: 'H1', 7: 'H2', 8: 'H2'}\n"
     ]
    }
   ],
   "source": [
    "#graph check\n",
    "#want to check if the opemm and parmed graphs are the same so we can use types from parmed \n",
    "import networkx  as nx\n",
    "Gopenmm = nx.Graph()\n",
    "Gparmed = nx.Graph()\n",
    "#openmm:\n",
    "for i in range(bond_forces.getNumBonds()):\n",
    "    Gopenmm.add_edge(bond_forces.getBondParameters(index=i)[0],bond_forces.getBondParameters(index=i)[1])\n",
    "#parmed\n",
    "for b in structure.bonds:\n",
    "    Gparmed.add_edge(b.atom1.idx,b.atom2.idx)\n",
    "type_map = {}\n",
    "#nx.rooted_tree_isomorphism\n",
    "#in here we still need to check that one known index on one corresponds to the same index on the other....\n",
    "tree_openmm = nx.bfs_tree(Gopenmm,0)\n",
    "tree_parmed = nx.bfs_tree(Gparmed,0)\n",
    "if nx.is_isomorphic(Gopenmm,Gparmed):\n",
    "#if nx.isomorphism.tree_isomorphism(tree_openmm,tree_parmed):  <- want this work\n",
    "    for b in structure.bonds:\n",
    "        type_map[b.atom1.idx] = b.atom1.atom_type.__str__()\n",
    "        type_map[b.atom2.idx] = b.atom2.atom_type.__str__()\n",
    "print(type_map)"
   ]
  },
  {
   "cell_type": "code",
   "execution_count": 16,
   "id": "c07909e7",
   "metadata": {},
   "outputs": [],
   "source": [
    "# Rename the particle types so that they match the xml file\n",
    "# This is needed when we aren't using SMARTS matching with Foyer.\n",
    "\n",
    "for index in type_map:\n",
    "    mb_thiophene2[index].name = type_map[index]"
   ]
  },
  {
   "cell_type": "code",
   "execution_count": 17,
   "id": "d7bce47f",
   "metadata": {},
   "outputs": [
    {
     "name": "stdout",
     "output_type": "stream",
     "text": [
      "{('C1', 'C1'): {'k': 136740.56482391074, 'l0': 0.15679500885438177}, ('C1', 'H1'): {'k': 253527.38950815462, 'l0': 0.10790778915292444}, ('C1', 'S1'): {'k': 39107.91568331748, 'l0': 0.18148090096623354}, ('C1', 'H2'): {'k': 341087.18729681364, 'l0': 0.10242247132280273}, ('S1', 'C1'): {'k': 39107.91568331748, 'l0': 0.18148090096623354}}\n"
     ]
    }
   ],
   "source": [
    "bond_types = []\n",
    "bond_dict = dict() #creating an empty dictionary to put our parameters in \n",
    "\n",
    "for i in range(bond_forces.getNumBonds()):\n",
    "    bond_parms = bond_forces.getBondParameters(index=i)\n",
    "    #print(bond_parms)\n",
    "    #atoms = {(bond.atom1.name,bond.atom2.name):[]} #gives you the atom type name and index\n",
    "    l0 = bond_parms[2]/bond_parms[2].unit\n",
    "    k = bond_parms[3]/bond_parms[3].unit\n",
    "    #if (type_map[bond_parms[0]],type_map[bond_parms[1]],k,l0) not in bond_dict:\n",
    "    #    bond_types.append((type_map[bond_parms[0]],type_map[bond_parms[1]],k,l0))\n",
    "    bond_dict[type_map[bond_parms[0]],type_map[bond_parms[1]]] = {'k':k,'l0':l0}\n",
    "print(bond_dict)"
   ]
  },
  {
   "cell_type": "code",
   "execution_count": 18,
   "id": "569a6335",
   "metadata": {
    "scrolled": true
   },
   "outputs": [
    {
     "name": "stdout",
     "output_type": "stream",
     "text": [
      "{('C1', 'C1', 'C1'): {'k': 479.07388581800774, 't0': 1.9162074327468872}, ('C1', 'C1', 'H1'): {'k': 378.0560087516393, 't0': 2.0014548301696777}, ('C1', 'C1', 'S1'): {'k': 348.38067057961484, 't0': 2.1063485145568848}, ('C1', 'C1', 'H2'): {'k': 416.06963049470346, 't0': 2.05912709236145}, ('C1', 'S1', 'C1'): {'k': 365.4949848942009, 't0': 1.6341766119003296}, ('S1', 'C1', 'H2'): {'k': 331.2090802027757, 't0': 2.239353656768799}}\n"
     ]
    }
   ],
   "source": [
    "angle_types = []\n",
    "angle_dict = dict() #creating an empty dictionary to put our parameters in \n",
    "\n",
    "for i in range(angle_forces.getNumAngles()):\n",
    "    angle_parms = angle_forces.getAngleParameters(index=i)\n",
    "    k = angle_parms[4]/angle_parms[4].unit\n",
    "    t0 = angle_parms[3]/angle_parms[3].unit  \n",
    "#    if (type_map[angle_parms[0]],type_map[angle_parms[1]],type_map[angle_parms[2]],k,t0) not in angle_types:\n",
    "#        angle_types.append((type_map[angle_parms[0]],type_map[angle_parms[1]],type_map[angle_parms[2]],k,t0))\n",
    "    angle_dict[type_map[angle_parms[0]],type_map[angle_parms[1]],type_map[angle_parms[2]]] = {'k':k,'t0':t0}\n",
    "print(angle_dict)"
   ]
  },
  {
   "cell_type": "code",
   "execution_count": 19,
   "id": "83bacdda",
   "metadata": {},
   "outputs": [
    {
     "name": "stdout",
     "output_type": "stream",
     "text": [
      "{('C1', 'C1', 'C1', 'S1'): {'periodicity': [1, 2, 3, 4, 5, 6], 'k': [0.23251528499440857, 3.4517471243831106, 0.9838552558232662, 0.6785883195218082, 0.7901573157856489, 0.2073371935915689], 'phase': [3.141592653589793, 3.141592653589793, 0.0, 3.141592653589793, 0.0, 3.141592653589793]}, ('C1', 'C1', 'C1', 'H2'): {'periodicity': [1, 2, 3, 4, 5, 6], 'k': [3.398343015877359, 2.8459177917296032, 0.1589078182079968, 0.39113212593942215, 1.0843035412295645, 0.11588597406045265], 'phase': [0.0, 3.141592653589793, 0.0, 3.141592653589793, 0.0, 3.141592653589793]}, ('C1', 'C1', 'S1', 'C1'): {'periodicity': [1, 2, 3, 4, 5, 6], 'k': [2.721754859390175, 3.0707820863385127, 0.9180992847632328, 1.166569415480039, 0.6786665655084928, 0.3899633265133216], 'phase': [3.141592653589793, 3.141592653589793, 0.0, 3.141592653589793, 3.141592653589793, 0.0]}, ('C1', 'C1', 'C1', 'C1'): {'periodicity': [1, 2, 3, 4, 5, 6], 'k': [0.9967780695616373, 3.6979041081185544, 0.214286415283991, 0.08215828601878335, 0.029997555145191493, 0.06249042370949514], 'phase': [3.141592653589793, 3.141592653589793, 0.0, 3.141592653589793, 0.0, 0.0]}, ('C1', 'C1', 'C1', 'H1'): {'periodicity': [1, 2, 3, 4, 5, 6], 'k': [0.27900562702045406, 0.665394090017125, 2.5977740934884967, 0.6380568984192084, 0.3369272186636963, 0.6301931767574106], 'phase': [3.141592653589793, 3.141592653589793, 3.141592653589793, 3.141592653589793, 0.0, 0.0]}, ('C1', 'S1', 'C1', 'H2'): {'periodicity': [1, 2, 3, 4, 5, 6], 'k': [3.0838039301537816, 3.662155472952048, 0.20395794504162967, 0.5441617143977417, 0.176190400516948, 0.2949690308976453], 'phase': [0.0, 3.141592653589793, 0.0, 3.141592653589793, 3.141592653589793, 3.141592653589793]}, ('S1', 'C1', 'C1', 'H1'): {'periodicity': [1, 2, 3, 4, 5, 6], 'k': [1.753502342349226, 2.220991547950897, 1.4163990702154894, 0.5540989547066802, 1.831943944000493, 0.3322630243011716], 'phase': [0.0, 3.141592653589793, 0.0, 3.141592653589793, 0.0, 3.141592653589793]}, ('H1', 'C1', 'C1', 'H1'): {'periodicity': [1, 2, 3, 4, 5, 6], 'k': [3.6105828095721324, 2.8081103090384594, 0.7169484144939116, 1.1676452977969516, 0.03999347994414347, 0.48374358674184537], 'phase': [0.0, 3.141592653589793, 0.0, 3.141592653589793, 3.141592653589793, 3.141592653589793]}, ('H1', 'C1', 'C1', 'H2'): {'periodicity': [1, 2, 3, 4, 5, 6], 'k': [3.6579265218904564, 1.8831204870728182, 0.5128339774789128, 1.269932363890337, 0.07717988511597851, 0.38133792907489134], 'phase': [0.0, 3.141592653589793, 0.0, 3.141592653589793, 0.0, 3.141592653589793]}, ('C1', 'C1', 'H1', 'C1'): {'periodicity': [1, 2, 3, 4, 5, 6], 'k': [0.27900318183337014, 0.6653843092687894, 2.597763090146619, 0.6380520080450406, 0.33694678016036744, 0.6301980671315783], 'phase': [3.141592653589793, 3.141592653589793, 3.141592653589793, 3.141592653589793, 0.0, 0.0]}, ('C1', 'C1', 'S1', 'H2'): {'periodicity': [1, 2, 3, 4, 5, 6], 'k': [0.9083992276014318, 2.3986698448083934, 0.24485736680035525, 0.6582345822354881, 0.5195729130821202, 1.0669231514372575], 'phase': [0.0, 3.141592653589793, 3.141592653589793, 0.0, 0.0, 0.0]}, ('C1', 'C1', 'H2', 'S1'): {'periodicity': [1, 2, 3, 4, 5, 6], 'k': [0.7179289345145524, 1.4106186479491678, 1.1814850566917825, 1.1211965239513324, 1.9024337972549419, 1.246057557203212], 'phase': [3.141592653589793, 3.141592653589793, 3.141592653589793, 3.141592653589793, 0.0, 0.0]}, ('S1', 'C1', 'C1', 'H2'): {'periodicity': [1, 2, 3, 4, 5, 6], 'k': [0.19048985458355056, 1.3222495867372979, 0.5723266018235559, 0.6154095756481973, 1.651909709387666, 0.1313799020175366], 'phase': [0.0, 3.141592653589793, 3.141592653589793, 3.141592653589793, 0.0, 0.0]}, ('S1', 'C1', 'H2', 'C1'): {'periodicity': [1, 2, 3, 4, 5, 6], 'k': [0.6607677960544007, 1.0651772878593584, 0.26510473844852595, 0.8277251701425711, 2.0299747555507675, 0.5591360400994986], 'phase': [0.0, 3.141592653589793, 3.141592653589793, 3.141592653589793, 0.0, 0.0]}, ('H1', 'C1', 'C1', 'C1'): {'periodicity': [1, 2, 3, 4, 5, 6], 'k': [1.934301920519311, 1.4686527181982691, 0.3470906387778949, 0.155063984112118, 0.8674643506299898, 0.18888581185651715], 'phase': [3.141592653589793, 3.141592653589793, 3.141592653589793, 3.141592653589793, 3.141592653589793, 3.141592653589793]}, ('H2', 'C1', 'C1', 'S1'): {'periodicity': [1, 2, 3, 4, 5, 6], 'k': [1.4043932016335778, 1.0824158568007995, 0.6275218098682582, 2.0590480299782477, 0.2518640503892488, 1.1387334057170084], 'phase': [3.141592653589793, 0.0, 3.141592653589793, 0.0, 3.141592653589793, 0.0]}, ('H2', 'C1', 'S1', 'C1'): {'periodicity': [1, 2, 3, 4, 5, 6], 'k': [0.6692672663580105, 0.8109805289920763, 0.6651092257218516, 1.517023409091828, 0.13787920928652247, 0.921776846137407], 'phase': [3.141592653589793, 0.0, 3.141592653589793, 0.0, 3.141592653589793, 3.141592653589793]}}\n"
     ]
    }
   ],
   "source": [
    "dihedral_types = []\n",
    "dihedral_dict = {}\n",
    "\n",
    "for i in range(torsion_forces.getNumTorsions()):\n",
    "    if i%6==0:\n",
    "        periodicity=[]\n",
    "        phase = []\n",
    "        k = []\n",
    "    dihedral_parms = torsion_forces.getTorsionParameters(index=i)\n",
    "    periodicity.append(dihedral_parms[4])  \n",
    "    phase.append( dihedral_parms[5]/dihedral_parms[5].unit)\n",
    "    k.append(dihedral_parms[6]/dihedral_parms[6].unit)\n",
    "#    if (type_map[dihedral_parms[0]],type_map[dihedral_parms[1]],type_map[dihedral_parms[2]],type_map[dihedral_parms[3]],periodicity,k,phase) not in dihedral_types:\n",
    "#        dihedral_types.append((type_map[dihedral_parms[0]],type_map[dihedral_parms[1]],type_map[dihedral_parms[2]],\n",
    "#        type_map[dihedral_parms[3]],periodicity,k,phase))\n",
    "    dt = (type_map[dihedral_parms[0]],type_map[dihedral_parms[1]],type_map[dihedral_parms[2]],\n",
    "                  type_map[dihedral_parms[3]])\n",
    "   \n",
    "\n",
    "    if periodicity[-1]==6:\n",
    "        #print(dt,periodicity,phase)\n",
    "        dihedral_dict[dt] = {'periodicity':periodicity,'k':k,'phase':phase}\n",
    "print(dihedral_dict)"
   ]
  },
  {
   "cell_type": "code",
   "execution_count": 20,
   "id": "eed592f7",
   "metadata": {
    "scrolled": true
   },
   "outputs": [
    {
     "name": "stdout",
     "output_type": "stream",
     "text": [
      "{'C1': {'charge': -0.1688777777777778, 'sigma': 0.3399669508423535, 'epsilon': 0.359824}, 'S1': {'charge': 0.008422222222222216, 'sigma': 0.35635948725613575, 'epsilon': 1.046}, 'H1': {'charge': 0.1522222222222222, 'sigma': 0.25996424595335105, 'epsilon': 0.06276}, 'H2': {'charge': 0.16922222222222222, 'sigma': 0.2510552587719476, 'epsilon': 0.06276}}\n"
     ]
    }
   ],
   "source": [
    "nonbonded_types = []\n",
    "nonbonded_dict = {}\n",
    "\n",
    "for i in range(pair_forces.getNumParticles()):\n",
    "    nonbonded_parms = pair_forces.getParticleParameters(index=i)\n",
    "    charge = nonbonded_parms[0]/nonbonded_parms[0].unit\n",
    "    sigma = nonbonded_parms[1]/nonbonded_parms[1].unit\n",
    "    epsilon = nonbonded_parms[2]/nonbonded_parms[2].unit\n",
    "    #atom_type = structure.adjusts.atom\n",
    "    if (charge,sigma,epsilon) not in nonbonded_types:\n",
    "        nonbonded_types.append((charge,sigma,epsilon))\n",
    "    nonbonded_dict[(type_map[i])]={'charge':charge,'sigma':sigma,'epsilon':epsilon}\n",
    "print(nonbonded_dict)"
   ]
  },
  {
   "cell_type": "code",
   "execution_count": 21,
   "id": "dda945e2",
   "metadata": {},
   "outputs": [],
   "source": [
    "# Save the forcefield XML file for future use, so that we don't have to repeat the espaloma process everytime\n",
    "mbuild_to_foyer_xml(\n",
    "    file_name=\"thiophene_esp.xml\",\n",
    "    compound=mb_thiophene2,\n",
    "    bond_params=bond_dict,\n",
    "    angle_params=angle_dict,\n",
    "    dihedral_params=dihedral_dict,\n",
    "    dihedral_type=\"periodic\",\n",
    "    non_bonded_params=nonbonded_dict,\n",
    "    combining_rule=\"geometric\",\n",
    "    name=\"\",\n",
    "    version=\"\",\n",
    "    coulomb14scale=1.0,\n",
    "    lj14scale=1.0)\n",
    "\n",
    "# Save the mb.Compound with the new atom type names for future use.\n",
    "mb_thiophene2.save(\"thiophene_typed.mol2\", overwrite=True)"
   ]
  },
  {
   "cell_type": "code",
   "execution_count": null,
   "id": "f6a7c1c8",
   "metadata": {},
   "outputs": [],
   "source": []
  },
  {
   "cell_type": "code",
   "execution_count": null,
   "id": "18493a49",
   "metadata": {},
   "outputs": [],
   "source": []
  },
  {
   "cell_type": "markdown",
   "id": "43a03bf9",
   "metadata": {},
   "source": [
    "## Workflow once we have created an XML file, and a typed mol2 file:\n",
    "\n",
    "Everything above this cell is something that we should only need to do once.\n",
    "Then, once we have an XML file, and a typed mol2 file (i.e. one with the particles renamed correctly)\n",
    "every time we want to run a new simulation, the process would look like the cells below:"
   ]
  },
  {
   "cell_type": "code",
   "execution_count": 67,
   "id": "c566e937",
   "metadata": {},
   "outputs": [],
   "source": [
    "import mbuild as mb\n",
    "import foyer\n",
    "import hoomd\n",
    "from mbuild.formats.hoomd_forcefield import create_hoomd_forcefield"
   ]
  },
  {
   "cell_type": "code",
   "execution_count": 68,
   "id": "7ceb1a5f",
   "metadata": {},
   "outputs": [],
   "source": [
    "esp_ff = foyer.Forcefield(forcefield_files=\"thiophene_esp.xml\")"
   ]
  },
  {
   "cell_type": "code",
   "execution_count": 69,
   "id": "adfa549d",
   "metadata": {},
   "outputs": [],
   "source": [
    "# We have to add the underscore to the names manually if we are using foyer XML files without SMARTS definitions\n",
    "thiophene = mb.load(\"thiophene_typed.mol2\")\n",
    "for p in thiophene.particles():\n",
    "    p.name = f\"_{p.name}\""
   ]
  },
  {
   "cell_type": "code",
   "execution_count": 76,
   "id": "1a8fb759",
   "metadata": {},
   "outputs": [],
   "source": [
    "box = mb.Compound()\n",
    "vector = np.array([0, 0, 0.5])\n",
    "for i in range(5):\n",
    "    comp = mb.clone(thiophene)\n",
    "    comp.translate(vector * i)\n",
    "    box.add(comp)\n",
    "\n",
    "box.box = mb.box.Box.from_lengths_angles(lengths=[20, 20, 20], angles=[90,90,90])\n",
    "\n",
    "box.translate_to(\n",
    "    (10, 10, 10)\n",
    ")"
   ]
  },
  {
   "cell_type": "code",
   "execution_count": 77,
   "id": "83205213",
   "metadata": {},
   "outputs": [],
   "source": [
    "box.save(\"stacked.gsd\", overwrite=True)"
   ]
  },
  {
   "cell_type": "code",
   "execution_count": 90,
   "id": "e8226e83",
   "metadata": {
    "scrolled": true
   },
   "outputs": [],
   "source": [
    "box = mb.fill_box(compound=thiophene, n_compounds=50, density=500)\n",
    "box_pmd = esp_ff.apply(box)"
   ]
  },
  {
   "cell_type": "code",
   "execution_count": 91,
   "id": "079c3d81",
   "metadata": {},
   "outputs": [
    {
     "name": "stdout",
     "output_type": "stream",
     "text": [
      "Processing LJ and QQ\n",
      "Processing 1-4 interactions, adjusting neighborlist exclusions\n",
      "Processing harmonic bonds\n",
      "Processing harmonic angles\n",
      "Processing periodic torsions\n"
     ]
    }
   ],
   "source": [
    "snapshot, forcefield, refs = create_hoomd_forcefield(box_pmd, auto_scale=True, r_cut=2.5)"
   ]
  },
  {
   "cell_type": "code",
   "execution_count": 92,
   "id": "5087683d",
   "metadata": {},
   "outputs": [],
   "source": [
    "#setting cpu and simulation \n",
    "cpu = hoomd.device.CPU()\n",
    "sim = hoomd.Simulation(device=cpu,seed=0)\n",
    "sim.create_state_from_snapshot(snapshot)"
   ]
  },
  {
   "cell_type": "code",
   "execution_count": 93,
   "id": "0f20d047",
   "metadata": {},
   "outputs": [],
   "source": [
    "#setting the integrator\n",
    "kt = 1.2\n",
    "free_particle = hoomd.filter.Tags(tags=[0,1])  #letting hoomd know which particles to update the positions of\n",
    "integrator = hoomd.md.Integrator(dt=0.0001)\n",
    "nvt = hoomd.md.methods.NVT(kT=kt,filter=hoomd.filter.All(), tau=0.1)\n",
    "integrator.forces = forcefield\n",
    "integrator.methods.append(nvt)\n",
    "sim.operations.integrator = integrator\n",
    "sim.state.thermalize_particle_momenta(filter=free_particle, kT=kt)\n",
    "# Set up GSD writer\n",
    "gsd_writer = hoomd.write.GSD(\n",
    "    trigger=hoomd.trigger.Periodic(int(5e3)),\n",
    "    filename=\"traj_thiophene.gsd\",  #name the output file\n",
    "    mode=\"wb\"\n",
    ")\n",
    "sim.operations.writers.append(gsd_writer)"
   ]
  },
  {
   "cell_type": "code",
   "execution_count": 94,
   "id": "83999296",
   "metadata": {},
   "outputs": [
    {
     "name": "stderr",
     "output_type": "stream",
     "text": [
      "*Warning*: charge.pppm: system is not neutral and unscreened interactions are calculated, the net charge is -23.3605\n",
      "*Warning*: charge.pppm: RMS error of 0.185768 is probably too high! 0.185768 0.185761\n"
     ]
    },
    {
     "ename": "KeyboardInterrupt",
     "evalue": "",
     "output_type": "error",
     "traceback": [
      "\u001b[0;31m---------------------------------------------------------------------------\u001b[0m",
      "\u001b[0;31mKeyboardInterrupt\u001b[0m                         Traceback (most recent call last)",
      "Cell \u001b[0;32mIn[94], line 1\u001b[0m\n\u001b[0;32m----> 1\u001b[0m \u001b[43msim\u001b[49m\u001b[38;5;241;43m.\u001b[39;49m\u001b[43mrun\u001b[49m\u001b[43m(\u001b[49m\u001b[38;5;241;43m5e5\u001b[39;49m\u001b[43m)\u001b[49m\n",
      "File \u001b[0;32m~/miniconda3/envs/esp/lib/python3.10/site-packages/hoomd/simulation.py:462\u001b[0m, in \u001b[0;36mSimulation.run\u001b[0;34m(self, steps, write_at_start)\u001b[0m\n\u001b[1;32m    458\u001b[0m \u001b[38;5;28;01mif\u001b[39;00m steps_int \u001b[38;5;241m<\u001b[39m \u001b[38;5;241m0\u001b[39m \u001b[38;5;129;01mor\u001b[39;00m steps_int \u001b[38;5;241m>\u001b[39m TIMESTEP_MAX \u001b[38;5;241m-\u001b[39m \u001b[38;5;241m1\u001b[39m:\n\u001b[1;32m    459\u001b[0m     \u001b[38;5;28;01mraise\u001b[39;00m \u001b[38;5;167;01mValueError\u001b[39;00m(\u001b[38;5;124mf\u001b[39m\u001b[38;5;124m\"\u001b[39m\u001b[38;5;124msteps must be in the range [0, \u001b[39m\u001b[38;5;124m\"\u001b[39m\n\u001b[1;32m    460\u001b[0m                      \u001b[38;5;124mf\u001b[39m\u001b[38;5;124m\"\u001b[39m\u001b[38;5;132;01m{\u001b[39;00mTIMESTEP_MAX\u001b[38;5;241m-\u001b[39m\u001b[38;5;241m1\u001b[39m\u001b[38;5;132;01m}\u001b[39;00m\u001b[38;5;124m]\u001b[39m\u001b[38;5;124m\"\u001b[39m)\n\u001b[0;32m--> 462\u001b[0m \u001b[38;5;28;43mself\u001b[39;49m\u001b[38;5;241;43m.\u001b[39;49m\u001b[43m_cpp_sys\u001b[49m\u001b[38;5;241;43m.\u001b[39;49m\u001b[43mrun\u001b[49m\u001b[43m(\u001b[49m\u001b[43msteps_int\u001b[49m\u001b[43m,\u001b[49m\u001b[43m \u001b[49m\u001b[43mwrite_at_start\u001b[49m\u001b[43m)\u001b[49m\n",
      "\u001b[0;31mKeyboardInterrupt\u001b[0m: "
     ]
    }
   ],
   "source": [
    "sim.run(5e5)"
   ]
  },
  {
   "cell_type": "code",
   "execution_count": null,
   "id": "8b5d51e3",
   "metadata": {},
   "outputs": [],
   "source": []
  }
 ],
 "metadata": {
  "kernelspec": {
   "display_name": "Python 3 (ipykernel)",
   "language": "python",
   "name": "python3"
  },
  "language_info": {
   "codemirror_mode": {
    "name": "ipython",
    "version": 3
   },
   "file_extension": ".py",
   "mimetype": "text/x-python",
   "name": "python",
   "nbconvert_exporter": "python",
   "pygments_lexer": "ipython3",
   "version": "3.10.8"
  }
 },
 "nbformat": 4,
 "nbformat_minor": 5
}
