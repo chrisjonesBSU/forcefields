{
 "cells": [
  {
   "cell_type": "code",
   "execution_count": 1,
   "id": "538feb4b",
   "metadata": {
    "scrolled": true
   },
   "outputs": [
    {
     "name": "stderr",
     "output_type": "stream",
     "text": [
      "Warning: importing 'simtk.openmm' is deprecated.  Import 'openmm' instead.\n",
      "/home/madilyn/miniconda3/envs/espaloma/lib/python3.10/site-packages/numexpr/expressions.py:21: DeprecationWarning: distutils Version classes are deprecated. Use packaging.version instead.\n",
      "  _np_version_forbids_neg_powint = LooseVersion(numpy.__version__) >= LooseVersion('1.12.0b1')\n",
      "/home/madilyn/miniconda3/envs/espaloma/lib/python3.10/site-packages/numexpr/expressions.py:21: DeprecationWarning: distutils Version classes are deprecated. Use packaging.version instead.\n",
      "  _np_version_forbids_neg_powint = LooseVersion(numpy.__version__) >= LooseVersion('1.12.0b1')\n",
      "/home/madilyn/miniconda3/envs/espaloma/lib/python3.10/site-packages/qcelemental/models/results.py:788: DeprecationWarning: ResultProtocols has been renamed to AtomicResultProtocols and will be removed as soon as v0.13.0\n",
      "  warn(\n",
      "/home/madilyn/miniconda3/envs/espaloma/lib/python3.10/site-packages/qcelemental/models/results.py:788: DeprecationWarning: ResultProtocols has been renamed to AtomicResultProtocols and will be removed as soon as v0.13.0\n",
      "  warn(\n",
      "LICENSE: Could not open license file \"oe_license.txt\" in local directory\n",
      "LICENSE: N.B. OE_LICENSE environment variable is not set\n",
      "LICENSE: N.B. OE_DIR environment variable is not set\n",
      "LICENSE: No product keys!\n",
      "LICENSE: No product keys!\n",
      "LICENSE: No product keys!\n",
      "Warning: Unable to load toolkit 'OpenEye Toolkit'. The Open Force Field Toolkit does not require the OpenEye Toolkits, and can use RDKit/AmberTools instead. However, if you have a valid license for the OpenEye Toolkits, consider installing them for faster performance and additional file format support: https://docs.eyesopen.com/toolkits/python/quickstart-python/linuxosx.html OpenEye offers free Toolkit licenses for academics: https://www.eyesopen.com/academic-licensing\n",
      "LICENSE: No product keys!\n"
     ]
    }
   ],
   "source": [
    "from writers import foyer_xml_writer\n",
    "from writers.foyer_xml_writer import parmed_to_foyer_xml, mbuild_to_foyer_xml\n",
    "\n",
    "\n",
    "import ele\n",
    "import espaloma as esp\n",
    "import forcefield_utilities as ffutils\n",
    "import foyer\n",
    "import gmso\n",
    "import mbuild as mb\n",
    "from mbuild.lib.recipes import Polymer\n",
    "from mbuild.formats.hoomd_forcefield import create_hoomd_forcefield\n",
    "import numpy as np\n",
    "from openff.toolkit.topology import Molecule\n",
    "import torch\n",
    "\n",
    "\n",
    "import os\n",
    "import warnings\n",
    "warnings.filterwarnings(\"ignore\")\n",
    "\n",
    "if not os.path.exists(\"espaloma_model.pt\"):\n",
    "    os.system(\"wget http://data.wangyq.net/espaloma_model.pt\")"
   ]
  },
  {
   "cell_type": "code",
   "execution_count": 2,
   "id": "c3eebc8a",
   "metadata": {
    "scrolled": true
   },
   "outputs": [],
   "source": [
    "# Use espaloma to find the FF parameters for Benzene\n",
    "smiles = \"c1ccccc1\"\n",
    "benzene = mb.load(smiles, smiles=True)\n",
    "#benzene.visualize().show()\n",
    "\n",
    "molecule = Molecule.from_smiles(smiles) #molecule is benzene\n",
    "molecule_graph = esp.Graph(molecule)\n",
    "\n",
    "espaloma_model = torch.load(\"espaloma_model.pt\")\n",
    "espaloma_model(molecule_graph.heterograph)\n",
    "openmm_system = esp.graphs.deploy.openmm_system_from_graph(molecule_graph)\n",
    "\n",
    "# Store the results for each in something more accessible\n",
    "pair_forces = openmm_system.getForces()[1]\n",
    "angle_forces = openmm_system.getForces()[3]\n",
    "bond_forces = openmm_system.getForces()[2]\n",
    "torsion_forces = openmm_system.getForces()[0]"
   ]
  },
  {
   "cell_type": "code",
   "execution_count": null,
   "id": "c2721e24",
   "metadata": {},
   "outputs": [],
   "source": [
    "print(pair_forces.getParticleParameters(0)) \n",
    "#some issues with the data that comes out of pair_forces.getParticleParameters:\n",
    "    # WE have  list of \"QUantities\", which is nice, but we only want the values (but need to know units)\n",
    "    # WE need informatio nabout which particle type each of these quanitities corresponds to\n",
    "help(openmm_system.getForces)"
   ]
  },
  {
   "cell_type": "code",
   "execution_count": 6,
   "id": "4c0d8c9a",
   "metadata": {
    "scrolled": true
   },
   "outputs": [
    {
     "data": {
      "text/plain": [
       "TrackedList([\n",
       "\t<Bond <Atom C1x [0]; In  0>--<Atom C2x [1]; In  0>; type=<BondType; k=155.431, req=1.442>>\n",
       "\t<Bond <Atom C1x [0]; In  0>--<Atom H1x [6]; In  0>; type=<BondType; k=147.945, req=1.123>>\n",
       "\t<Bond <Atom C2x [1]; In  0>--<Atom C3x [2]; In  0>; type=<BondType; k=155.431, req=1.442>>\n",
       "\t<Bond <Atom C2x [1]; In  0>--<Atom H2x [7]; In  0>; type=<BondType; k=147.945, req=1.123>>\n",
       "\t<Bond <Atom C3x [2]; In  0>--<Atom C4x [3]; In  0>; type=<BondType; k=155.431, req=1.442>>\n",
       "\t<Bond <Atom C3x [2]; In  0>--<Atom H3x [8]; In  0>; type=<BondType; k=147.945, req=1.123>>\n",
       "\t<Bond <Atom C4x [3]; In  0>--<Atom C5x [4]; In  0>; type=<BondType; k=155.431, req=1.442>>\n",
       "\t<Bond <Atom C4x [3]; In  0>--<Atom H4x [9]; In  0>; type=<BondType; k=147.945, req=1.123>>\n",
       "\t<Bond <Atom C5x [4]; In  0>--<Atom C6x [5]; In  0>; type=<BondType; k=155.431, req=1.442>>\n",
       "\t<Bond <Atom C5x [4]; In  0>--<Atom H5x [10]; In  0>; type=<BondType; k=147.945, req=1.123>>\n",
       "\t<Bond <Atom C6x [5]; In  0>--<Atom C1x [0]; In  0>; type=<BondType; k=155.431, req=1.442>>\n",
       "\t<Bond <Atom C6x [5]; In  0>--<Atom H6x [11]; In  0>; type=<BondType; k=147.945, req=1.123>>\n",
       "])"
      ]
     },
     "execution_count": 6,
     "metadata": {},
     "output_type": "execute_result"
    }
   ],
   "source": [
    "structure.bonds"
   ]
  },
  {
   "cell_type": "code",
   "execution_count": 5,
   "id": "ec6cfe57",
   "metadata": {},
   "outputs": [],
   "source": [
    "# get a parmed structure from openmm \n",
    "import parmed as pmd\n",
    "topology = molecule.to_topology()\n",
    "openmm_topology = topology.to_openmm()\n",
    "\n",
    "structure = pmd.openmm.load_topology(topology=openmm_topology, system=openmm_system)\n",
    "structure.bonds.sort(key=lambda x: x.atom1.idx)"
   ]
  },
  {
   "cell_type": "code",
   "execution_count": 9,
   "id": "1b98eb25",
   "metadata": {},
   "outputs": [],
   "source": [
    "# step 1: how to get bond parameters\n",
    "\n",
    "bond_parameters = {}\n",
    "\n",
    "for bond in structure.bonds:\n",
    "    bond_parameters[(bond.atom1.name, bond.atom2.name)] = {\"k\":[bond.type.k] , \"l0\":[bond.type.req]}\n",
    "    \n",
    "# step 2: get angle parameters\n",
    "\n",
    "angle_parameters = {}\n",
    "\n",
    "for angle in structure.angles:\n",
    "    angle_parameters[(angle.atom1.name, angle.atom2.name,angle.atom3.name)] = {\"k\":[angle.type.k], \n",
    "                                                                               \"t0\":[angle.type.theteq]}\n",
    "    \n",
    "# step 3: dihedral parameters\n",
    "\n",
    "dihedral_parameters = {}\n",
    "\n",
    "for dihedral in structure.dihedrals:\n",
    "    dihedral_parameters[(dihedral.atom1.name, dihedral.atom2.name,dihedral.atom3.name,\n",
    "                         dihedral.atom4.name)] = {\"periodicity\":[dihedral.type.per],\n",
    "                                                  \"k\":[dihedral.type.phi_k],\"phase\":[dihedral.type.phase]}\n",
    "    \n",
    "# step 4: non-bonding parameters\n",
    "\n",
    "nonbonded_parameters = {}\n",
    "\n",
    "for nonbonded in structure.adjusts:\n",
    "    nonbonded_parameters[(nonbonded.atom1.name,nonbonded.atom2.name)] = {\"sigma\":[nonbonded.type.rmin],\n",
    "                                                    \"epsilon\":[nonbonded.type.epsilon],\n",
    "                                                    \"charge\":[nonbonded.type.chgscale]}"
   ]
  },
  {
   "cell_type": "code",
   "execution_count": null,
   "id": "757baeed",
   "metadata": {},
   "outputs": [],
   "source": [
    "structure.bonds"
   ]
  },
  {
   "cell_type": "code",
   "execution_count": null,
   "id": "8dafbf64",
   "metadata": {
    "scrolled": true
   },
   "outputs": [],
   "source": [
    "bond_parameters\n",
    "#angle_parameters\n",
    "#dihedral_parameters\n",
    "#nonbonded_parameters"
   ]
  },
  {
   "cell_type": "code",
   "execution_count": null,
   "id": "dc8cc2be",
   "metadata": {},
   "outputs": [],
   "source": [
    "mbuild_to_foyer_xml(\n",
    "    file_name=\"benzene_esp.xml\",\n",
    "    compound=benzene,\n",
    "    bond_params=bond_parameters,\n",
    "    angle_params=angle_parameters,\n",
    "    dihedral_params=dihedral_parameters,\n",
    "    dihedral_type=\"periodic\",\n",
    "    non_bonded_params=nonbonded_parameters,\n",
    "    combining_rule=\"geometric\",\n",
    "    name=\"\",\n",
    "    version=\"\",\n",
    "    coulomb14scale=1.0,\n",
    "    lj14scale=1.0)"
   ]
  },
  {
   "cell_type": "code",
   "execution_count": null,
   "id": "8d8a7171",
   "metadata": {},
   "outputs": [],
   "source": [
    "##creating espaloma xml without parmed"
   ]
  },
  {
   "cell_type": "code",
   "execution_count": null,
   "id": "31a33eae",
   "metadata": {},
   "outputs": [],
   "source": [
    "particle_types = []\n",
    "particle_type_dict = dict()\n",
    "\n",
    "for i in range(pair_forces.getNumParticles()):\n",
    "    pair_parms = pair_forces.getParticleParameters(index=i)\n",
    "    charge = pair_parms[0]\n",
    "    sigma = pair_parms[1]\n",
    "    epsilon = pair_parms[2]\n",
    "    if (charge, sigma, epsilon) not in particle_types: #this is adding the charge,sigma, and epsilon to the particle_types, but only once.\n",
    "        particle_types.append((charge, sigma, epsilon))\n",
    "        print((charge, sigma, epsilon) )\n",
    "    particle_type_dict[i] = particle_types.index((charge, sigma, epsilon)) #adding only the index of the pair_parms, this gives particle types.\n",
    "print(particle_type_dict)\n",
    "\n",
    "#particle_types gives the sigma, charge, and epsilon associated with each unique particle, \n",
    "#particle_type_dict only gives the index associated with each unique particle type"
   ]
  },
  {
   "cell_type": "code",
   "execution_count": 49,
   "id": "d7bce47f",
   "metadata": {
    "scrolled": false
   },
   "outputs": [
    {
     "ename": "KeyError",
     "evalue": "'C1x'",
     "output_type": "error",
     "traceback": [
      "\u001b[0;31m---------------------------------------------------------------------------\u001b[0m",
      "\u001b[0;31mKeyError\u001b[0m                                  Traceback (most recent call last)",
      "Cell \u001b[0;32mIn[49], line 8\u001b[0m\n\u001b[1;32m      6\u001b[0m bond_parms \u001b[38;5;241m=\u001b[39m bond_forces\u001b[38;5;241m.\u001b[39mgetBondParameters(index\u001b[38;5;241m=\u001b[39mi)\n\u001b[1;32m      7\u001b[0m \u001b[38;5;28;01mfor\u001b[39;00m bond \u001b[38;5;129;01min\u001b[39;00m structure\u001b[38;5;241m.\u001b[39mbonds:\n\u001b[0;32m----> 8\u001b[0m     atom1 \u001b[38;5;241m=\u001b[39m \u001b[43matom1_names\u001b[49m\u001b[43m[\u001b[49m\u001b[43m(\u001b[49m\u001b[43mbond\u001b[49m\u001b[38;5;241;43m.\u001b[39;49m\u001b[43matom1\u001b[49m\u001b[38;5;241;43m.\u001b[39;49m\u001b[43mname\u001b[49m\u001b[43m)\u001b[49m\u001b[43m]\u001b[49m\n\u001b[1;32m      9\u001b[0m l0 \u001b[38;5;241m=\u001b[39m bond_parms[\u001b[38;5;241m2\u001b[39m]\n\u001b[1;32m     10\u001b[0m k \u001b[38;5;241m=\u001b[39m bond_parms[\u001b[38;5;241m3\u001b[39m]\n",
      "\u001b[0;31mKeyError\u001b[0m: 'C1x'"
     ]
    }
   ],
   "source": [
    "bond_types = []\n",
    "bond_dict = dict() #creating an empty dictionary to put our parameters in \n",
    "atom1_names = {}\n",
    "\n",
    "for i in range(bond_forces.getNumBonds()):\n",
    "    bond_parms = bond_forces.getBondParameters(index=i)\n",
    "    for bond in structure.bonds:\n",
    "        atom1 = atom1_names[(bond.atom1.name)]\n",
    "    l0 = bond_parms[2]\n",
    "    k = bond_parms[3]\n",
    "    if (atom1, atom2, l0, k) not in bond_types:\n",
    "        bond_types.append((atom1,atom2,l0,k))\n",
    "    bond_dict = bond_types\n",
    "    print(atom1)\n",
    "#print(bond_dict)"
   ]
  },
  {
   "cell_type": "code",
   "execution_count": 63,
   "id": "57235754",
   "metadata": {
    "scrolled": true
   },
   "outputs": [
    {
     "name": "stdout",
     "output_type": "stream",
     "text": [
      "{'atom1': ['C1x', 0], 'atom2': ['C2x', 1]}\n",
      "{'atom1': ['C1x', 0], 'atom2': ['H1x', 6]}\n",
      "{'atom1': ['C2x', 1], 'atom2': ['C3x', 2]}\n",
      "{'atom1': ['C2x', 1], 'atom2': ['H2x', 7]}\n",
      "{'atom1': ['C3x', 2], 'atom2': ['C4x', 3]}\n",
      "{'atom1': ['C3x', 2], 'atom2': ['H3x', 8]}\n",
      "{'atom1': ['C4x', 3], 'atom2': ['C5x', 4]}\n",
      "{'atom1': ['C4x', 3], 'atom2': ['H4x', 9]}\n",
      "{'atom1': ['C5x', 4], 'atom2': ['C6x', 5]}\n",
      "{'atom1': ['C5x', 4], 'atom2': ['H5x', 10]}\n",
      "{'atom1': ['C6x', 5], 'atom2': ['C1x', 0]}\n",
      "{'atom1': ['C6x', 5], 'atom2': ['H6x', 11]}\n"
     ]
    }
   ],
   "source": [
    "#using parmed to get atom types\n",
    "\n",
    "atom1_names = {}\n",
    "for bond in structure.bonds:\n",
    "    atom1_names = {\"atom1\":[bond.atom1.name,bond.atom1.idx],\"atom2\":[bond.atom2.name, bond.atom2.idx]} #gives you the atom type name and index\n",
    "    print(atom1_names)"
   ]
  },
  {
   "cell_type": "code",
   "execution_count": 11,
   "id": "ed3e9dfd",
   "metadata": {},
   "outputs": [
    {
     "data": {
      "text/plain": [
       "TrackedList([\n",
       "\t<Bond <Atom C1x [0]; In  0>--<Atom C2x [1]; In  0>; type=<BondType; k=155.431, req=1.442>>\n",
       "\t<Bond <Atom C1x [0]; In  0>--<Atom H1x [6]; In  0>; type=<BondType; k=147.945, req=1.123>>\n",
       "\t<Bond <Atom C2x [1]; In  0>--<Atom C3x [2]; In  0>; type=<BondType; k=155.431, req=1.442>>\n",
       "\t<Bond <Atom C2x [1]; In  0>--<Atom H2x [7]; In  0>; type=<BondType; k=147.945, req=1.123>>\n",
       "\t<Bond <Atom C3x [2]; In  0>--<Atom C4x [3]; In  0>; type=<BondType; k=155.431, req=1.442>>\n",
       "\t<Bond <Atom C3x [2]; In  0>--<Atom H3x [8]; In  0>; type=<BondType; k=147.945, req=1.123>>\n",
       "\t<Bond <Atom C4x [3]; In  0>--<Atom C5x [4]; In  0>; type=<BondType; k=155.431, req=1.442>>\n",
       "\t<Bond <Atom C4x [3]; In  0>--<Atom H4x [9]; In  0>; type=<BondType; k=147.945, req=1.123>>\n",
       "\t<Bond <Atom C5x [4]; In  0>--<Atom C6x [5]; In  0>; type=<BondType; k=155.431, req=1.442>>\n",
       "\t<Bond <Atom C5x [4]; In  0>--<Atom H5x [10]; In  0>; type=<BondType; k=147.945, req=1.123>>\n",
       "\t<Bond <Atom C6x [5]; In  0>--<Atom C1x [0]; In  0>; type=<BondType; k=155.431, req=1.442>>\n",
       "\t<Bond <Atom C6x [5]; In  0>--<Atom H6x [11]; In  0>; type=<BondType; k=147.945, req=1.123>>\n",
       "])"
      ]
     },
     "execution_count": 11,
     "metadata": {},
     "output_type": "execute_result"
    }
   ],
   "source": [
    "structure.bonds"
   ]
  },
  {
   "cell_type": "code",
   "execution_count": null,
   "id": "881e2c99",
   "metadata": {},
   "outputs": [],
   "source": [
    "bond_parameters_test = {}\n",
    "\n",
    "for bond in structure.bonds:\n",
    "    bond_parameters_test[(bond.atom1.name, bond.atom2.name)] = {\"k\":[bond.type.k] , \"l0\":[bond.type.req]}"
   ]
  },
  {
   "cell_type": "code",
   "execution_count": 10,
   "id": "6f1921d2",
   "metadata": {
    "scrolled": true
   },
   "outputs": [
    {
     "data": {
      "text/plain": [
       "{('C1x', 'C2x'): {'k': [155.43075873811435], 'l0': [1.4419899337180255]},\n",
       " ('C1x', 'H1x'): {'k': [147.94548174075732], 'l0': [1.1234977990290071]},\n",
       " ('C2x', 'C3x'): {'k': [155.43075873811435], 'l0': [1.4419899337180255]},\n",
       " ('C2x', 'H2x'): {'k': [147.94548174075732], 'l0': [1.1234977990290071]},\n",
       " ('C3x', 'C4x'): {'k': [155.43075873811435], 'l0': [1.4419899337180255]},\n",
       " ('C3x', 'H3x'): {'k': [147.94548174075732], 'l0': [1.1234977990290071]},\n",
       " ('C4x', 'C5x'): {'k': [155.43075873811435], 'l0': [1.4419899337180255]},\n",
       " ('C4x', 'H4x'): {'k': [147.94548174075732], 'l0': [1.1234977990290071]},\n",
       " ('C5x', 'C6x'): {'k': [155.43075873811435], 'l0': [1.4419899337180255]},\n",
       " ('C5x', 'H5x'): {'k': [147.94548174075732], 'l0': [1.1234977990290071]},\n",
       " ('C6x', 'C1x'): {'k': [155.43075873811435], 'l0': [1.4419899337180255]},\n",
       " ('C6x', 'H6x'): {'k': [147.94548174075732], 'l0': [1.1234977990290071]}}"
      ]
     },
     "execution_count": 10,
     "metadata": {},
     "output_type": "execute_result"
    }
   ],
   "source": [
    "bond_parameters"
   ]
  },
  {
   "cell_type": "code",
   "execution_count": null,
   "id": "46a40297",
   "metadata": {},
   "outputs": [],
   "source": [
    "bond_types = []\n",
    "bond_type_dict = dict()\n",
    "\n",
    "for i in range(bond_forces.getNumBonds()):\n",
    "    bond_parms = bond_forces.getBondParameters(index=i)\n",
    "    atom1 = bond_parms[0]\n",
    "    atom2 = bond_parms[1]\n",
    "    l0 = bond_parms[2]\n",
    "    k = bond_parms[3]\n",
    "    if (atom1,atom2,l0,k) not in bond_types: \n",
    "        bond_types.append((atom1,atom2,l0,k))\n",
    "    bond_type_dict = {\"atom1\":bond_types[-1][0],\"atom2\":bond_types[-1][1],\"k\":bond_types[-1][2],\"l0\":bond_types[-1][3]}\n",
    "    print(bond_type_dict)"
   ]
  },
  {
   "cell_type": "code",
   "execution_count": null,
   "id": "efb831ee",
   "metadata": {},
   "outputs": [],
   "source": []
  }
 ],
 "metadata": {
  "kernelspec": {
   "display_name": "Python 3 (ipykernel)",
   "language": "python",
   "name": "python3"
  },
  "language_info": {
   "codemirror_mode": {
    "name": "ipython",
    "version": 3
   },
   "file_extension": ".py",
   "mimetype": "text/x-python",
   "name": "python",
   "nbconvert_exporter": "python",
   "pygments_lexer": "ipython3",
   "version": "3.10.8"
  }
 },
 "nbformat": 4,
 "nbformat_minor": 5
}
