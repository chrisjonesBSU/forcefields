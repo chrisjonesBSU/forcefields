{
 "cells": [
  {
   "cell_type": "code",
   "execution_count": 1,
   "id": "538feb4b",
   "metadata": {
    "scrolled": true
   },
   "outputs": [
    {
     "name": "stderr",
     "output_type": "stream",
     "text": [
      "Warning: importing 'simtk.openmm' is deprecated.  Import 'openmm' instead.\n",
      "/home/madilyn/miniconda3/envs/espaloma/lib/python3.10/site-packages/numexpr/expressions.py:21: DeprecationWarning: distutils Version classes are deprecated. Use packaging.version instead.\n",
      "  _np_version_forbids_neg_powint = LooseVersion(numpy.__version__) >= LooseVersion('1.12.0b1')\n",
      "/home/madilyn/miniconda3/envs/espaloma/lib/python3.10/site-packages/numexpr/expressions.py:21: DeprecationWarning: distutils Version classes are deprecated. Use packaging.version instead.\n",
      "  _np_version_forbids_neg_powint = LooseVersion(numpy.__version__) >= LooseVersion('1.12.0b1')\n",
      "/home/madilyn/miniconda3/envs/espaloma/lib/python3.10/site-packages/qcelemental/models/results.py:788: DeprecationWarning: ResultProtocols has been renamed to AtomicResultProtocols and will be removed as soon as v0.13.0\n",
      "  warn(\n",
      "/home/madilyn/miniconda3/envs/espaloma/lib/python3.10/site-packages/qcelemental/models/results.py:788: DeprecationWarning: ResultProtocols has been renamed to AtomicResultProtocols and will be removed as soon as v0.13.0\n",
      "  warn(\n",
      "LICENSE: Could not open license file \"oe_license.txt\" in local directory\n",
      "LICENSE: N.B. OE_LICENSE environment variable is not set\n",
      "LICENSE: N.B. OE_DIR environment variable is not set\n",
      "LICENSE: No product keys!\n",
      "LICENSE: No product keys!\n",
      "LICENSE: No product keys!\n",
      "Warning: Unable to load toolkit 'OpenEye Toolkit'. The Open Force Field Toolkit does not require the OpenEye Toolkits, and can use RDKit/AmberTools instead. However, if you have a valid license for the OpenEye Toolkits, consider installing them for faster performance and additional file format support: https://docs.eyesopen.com/toolkits/python/quickstart-python/linuxosx.html OpenEye offers free Toolkit licenses for academics: https://www.eyesopen.com/academic-licensing\n",
      "LICENSE: No product keys!\n"
     ]
    },
    {
     "ename": "ModuleNotFoundError",
     "evalue": "No module named 'gsd'",
     "output_type": "error",
     "traceback": [
      "\u001b[0;31m---------------------------------------------------------------------------\u001b[0m",
      "\u001b[0;31mModuleNotFoundError\u001b[0m                       Traceback (most recent call last)",
      "Cell \u001b[0;32mIn[1], line 18\u001b[0m\n\u001b[1;32m     16\u001b[0m \u001b[38;5;28;01mfrom\u001b[39;00m \u001b[38;5;21;01mmbuild\u001b[39;00m\u001b[38;5;21;01m.\u001b[39;00m\u001b[38;5;21;01mformats\u001b[39;00m\u001b[38;5;21;01m.\u001b[39;00m\u001b[38;5;21;01mhoomd_forcefield\u001b[39;00m \u001b[38;5;28;01mimport\u001b[39;00m create_hoomd_forcefield\n\u001b[1;32m     17\u001b[0m \u001b[38;5;28;01mimport\u001b[39;00m \u001b[38;5;21;01mhoomd\u001b[39;00m\n\u001b[0;32m---> 18\u001b[0m \u001b[38;5;28;01mimport\u001b[39;00m \u001b[38;5;21;01mgsd\u001b[39;00m\u001b[38;5;21;01m.\u001b[39;00m\u001b[38;5;21;01mhoomd\u001b[39;00m\n\u001b[1;32m     19\u001b[0m \u001b[38;5;28;01mimport\u001b[39;00m \u001b[38;5;21;01mmatplotlib\u001b[39;00m\u001b[38;5;21;01m.\u001b[39;00m\u001b[38;5;21;01mpyplot\u001b[39;00m \u001b[38;5;28;01mas\u001b[39;00m \u001b[38;5;21;01mplt\u001b[39;00m\n\u001b[1;32m     21\u001b[0m \u001b[38;5;28;01mimport\u001b[39;00m \u001b[38;5;21;01mos\u001b[39;00m\n",
      "\u001b[0;31mModuleNotFoundError\u001b[0m: No module named 'gsd'"
     ]
    }
   ],
   "source": [
    "from writers import foyer_xml_writer\n",
    "from writers.foyer_xml_writer import parmed_to_foyer_xml, mbuild_to_foyer_xml\n",
    "\n",
    "\n",
    "import ele\n",
    "import espaloma as esp\n",
    "import forcefield_utilities as ffutils\n",
    "import foyer\n",
    "import gmso\n",
    "import mbuild as mb\n",
    "from mbuild.lib.recipes import Polymer\n",
    "from mbuild.formats.hoomd_forcefield import create_hoomd_forcefield\n",
    "import numpy as np\n",
    "from openff.toolkit.topology import Molecule\n",
    "import torch\n",
    "from mbuild.formats.hoomd_forcefield import create_hoomd_forcefield\n",
    "import hoomd\n",
    "import gsd.hoomd\n",
    "import matplotlib.pyplot as plt\n",
    "\n",
    "import os\n",
    "import warnings\n",
    "warnings.filterwarnings(\"ignore\")\n",
    "\n",
    "if not os.path.exists(\"espaloma_model.pt\"):\n",
    "    os.system(\"wget http://data.wangyq.net/espaloma_model.pt\")"
   ]
  },
  {
   "cell_type": "code",
   "execution_count": 15,
   "id": "273bdcb9",
   "metadata": {},
   "outputs": [
    {
     "name": "stderr",
     "output_type": "stream",
     "text": [
      "/home/madilyn/miniconda3/envs/espaloma/lib/python3.10/site-packages/mbuild/conversion.py:800: UserWarning: No unitcell detected for pybel.Molecule [CH]1[CH][CH][CH][CH][CH]1\tCompound\n",
      "\n",
      "  warn(f\"No unitcell detected for pybel.Molecule {pybel_mol}\")\n"
     ]
    }
   ],
   "source": [
    "# Use espaloma to find the FF parameters for Benzene\n",
    "smiles = \"c1ccccc1\"\n",
    "mb_benzene = mb.load(smiles, smiles=True)\n",
    "#benzene.visualize().show()\n",
    "\n",
    "#mb_benzene.save(\"benzene.\")\n",
    "#try to either save molecule as a usable format or get smiles string from mol2 file..\n",
    "\n",
    "#mb_benzene.save(\"benzene.sdf\")\n",
    "\n",
    "mb_benzene2 = mb.load(\"benzene.sdf\")"
   ]
  },
  {
   "cell_type": "code",
   "execution_count": 3,
   "id": "c3eebc8a",
   "metadata": {
    "scrolled": true
   },
   "outputs": [
    {
     "name": "stderr",
     "output_type": "stream",
     "text": [
      "/home/madilyn/miniconda3/envs/espaloma/lib/python3.10/site-packages/dgl/backend/pytorch/tensor.py:16: DeprecationWarning: distutils Version classes are deprecated. Use packaging.version instead.\n",
      "  if LooseVersion(th.__version__) < LooseVersion(\"1.9.0\"):\n",
      "/home/madilyn/miniconda3/envs/espaloma/lib/python3.10/site-packages/dgl/backend/pytorch/tensor.py:16: DeprecationWarning: distutils Version classes are deprecated. Use packaging.version instead.\n",
      "  if LooseVersion(th.__version__) < LooseVersion(\"1.9.0\"):\n",
      "/home/madilyn/miniconda3/envs/espaloma/lib/python3.10/site-packages/dgl/backend/pytorch/tensor.py:340: DeprecationWarning: distutils Version classes are deprecated. Use packaging.version instead.\n",
      "  if LooseVersion(th.__version__) >= LooseVersion(\"1.10.0\"):\n",
      "/home/madilyn/miniconda3/envs/espaloma/lib/python3.10/site-packages/dgl/backend/pytorch/tensor.py:340: DeprecationWarning: distutils Version classes are deprecated. Use packaging.version instead.\n",
      "  if LooseVersion(th.__version__) >= LooseVersion(\"1.10.0\"):\n",
      "/home/madilyn/miniconda3/envs/espaloma/lib/python3.10/site-packages/dgl/dataloading/dataloader.py:33: DeprecationWarning: distutils Version classes are deprecated. Use packaging.version instead.\n",
      "  PYTORCH_VER = LooseVersion(torch.__version__)\n",
      "/home/madilyn/miniconda3/envs/espaloma/lib/python3.10/site-packages/dgl/_dataloading/pytorch/dataloader.py:23: DeprecationWarning: distutils Version classes are deprecated. Use packaging.version instead.\n",
      "  PYTORCH_VER = LooseVersion(th.__version__)\n",
      "/home/madilyn/miniconda3/envs/espaloma/lib/python3.10/site-packages/dgl/_dataloading/pytorch/dataloader.py:24: DeprecationWarning: distutils Version classes are deprecated. Use packaging.version instead.\n",
      "  PYTORCH_16 = PYTORCH_VER >= LooseVersion(\"1.6.0\")\n",
      "/home/madilyn/miniconda3/envs/espaloma/lib/python3.10/site-packages/dgl/_dataloading/pytorch/dataloader.py:25: DeprecationWarning: distutils Version classes are deprecated. Use packaging.version instead.\n",
      "  PYTORCH_17 = PYTORCH_VER >= LooseVersion(\"1.7.0\")\n",
      "/home/madilyn/miniconda3/envs/espaloma/lib/python3.10/site-packages/dgl/heterograph.py:72: DGLWarning: Recommend creating graphs by `dgl.graph(data)` instead of `dgl.DGLGraph(data)`.\n",
      "  dgl_warning('Recommend creating graphs by `dgl.graph(data)`'\n",
      "/home/madilyn/miniconda3/envs/espaloma/lib/python3.10/site-packages/dgl/convert.py:999: DGLWarning: dgl.to_homo is deprecated. Please use dgl.to_homogeneous\n",
      "  dgl_warning(\"dgl.to_homo is deprecated. Please use dgl.to_homogeneous\")\n"
     ]
    }
   ],
   "source": [
    "molecule = Molecule.from_file(\"benzene.sdf\",file_format = \"sdf\")\n",
    "#molecule = Molecule.from_smiles(smiles) #molecule is benzene\n",
    "molecule_graph = esp.Graph(molecule)\n",
    "#either generate smiles string from the built fragments or get our fragments into a Molecule supported file format\n",
    "\n",
    "espaloma_model = torch.load(\"espaloma_model.pt\")\n",
    "espaloma_model(molecule_graph.heterograph)\n",
    "openmm_system = esp.graphs.deploy.openmm_system_from_graph(molecule_graph)\n",
    "\n",
    "# Store the results for each in something more accessible\n",
    "pair_forces = openmm_system.getForces()[1]\n",
    "angle_forces = openmm_system.getForces()[3]\n",
    "bond_forces = openmm_system.getForces()[2]\n",
    "torsion_forces = openmm_system.getForces()[0]"
   ]
  },
  {
   "cell_type": "code",
   "execution_count": 4,
   "id": "ec6cfe57",
   "metadata": {},
   "outputs": [],
   "source": [
    "# get a parmed structure from openmm \n",
    "import parmed as pmd\n",
    "topology = molecule.to_topology()\n",
    "openmm_topology = topology.to_openmm()\n",
    "\n",
    "structure = pmd.openmm.load_topology(topology=openmm_topology, system=openmm_system)\n",
    "structure.bonds.sort(key=lambda x: x.atom1.idx)"
   ]
  },
  {
   "cell_type": "code",
   "execution_count": 5,
   "id": "1b98eb25",
   "metadata": {},
   "outputs": [],
   "source": [
    "# step 1: how to get bond parameters\n",
    "\n",
    "bond_parameters = {}\n",
    "\n",
    "for bond in structure.bonds:\n",
    "    bond_parameters[(bond.atom1.name, bond.atom2.name)] = {\"k\":[bond.type.k] , \"l0\":[bond.type.req]}\n",
    "    \n",
    "# step 2: get angle parameters\n",
    "\n",
    "angle_parameters = {}\n",
    "\n",
    "for angle in structure.angles:\n",
    "    angle_parameters[(angle.atom1.name, angle.atom2.name,angle.atom3.name)] = {\"k\":[angle.type.k], \n",
    "                                                                               \"t0\":[angle.type.theteq]}\n",
    "    \n",
    "# step 3: dihedral parameters\n",
    "\n",
    "dihedral_parameters = {}\n",
    "\n",
    "for dihedral in structure.dihedrals:\n",
    "    dihedral_parameters[(dihedral.atom1.name, dihedral.atom2.name,dihedral.atom3.name,\n",
    "                         dihedral.atom4.name)] = {\"periodicity\":[dihedral.type.per],\n",
    "                                                  \"k\":[dihedral.type.phi_k],\"phase\":[dihedral.type.phase]}\n",
    "    \n",
    "# step 4: non-bonding parameters\n",
    "\n",
    "nonbonded_parameters = {}\n",
    "\n",
    "for nonbonded in structure.adjusts:\n",
    "    nonbonded_parameters[(nonbonded.atom1.name,nonbonded.atom2.name)] = {\"sigma\":[nonbonded.type.rmin],\n",
    "                                                    \"epsilon\":[nonbonded.type.epsilon],\n",
    "                                                    \"charge\":[nonbonded.type.chgscale]}"
   ]
  },
  {
   "cell_type": "code",
   "execution_count": 6,
   "id": "31a33eae",
   "metadata": {},
   "outputs": [
    {
     "name": "stdout",
     "output_type": "stream",
     "text": [
      "{0: 0, 1: 0, 2: 0, 3: 0, 4: 0, 5: 0, 6: 1, 7: 1, 8: 1, 9: 1, 10: 1, 11: 1}\n"
     ]
    }
   ],
   "source": [
    "particle_types = []\n",
    "particle_type_dict = dict()\n",
    "\n",
    "for i in range(pair_forces.getNumParticles()):\n",
    "    pair_parms = pair_forces.getParticleParameters(index=i)\n",
    "    charge = pair_parms[0]\n",
    "    sigma = pair_parms[1]\n",
    "    epsilon = pair_parms[2]\n",
    "    if (charge, sigma, epsilon) not in particle_types: #this is adding the charge,sigma, and epsilon to the particle_types, but only once.\n",
    "        particle_types.append((charge, sigma, epsilon))\n",
    "        #print((charge, sigma, epsilon) )\n",
    "    particle_type_dict[i] = particle_types.index((charge, sigma, epsilon)) #adding only the index of the pair_parms, this gives particle types.\n",
    "print(particle_type_dict)\n",
    "\n",
    "#particle_types gives the sigma, charge, and epsilon associated with each unique particle, \n",
    "#particle_type_dict only gives the index associated with each unique particle type"
   ]
  },
  {
   "cell_type": "code",
   "execution_count": 7,
   "id": "4de400b7",
   "metadata": {},
   "outputs": [
    {
     "name": "stdout",
     "output_type": "stream",
     "text": [
      "{1: 'C1', 0: 'C1', 2: 'C1', 3: 'C1', 4: 'C1', 5: 'C1', 6: 'H1', 7: 'H1', 8: 'H1', 9: 'H1', 10: 'H1', 11: 'H1'}\n"
     ]
    }
   ],
   "source": [
    "#graph check\n",
    "#want to check if the opemm and parmed graphs are the same so we can use types from parmed \n",
    "import networkx  as nx\n",
    "Gopenmm = nx.Graph()\n",
    "Gparmed = nx.Graph()\n",
    "#openmm:\n",
    "for i in range(bond_forces.getNumBonds()):\n",
    "    Gopenmm.add_edge(bond_forces.getBondParameters(index=i)[0],bond_forces.getBondParameters(index=i)[1])\n",
    "#parmed\n",
    "for b in structure.bonds:\n",
    "    Gparmed.add_edge(b.atom1.idx,b.atom2.idx)\n",
    "type_map = {}\n",
    "#nx.rooted_tree_isomorphism\n",
    "#in here we still need to check that one known index on one corresponds to the same index on the other....\n",
    "tree_openmm = nx.bfs_tree(Gopenmm,0)\n",
    "tree_parmed = nx.bfs_tree(Gparmed,0)\n",
    "if nx.is_isomorphic(Gopenmm,Gparmed):\n",
    "#if nx.isomorphism.tree_isomorphism(tree_openmm,tree_parmed):  <- want this work\n",
    "    for b in structure.bonds:\n",
    "        type_map[b.atom1.idx] = b.atom1.atom_type.__str__()\n",
    "        type_map[b.atom2.idx] = b.atom2.atom_type.__str__()\n",
    "print(type_map)"
   ]
  },
  {
   "cell_type": "code",
   "execution_count": 8,
   "id": "c07909e7",
   "metadata": {},
   "outputs": [],
   "source": [
    "# Rename the particle types so that they match the xml file\n",
    "# This is needed when we aren't using SMARTS matching with Foyer.\n",
    "\n",
    "for index in type_map:\n",
    "    mb_benzene[index].name = type_map[index]"
   ]
  },
  {
   "cell_type": "code",
   "execution_count": 9,
   "id": "d7bce47f",
   "metadata": {},
   "outputs": [
    {
     "name": "stdout",
     "output_type": "stream",
     "text": [
      "{('C1', 'C1'): {'k': 145133.81359445286, 'l0': 0.14950230459380798}, ('C1', 'H1'): {'k': 297486.872594642, 'l0': 0.10608345867182073}}\n"
     ]
    }
   ],
   "source": [
    "bond_types = []\n",
    "bond_dict = dict() #creating an empty dictionary to put our parameters in \n",
    "\n",
    "for i in range(bond_forces.getNumBonds()):\n",
    "    bond_parms = bond_forces.getBondParameters(index=i)\n",
    "    #print(bond_parms)\n",
    "    #atoms = {(bond.atom1.name,bond.atom2.name):[]} #gives you the atom type name and index\n",
    "    l0 = bond_parms[2]/bond_parms[2].unit\n",
    "    k = bond_parms[3]/bond_parms[3].unit\n",
    "    #if (type_map[bond_parms[0]],type_map[bond_parms[1]],k,l0) not in bond_dict:\n",
    "    #    bond_types.append((type_map[bond_parms[0]],type_map[bond_parms[1]],k,l0))\n",
    "    bond_dict[type_map[bond_parms[0]],type_map[bond_parms[1]]] = {'k':k,'l0':l0}\n",
    "print(bond_dict)"
   ]
  },
  {
   "cell_type": "code",
   "execution_count": 10,
   "id": "569a6335",
   "metadata": {
    "scrolled": true
   },
   "outputs": [
    {
     "name": "stdout",
     "output_type": "stream",
     "text": [
      "{('C1', 'C1', 'C1'): {'k': 351.76117106534105, 't0': 1.918205738067627}, ('C1', 'C1', 'H1'): {'k': 360.1267624857336, 't0': 1.9589132070541382}}\n"
     ]
    }
   ],
   "source": [
    "angle_types = []\n",
    "angle_dict = dict() #creating an empty dictionary to put our parameters in \n",
    "\n",
    "for i in range(angle_forces.getNumAngles()):\n",
    "    angle_parms = angle_forces.getAngleParameters(index=i)\n",
    "    k = angle_parms[4]/angle_parms[4].unit\n",
    "    t0 = angle_parms[3]/angle_parms[3].unit  \n",
    "#    if (type_map[angle_parms[0]],type_map[angle_parms[1]],type_map[angle_parms[2]],k,t0) not in angle_types:\n",
    "#        angle_types.append((type_map[angle_parms[0]],type_map[angle_parms[1]],type_map[angle_parms[2]],k,t0))\n",
    "    angle_dict[type_map[angle_parms[0]],type_map[angle_parms[1]],type_map[angle_parms[2]]] = {'k':k,'t0':t0}\n",
    "print(angle_dict)"
   ]
  },
  {
   "cell_type": "code",
   "execution_count": 11,
   "id": "83bacdda",
   "metadata": {},
   "outputs": [
    {
     "name": "stdout",
     "output_type": "stream",
     "text": [
      "{('C1', 'C1', 'C1', 'C1'): {'periodicity': [1, 2, 3, 4, 5, 6], 'k': [0.44826881252873496, 1.5596955914863755, 1.5069883612995336, 1.2375580868996021, 0.011805363241032322, 0.05734697267852756], 'phase': [0.0, 3.141592653589793, 0.0, 0.0, 0.0, 3.141592653589793]}, ('C1', 'C1', 'C1', 'H1'): {'periodicity': [1, 2, 3, 4, 5, 6], 'k': [1.6213986649548573, 1.2316847475240926, 1.5717130747069354, 0.8619186663237219, 2.2819463941717077, 0.5420344016347554], 'phase': [3.141592653589793, 3.141592653589793, 3.141592653589793, 0.0, 0.0, 3.141592653589793]}, ('H1', 'C1', 'C1', 'H1'): {'periodicity': [1, 2, 3, 4, 5, 6], 'k': [2.428503572418964, 2.3115466064157664, 0.22902600302569417, 0.10181759017327793, 0.4002771256331796, 0.21289999420742403], 'phase': [0.0, 3.141592653589793, 0.0, 0.0, 3.141592653589793, 3.141592653589793]}, ('C1', 'C1', 'H1', 'C1'): {'periodicity': [1, 2, 3, 4, 5, 6], 'k': [1.6213913293936055, 1.2316847475240926, 1.571720410268187, 0.8619235566978897, 2.2819268326750364, 0.5420344016347554], 'phase': [3.141592653589793, 3.141592653589793, 3.141592653589793, 0.0, 0.0, 3.141592653589793]}, ('H1', 'C1', 'C1', 'C1'): {'periodicity': [1, 2, 3, 4, 5, 6], 'k': [0.3353525181816696, 1.9277414835732278, 2.2047811801782324, 4.6485207133169295, 0.39866330215781065, 0.5055571007172491], 'phase': [3.141592653589793, 0.0, 3.141592653589793, 0.0, 3.141592653589793, 3.141592653589793]}}\n"
     ]
    }
   ],
   "source": [
    "dihedral_types = []\n",
    "dihedral_dict = {}\n",
    "\n",
    "for i in range(torsion_forces.getNumTorsions()):\n",
    "    if i%6==0:\n",
    "        periodicity=[]\n",
    "        phase = []\n",
    "        k = []\n",
    "    dihedral_parms = torsion_forces.getTorsionParameters(index=i)\n",
    "    periodicity.append(dihedral_parms[4])  \n",
    "    phase.append( dihedral_parms[5]/dihedral_parms[5].unit)\n",
    "    k.append(dihedral_parms[6]/dihedral_parms[6].unit)\n",
    "#    if (type_map[dihedral_parms[0]],type_map[dihedral_parms[1]],type_map[dihedral_parms[2]],type_map[dihedral_parms[3]],periodicity,k,phase) not in dihedral_types:\n",
    "#        dihedral_types.append((type_map[dihedral_parms[0]],type_map[dihedral_parms[1]],type_map[dihedral_parms[2]],\n",
    "#        type_map[dihedral_parms[3]],periodicity,k,phase))\n",
    "    dt = (type_map[dihedral_parms[0]],type_map[dihedral_parms[1]],type_map[dihedral_parms[2]],\n",
    "                  type_map[dihedral_parms[3]])\n",
    "   \n",
    "\n",
    "    if periodicity[-1]==6:\n",
    "        #print(dt,periodicity,phase)\n",
    "        dihedral_dict[dt] = {'periodicity':periodicity,'k':k,'phase':phase}\n",
    "print(dihedral_dict)"
   ]
  },
  {
   "cell_type": "code",
   "execution_count": 12,
   "id": "eed592f7",
   "metadata": {
    "scrolled": true
   },
   "outputs": [
    {
     "name": "stdout",
     "output_type": "stream",
     "text": [
      "{'C1': {'charge': -0.136667, 'sigma': 0.3399669508423535, 'epsilon': 0.359824}, 'H1': {'charge': 0.136667, 'sigma': 0.25996424595335105, 'epsilon': 0.06276}}\n"
     ]
    }
   ],
   "source": [
    "nonbonded_types = []\n",
    "nonbonded_dict = {}\n",
    "\n",
    "for i in range(pair_forces.getNumParticles()):\n",
    "    nonbonded_parms = pair_forces.getParticleParameters(index=i)\n",
    "    charge = nonbonded_parms[0]/nonbonded_parms[0].unit\n",
    "    sigma = nonbonded_parms[1]/nonbonded_parms[1].unit\n",
    "    epsilon = nonbonded_parms[2]/nonbonded_parms[2].unit\n",
    "    #atom_type = structure.adjusts.atom\n",
    "    if (charge,sigma,epsilon) not in nonbonded_types:\n",
    "        nonbonded_types.append((charge,sigma,epsilon))\n",
    "    nonbonded_dict[(type_map[i])]={'charge':charge,'sigma':sigma,'epsilon':epsilon}\n",
    "print(nonbonded_dict)"
   ]
  },
  {
   "cell_type": "code",
   "execution_count": 16,
   "id": "dda945e2",
   "metadata": {},
   "outputs": [
    {
     "name": "stderr",
     "output_type": "stream",
     "text": [
      "/home/madilyn/miniconda3/envs/espaloma/lib/python3.10/site-packages/mbuild/compound.py:400: UserWarning: Some particle of <C pos=([-0.1225  0.0663 -0.0129]), 3 bonds, id: 140582873023440> does not have a charge.They will not be accounted for during this calculation.\n",
      "  warn(\n",
      "/home/madilyn/miniconda3/envs/espaloma/lib/python3.10/site-packages/mbuild/compound.py:400: UserWarning: Some particle of <C pos=([-0.1195 -0.0727  0.0023]), 3 bonds, id: 140582873153104> does not have a charge.They will not be accounted for during this calculation.\n",
      "  warn(\n",
      "/home/madilyn/miniconda3/envs/espaloma/lib/python3.10/site-packages/mbuild/compound.py:400: UserWarning: Some particle of <C pos=([ 0.003  -0.1391  0.0151]), 3 bonds, id: 140590467114240> does not have a charge.They will not be accounted for during this calculation.\n",
      "  warn(\n",
      "/home/madilyn/miniconda3/envs/espaloma/lib/python3.10/site-packages/mbuild/compound.py:400: UserWarning: Some particle of <C pos=([ 0.1225 -0.0663  0.0129]), 3 bonds, id: 140582961623536> does not have a charge.They will not be accounted for during this calculation.\n",
      "  warn(\n",
      "/home/madilyn/miniconda3/envs/espaloma/lib/python3.10/site-packages/mbuild/compound.py:400: UserWarning: Some particle of <C pos=([ 0.1195  0.0727 -0.0023]), 3 bonds, id: 140582961626608> does not have a charge.They will not be accounted for during this calculation.\n",
      "  warn(\n",
      "/home/madilyn/miniconda3/envs/espaloma/lib/python3.10/site-packages/mbuild/compound.py:400: UserWarning: Some particle of <C pos=([-0.003   0.1391 -0.0151]), 3 bonds, id: 140582339241600> does not have a charge.They will not be accounted for during this calculation.\n",
      "  warn(\n",
      "/home/madilyn/miniconda3/envs/espaloma/lib/python3.10/site-packages/mbuild/compound.py:400: UserWarning: Some particle of <H pos=([-0.2173  0.1177 -0.0228]), 1 bonds, id: 140582339242176> does not have a charge.They will not be accounted for during this calculation.\n",
      "  warn(\n",
      "/home/madilyn/miniconda3/envs/espaloma/lib/python3.10/site-packages/mbuild/compound.py:400: UserWarning: Some particle of <H pos=([-0.2119 -0.129   0.004 ]), 1 bonds, id: 140582339242992> does not have a charge.They will not be accounted for during this calculation.\n",
      "  warn(\n",
      "/home/madilyn/miniconda3/envs/espaloma/lib/python3.10/site-packages/mbuild/compound.py:400: UserWarning: Some particle of <H pos=([ 0.0053 -0.2466  0.0268]), 1 bonds, id: 140582339243232> does not have a charge.They will not be accounted for during this calculation.\n",
      "  warn(\n",
      "/home/madilyn/miniconda3/envs/espaloma/lib/python3.10/site-packages/mbuild/compound.py:400: UserWarning: Some particle of <H pos=([ 0.2173 -0.1177  0.0228]), 1 bonds, id: 140582339241024> does not have a charge.They will not be accounted for during this calculation.\n",
      "  warn(\n",
      "/home/madilyn/miniconda3/envs/espaloma/lib/python3.10/site-packages/mbuild/compound.py:400: UserWarning: Some particle of <H pos=([ 0.2119  0.129  -0.004 ]), 1 bonds, id: 140582339241072> does not have a charge.They will not be accounted for during this calculation.\n",
      "  warn(\n",
      "/home/madilyn/miniconda3/envs/espaloma/lib/python3.10/site-packages/mbuild/compound.py:400: UserWarning: Some particle of <H pos=([-0.0053  0.2466 -0.0268]), 1 bonds, id: 140582339239104> does not have a charge.They will not be accounted for during this calculation.\n",
      "  warn(\n"
     ]
    }
   ],
   "source": [
    "# Save the forcefield XML file for future use, so that we don't have to repeat the espaloma process everytime\n",
    "mbuild_to_foyer_xml(\n",
    "    file_name=\"benzene_esp2.xml\",\n",
    "    compound=mb_benzene2,\n",
    "    bond_params=bond_dict,\n",
    "    angle_params=angle_dict,\n",
    "    dihedral_params=dihedral_dict,\n",
    "    dihedral_type=\"periodic\",\n",
    "    non_bonded_params=nonbonded_dict,\n",
    "    combining_rule=\"geometric\",\n",
    "    name=\"\",\n",
    "    version=\"\",\n",
    "    coulomb14scale=1.0,\n",
    "    lj14scale=1.0)\n",
    "\n",
    "# Save the mb.Compound with the new atom type names for future use.\n",
    "mb_benzene.save(\"benzene_typed.mol2\", overwrite=True)"
   ]
  },
  {
   "cell_type": "code",
   "execution_count": null,
   "id": "f6a7c1c8",
   "metadata": {},
   "outputs": [],
   "source": []
  },
  {
   "cell_type": "code",
   "execution_count": null,
   "id": "18493a49",
   "metadata": {},
   "outputs": [],
   "source": []
  },
  {
   "cell_type": "markdown",
   "id": "43a03bf9",
   "metadata": {},
   "source": [
    "## Workflow once we have created an XML file, and a typed mol2 file:\n",
    "\n",
    "Everything above this cell is something that we should only need to do once.\n",
    "Then, once we have an XML file, and a typed mol2 file (i.e. one with the particles renamed correctly)\n",
    "every time we want to run a new simulation, the process would look like the cells below:"
   ]
  },
  {
   "cell_type": "code",
   "execution_count": null,
   "id": "c566e937",
   "metadata": {},
   "outputs": [],
   "source": [
    "import mbuild as mb\n",
    "import foyer\n",
    "from mbuild.formats.hoomd_forcefield import create_hoomd_forcefield"
   ]
  },
  {
   "cell_type": "code",
   "execution_count": null,
   "id": "7ceb1a5f",
   "metadata": {},
   "outputs": [],
   "source": [
    "esp = foyer.Forcefield(forcefield_files=\"benzene_esp.xml\")"
   ]
  },
  {
   "cell_type": "code",
   "execution_count": null,
   "id": "adfa549d",
   "metadata": {},
   "outputs": [],
   "source": [
    "# We have to add the underscore to the names manually if we are using foyer XML files without SMARTS definitions\n",
    "benzene = mb.load(\"benzene_typed.mol2\")\n",
    "for p in benzene.particles():\n",
    "    p.name = f\"_{p.name}\""
   ]
  },
  {
   "cell_type": "code",
   "execution_count": null,
   "id": "e8226e83",
   "metadata": {},
   "outputs": [],
   "source": [
    "box = mb.fill_box(compound=benzene, n_compounds=5, box=[1,1,1])\n",
    "box_pmd = esp.apply(box)"
   ]
  },
  {
   "cell_type": "code",
   "execution_count": null,
   "id": "079c3d81",
   "metadata": {},
   "outputs": [],
   "source": [
    "snapshot, forcefield, refs = create_hoomd_forcefield(box_pmd, auto_scale=True, r_cut=2.5)"
   ]
  },
  {
   "cell_type": "code",
   "execution_count": null,
   "id": "5087683d",
   "metadata": {},
   "outputs": [],
   "source": [
    "#setting cpu and simulation \n",
    "cpu = hoomd.device.CPU()\n",
    "sim = hoomd.Simulation(device=cpu,seed=0)\n",
    "sim.create_state_from_snapshot(snapshot)"
   ]
  },
  {
   "cell_type": "code",
   "execution_count": null,
   "id": "0f20d047",
   "metadata": {},
   "outputs": [],
   "source": [
    "#setting the integrator\n",
    "kt = 4\n",
    "free_particle = hoomd.filter.Tags(tags=[0,1])  #letting hoomd know which particles to update the positions of\n",
    "integrator = hoomd.md.Integrator(dt=0.01)\n",
    "nvt = hoomd.md.methods.NVT(kT=kt,filter=free_particle, tau=0.1)\n",
    "integrator.forces = forcefield\n",
    "integrator.methods.append(nvt)\n",
    "sim.operations.integrator = integrator\n",
    "sim.state.thermalize_particle_momenta(filter=free_particle, kT=kt)\n",
    "# Set up GSD writer\n",
    "gsd_writer = hoomd.write.GSD(\n",
    "    trigger=hoomd.trigger.Periodic(int(2e2)),\n",
    "    filename=\"traj_benzene.gsd\",  #name the output file\n",
    "    mode=\"wb\"\n",
    ")\n",
    "sim.operations.writers.append(gsd_writer)"
   ]
  },
  {
   "cell_type": "code",
   "execution_count": null,
   "id": "83999296",
   "metadata": {},
   "outputs": [],
   "source": []
  }
 ],
 "metadata": {
  "kernelspec": {
   "display_name": "Python 3 (ipykernel)",
   "language": "python",
   "name": "python3"
  },
  "language_info": {
   "codemirror_mode": {
    "name": "ipython",
    "version": 3
   },
   "file_extension": ".py",
   "mimetype": "text/x-python",
   "name": "python",
   "nbconvert_exporter": "python",
   "pygments_lexer": "ipython3",
   "version": "3.10.8"
  }
 },
 "nbformat": 4,
 "nbformat_minor": 5
}
