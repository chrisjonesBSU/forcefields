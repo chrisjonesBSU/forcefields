{
 "cells": [
  {
   "cell_type": "code",
   "execution_count": 40,
   "id": "538feb4b",
   "metadata": {
    "scrolled": true
   },
   "outputs": [],
   "source": [
    "from writers import foyer_xml_writer\n",
    "from writers.foyer_xml_writer import parmed_to_foyer_xml, mbuild_to_foyer_xml\n",
    "\n",
    "\n",
    "import ele\n",
    "import espaloma as esp\n",
    "import forcefield_utilities as ffutils\n",
    "import foyer\n",
    "import gmso\n",
    "import mbuild as mb\n",
    "from mbuild.lib.recipes import Polymer\n",
    "from mbuild.formats.hoomd_forcefield import create_hoomd_forcefield\n",
    "import numpy as np\n",
    "from openff.toolkit.topology import Molecule\n",
    "from openff.toolkit.topology import Topology\n",
    "import torch\n",
    "from mbuild.formats.hoomd_forcefield import create_hoomd_forcefield\n",
    "import hoomd\n",
    "import gsd.hoomd\n",
    "import matplotlib.pyplot as plt\n",
    "\n",
    "import os\n",
    "import warnings\n",
    "warnings.filterwarnings(\"ignore\")\n",
    "\n",
    "if not os.path.exists(\"espaloma_model.pt\"):\n",
    "    os.system(\"wget http://data.wangyq.net/espaloma_model.pt\")"
   ]
  },
  {
   "cell_type": "code",
   "execution_count": 9,
   "id": "0e563eb8",
   "metadata": {},
   "outputs": [],
   "source": [
    "from rdkit import Chem"
   ]
  },
  {
   "cell_type": "code",
   "execution_count": 20,
   "id": "8368f19b",
   "metadata": {},
   "outputs": [
    {
     "data": {
      "text/plain": [
       "'[CH]1[CH]c2nsnc2C=N1'"
      ]
     },
     "execution_count": 20,
     "metadata": {},
     "output_type": "execute_result"
    }
   ],
   "source": [
    "Chem.MolToSmiles(Chem.MolFromSmiles('[CH]1C2=NSN=C2C=N[CH]1'))"
   ]
  },
  {
   "cell_type": "code",
   "execution_count": 13,
   "id": "2a130e25",
   "metadata": {
    "scrolled": true
   },
   "outputs": [
    {
     "data": {
      "application/3dmoljs_load.v0": "<div id=\"3dmolviewer_16742418026483278\"  style=\"position: relative; width: 640px; height: 480px\">\n        <p id=\"3dmolwarning_16742418026483278\" style=\"background-color:#ffcccc;color:black\">You appear to be running in JupyterLab (or JavaScript failed to load for some other reason).  You need to install the 3dmol extension: <br>\n        <tt>jupyter labextension install jupyterlab_3dmol</tt></p>\n        </div>\n<script>\n\nvar loadScriptAsync = function(uri){\n  return new Promise((resolve, reject) => {\n    //this is to ignore the existence of requirejs amd\n    var savedexports, savedmodule;\n    if (typeof exports !== 'undefined') savedexports = exports;\n    else exports = {}\n    if (typeof module !== 'undefined') savedmodule = module;\n    else module = {}\n\n    var tag = document.createElement('script');\n    tag.src = uri;\n    tag.async = true;\n    tag.onload = () => {\n        exports = savedexports;\n        module = savedmodule;\n        resolve();\n    };\n  var firstScriptTag = document.getElementsByTagName('script')[0];\n  firstScriptTag.parentNode.insertBefore(tag, firstScriptTag);\n});\n};\n\nif(typeof $3Dmolpromise === 'undefined') {\n$3Dmolpromise = null;\n  $3Dmolpromise = loadScriptAsync('https://cdn.jsdelivr.net/npm/3dmol@latest/build/3Dmol-min.min.js');\n}\n\nvar viewer_16742418026483278 = null;\nvar warn = document.getElementById(\"3dmolwarning_16742418026483278\");\nif(warn) {\n    warn.parentNode.removeChild(warn);\n}\n$3Dmolpromise.then(function() {\nviewer_16742418026483278 = $3Dmol.createViewer(document.getElementById(\"3dmolviewer_16742418026483278\"),{backgroundColor:\"white\"});\nviewer_16742418026483278.zoomTo();\n\tviewer_16742418026483278.addModel(\"@<TRIPOS>MOLECULE\\nRES\\n12 13 1 0 1\\nSMALL\\nNO_CHARGES\\n@<TRIPOS>CRYSIN\\n   10.2657     8.9401     7.1378    90.0000    90.0000    90.0000  1  1\\n@<TRIPOS>ATOM\\n       1 C            0.6875     1.3787     0.1543 C             1 RES     \\n       2 C           -0.4544     0.4851     0.6177 C             1 RES     \\n       3 N           -1.6623     1.2131     0.9255 N             1 RES     \\n       4 S           -2.9646     0.0028     0.8357 S             1 RES     \\n       5 N           -1.9628    -1.2060    -0.0035 N             1 RES     \\n       6 C           -0.8080    -0.4757    -0.4694 C             1 RES     \\n       7 C            0.3946    -1.3674    -0.7517 C             1 RES     \\n       8 N            1.5171    -0.5360    -1.2123 N             1 RES     \\n       9 C            1.8820     0.4825    -0.2110 C             1 RES     \\n      10 H            0.3832     1.9821    -0.7288 H             1 RES     \\n      11 H            0.6867    -1.9580     0.1454 H             1 RES     \\n      12 H            2.3010    -0.0013     0.6981 H             1 RES     \\n@<TRIPOS>BOND\\n       1        2        1 1\\n       2        9        1 1\\n       3       10        1 1\\n       4        3        2 1\\n       5        6        2 1\\n       6        4        3 1\\n       7        5        4 1\\n       8        6        5 1\\n       9        7        6 1\\n      10        8        7 1\\n      11       11        7 1\\n      12        9        8 1\\n      13       12        9 1\\n@<TRIPOS>SUBSTRUCTURE\\n       1 RES             1 RESIDUE    0 **** ROOT      0\\n\",\"mol2\");\n\tviewer_16742418026483278.setStyle({\"stick\": {\"radius\": 0.2, \"color\": \"grey\"}, \"sphere\": {\"scale\": 0.3, \"colorscheme\": {}}});\n\tviewer_16742418026483278.zoomTo();\nviewer_16742418026483278.render();\n});\n</script>",
      "text/html": [
       "<div id=\"3dmolviewer_16742418026483278\"  style=\"position: relative; width: 640px; height: 480px\">\n",
       "        <p id=\"3dmolwarning_16742418026483278\" style=\"background-color:#ffcccc;color:black\">You appear to be running in JupyterLab (or JavaScript failed to load for some other reason).  You need to install the 3dmol extension: <br>\n",
       "        <tt>jupyter labextension install jupyterlab_3dmol</tt></p>\n",
       "        </div>\n",
       "<script>\n",
       "\n",
       "var loadScriptAsync = function(uri){\n",
       "  return new Promise((resolve, reject) => {\n",
       "    //this is to ignore the existence of requirejs amd\n",
       "    var savedexports, savedmodule;\n",
       "    if (typeof exports !== 'undefined') savedexports = exports;\n",
       "    else exports = {}\n",
       "    if (typeof module !== 'undefined') savedmodule = module;\n",
       "    else module = {}\n",
       "\n",
       "    var tag = document.createElement('script');\n",
       "    tag.src = uri;\n",
       "    tag.async = true;\n",
       "    tag.onload = () => {\n",
       "        exports = savedexports;\n",
       "        module = savedmodule;\n",
       "        resolve();\n",
       "    };\n",
       "  var firstScriptTag = document.getElementsByTagName('script')[0];\n",
       "  firstScriptTag.parentNode.insertBefore(tag, firstScriptTag);\n",
       "});\n",
       "};\n",
       "\n",
       "if(typeof $3Dmolpromise === 'undefined') {\n",
       "$3Dmolpromise = null;\n",
       "  $3Dmolpromise = loadScriptAsync('https://cdn.jsdelivr.net/npm/3dmol@latest/build/3Dmol-min.min.js');\n",
       "}\n",
       "\n",
       "var viewer_16742418026483278 = null;\n",
       "var warn = document.getElementById(\"3dmolwarning_16742418026483278\");\n",
       "if(warn) {\n",
       "    warn.parentNode.removeChild(warn);\n",
       "}\n",
       "$3Dmolpromise.then(function() {\n",
       "viewer_16742418026483278 = $3Dmol.createViewer(document.getElementById(\"3dmolviewer_16742418026483278\"),{backgroundColor:\"white\"});\n",
       "viewer_16742418026483278.zoomTo();\n",
       "\tviewer_16742418026483278.addModel(\"@<TRIPOS>MOLECULE\\nRES\\n12 13 1 0 1\\nSMALL\\nNO_CHARGES\\n@<TRIPOS>CRYSIN\\n   10.2657     8.9401     7.1378    90.0000    90.0000    90.0000  1  1\\n@<TRIPOS>ATOM\\n       1 C            0.6875     1.3787     0.1543 C             1 RES     \\n       2 C           -0.4544     0.4851     0.6177 C             1 RES     \\n       3 N           -1.6623     1.2131     0.9255 N             1 RES     \\n       4 S           -2.9646     0.0028     0.8357 S             1 RES     \\n       5 N           -1.9628    -1.2060    -0.0035 N             1 RES     \\n       6 C           -0.8080    -0.4757    -0.4694 C             1 RES     \\n       7 C            0.3946    -1.3674    -0.7517 C             1 RES     \\n       8 N            1.5171    -0.5360    -1.2123 N             1 RES     \\n       9 C            1.8820     0.4825    -0.2110 C             1 RES     \\n      10 H            0.3832     1.9821    -0.7288 H             1 RES     \\n      11 H            0.6867    -1.9580     0.1454 H             1 RES     \\n      12 H            2.3010    -0.0013     0.6981 H             1 RES     \\n@<TRIPOS>BOND\\n       1        2        1 1\\n       2        9        1 1\\n       3       10        1 1\\n       4        3        2 1\\n       5        6        2 1\\n       6        4        3 1\\n       7        5        4 1\\n       8        6        5 1\\n       9        7        6 1\\n      10        8        7 1\\n      11       11        7 1\\n      12        9        8 1\\n      13       12        9 1\\n@<TRIPOS>SUBSTRUCTURE\\n       1 RES             1 RESIDUE    0 **** ROOT      0\\n\",\"mol2\");\n",
       "\tviewer_16742418026483278.setStyle({\"stick\": {\"radius\": 0.2, \"color\": \"grey\"}, \"sphere\": {\"scale\": 0.3, \"colorscheme\": {}}});\n",
       "\tviewer_16742418026483278.zoomTo();\n",
       "viewer_16742418026483278.render();\n",
       "});\n",
       "</script>"
      ]
     },
     "metadata": {},
     "output_type": "display_data"
    },
    {
     "data": {
      "text/plain": [
       "<py3Dmol.view at 0x19078b4c0>"
      ]
     },
     "execution_count": 13,
     "metadata": {},
     "output_type": "execute_result"
    }
   ],
   "source": [
    "mb.load(\"[CH]1C2=NSN=C2C=N[CH]1\",smiles=True).visualize()"
   ]
  },
  {
   "cell_type": "code",
   "execution_count": 57,
   "id": "c3eebc8a",
   "metadata": {
    "scrolled": false
   },
   "outputs": [
    {
     "ename": "UnassignedProperTorsionParameterException",
     "evalue": "ProperTorsionHandler was not able to find parameters for the following valence terms:\n\n- Topology indices (3, 4, 5, 6): names and elements ( S), ( N), ( C), ( C), \n- Topology indices (5, 6, 7, 8): names and elements ( C), ( C), ( N), ( C), \n- Topology indices (3, 2, 1, 5): names and elements ( S), ( N), ( C), ( C), \n- Topology indices (1, 5, 4, 3): names and elements ( C), ( C), ( N), ( S), \n- Topology indices (0, 8, 7, 6): names and elements ( C), ( C), ( N), ( C), \n- Topology indices (6, 7, 8, 11): names and elements ( C), ( N), ( C), ( H), \n- Topology indices (8, 7, 6, 10): names and elements ( C), ( N), ( C), ( H), \n- Topology indices (0, 1, 2, 3): names and elements ( C), ( C), ( N), ( S), \n",
     "output_type": "error",
     "traceback": [
      "\u001b[0;31m---------------------------------------------------------------------------\u001b[0m",
      "\u001b[0;31mUnassignedProperTorsionParameterException\u001b[0m Traceback (most recent call last)",
      "Cell \u001b[0;32mIn[57], line 18\u001b[0m\n\u001b[1;32m     16\u001b[0m espaloma_model \u001b[38;5;241m=\u001b[39m torch\u001b[38;5;241m.\u001b[39mload(\u001b[38;5;124m\"\u001b[39m\u001b[38;5;124mespaloma_model.pt\u001b[39m\u001b[38;5;124m\"\u001b[39m)\n\u001b[1;32m     17\u001b[0m espaloma_model(molecule_graph\u001b[38;5;241m.\u001b[39mheterograph)\n\u001b[0;32m---> 18\u001b[0m openmm_system \u001b[38;5;241m=\u001b[39m \u001b[43mesp\u001b[49m\u001b[38;5;241;43m.\u001b[39;49m\u001b[43mgraphs\u001b[49m\u001b[38;5;241;43m.\u001b[39;49m\u001b[43mdeploy\u001b[49m\u001b[38;5;241;43m.\u001b[39;49m\u001b[43mopenmm_system_from_graph\u001b[49m\u001b[43m(\u001b[49m\u001b[43mmolecule_graph\u001b[49m\u001b[43m)\u001b[49m\n\u001b[1;32m     20\u001b[0m \u001b[38;5;66;03m# Store the results for each in something more accessible\u001b[39;00m\n\u001b[1;32m     21\u001b[0m pair_forces \u001b[38;5;241m=\u001b[39m openmm_system\u001b[38;5;241m.\u001b[39mgetForces()[\u001b[38;5;241m1\u001b[39m]\n",
      "File \u001b[0;32m~/miniconda3/envs/espaloma/lib/python3.9/site-packages/espaloma-0.2.4+6.ga178702-py3.9.egg/espaloma/graphs/deploy.py:101\u001b[0m, in \u001b[0;36mopenmm_system_from_graph\u001b[0;34m(g, forcefield, suffix, charge_method, create_system_kwargs)\u001b[0m\n\u001b[1;32m     99\u001b[0m \u001b[38;5;28;01melif\u001b[39;00m charge_method \u001b[38;5;241m==\u001b[39m \u001b[38;5;124m\"\u001b[39m\u001b[38;5;124mam1-bcc\u001b[39m\u001b[38;5;124m\"\u001b[39m:\n\u001b[1;32m    100\u001b[0m     g\u001b[38;5;241m.\u001b[39mmol\u001b[38;5;241m.\u001b[39massign_partial_charges(\u001b[38;5;124m\"\u001b[39m\u001b[38;5;124mam1bcc\u001b[39m\u001b[38;5;124m\"\u001b[39m)\n\u001b[0;32m--> 101\u001b[0m     sys \u001b[38;5;241m=\u001b[39m \u001b[43mff\u001b[49m\u001b[38;5;241;43m.\u001b[39;49m\u001b[43mcreate_openmm_system\u001b[49m\u001b[43m(\u001b[49m\n\u001b[1;32m    102\u001b[0m \u001b[43m        \u001b[49m\u001b[43mg\u001b[49m\u001b[38;5;241;43m.\u001b[39;49m\u001b[43mmol\u001b[49m\u001b[38;5;241;43m.\u001b[39;49m\u001b[43mto_topology\u001b[49m\u001b[43m(\u001b[49m\u001b[43m)\u001b[49m\u001b[43m,\u001b[49m\u001b[43m \u001b[49m\u001b[43mcharge_from_molecules\u001b[49m\u001b[38;5;241;43m=\u001b[39;49m\u001b[43m[\u001b[49m\u001b[43mg\u001b[49m\u001b[38;5;241;43m.\u001b[39;49m\u001b[43mmol\u001b[49m\u001b[43m]\u001b[49m\n\u001b[1;32m    103\u001b[0m \u001b[43m    \u001b[49m\u001b[43m)\u001b[49m\n\u001b[1;32m    105\u001b[0m \u001b[38;5;28;01melif\u001b[39;00m charge_method \u001b[38;5;241m==\u001b[39m \u001b[38;5;124m\"\u001b[39m\u001b[38;5;124mfrom-molecule\u001b[39m\u001b[38;5;124m\"\u001b[39m:\n\u001b[1;32m    106\u001b[0m     sys \u001b[38;5;241m=\u001b[39m ff\u001b[38;5;241m.\u001b[39mcreate_openmm_system(\n\u001b[1;32m    107\u001b[0m         g\u001b[38;5;241m.\u001b[39mmol\u001b[38;5;241m.\u001b[39mto_topology(), charge_from_molecules\u001b[38;5;241m=\u001b[39m[g\u001b[38;5;241m.\u001b[39mmol]\n\u001b[1;32m    108\u001b[0m     )\n",
      "File \u001b[0;32m~/miniconda3/envs/espaloma/lib/python3.9/site-packages/openff/toolkit/typing/engines/smirnoff/forcefield.py:1304\u001b[0m, in \u001b[0;36mForceField.create_openmm_system\u001b[0;34m(self, topology, **kwargs)\u001b[0m\n\u001b[1;32m   1302\u001b[0m \u001b[38;5;66;03m# Add forces and parameters to the System\u001b[39;00m\n\u001b[1;32m   1303\u001b[0m \u001b[38;5;28;01mfor\u001b[39;00m parameter_handler \u001b[38;5;129;01min\u001b[39;00m parameter_handlers:\n\u001b[0;32m-> 1304\u001b[0m     \u001b[43mparameter_handler\u001b[49m\u001b[38;5;241;43m.\u001b[39;49m\u001b[43mcreate_force\u001b[49m\u001b[43m(\u001b[49m\u001b[43msystem\u001b[49m\u001b[43m,\u001b[49m\u001b[43m \u001b[49m\u001b[43mtopology\u001b[49m\u001b[43m,\u001b[49m\u001b[43m \u001b[49m\u001b[38;5;241;43m*\u001b[39;49m\u001b[38;5;241;43m*\u001b[39;49m\u001b[43mkwargs\u001b[49m\u001b[43m)\u001b[49m\n\u001b[1;32m   1306\u001b[0m \u001b[38;5;66;03m# Let force Handlers do postprocessing\u001b[39;00m\n\u001b[1;32m   1307\u001b[0m \u001b[38;5;28;01mfor\u001b[39;00m parameter_handler \u001b[38;5;129;01min\u001b[39;00m parameter_handlers:\n",
      "File \u001b[0;32m~/miniconda3/envs/espaloma/lib/python3.9/site-packages/openff/toolkit/typing/engines/smirnoff/parameters.py:3204\u001b[0m, in \u001b[0;36mProperTorsionHandler.create_force\u001b[0;34m(self, system, topology, **kwargs)\u001b[0m\n\u001b[1;32m   3193\u001b[0m logger\u001b[38;5;241m.\u001b[39minfo(\u001b[38;5;124m\"\u001b[39m\u001b[38;5;132;01m{}\u001b[39;00m\u001b[38;5;124m torsions added\u001b[39m\u001b[38;5;124m\"\u001b[39m\u001b[38;5;241m.\u001b[39mformat(\u001b[38;5;28mlen\u001b[39m(torsion_matches)))\n\u001b[1;32m   3195\u001b[0m \u001b[38;5;66;03m# Check that no topological torsions are missing force parameters\u001b[39;00m\n\u001b[1;32m   3196\u001b[0m \n\u001b[1;32m   3197\u001b[0m \u001b[38;5;66;03m# I can see the appeal of these kind of methods as an 'absolute' check\u001b[39;00m\n\u001b[0;32m   (...)\u001b[0m\n\u001b[1;32m   3202\u001b[0m \u001b[38;5;66;03m# onto the system. It seems like John's proposed System object would do\u001b[39;00m\n\u001b[1;32m   3203\u001b[0m \u001b[38;5;66;03m# exactly this.\u001b[39;00m\n\u001b[0;32m-> 3204\u001b[0m \u001b[38;5;28;43mself\u001b[39;49m\u001b[38;5;241;43m.\u001b[39;49m\u001b[43m_check_all_valence_terms_assigned\u001b[49m\u001b[43m(\u001b[49m\n\u001b[1;32m   3205\u001b[0m \u001b[43m    \u001b[49m\u001b[43massigned_terms\u001b[49m\u001b[38;5;241;43m=\u001b[39;49m\u001b[43mtorsion_matches\u001b[49m\u001b[43m,\u001b[49m\n\u001b[1;32m   3206\u001b[0m \u001b[43m    \u001b[49m\u001b[43mvalence_terms\u001b[49m\u001b[38;5;241;43m=\u001b[39;49m\u001b[38;5;28;43mlist\u001b[39;49m\u001b[43m(\u001b[49m\u001b[43mtopology\u001b[49m\u001b[38;5;241;43m.\u001b[39;49m\u001b[43mpropers\u001b[49m\u001b[43m)\u001b[49m\u001b[43m,\u001b[49m\n\u001b[1;32m   3207\u001b[0m \u001b[43m    \u001b[49m\u001b[43mexception_cls\u001b[49m\u001b[38;5;241;43m=\u001b[39;49m\u001b[43mUnassignedProperTorsionParameterException\u001b[49m\u001b[43m,\u001b[49m\n\u001b[1;32m   3208\u001b[0m \u001b[43m\u001b[49m\u001b[43m)\u001b[49m\n",
      "File \u001b[0;32m~/miniconda3/envs/espaloma/lib/python3.9/site-packages/openff/toolkit/typing/engines/smirnoff/parameters.py:2493\u001b[0m, in \u001b[0;36mParameterHandler._check_all_valence_terms_assigned\u001b[0;34m(cls, assigned_terms, valence_terms, exception_cls)\u001b[0m\n\u001b[1;32m   2491\u001b[0m exception\u001b[38;5;241m.\u001b[39munassigned_topology_atom_tuples \u001b[38;5;241m=\u001b[39m unassigned_topology_atom_tuples\n\u001b[1;32m   2492\u001b[0m exception\u001b[38;5;241m.\u001b[39mhandler_class \u001b[38;5;241m=\u001b[39m \u001b[38;5;28mcls\u001b[39m\n\u001b[0;32m-> 2493\u001b[0m \u001b[38;5;28;01mraise\u001b[39;00m exception\n",
      "\u001b[0;31mUnassignedProperTorsionParameterException\u001b[0m: ProperTorsionHandler was not able to find parameters for the following valence terms:\n\n- Topology indices (3, 4, 5, 6): names and elements ( S), ( N), ( C), ( C), \n- Topology indices (5, 6, 7, 8): names and elements ( C), ( C), ( N), ( C), \n- Topology indices (3, 2, 1, 5): names and elements ( S), ( N), ( C), ( C), \n- Topology indices (1, 5, 4, 3): names and elements ( C), ( C), ( N), ( S), \n- Topology indices (0, 8, 7, 6): names and elements ( C), ( C), ( N), ( C), \n- Topology indices (6, 7, 8, 11): names and elements ( C), ( N), ( C), ( H), \n- Topology indices (8, 7, 6, 10): names and elements ( C), ( N), ( C), ( H), \n- Topology indices (0, 1, 2, 3): names and elements ( C), ( C), ( N), ( S), \n"
     ]
    }
   ],
   "source": [
    "#cant get the sdf file or mol file to work with N-S-N bonds, it works from smiles string though...\n",
    "#either need to get smiles string directly from mol2 file or figure out how to get the \n",
    "#smiles string from the smi file into a usable format. \n",
    "#it worked to run openbabel and get the smile string from the smi file and then just \n",
    "#delete the brackets around the N's.\n",
    "\n",
    "molecule = Molecule.from_file(\"pt.sdf\",file_format = \"sdf\")\n",
    "\n",
    "#molecule = Molecule.from_smiles(\"[CH]1C2=NSN=C2C=N[CH]1\")\n",
    "\n",
    "#[CH]1[C]2[N]S[N][C]2[CH][N][CH]1\n",
    "\n",
    "molecule_graph = esp.Graph(molecule)\n",
    "#either generate smiles string from the built fragments or get our fragments into a Molecule supported file format\n",
    "\n",
    "espaloma_model = torch.load(\"espaloma_model.pt\")\n",
    "espaloma_model(molecule_graph.heterograph)\n",
    "openmm_system = esp.graphs.deploy.openmm_system_from_graph(molecule_graph)\n",
    "\n",
    "# Store the results for each in something more accessible\n",
    "pair_forces = openmm_system.getForces()[1]\n",
    "angle_forces = openmm_system.getForces()[3]\n",
    "bond_forces = openmm_system.getForces()[2]\n",
    "torsion_forces = openmm_system.getForces()[0]"
   ]
  },
  {
   "cell_type": "code",
   "execution_count": 58,
   "id": "805d2789",
   "metadata": {
    "scrolled": true
   },
   "outputs": [
    {
     "data": {
      "image/svg+xml": [
       "<svg xmlns=\"http://www.w3.org/2000/svg\" xmlns:rdkit=\"http://www.rdkit.org/xml\" xmlns:xlink=\"http://www.w3.org/1999/xlink\" version=\"1.1\" baseProfile=\"full\" xml:space=\"preserve\" width=\"500px\" height=\"300px\" viewBox=\"0 0 500 300\">\n",
       "<!-- END OF HEADER -->\n",
       "<rect style=\"opacity:1.0;fill:#FFFFFF;stroke:none\" width=\"500.0\" height=\"300.0\" x=\"0.0\" y=\"0.0\"> </rect>\n",
       "<path class=\"bond-0 atom-1 atom-0\" d=\"M 283.6,180.8 L 230.2,211.6\" style=\"fill:none;fill-rule:evenodd;stroke:#000000;stroke-width:2.0px;stroke-linecap:butt;stroke-linejoin:miter;stroke-opacity:1\"/>\n",
       "<path class=\"bond-1 atom-2 atom-1\" d=\"M 330.2,195.9 L 306.9,188.3\" style=\"fill:none;fill-rule:evenodd;stroke:#0000FF;stroke-width:2.0px;stroke-linecap:butt;stroke-linejoin:miter;stroke-opacity:1\"/>\n",
       "<path class=\"bond-1 atom-2 atom-1\" d=\"M 306.9,188.3 L 283.6,180.8\" style=\"fill:none;fill-rule:evenodd;stroke:#000000;stroke-width:2.0px;stroke-linecap:butt;stroke-linejoin:miter;stroke-opacity:1\"/>\n",
       "<path class=\"bond-2 atom-3 atom-2\" d=\"M 368.0,164.3 L 360.6,174.5\" style=\"fill:none;fill-rule:evenodd;stroke:#CCCC00;stroke-width:2.0px;stroke-linecap:butt;stroke-linejoin:miter;stroke-opacity:1\"/>\n",
       "<path class=\"bond-2 atom-3 atom-2\" d=\"M 360.6,174.5 L 353.2,184.7\" style=\"fill:none;fill-rule:evenodd;stroke:#0000FF;stroke-width:2.0px;stroke-linecap:butt;stroke-linejoin:miter;stroke-opacity:1\"/>\n",
       "<path class=\"bond-3 atom-4 atom-3\" d=\"M 353.1,115.2 L 360.5,125.4\" style=\"fill:none;fill-rule:evenodd;stroke:#0000FF;stroke-width:2.0px;stroke-linecap:butt;stroke-linejoin:miter;stroke-opacity:1\"/>\n",
       "<path class=\"bond-3 atom-4 atom-3\" d=\"M 360.5,125.4 L 368.0,135.6\" style=\"fill:none;fill-rule:evenodd;stroke:#CCCC00;stroke-width:2.0px;stroke-linecap:butt;stroke-linejoin:miter;stroke-opacity:1\"/>\n",
       "<path class=\"bond-4 atom-5 atom-1\" d=\"M 283.5,119.1 L 283.6,180.8\" style=\"fill:none;fill-rule:evenodd;stroke:#000000;stroke-width:2.0px;stroke-linecap:butt;stroke-linejoin:miter;stroke-opacity:1\"/>\n",
       "<path class=\"bond-5 atom-5 atom-4\" d=\"M 283.5,119.1 L 306.8,111.5\" style=\"fill:none;fill-rule:evenodd;stroke:#000000;stroke-width:2.0px;stroke-linecap:butt;stroke-linejoin:miter;stroke-opacity:1\"/>\n",
       "<path class=\"bond-5 atom-5 atom-4\" d=\"M 306.8,111.5 L 330.2,103.9\" style=\"fill:none;fill-rule:evenodd;stroke:#0000FF;stroke-width:2.0px;stroke-linecap:butt;stroke-linejoin:miter;stroke-opacity:1\"/>\n",
       "<path class=\"bond-6 atom-6 atom-5\" d=\"M 230.1,88.4 L 283.5,119.1\" style=\"fill:none;fill-rule:evenodd;stroke:#000000;stroke-width:2.0px;stroke-linecap:butt;stroke-linejoin:miter;stroke-opacity:1\"/>\n",
       "<path class=\"bond-7 atom-7 atom-6\" d=\"M 188.7,112.3 L 209.4,100.3\" style=\"fill:none;fill-rule:evenodd;stroke:#0000FF;stroke-width:2.0px;stroke-linecap:butt;stroke-linejoin:miter;stroke-opacity:1\"/>\n",
       "<path class=\"bond-7 atom-7 atom-6\" d=\"M 209.4,100.3 L 230.1,88.4\" style=\"fill:none;fill-rule:evenodd;stroke:#000000;stroke-width:2.0px;stroke-linecap:butt;stroke-linejoin:miter;stroke-opacity:1\"/>\n",
       "<path class=\"bond-8 atom-8 atom-0\" d=\"M 176.8,180.9 L 230.2,211.6\" style=\"fill:none;fill-rule:evenodd;stroke:#000000;stroke-width:2.0px;stroke-linecap:butt;stroke-linejoin:miter;stroke-opacity:1\"/>\n",
       "<path class=\"bond-9 atom-8 atom-7\" d=\"M 176.8,180.9 L 176.8,157.6\" style=\"fill:none;fill-rule:evenodd;stroke:#000000;stroke-width:2.0px;stroke-linecap:butt;stroke-linejoin:miter;stroke-opacity:1\"/>\n",
       "<path class=\"bond-9 atom-8 atom-7\" d=\"M 176.8,157.6 L 176.8,134.4\" style=\"fill:none;fill-rule:evenodd;stroke:#0000FF;stroke-width:2.0px;stroke-linecap:butt;stroke-linejoin:miter;stroke-opacity:1\"/>\n",
       "<path class=\"bond-10 atom-9 atom-0\" d=\"M 230.3,258.1 L 230.2,211.6\" style=\"fill:none;fill-rule:evenodd;stroke:#000000;stroke-width:2.0px;stroke-linecap:butt;stroke-linejoin:miter;stroke-opacity:1\"/>\n",
       "<path class=\"bond-11 atom-10 atom-6\" d=\"M 230.1,41.9 L 230.1,88.4\" style=\"fill:none;fill-rule:evenodd;stroke:#000000;stroke-width:2.0px;stroke-linecap:butt;stroke-linejoin:miter;stroke-opacity:1\"/>\n",
       "<path class=\"bond-12 atom-11 atom-8\" d=\"M 135.7,204.6 L 176.8,180.9\" style=\"fill:none;fill-rule:evenodd;stroke:#000000;stroke-width:2.0px;stroke-linecap:butt;stroke-linejoin:miter;stroke-opacity:1\"/>\n",
       "<path class=\"atom-2\" d=\"M 336.4 186.7 L 345.0 200.6 Q 345.8 201.9, 347.2 204.4 Q 348.6 206.9, 348.6 207.0 L 348.6 186.7 L 352.1 186.7 L 352.1 212.9 L 348.5 212.9 L 339.3 197.7 Q 338.3 195.9, 337.1 193.9 Q 336.0 191.9, 335.7 191.2 L 335.7 212.9 L 332.3 212.9 L 332.3 186.7 L 336.4 186.7 \" fill=\"#0000FF\"/>\n",
       "<path class=\"atom-3\" d=\"M 371.0 158.9 Q 371.3 159.0, 372.5 159.5 Q 373.7 160.0, 375.1 160.4 Q 376.4 160.7, 377.8 160.7 Q 380.2 160.7, 381.7 159.5 Q 383.1 158.2, 383.1 156.1 Q 383.1 154.7, 382.4 153.8 Q 381.7 152.9, 380.6 152.4 Q 379.5 152.0, 377.6 151.4 Q 375.3 150.7, 373.9 150.0 Q 372.5 149.4, 371.5 148.0 Q 370.5 146.6, 370.5 144.2 Q 370.5 140.9, 372.8 138.9 Q 375.0 136.8, 379.5 136.8 Q 382.5 136.8, 385.9 138.3 L 385.1 141.1 Q 381.9 139.8, 379.6 139.8 Q 377.0 139.8, 375.6 140.9 Q 374.2 141.9, 374.2 143.8 Q 374.2 145.2, 374.9 146.0 Q 375.7 146.9, 376.7 147.3 Q 377.8 147.8, 379.6 148.4 Q 381.9 149.1, 383.3 149.9 Q 384.7 150.6, 385.7 152.1 Q 386.8 153.6, 386.8 156.1 Q 386.8 159.8, 384.3 161.7 Q 381.9 163.6, 377.9 163.6 Q 375.6 163.6, 373.8 163.1 Q 372.1 162.6, 370.0 161.8 L 371.0 158.9 \" fill=\"#CCCC00\"/>\n",
       "<path class=\"atom-4\" d=\"M 336.3 87.0 L 344.9 100.8 Q 345.8 102.2, 347.1 104.7 Q 348.5 107.2, 348.6 107.3 L 348.6 87.0 L 352.1 87.0 L 352.1 113.1 L 348.5 113.1 L 339.3 98.0 Q 338.2 96.2, 337.0 94.2 Q 335.9 92.1, 335.6 91.5 L 335.6 113.1 L 332.2 113.1 L 332.2 87.0 L 336.3 87.0 \" fill=\"#0000FF\"/>\n",
       "<path class=\"atom-7\" d=\"M 171.0 106.1 L 179.6 120.0 Q 180.4 121.4, 181.8 123.9 Q 183.1 126.3, 183.2 126.5 L 183.2 106.1 L 186.7 106.1 L 186.7 132.3 L 183.1 132.3 L 173.9 117.2 Q 172.8 115.4, 171.7 113.4 Q 170.6 111.3, 170.2 110.7 L 170.2 132.3 L 166.8 132.3 L 166.8 106.1 L 171.0 106.1 \" fill=\"#0000FF\"/>\n",
       "<path class=\"atom-9\" d=\"M 220.0 260.2 L 223.6 260.2 L 223.6 271.3 L 237.0 271.3 L 237.0 260.2 L 240.5 260.2 L 240.5 286.4 L 237.0 286.4 L 237.0 274.3 L 223.6 274.3 L 223.6 286.4 L 220.0 286.4 L 220.0 260.2 \" fill=\"#000000\"/>\n",
       "<path class=\"atom-10\" d=\"M 219.8 13.6 L 223.4 13.6 L 223.4 24.8 L 236.8 24.8 L 236.8 13.6 L 240.3 13.6 L 240.3 39.8 L 236.8 39.8 L 236.8 27.7 L 223.4 27.7 L 223.4 39.8 L 219.8 39.8 L 219.8 13.6 \" fill=\"#000000\"/>\n",
       "<path class=\"atom-11\" d=\"M 113.2 198.6 L 116.8 198.6 L 116.8 209.8 L 130.2 209.8 L 130.2 198.6 L 133.7 198.6 L 133.7 224.8 L 130.2 224.8 L 130.2 212.7 L 116.8 212.7 L 116.8 224.8 L 113.2 224.8 L 113.2 198.6 \" fill=\"#000000\"/>\n",
       "<path class=\"atom-0\" d=\"M 232.1,203.3 L 232.1,203.5 L 232.0,203.6 L 232.0,203.8 L 232.0,203.9 L 231.9,204.1 L 231.8,204.2 L 231.7,204.4 L 231.6,204.5 L 231.5,204.6 L 231.4,204.7 L 231.3,204.8 L 231.2,204.9 L 231.0,205.0 L 230.9,205.0 L 230.7,205.1 L 230.6,205.1 L 230.4,205.2 L 230.3,205.2 L 230.1,205.2 L 229.9,205.1 L 229.8,205.1 L 229.6,205.1 L 229.5,205.0 L 229.3,204.9 L 229.2,204.9 L 229.1,204.8 L 229.0,204.7 L 228.8,204.6 L 228.7,204.4 L 228.6,204.3 L 228.6,204.2 L 228.5,204.0 L 228.4,203.9 L 228.4,203.7 L 228.4,203.6 L 228.4,203.4 L 228.4,203.2 L 228.4,203.1 L 228.4,202.9 L 228.4,202.8 L 228.5,202.6 L 228.6,202.5 L 228.6,202.3 L 228.7,202.2 L 228.8,202.1 L 229.0,202.0 L 229.1,201.9 L 229.2,201.8 L 229.3,201.7 L 229.5,201.6 L 229.6,201.6 L 229.8,201.5 L 229.9,201.5 L 230.1,201.5 L 230.3,201.5 L 230.4,201.5 L 230.6,201.5 L 230.7,201.5 L 230.9,201.6 L 231.0,201.7 L 231.2,201.7 L 231.3,201.8 L 231.4,201.9 L 231.5,202.0 L 231.6,202.1 L 231.7,202.3 L 231.8,202.4 L 231.9,202.5 L 232.0,202.7 L 232.0,202.8 L 232.0,203.0 L 232.1,203.2 L 232.1,203.3 L 230.2,203.3 Z\" style=\"fill:#000000;fill-rule:evenodd;fill-opacity:1;stroke:#000000;stroke-width:0.0px;stroke-linecap:butt;stroke-linejoin:miter;stroke-opacity:1;\"/>\n",
       "<path class=\"atom-1\" d=\"M 274.3,180.8 L 274.3,180.9 L 274.3,181.1 L 274.3,181.3 L 274.2,181.4 L 274.2,181.6 L 274.1,181.7 L 274.0,181.8 L 273.9,182.0 L 273.8,182.1 L 273.7,182.2 L 273.6,182.3 L 273.4,182.4 L 273.3,182.4 L 273.1,182.5 L 273.0,182.6 L 272.8,182.6 L 272.7,182.6 L 272.5,182.6 L 272.4,182.6 L 272.2,182.6 L 272.0,182.6 L 271.9,182.5 L 271.7,182.5 L 271.6,182.4 L 271.5,182.3 L 271.3,182.2 L 271.2,182.1 L 271.1,182.0 L 271.0,181.9 L 270.9,181.8 L 270.8,181.6 L 270.8,181.5 L 270.7,181.3 L 270.7,181.2 L 270.6,181.0 L 270.6,180.9 L 270.6,180.7 L 270.6,180.5 L 270.7,180.4 L 270.7,180.2 L 270.8,180.1 L 270.8,179.9 L 270.9,179.8 L 271.0,179.7 L 271.1,179.5 L 271.2,179.4 L 271.3,179.3 L 271.5,179.2 L 271.6,179.2 L 271.7,179.1 L 271.9,179.0 L 272.0,179.0 L 272.2,179.0 L 272.4,178.9 L 272.5,178.9 L 272.7,178.9 L 272.8,179.0 L 273.0,179.0 L 273.1,179.1 L 273.3,179.1 L 273.4,179.2 L 273.6,179.3 L 273.7,179.4 L 273.8,179.5 L 273.9,179.6 L 274.0,179.7 L 274.1,179.9 L 274.2,180.0 L 274.2,180.2 L 274.3,180.3 L 274.3,180.5 L 274.3,180.6 L 274.3,180.8 L 272.5,180.8 Z\" style=\"fill:#000000;fill-rule:evenodd;fill-opacity:1;stroke:#000000;stroke-width:0.0px;stroke-linecap:butt;stroke-linejoin:miter;stroke-opacity:1;\"/>\n",
       "<path class=\"atom-2\" d=\"M 359.5,199.8 L 359.5,199.9 L 359.5,200.1 L 359.5,200.2 L 359.4,200.4 L 359.4,200.5 L 359.3,200.7 L 359.2,200.8 L 359.1,201.0 L 359.0,201.1 L 358.9,201.2 L 358.8,201.3 L 358.6,201.4 L 358.5,201.4 L 358.3,201.5 L 358.2,201.6 L 358.0,201.6 L 357.9,201.6 L 357.7,201.6 L 357.6,201.6 L 357.4,201.6 L 357.2,201.6 L 357.1,201.5 L 356.9,201.5 L 356.8,201.4 L 356.7,201.3 L 356.5,201.2 L 356.4,201.1 L 356.3,201.0 L 356.2,200.9 L 356.1,200.8 L 356.0,200.6 L 356.0,200.5 L 355.9,200.3 L 355.9,200.2 L 355.8,200.0 L 355.8,199.9 L 355.8,199.7 L 355.8,199.5 L 355.9,199.4 L 355.9,199.2 L 356.0,199.1 L 356.0,198.9 L 356.1,198.8 L 356.2,198.7 L 356.3,198.5 L 356.4,198.4 L 356.5,198.3 L 356.7,198.2 L 356.8,198.2 L 356.9,198.1 L 357.1,198.0 L 357.2,198.0 L 357.4,197.9 L 357.6,197.9 L 357.7,197.9 L 357.9,197.9 L 358.0,198.0 L 358.2,198.0 L 358.3,198.1 L 358.5,198.1 L 358.6,198.2 L 358.8,198.3 L 358.9,198.4 L 359.0,198.5 L 359.1,198.6 L 359.2,198.7 L 359.3,198.9 L 359.4,199.0 L 359.4,199.2 L 359.5,199.3 L 359.5,199.5 L 359.5,199.6 L 359.5,199.8 L 357.7,199.8 Z\" style=\"fill:#000000;fill-rule:evenodd;fill-opacity:1;stroke:#000000;stroke-width:0.0px;stroke-linecap:butt;stroke-linejoin:miter;stroke-opacity:1;\"/>\n",
       "<path class=\"atom-4\" d=\"M 359.4,100.1 L 359.4,100.2 L 359.4,100.4 L 359.4,100.5 L 359.3,100.7 L 359.3,100.8 L 359.2,101.0 L 359.1,101.1 L 359.0,101.2 L 358.9,101.3 L 358.8,101.5 L 358.7,101.6 L 358.5,101.6 L 358.4,101.7 L 358.3,101.8 L 358.1,101.8 L 358.0,101.9 L 357.8,101.9 L 357.6,101.9 L 357.5,101.9 L 357.3,101.9 L 357.2,101.8 L 357.0,101.8 L 356.9,101.7 L 356.7,101.7 L 356.6,101.6 L 356.5,101.5 L 356.3,101.4 L 356.2,101.3 L 356.1,101.2 L 356.0,101.0 L 356.0,100.9 L 355.9,100.7 L 355.8,100.6 L 355.8,100.4 L 355.8,100.3 L 355.8,100.1 L 355.8,100.0 L 355.8,99.8 L 355.8,99.7 L 355.8,99.5 L 355.9,99.4 L 356.0,99.2 L 356.0,99.1 L 356.1,98.9 L 356.2,98.8 L 356.3,98.7 L 356.5,98.6 L 356.6,98.5 L 356.7,98.4 L 356.9,98.4 L 357.0,98.3 L 357.2,98.3 L 357.3,98.2 L 357.5,98.2 L 357.6,98.2 L 357.8,98.2 L 358.0,98.2 L 358.1,98.3 L 358.3,98.3 L 358.4,98.4 L 358.5,98.5 L 358.7,98.5 L 358.8,98.6 L 358.9,98.8 L 359.0,98.9 L 359.1,99.0 L 359.2,99.1 L 359.3,99.3 L 359.3,99.4 L 359.4,99.6 L 359.4,99.7 L 359.4,99.9 L 359.4,100.1 L 357.6,100.1 Z\" style=\"fill:#000000;fill-rule:evenodd;fill-opacity:1;stroke:#000000;stroke-width:0.0px;stroke-linecap:butt;stroke-linejoin:miter;stroke-opacity:1;\"/>\n",
       "<path class=\"atom-5\" d=\"M 274.3,119.1 L 274.3,119.3 L 274.2,119.5 L 274.2,119.6 L 274.2,119.8 L 274.1,119.9 L 274.0,120.1 L 273.9,120.2 L 273.9,120.3 L 273.7,120.4 L 273.6,120.5 L 273.5,120.6 L 273.4,120.7 L 273.2,120.8 L 273.1,120.9 L 272.9,120.9 L 272.8,121.0 L 272.6,121.0 L 272.5,121.0 L 272.3,121.0 L 272.1,121.0 L 272.0,120.9 L 271.8,120.9 L 271.7,120.8 L 271.5,120.8 L 271.4,120.7 L 271.3,120.6 L 271.2,120.5 L 271.0,120.4 L 270.9,120.3 L 270.9,120.1 L 270.8,120.0 L 270.7,119.8 L 270.7,119.7 L 270.6,119.5 L 270.6,119.4 L 270.6,119.2 L 270.6,119.1 L 270.6,118.9 L 270.6,118.8 L 270.7,118.6 L 270.7,118.4 L 270.8,118.3 L 270.9,118.2 L 270.9,118.0 L 271.0,117.9 L 271.2,117.8 L 271.3,117.7 L 271.4,117.6 L 271.5,117.5 L 271.7,117.4 L 271.8,117.4 L 272.0,117.3 L 272.1,117.3 L 272.3,117.3 L 272.5,117.3 L 272.6,117.3 L 272.8,117.3 L 272.9,117.4 L 273.1,117.4 L 273.2,117.5 L 273.4,117.6 L 273.5,117.6 L 273.6,117.7 L 273.7,117.9 L 273.9,118.0 L 273.9,118.1 L 274.0,118.2 L 274.1,118.4 L 274.2,118.5 L 274.2,118.7 L 274.2,118.8 L 274.3,119.0 L 274.3,119.1 L 272.4,119.1 Z\" style=\"fill:#000000;fill-rule:evenodd;fill-opacity:1;stroke:#000000;stroke-width:0.0px;stroke-linecap:butt;stroke-linejoin:miter;stroke-opacity:1;\"/>\n",
       "<path class=\"atom-6\" d=\"M 232.0,96.7 L 232.0,96.8 L 231.9,97.0 L 231.9,97.2 L 231.9,97.3 L 231.8,97.5 L 231.7,97.6 L 231.6,97.7 L 231.5,97.9 L 231.4,98.0 L 231.3,98.1 L 231.2,98.2 L 231.1,98.3 L 230.9,98.3 L 230.8,98.4 L 230.6,98.5 L 230.5,98.5 L 230.3,98.5 L 230.2,98.5 L 230.0,98.5 L 229.8,98.5 L 229.7,98.5 L 229.5,98.4 L 229.4,98.4 L 229.2,98.3 L 229.1,98.2 L 229.0,98.1 L 228.9,98.0 L 228.7,97.9 L 228.6,97.8 L 228.5,97.7 L 228.5,97.5 L 228.4,97.4 L 228.4,97.2 L 228.3,97.1 L 228.3,96.9 L 228.3,96.8 L 228.3,96.6 L 228.3,96.4 L 228.3,96.3 L 228.4,96.1 L 228.4,96.0 L 228.5,95.8 L 228.5,95.7 L 228.6,95.6 L 228.7,95.4 L 228.9,95.3 L 229.0,95.2 L 229.1,95.1 L 229.2,95.1 L 229.4,95.0 L 229.5,94.9 L 229.7,94.9 L 229.8,94.9 L 230.0,94.8 L 230.2,94.8 L 230.3,94.8 L 230.5,94.9 L 230.6,94.9 L 230.8,95.0 L 230.9,95.0 L 231.1,95.1 L 231.2,95.2 L 231.3,95.3 L 231.4,95.4 L 231.5,95.5 L 231.6,95.6 L 231.7,95.8 L 231.8,95.9 L 231.9,96.1 L 231.9,96.2 L 231.9,96.4 L 232.0,96.5 L 232.0,96.7 L 230.1,96.7 Z\" style=\"fill:#000000;fill-rule:evenodd;fill-opacity:1;stroke:#000000;stroke-width:0.0px;stroke-linecap:butt;stroke-linejoin:miter;stroke-opacity:1;\"/>\n",
       "<path class=\"atom-7\" d=\"M 163.1,119.2 L 163.1,119.4 L 163.1,119.5 L 163.1,119.7 L 163.0,119.9 L 163.0,120.0 L 162.9,120.1 L 162.8,120.3 L 162.7,120.4 L 162.6,120.5 L 162.5,120.6 L 162.4,120.7 L 162.2,120.8 L 162.1,120.9 L 161.9,121.0 L 161.8,121.0 L 161.6,121.0 L 161.5,121.1 L 161.3,121.1 L 161.2,121.1 L 161.0,121.1 L 160.9,121.0 L 160.7,121.0 L 160.6,120.9 L 160.4,120.9 L 160.3,120.8 L 160.1,120.7 L 160.0,120.6 L 159.9,120.5 L 159.8,120.3 L 159.7,120.2 L 159.6,120.1 L 159.6,119.9 L 159.5,119.8 L 159.5,119.6 L 159.5,119.5 L 159.4,119.3 L 159.4,119.2 L 159.5,119.0 L 159.5,118.8 L 159.5,118.7 L 159.6,118.5 L 159.6,118.4 L 159.7,118.2 L 159.8,118.1 L 159.9,118.0 L 160.0,117.9 L 160.1,117.8 L 160.3,117.7 L 160.4,117.6 L 160.6,117.5 L 160.7,117.5 L 160.9,117.4 L 161.0,117.4 L 161.2,117.4 L 161.3,117.4 L 161.5,117.4 L 161.6,117.4 L 161.8,117.5 L 161.9,117.5 L 162.1,117.6 L 162.2,117.6 L 162.4,117.7 L 162.5,117.8 L 162.6,117.9 L 162.7,118.1 L 162.8,118.2 L 162.9,118.3 L 163.0,118.5 L 163.0,118.6 L 163.1,118.8 L 163.1,118.9 L 163.1,119.1 L 163.1,119.2 L 161.3,119.2 Z\" style=\"fill:#000000;fill-rule:evenodd;fill-opacity:1;stroke:#000000;stroke-width:0.0px;stroke-linecap:butt;stroke-linejoin:miter;stroke-opacity:1;\"/>\n",
       "<path class=\"atom-8\" d=\"M 178.7,189.2 L 178.7,189.3 L 178.6,189.5 L 178.6,189.7 L 178.6,189.8 L 178.5,190.0 L 178.4,190.1 L 178.3,190.2 L 178.2,190.4 L 178.1,190.5 L 178.0,190.6 L 177.9,190.7 L 177.8,190.8 L 177.6,190.9 L 177.5,190.9 L 177.3,191.0 L 177.2,191.0 L 177.0,191.0 L 176.9,191.0 L 176.7,191.0 L 176.5,191.0 L 176.4,191.0 L 176.2,190.9 L 176.1,190.9 L 175.9,190.8 L 175.8,190.7 L 175.7,190.6 L 175.5,190.5 L 175.4,190.4 L 175.3,190.3 L 175.2,190.2 L 175.2,190.0 L 175.1,189.9 L 175.0,189.7 L 175.0,189.6 L 175.0,189.4 L 175.0,189.3 L 175.0,189.1 L 175.0,189.0 L 175.0,188.8 L 175.0,188.6 L 175.1,188.5 L 175.2,188.3 L 175.2,188.2 L 175.3,188.1 L 175.4,188.0 L 175.5,187.8 L 175.7,187.7 L 175.8,187.6 L 175.9,187.6 L 176.1,187.5 L 176.2,187.4 L 176.4,187.4 L 176.5,187.4 L 176.7,187.3 L 176.9,187.3 L 177.0,187.3 L 177.2,187.4 L 177.3,187.4 L 177.5,187.5 L 177.6,187.5 L 177.8,187.6 L 177.9,187.7 L 178.0,187.8 L 178.1,187.9 L 178.2,188.0 L 178.3,188.1 L 178.4,188.3 L 178.5,188.4 L 178.6,188.6 L 178.6,188.7 L 178.6,188.9 L 178.7,189.0 L 178.7,189.2 L 176.8,189.2 Z\" style=\"fill:#000000;fill-rule:evenodd;fill-opacity:1;stroke:#000000;stroke-width:0.0px;stroke-linecap:butt;stroke-linejoin:miter;stroke-opacity:1;\"/>\n",
       "</svg>"
      ],
      "text/plain": [
       "<IPython.core.display.SVG object>"
      ]
     },
     "execution_count": 58,
     "metadata": {},
     "output_type": "execute_result"
    }
   ],
   "source": [
    "molecule.visualize()"
   ]
  },
  {
   "cell_type": "code",
   "execution_count": null,
   "id": "17156117",
   "metadata": {},
   "outputs": [],
   "source": [
    "#start problem with \n",
    "#create class for molecule walker function that keeps track of all the variables that we need to know for \n",
    "#each atom position\n",
    "#start at random position and evaluate if the octet is satified, if so, step to next atom. if not add bond and \n",
    "#step to next, evaluate that octet and if it is broken step back and undo the bond created. create new bond \n",
    "#between another neighboring atom, "
   ]
  },
  {
   "cell_type": "code",
   "execution_count": 55,
   "id": "255e9f64",
   "metadata": {},
   "outputs": [],
   "source": [
    "import parmed as pmd\n",
    "mol= mb.load(\"[CH]1[CH]c2nsnc2C=N1\",smiles=True)\n",
    "top = mol.to_gmso()\n",
    "molecule2 = Molecule.from_smiles(\"[CH]1[CH]c2nsnc2C=N1\")"
   ]
  },
  {
   "cell_type": "code",
   "execution_count": null,
   "id": "ec6cfe57",
   "metadata": {},
   "outputs": [],
   "source": [
    "# get a parmed structure from openmm \n",
    "import parmed as pmd\n",
    "topology = molecule.to_topology()\n",
    "openmm_topology = topology.to_openmm()\n",
    "\n",
    "structure = pmd.openmm.load_topology(topology=openmm_topology, system=openmm_system)\n",
    "structure.bonds.sort(key=lambda x: x.atom1.idx)"
   ]
  },
  {
   "cell_type": "code",
   "execution_count": null,
   "id": "1b98eb25",
   "metadata": {},
   "outputs": [],
   "source": [
    "# step 1: how to get bond parameters\n",
    "\n",
    "bond_parameters = {}\n",
    "\n",
    "for bond in structure.bonds:\n",
    "    bond_parameters[(bond.atom1.name, bond.atom2.name)] = {\"k\":[bond.type.k] , \"l0\":[bond.type.req]}\n",
    "    \n",
    "# step 2: get angle parameters\n",
    "\n",
    "angle_parameters = {}\n",
    "\n",
    "for angle in structure.angles:\n",
    "    angle_parameters[(angle.atom1.name, angle.atom2.name,angle.atom3.name)] = {\"k\":[angle.type.k], \n",
    "                                                                               \"t0\":[angle.type.theteq]}\n",
    "    \n",
    "# step 3: dihedral parameters\n",
    "\n",
    "dihedral_parameters = {}\n",
    "\n",
    "for dihedral in structure.dihedrals:\n",
    "    dihedral_parameters[(dihedral.atom1.name, dihedral.atom2.name,dihedral.atom3.name,\n",
    "                         dihedral.atom4.name)] = {\"periodicity\":[dihedral.type.per],\n",
    "                                                  \"k\":[dihedral.type.phi_k],\"phase\":[dihedral.type.phase]}\n",
    "    \n",
    "# step 4: non-bonding parameters\n",
    "\n",
    "nonbonded_parameters = {}\n",
    "\n",
    "for nonbonded in structure.adjusts:\n",
    "    nonbonded_parameters[(nonbonded.atom1.name,nonbonded.atom2.name)] = {\"sigma\":[nonbonded.type.rmin],\n",
    "                                                    \"epsilon\":[nonbonded.type.epsilon],\n",
    "                                                    \"charge\":[nonbonded.type.chgscale]}"
   ]
  },
  {
   "cell_type": "code",
   "execution_count": null,
   "id": "31a33eae",
   "metadata": {},
   "outputs": [],
   "source": [
    "particle_types = []\n",
    "particle_type_dict = dict()\n",
    "\n",
    "for i in range(pair_forces.getNumParticles()):\n",
    "    pair_parms = pair_forces.getParticleParameters(index=i)\n",
    "    charge = pair_parms[0]\n",
    "    sigma = pair_parms[1]\n",
    "    epsilon = pair_parms[2]\n",
    "    if (charge, sigma, epsilon) not in particle_types: #this is adding the charge,sigma, and epsilon to the particle_types, but only once.\n",
    "        particle_types.append((charge, sigma, epsilon))\n",
    "        #print((charge, sigma, epsilon) )\n",
    "    particle_type_dict[i] = particle_types.index((charge, sigma, epsilon)) #adding only the index of the pair_parms, this gives particle types.\n",
    "print(particle_type_dict)\n",
    "\n",
    "#particle_types gives the sigma, charge, and epsilon associated with each unique particle, \n",
    "#particle_type_dict only gives the index associated with each unique particle type"
   ]
  },
  {
   "cell_type": "code",
   "execution_count": null,
   "id": "4de400b7",
   "metadata": {},
   "outputs": [],
   "source": [
    "#graph check\n",
    "#want to check if the opemm and parmed graphs are the same so we can use types from parmed \n",
    "import networkx  as nx\n",
    "Gopenmm = nx.Graph()\n",
    "Gparmed = nx.Graph()\n",
    "#openmm:\n",
    "for i in range(bond_forces.getNumBonds()):\n",
    "    Gopenmm.add_edge(bond_forces.getBondParameters(index=i)[0],bond_forces.getBondParameters(index=i)[1])\n",
    "#parmed\n",
    "for b in structure.bonds:\n",
    "    Gparmed.add_edge(b.atom1.idx,b.atom2.idx)\n",
    "type_map = {}\n",
    "#nx.rooted_tree_isomorphism\n",
    "#in here we still need to check that one known index on one corresponds to the same index on the other....\n",
    "tree_openmm = nx.bfs_tree(Gopenmm,0)\n",
    "tree_parmed = nx.bfs_tree(Gparmed,0)\n",
    "if nx.is_isomorphic(Gopenmm,Gparmed):\n",
    "#if nx.isomorphism.tree_isomorphism(tree_openmm,tree_parmed):  <- want this work\n",
    "    for b in structure.bonds:\n",
    "        type_map[b.atom1.idx] = b.atom1.atom_type.__str__()\n",
    "        type_map[b.atom2.idx] = b.atom2.atom_type.__str__()\n",
    "print(type_map)"
   ]
  },
  {
   "cell_type": "code",
   "execution_count": null,
   "id": "c07909e7",
   "metadata": {},
   "outputs": [],
   "source": [
    "# Rename the particle types so that they match the xml file\n",
    "# This is needed when we aren't using SMARTS matching with Foyer.\n",
    "\n",
    "monomer = mb.load(\"C5.mol2\")\n",
    "\n",
    "for index in type_map:\n",
    "    monomer[index].name = type_map[index]"
   ]
  },
  {
   "cell_type": "code",
   "execution_count": null,
   "id": "d7bce47f",
   "metadata": {},
   "outputs": [],
   "source": [
    "bond_types = []\n",
    "bond_dict = dict() #creating an empty dictionary to put our parameters in \n",
    "\n",
    "for i in range(bond_forces.getNumBonds()):\n",
    "    bond_parms = bond_forces.getBondParameters(index=i)\n",
    "    #print(bond_parms)\n",
    "    #atoms = {(bond.atom1.name,bond.atom2.name):[]} #gives you the atom type name and index\n",
    "    l0 = bond_parms[2]/bond_parms[2].unit\n",
    "    k = bond_parms[3]/bond_parms[3].unit\n",
    "    #if (type_map[bond_parms[0]],type_map[bond_parms[1]],k,l0) not in bond_dict:\n",
    "    #    bond_types.append((type_map[bond_parms[0]],type_map[bond_parms[1]],k,l0))\n",
    "    bond_dict[type_map[bond_parms[0]],type_map[bond_parms[1]]] = {'k':k,'l0':l0}\n",
    "print(bond_dict)"
   ]
  },
  {
   "cell_type": "code",
   "execution_count": null,
   "id": "569a6335",
   "metadata": {
    "scrolled": true
   },
   "outputs": [],
   "source": [
    "angle_types = []\n",
    "angle_dict = dict() #creating an empty dictionary to put our parameters in \n",
    "\n",
    "for i in range(angle_forces.getNumAngles()):\n",
    "    angle_parms = angle_forces.getAngleParameters(index=i)\n",
    "    k = angle_parms[4]/angle_parms[4].unit\n",
    "    t0 = angle_parms[3]/angle_parms[3].unit  \n",
    "#    if (type_map[angle_parms[0]],type_map[angle_parms[1]],type_map[angle_parms[2]],k,t0) not in angle_types:\n",
    "#        angle_types.append((type_map[angle_parms[0]],type_map[angle_parms[1]],type_map[angle_parms[2]],k,t0))\n",
    "    angle_dict[type_map[angle_parms[0]],type_map[angle_parms[1]],type_map[angle_parms[2]]] = {'k':k,'t0':t0}\n",
    "print(angle_dict)"
   ]
  },
  {
   "cell_type": "code",
   "execution_count": null,
   "id": "83bacdda",
   "metadata": {},
   "outputs": [],
   "source": [
    "dihedral_types = []\n",
    "dihedral_dict = {}\n",
    "\n",
    "for i in range(torsion_forces.getNumTorsions()):\n",
    "    if i%6==0:\n",
    "        periodicity=[]\n",
    "        phase = []\n",
    "        k = []\n",
    "    dihedral_parms = torsion_forces.getTorsionParameters(index=i)\n",
    "    periodicity.append(dihedral_parms[4])  \n",
    "    phase.append( dihedral_parms[5]/dihedral_parms[5].unit)\n",
    "    k.append(dihedral_parms[6]/dihedral_parms[6].unit)\n",
    "#    if (type_map[dihedral_parms[0]],type_map[dihedral_parms[1]],type_map[dihedral_parms[2]],type_map[dihedral_parms[3]],periodicity,k,phase) not in dihedral_types:\n",
    "#        dihedral_types.append((type_map[dihedral_parms[0]],type_map[dihedral_parms[1]],type_map[dihedral_parms[2]],\n",
    "#        type_map[dihedral_parms[3]],periodicity,k,phase))\n",
    "    dt = (type_map[dihedral_parms[0]],type_map[dihedral_parms[1]],type_map[dihedral_parms[2]],\n",
    "                  type_map[dihedral_parms[3]])\n",
    "   \n",
    "\n",
    "    if periodicity[-1]==6:\n",
    "        #print(dt,periodicity,phase)\n",
    "        dihedral_dict[dt] = {'periodicity':periodicity,'k':k,'phase':phase}\n",
    "print(dihedral_dict)"
   ]
  },
  {
   "cell_type": "code",
   "execution_count": null,
   "id": "eed592f7",
   "metadata": {
    "scrolled": true
   },
   "outputs": [],
   "source": [
    "nonbonded_types = []\n",
    "nonbonded_dict = {}\n",
    "\n",
    "for i in range(pair_forces.getNumParticles()):\n",
    "    nonbonded_parms = pair_forces.getParticleParameters(index=i)\n",
    "    charge = nonbonded_parms[0]/nonbonded_parms[0].unit\n",
    "    sigma = nonbonded_parms[1]/nonbonded_parms[1].unit\n",
    "    epsilon = nonbonded_parms[2]/nonbonded_parms[2].unit\n",
    "    #atom_type = structure.adjusts.atom\n",
    "    if (charge,sigma,epsilon) not in nonbonded_types:\n",
    "        nonbonded_types.append((charge,sigma,epsilon))\n",
    "    nonbonded_dict[(type_map[i])]={'charge':charge,'sigma':sigma,'epsilon':epsilon}\n",
    "print(nonbonded_dict)"
   ]
  },
  {
   "cell_type": "code",
   "execution_count": null,
   "id": "dda945e2",
   "metadata": {},
   "outputs": [],
   "source": [
    "# Save the forcefield XML file for future use, so that we don't have to repeat the espaloma process everytime\n",
    "mbuild_to_foyer_xml(\n",
    "    file_name=\"monomer.xml\",\n",
    "    compound=monomer,\n",
    "    bond_params=bond_dict,\n",
    "    angle_params=angle_dict,\n",
    "    dihedral_params=dihedral_dict,\n",
    "    dihedral_type=\"periodic\",\n",
    "    non_bonded_params=nonbonded_dict,\n",
    "    combining_rule=\"geometric\",\n",
    "    name=\"\",\n",
    "    version=\"\",\n",
    "    coulomb14scale=1.0,\n",
    "    lj14scale=1.0)\n",
    "\n",
    "# Save the mb.Compound with the new atom type names for future use.\n",
    "monomer.save(\"mono_typed.mol2\", overwrite=True)"
   ]
  },
  {
   "cell_type": "code",
   "execution_count": null,
   "id": "f6a7c1c8",
   "metadata": {},
   "outputs": [],
   "source": []
  },
  {
   "cell_type": "code",
   "execution_count": null,
   "id": "18493a49",
   "metadata": {},
   "outputs": [],
   "source": []
  },
  {
   "cell_type": "markdown",
   "id": "43a03bf9",
   "metadata": {},
   "source": [
    "## Workflow once we have created an XML file, and a typed mol2 file:\n",
    "\n",
    "Everything above this cell is something that we should only need to do once.\n",
    "Then, once we have an XML file, and a typed mol2 file (i.e. one with the particles renamed correctly)\n",
    "every time we want to run a new simulation, the process would look like the cells below:"
   ]
  },
  {
   "cell_type": "code",
   "execution_count": null,
   "id": "c566e937",
   "metadata": {},
   "outputs": [],
   "source": [
    "import mbuild as mb\n",
    "import foyer\n",
    "import hoomd\n",
    "from mbuild.formats.hoomd_forcefield import create_hoomd_forcefield"
   ]
  },
  {
   "cell_type": "code",
   "execution_count": null,
   "id": "7ceb1a5f",
   "metadata": {},
   "outputs": [],
   "source": [
    "esp_ff = foyer.Forcefield(forcefield_files=\"monomer.xml\")"
   ]
  },
  {
   "cell_type": "code",
   "execution_count": null,
   "id": "adfa549d",
   "metadata": {},
   "outputs": [],
   "source": [
    "# We have to add the underscore to the names manually if we are using foyer XML files without SMARTS definitions\n",
    "mono = mb.load(\"mono_typed.mol2\")\n",
    "for p in mono.particles():\n",
    "    p.name = f\"_{p.name}\""
   ]
  },
  {
   "cell_type": "code",
   "execution_count": null,
   "id": "e8226e83",
   "metadata": {},
   "outputs": [],
   "source": [
    "box = mb.fill_box(compound=mono, n_compounds=5, box=[1,1,1])\n",
    "box_pmd = esp_ff.apply(box)"
   ]
  },
  {
   "cell_type": "code",
   "execution_count": null,
   "id": "079c3d81",
   "metadata": {},
   "outputs": [],
   "source": [
    "snapshot, forcefield, refs = create_hoomd_forcefield(box_pmd, auto_scale=True, r_cut=2.5)"
   ]
  },
  {
   "cell_type": "code",
   "execution_count": null,
   "id": "5087683d",
   "metadata": {},
   "outputs": [],
   "source": [
    "#setting cpu and simulation \n",
    "cpu = hoomd.device.CPU()\n",
    "sim = hoomd.Simulation(device=cpu,seed=0)\n",
    "sim.create_state_from_snapshot(snapshot)"
   ]
  },
  {
   "cell_type": "code",
   "execution_count": null,
   "id": "0f20d047",
   "metadata": {},
   "outputs": [],
   "source": [
    "#setting the integrator\n",
    "kt = 4\n",
    "free_particle = hoomd.filter.Tags(tags=[0,1])  #letting hoomd know which particles to update the positions of\n",
    "integrator = hoomd.md.Integrator(dt=0.01)\n",
    "nvt = hoomd.md.methods.NVT(kT=kt,filter=all, tau=0.1)\n",
    "integrator.forces = forcefield\n",
    "integrator.methods.append(nvt)\n",
    "sim.operations.integrator = integrator\n",
    "sim.state.thermalize_particle_momenta(filter=free_particle, kT=kt)\n",
    "# Set up GSD writer\n",
    "gsd_writer = hoomd.write.GSD(\n",
    "    trigger=hoomd.trigger.Periodic(int(2e2)),\n",
    "    filename=\"traj_mono.gsd\",  #name the output file\n",
    "    mode=\"wb\"\n",
    ")\n",
    "sim.operations.writers.append(gsd_writer)"
   ]
  },
  {
   "cell_type": "code",
   "execution_count": null,
   "id": "83999296",
   "metadata": {},
   "outputs": [],
   "source": []
  }
 ],
 "metadata": {
  "kernelspec": {
   "display_name": "Python 3 (ipykernel)",
   "language": "python",
   "name": "python3"
  },
  "language_info": {
   "codemirror_mode": {
    "name": "ipython",
    "version": 3
   },
   "file_extension": ".py",
   "mimetype": "text/x-python",
   "name": "python",
   "nbconvert_exporter": "python",
   "pygments_lexer": "ipython3",
   "version": "3.9.15"
  }
 },
 "nbformat": 4,
 "nbformat_minor": 5
}
