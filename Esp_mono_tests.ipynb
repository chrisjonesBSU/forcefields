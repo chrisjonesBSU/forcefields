{
 "cells": [
  {
   "cell_type": "code",
   "execution_count": 1,
   "id": "c8bee6c1",
   "metadata": {},
   "outputs": [
    {
     "name": "stderr",
     "output_type": "stream",
     "text": [
      "Warning: importing 'simtk.openmm' is deprecated.  Import 'openmm' instead.\n",
      "/Users/madilyn/miniconda3/envs/espaloma/lib/python3.9/site-packages/qcelemental/models/results.py:788: DeprecationWarning: ResultProtocols has been renamed to AtomicResultProtocols and will be removed as soon as v0.13.0\n",
      "  warn(\n",
      "/Users/madilyn/miniconda3/envs/espaloma/lib/python3.9/site-packages/qcelemental/models/results.py:788: DeprecationWarning: ResultProtocols has been renamed to AtomicResultProtocols and will be removed as soon as v0.13.0\n",
      "  warn(\n",
      "LICENSE: Could not open license file \"oe_license.txt\" in local directory\n",
      "LICENSE: N.B. OE_LICENSE environment variable is not set\n",
      "LICENSE: N.B. OE_DIR environment variable is not set\n",
      "LICENSE: No product keys!\n",
      "LICENSE: No product keys!\n",
      "LICENSE: No product keys!\n",
      "Warning: Unable to load toolkit 'OpenEye Toolkit'. The Open Force Field Toolkit does not require the OpenEye Toolkits, and can use RDKit/AmberTools instead. However, if you have a valid license for the OpenEye Toolkits, consider installing them for faster performance and additional file format support: https://docs.eyesopen.com/toolkits/python/quickstart-python/linuxosx.html OpenEye offers free Toolkit licenses for academics: https://www.eyesopen.com/academic-licensing\n",
      "LICENSE: No product keys!\n"
     ]
    }
   ],
   "source": [
    "from writers import foyer_xml_writer\n",
    "from writers.foyer_xml_writer import parmed_to_foyer_xml, mbuild_to_foyer_xml\n",
    "\n",
    "\n",
    "import ele\n",
    "import espaloma as esp\n",
    "import forcefield_utilities as ffutils\n",
    "import foyer\n",
    "import gmso\n",
    "import mbuild as mb\n",
    "from mbuild.lib.recipes import Polymer\n",
    "from mbuild.formats.hoomd_forcefield import create_hoomd_forcefield\n",
    "import numpy as np\n",
    "from openff.toolkit.topology import Molecule\n",
    "import torch\n",
    "from mbuild.formats.hoomd_forcefield import create_hoomd_forcefield\n",
    "import hoomd\n",
    "import gsd.hoomd\n",
    "import matplotlib.pyplot as plt\n",
    "\n",
    "import os\n",
    "import warnings\n",
    "warnings.filterwarnings(\"ignore\")\n",
    "\n",
    "if not os.path.exists(\"espaloma_model.pt\"):\n",
    "    os.system(\"wget http://data.wangyq.net/espaloma_model.pt\")"
   ]
  },
  {
   "cell_type": "code",
   "execution_count": 11,
   "id": "9abb88f8",
   "metadata": {},
   "outputs": [
    {
     "data": {
      "application/3dmoljs_load.v0": "<div id=\"3dmolviewer_1674079672154953\"  style=\"position: relative; width: 640px; height: 480px\">\n        <p id=\"3dmolwarning_1674079672154953\" style=\"background-color:#ffcccc;color:black\">You appear to be running in JupyterLab (or JavaScript failed to load for some other reason).  You need to install the 3dmol extension: <br>\n        <tt>jupyter labextension install jupyterlab_3dmol</tt></p>\n        </div>\n<script>\n\nvar loadScriptAsync = function(uri){\n  return new Promise((resolve, reject) => {\n    //this is to ignore the existence of requirejs amd\n    var savedexports, savedmodule;\n    if (typeof exports !== 'undefined') savedexports = exports;\n    else exports = {}\n    if (typeof module !== 'undefined') savedmodule = module;\n    else module = {}\n\n    var tag = document.createElement('script');\n    tag.src = uri;\n    tag.async = true;\n    tag.onload = () => {\n        exports = savedexports;\n        module = savedmodule;\n        resolve();\n    };\n  var firstScriptTag = document.getElementsByTagName('script')[0];\n  firstScriptTag.parentNode.insertBefore(tag, firstScriptTag);\n});\n};\n\nif(typeof $3Dmolpromise === 'undefined') {\n$3Dmolpromise = null;\n  $3Dmolpromise = loadScriptAsync('https://cdn.jsdelivr.net/npm/3dmol@latest/build/3Dmol-min.min.js');\n}\n\nvar viewer_1674079672154953 = null;\nvar warn = document.getElementById(\"3dmolwarning_1674079672154953\");\nif(warn) {\n    warn.parentNode.removeChild(warn);\n}\n$3Dmolpromise.then(function() {\nviewer_1674079672154953 = $3Dmol.createViewer(document.getElementById(\"3dmolviewer_1674079672154953\"),{backgroundColor:\"white\"});\nviewer_1674079672154953.zoomTo();\n\tviewer_1674079672154953.addModel(\"@<TRIPOS>MOLECULE\\nRES\\n125 129 1 0 1\\nSMALL\\nNO_CHARGES\\n@<TRIPOS>CRYSIN\\n   22.0873    22.1978    14.8245    90.0000    90.0000    90.0000  1  1\\n@<TRIPOS>ATOM\\n       1 C            1.3500    -2.9332     0.1840 C             1 RES     \\n       2 C            2.8448    -2.7895    -0.1899 C             1 RES     \\n       3 C            3.4586    -4.1677    -0.2502 C             1 RES     \\n       4 S            3.6176    -4.6624    -2.0031 S             1 RES     \\n       5 C            3.3428    -2.9648    -2.6025 C             1 RES     \\n       6 C            3.2169    -1.9978    -1.4339 C             1 RES     \\n       7 C            2.5717    -5.0508     0.6313 C             1 RES     \\n       8 C            1.3964    -4.1974     1.0750 C             1 RES     \\n       9 C            0.1354    -5.0375     1.1626 C             1 RES     \\n      10 C            0.5044    -6.5002     1.0040 C             1 RES     \\n      11 S            1.9423    -6.5998    -0.0984 S             1 RES     \\n      12 C           -0.6711    -7.3660     0.5254 C             1 RES     \\n      13 C           -1.2256    -6.9234    -0.8133 C             1 RES     \\n      14 N           -2.4491    -7.2218    -1.1549 N             1 RES     \\n      15 C           -3.3653    -7.8495    -0.2418 C             1 RES     \\n      16 C           -3.0360    -7.9669     1.0439 C             1 RES     \\n      17 C           -1.7865    -7.3939     1.5874 C             1 RES     \\n      18 N           -1.4232    -8.1930     2.7571 N             1 RES     \\n      19 S           -2.9486    -8.6992     3.5342 S             1 RES     \\n      20 N           -3.8015    -8.6667     1.9935 N             1 RES     \\n      21 C            0.9048    -1.6832     1.0064 C             1 RES     \\n      22 C            1.4735    -1.5443     2.4363 C             1 RES     \\n      23 C            2.9884    -1.2913     2.4996 C             1 RES     \\n      24 C            3.4173    -0.7857     3.8915 C             1 RES     \\n      25 C            3.2225     0.7346     4.0479 C             1 RES     \\n      26 C            4.4375     1.5327     3.5239 C             1 RES     \\n      27 C            4.0282     2.8467     2.8380 C             1 RES     \\n      28 C            3.5087     2.6654     1.3951 C             1 RES     \\n      29 C            4.5447     2.1422     0.3764 C             1 RES     \\n      30 C            5.7645     3.0681     0.2219 C             1 RES     \\n      31 C            6.7878     2.5433    -0.7986 C             1 RES     \\n      32 C            6.2978     2.4990    -2.2584 C             1 RES     \\n      33 C            5.8186     3.8461    -2.8293 C             1 RES     \\n      34 C            6.8760     4.9606    -2.7274 C             1 RES     \\n      35 C            6.5659     6.1571    -3.6389 C             1 RES     \\n      36 C            5.2803     6.8847    -3.2449 C             1 RES     \\n      37 C            0.4638    -3.1348    -1.1086 C             1 RES     \\n      38 C           -1.0651    -2.9613    -0.9410 C             1 RES     \\n      39 C           -1.8171    -3.4233    -2.1971 C             1 RES     \\n      40 C           -3.3442    -3.4731    -2.0009 C             1 RES     \\n      41 C           -3.9921    -2.1313    -1.6065 C             1 RES     \\n      42 C           -3.7456    -1.0219    -2.6441 C             1 RES     \\n      43 C           -4.5896     0.2453    -2.3884 C             1 RES     \\n      44 C           -3.8442     1.3552    -1.6192 C             1 RES     \\n      45 C           -3.5097     1.0337    -0.1513 C             1 RES     \\n      46 C           -4.7243     0.6882     0.7376 C             1 RES     \\n      47 C           -5.8009     1.7846     0.8166 C             1 RES     \\n      48 C           -5.2864     3.0698     1.4890 C             1 RES     \\n      49 C           -6.4122     4.0787     1.7699 C             1 RES     \\n      50 C           -6.8854     4.7943     0.4971 C             1 RES     \\n      51 C           -7.9794     5.8187     0.8215 C             1 RES     \\n      52 C           -8.4200     6.5726    -0.4312 C             1 RES     \\n      53 H            4.1632    -2.6545    -3.2833 H             1 RES     \\n      54 H            4.1963    -1.5074    -1.2494 H             1 RES     \\n      55 H           -0.3727    -4.8624     2.1311 H             1 RES     \\n      56 H           -0.5737    -6.4818    -1.5553 H             1 RES     \\n      57 H           -4.3021    -8.2530    -0.6105 H             1 RES     \\n      58 H           -0.9489    -7.5457     3.4308 H             1 RES     \\n      59 H           -4.5050    -9.3942     1.7274 H             1 RES     \\n      60 H           -0.1946    -1.7151     1.1531 H             1 RES     \\n      61 H            1.1262    -0.7564     0.4285 H             1 RES     \\n      62 H            0.9417    -0.6931     2.9141 H             1 RES     \\n      63 H            1.2225    -2.4445     3.0403 H             1 RES     \\n      64 H            3.5198    -2.2497     2.3142 H             1 RES     \\n      65 H            3.2977    -0.5673     1.7131 H             1 RES     \\n      66 H            4.4815    -1.0514     4.0697 H             1 RES     \\n      67 H            2.8271    -1.3116     4.6731 H             1 RES     \\n      68 H            2.2823     1.0550     3.5529 H             1 RES     \\n      69 H            3.0953     0.9631     5.1288 H             1 RES     \\n      70 H            5.0704     0.9181     2.8443 H             1 RES     \\n      71 H            5.0835     1.7844     4.3942 H             1 RES     \\n      72 H            3.2321     3.3367     3.4403 H             1 RES     \\n      73 H            4.8827     3.5503     2.8491 H             1 RES     \\n      74 H            3.1277     3.6470     1.0346 H             1 RES     \\n      75 H            2.6412     1.9694     1.4002 H             1 RES     \\n      76 H            4.8754     1.1178     0.6474 H             1 RES     \\n      77 H            4.0229     2.0625    -0.5990 H             1 RES     \\n      78 H            5.4346     4.0946    -0.0462 H             1 RES     \\n      79 H            6.2983     3.1318     1.1902 H             1 RES     \\n      80 H            7.0999     1.5188    -0.4997 H             1 RES     \\n      81 H            7.7008     3.1734    -0.7435 H             1 RES     \\n      82 H            7.1318     2.1218    -2.8904 H             1 RES     \\n      83 H            5.4816     1.7512    -2.3510 H             1 RES     \\n      84 H            4.8819     4.1524    -2.3177 H             1 RES     \\n      85 H            5.5638     3.6783    -3.9002 H             1 RES     \\n      86 H            6.9554     5.3103    -1.6742 H             1 RES     \\n      87 H            7.8684     4.5555    -3.0224 H             1 RES     \\n      88 H            6.4940     5.8204    -4.6957 H             1 RES     \\n      89 H            7.4111     6.8767    -3.5709 H             1 RES     \\n      90 H            5.1728     7.8036    -3.8601 H             1 RES     \\n      91 H            4.3978     6.2379    -3.4257 H             1 RES     \\n      92 H            5.3139     7.1765    -2.1701 H             1 RES     \\n      93 H            0.6741    -4.1421    -1.5270 H             1 RES     \\n      94 H            0.7521    -2.3981    -1.8851 H             1 RES     \\n      95 H           -1.2855    -1.8824    -0.7873 H             1 RES     \\n      96 H           -1.4461    -3.5223    -0.0675 H             1 RES     \\n      97 H           -1.4855    -4.4472    -2.4696 H             1 RES     \\n      98 H           -1.5630    -2.7658    -3.0559 H             1 RES     \\n      99 H           -3.5797    -4.2206    -1.2130 H             1 RES     \\n     100 H           -3.8147    -3.8376    -2.9411 H             1 RES     \\n     101 H           -5.0841    -2.3048    -1.5089 H             1 RES     \\n     102 H           -3.6261    -1.8295    -0.6079 H             1 RES     \\n     103 H           -2.6660    -0.7599    -2.6769 H             1 RES     \\n     104 H           -4.0195    -1.4229    -3.6443 H             1 RES     \\n     105 H           -5.5589     0.0035    -1.9023 H             1 RES     \\n     106 H           -4.8508     0.6712    -3.3832 H             1 RES     \\n     107 H           -2.8930     1.5802    -2.1522 H             1 RES     \\n     108 H           -4.4453     2.2874    -1.6641 H             1 RES     \\n     109 H           -2.9788     1.9050     0.2845 H             1 RES     \\n     110 H           -2.7788     0.2012    -0.1146 H             1 RES     \\n     111 H           -5.1949    -0.2533     0.3818 H             1 RES     \\n     112 H           -4.3509     0.4746     1.7636 H             1 RES     \\n     113 H           -6.1956     2.0009    -0.1959 H             1 RES     \\n     114 H           -6.6474     1.3798     1.4155 H             1 RES     \\n     115 H           -4.8160     2.8000     2.4628 H             1 RES     \\n     116 H           -4.5103     3.5512     0.8583 H             1 RES     \\n     117 H           -7.2695     3.5658     2.2606 H             1 RES     \\n     118 H           -6.0223     4.8393     2.4785 H             1 RES     \\n     119 H           -7.2935     4.0533    -0.2243 H             1 RES     \\n     120 H           -6.0239     5.3144     0.0240 H             1 RES     \\n     121 H           -8.8621     5.2996     1.2565 H             1 RES     \\n     122 H           -7.6021     6.5542     1.5666 H             1 RES     \\n     123 H           -9.2189     7.2980    -0.1680 H             1 RES     \\n     124 H           -8.8169     5.8645    -1.1912 H             1 RES     \\n     125 H           -7.5621     7.1331    -0.8646 H             1 RES     \\n@<TRIPOS>BOND\\n       1        2        1 1\\n       2       21        1 1\\n       3       37        1 1\\n       4        8        1 1\\n       5        3        2 1\\n       6        6        2 1\\n       7        4        3 1\\n       8        7        3 1\\n       9        5        4 1\\n      10        6        5 1\\n      11       53        5 1\\n      12       54        6 1\\n      13        8        7 1\\n      14       11        7 1\\n      15        9        8 1\\n      16       10        9 1\\n      17       55        9 1\\n      18       11       10 1\\n      19       12       10 1\\n      20       13       12 1\\n      21       17       12 1\\n      22       14       13 1\\n      23       56       13 1\\n      24       15       14 1\\n      25       16       15 1\\n      26       57       15 1\\n      27       17       16 1\\n      28       20       16 1\\n      29       18       17 1\\n      30       19       18 1\\n      31       58       18 1\\n      32       20       19 1\\n      33       59       20 1\\n      34       22       21 1\\n      35       60       21 1\\n      36       61       21 1\\n      37       23       22 1\\n      38       62       22 1\\n      39       63       22 1\\n      40       24       23 1\\n      41       64       23 1\\n      42       65       23 1\\n      43       25       24 1\\n      44       66       24 1\\n      45       67       24 1\\n      46       26       25 1\\n      47       68       25 1\\n      48       69       25 1\\n      49       27       26 1\\n      50       70       26 1\\n      51       71       26 1\\n      52       28       27 1\\n      53       72       27 1\\n      54       73       27 1\\n      55       29       28 1\\n      56       74       28 1\\n      57       75       28 1\\n      58       30       29 1\\n      59       76       29 1\\n      60       77       29 1\\n      61       31       30 1\\n      62       78       30 1\\n      63       79       30 1\\n      64       32       31 1\\n      65       80       31 1\\n      66       81       31 1\\n      67       33       32 1\\n      68       82       32 1\\n      69       83       32 1\\n      70       34       33 1\\n      71       84       33 1\\n      72       85       33 1\\n      73       35       34 1\\n      74       86       34 1\\n      75       87       34 1\\n      76       36       35 1\\n      77       88       35 1\\n      78       89       35 1\\n      79       90       36 1\\n      80       91       36 1\\n      81       92       36 1\\n      82       38       37 1\\n      83       93       37 1\\n      84       94       37 1\\n      85       39       38 1\\n      86       95       38 1\\n      87       96       38 1\\n      88       40       39 1\\n      89       97       39 1\\n      90       98       39 1\\n      91       41       40 1\\n      92       99       40 1\\n      93      100       40 1\\n      94       42       41 1\\n      95      101       41 1\\n      96      102       41 1\\n      97       43       42 1\\n      98      103       42 1\\n      99      104       42 1\\n     100       44       43 1\\n     101      105       43 1\\n     102      106       43 1\\n     103       45       44 1\\n     104      107       44 1\\n     105      108       44 1\\n     106       46       45 1\\n     107      109       45 1\\n     108      110       45 1\\n     109       47       46 1\\n     110      111       46 1\\n     111      112       46 1\\n     112       48       47 1\\n     113      113       47 1\\n     114      114       47 1\\n     115       49       48 1\\n     116      115       48 1\\n     117      116       48 1\\n     118       50       49 1\\n     119      117       49 1\\n     120      118       49 1\\n     121       51       50 1\\n     122      119       50 1\\n     123      120       50 1\\n     124       52       51 1\\n     125      121       51 1\\n     126      122       51 1\\n     127      123       52 1\\n     128      124       52 1\\n     129      125       52 1\\n@<TRIPOS>SUBSTRUCTURE\\n       1 RES             1 RESIDUE    0 **** ROOT      0\\n\",\"mol2\");\n\tviewer_1674079672154953.setStyle({\"stick\": {\"radius\": 0.2, \"color\": \"grey\"}, \"sphere\": {\"scale\": 0.3, \"colorscheme\": {}}});\n\tviewer_1674079672154953.zoomTo();\nviewer_1674079672154953.render();\n});\n</script>",
      "text/html": [
       "<div id=\"3dmolviewer_1674079672154953\"  style=\"position: relative; width: 640px; height: 480px\">\n",
       "        <p id=\"3dmolwarning_1674079672154953\" style=\"background-color:#ffcccc;color:black\">You appear to be running in JupyterLab (or JavaScript failed to load for some other reason).  You need to install the 3dmol extension: <br>\n",
       "        <tt>jupyter labextension install jupyterlab_3dmol</tt></p>\n",
       "        </div>\n",
       "<script>\n",
       "\n",
       "var loadScriptAsync = function(uri){\n",
       "  return new Promise((resolve, reject) => {\n",
       "    //this is to ignore the existence of requirejs amd\n",
       "    var savedexports, savedmodule;\n",
       "    if (typeof exports !== 'undefined') savedexports = exports;\n",
       "    else exports = {}\n",
       "    if (typeof module !== 'undefined') savedmodule = module;\n",
       "    else module = {}\n",
       "\n",
       "    var tag = document.createElement('script');\n",
       "    tag.src = uri;\n",
       "    tag.async = true;\n",
       "    tag.onload = () => {\n",
       "        exports = savedexports;\n",
       "        module = savedmodule;\n",
       "        resolve();\n",
       "    };\n",
       "  var firstScriptTag = document.getElementsByTagName('script')[0];\n",
       "  firstScriptTag.parentNode.insertBefore(tag, firstScriptTag);\n",
       "});\n",
       "};\n",
       "\n",
       "if(typeof $3Dmolpromise === 'undefined') {\n",
       "$3Dmolpromise = null;\n",
       "  $3Dmolpromise = loadScriptAsync('https://cdn.jsdelivr.net/npm/3dmol@latest/build/3Dmol-min.min.js');\n",
       "}\n",
       "\n",
       "var viewer_1674079672154953 = null;\n",
       "var warn = document.getElementById(\"3dmolwarning_1674079672154953\");\n",
       "if(warn) {\n",
       "    warn.parentNode.removeChild(warn);\n",
       "}\n",
       "$3Dmolpromise.then(function() {\n",
       "viewer_1674079672154953 = $3Dmol.createViewer(document.getElementById(\"3dmolviewer_1674079672154953\"),{backgroundColor:\"white\"});\n",
       "viewer_1674079672154953.zoomTo();\n",
       "\tviewer_1674079672154953.addModel(\"@<TRIPOS>MOLECULE\\nRES\\n125 129 1 0 1\\nSMALL\\nNO_CHARGES\\n@<TRIPOS>CRYSIN\\n   22.0873    22.1978    14.8245    90.0000    90.0000    90.0000  1  1\\n@<TRIPOS>ATOM\\n       1 C            1.3500    -2.9332     0.1840 C             1 RES     \\n       2 C            2.8448    -2.7895    -0.1899 C             1 RES     \\n       3 C            3.4586    -4.1677    -0.2502 C             1 RES     \\n       4 S            3.6176    -4.6624    -2.0031 S             1 RES     \\n       5 C            3.3428    -2.9648    -2.6025 C             1 RES     \\n       6 C            3.2169    -1.9978    -1.4339 C             1 RES     \\n       7 C            2.5717    -5.0508     0.6313 C             1 RES     \\n       8 C            1.3964    -4.1974     1.0750 C             1 RES     \\n       9 C            0.1354    -5.0375     1.1626 C             1 RES     \\n      10 C            0.5044    -6.5002     1.0040 C             1 RES     \\n      11 S            1.9423    -6.5998    -0.0984 S             1 RES     \\n      12 C           -0.6711    -7.3660     0.5254 C             1 RES     \\n      13 C           -1.2256    -6.9234    -0.8133 C             1 RES     \\n      14 N           -2.4491    -7.2218    -1.1549 N             1 RES     \\n      15 C           -3.3653    -7.8495    -0.2418 C             1 RES     \\n      16 C           -3.0360    -7.9669     1.0439 C             1 RES     \\n      17 C           -1.7865    -7.3939     1.5874 C             1 RES     \\n      18 N           -1.4232    -8.1930     2.7571 N             1 RES     \\n      19 S           -2.9486    -8.6992     3.5342 S             1 RES     \\n      20 N           -3.8015    -8.6667     1.9935 N             1 RES     \\n      21 C            0.9048    -1.6832     1.0064 C             1 RES     \\n      22 C            1.4735    -1.5443     2.4363 C             1 RES     \\n      23 C            2.9884    -1.2913     2.4996 C             1 RES     \\n      24 C            3.4173    -0.7857     3.8915 C             1 RES     \\n      25 C            3.2225     0.7346     4.0479 C             1 RES     \\n      26 C            4.4375     1.5327     3.5239 C             1 RES     \\n      27 C            4.0282     2.8467     2.8380 C             1 RES     \\n      28 C            3.5087     2.6654     1.3951 C             1 RES     \\n      29 C            4.5447     2.1422     0.3764 C             1 RES     \\n      30 C            5.7645     3.0681     0.2219 C             1 RES     \\n      31 C            6.7878     2.5433    -0.7986 C             1 RES     \\n      32 C            6.2978     2.4990    -2.2584 C             1 RES     \\n      33 C            5.8186     3.8461    -2.8293 C             1 RES     \\n      34 C            6.8760     4.9606    -2.7274 C             1 RES     \\n      35 C            6.5659     6.1571    -3.6389 C             1 RES     \\n      36 C            5.2803     6.8847    -3.2449 C             1 RES     \\n      37 C            0.4638    -3.1348    -1.1086 C             1 RES     \\n      38 C           -1.0651    -2.9613    -0.9410 C             1 RES     \\n      39 C           -1.8171    -3.4233    -2.1971 C             1 RES     \\n      40 C           -3.3442    -3.4731    -2.0009 C             1 RES     \\n      41 C           -3.9921    -2.1313    -1.6065 C             1 RES     \\n      42 C           -3.7456    -1.0219    -2.6441 C             1 RES     \\n      43 C           -4.5896     0.2453    -2.3884 C             1 RES     \\n      44 C           -3.8442     1.3552    -1.6192 C             1 RES     \\n      45 C           -3.5097     1.0337    -0.1513 C             1 RES     \\n      46 C           -4.7243     0.6882     0.7376 C             1 RES     \\n      47 C           -5.8009     1.7846     0.8166 C             1 RES     \\n      48 C           -5.2864     3.0698     1.4890 C             1 RES     \\n      49 C           -6.4122     4.0787     1.7699 C             1 RES     \\n      50 C           -6.8854     4.7943     0.4971 C             1 RES     \\n      51 C           -7.9794     5.8187     0.8215 C             1 RES     \\n      52 C           -8.4200     6.5726    -0.4312 C             1 RES     \\n      53 H            4.1632    -2.6545    -3.2833 H             1 RES     \\n      54 H            4.1963    -1.5074    -1.2494 H             1 RES     \\n      55 H           -0.3727    -4.8624     2.1311 H             1 RES     \\n      56 H           -0.5737    -6.4818    -1.5553 H             1 RES     \\n      57 H           -4.3021    -8.2530    -0.6105 H             1 RES     \\n      58 H           -0.9489    -7.5457     3.4308 H             1 RES     \\n      59 H           -4.5050    -9.3942     1.7274 H             1 RES     \\n      60 H           -0.1946    -1.7151     1.1531 H             1 RES     \\n      61 H            1.1262    -0.7564     0.4285 H             1 RES     \\n      62 H            0.9417    -0.6931     2.9141 H             1 RES     \\n      63 H            1.2225    -2.4445     3.0403 H             1 RES     \\n      64 H            3.5198    -2.2497     2.3142 H             1 RES     \\n      65 H            3.2977    -0.5673     1.7131 H             1 RES     \\n      66 H            4.4815    -1.0514     4.0697 H             1 RES     \\n      67 H            2.8271    -1.3116     4.6731 H             1 RES     \\n      68 H            2.2823     1.0550     3.5529 H             1 RES     \\n      69 H            3.0953     0.9631     5.1288 H             1 RES     \\n      70 H            5.0704     0.9181     2.8443 H             1 RES     \\n      71 H            5.0835     1.7844     4.3942 H             1 RES     \\n      72 H            3.2321     3.3367     3.4403 H             1 RES     \\n      73 H            4.8827     3.5503     2.8491 H             1 RES     \\n      74 H            3.1277     3.6470     1.0346 H             1 RES     \\n      75 H            2.6412     1.9694     1.4002 H             1 RES     \\n      76 H            4.8754     1.1178     0.6474 H             1 RES     \\n      77 H            4.0229     2.0625    -0.5990 H             1 RES     \\n      78 H            5.4346     4.0946    -0.0462 H             1 RES     \\n      79 H            6.2983     3.1318     1.1902 H             1 RES     \\n      80 H            7.0999     1.5188    -0.4997 H             1 RES     \\n      81 H            7.7008     3.1734    -0.7435 H             1 RES     \\n      82 H            7.1318     2.1218    -2.8904 H             1 RES     \\n      83 H            5.4816     1.7512    -2.3510 H             1 RES     \\n      84 H            4.8819     4.1524    -2.3177 H             1 RES     \\n      85 H            5.5638     3.6783    -3.9002 H             1 RES     \\n      86 H            6.9554     5.3103    -1.6742 H             1 RES     \\n      87 H            7.8684     4.5555    -3.0224 H             1 RES     \\n      88 H            6.4940     5.8204    -4.6957 H             1 RES     \\n      89 H            7.4111     6.8767    -3.5709 H             1 RES     \\n      90 H            5.1728     7.8036    -3.8601 H             1 RES     \\n      91 H            4.3978     6.2379    -3.4257 H             1 RES     \\n      92 H            5.3139     7.1765    -2.1701 H             1 RES     \\n      93 H            0.6741    -4.1421    -1.5270 H             1 RES     \\n      94 H            0.7521    -2.3981    -1.8851 H             1 RES     \\n      95 H           -1.2855    -1.8824    -0.7873 H             1 RES     \\n      96 H           -1.4461    -3.5223    -0.0675 H             1 RES     \\n      97 H           -1.4855    -4.4472    -2.4696 H             1 RES     \\n      98 H           -1.5630    -2.7658    -3.0559 H             1 RES     \\n      99 H           -3.5797    -4.2206    -1.2130 H             1 RES     \\n     100 H           -3.8147    -3.8376    -2.9411 H             1 RES     \\n     101 H           -5.0841    -2.3048    -1.5089 H             1 RES     \\n     102 H           -3.6261    -1.8295    -0.6079 H             1 RES     \\n     103 H           -2.6660    -0.7599    -2.6769 H             1 RES     \\n     104 H           -4.0195    -1.4229    -3.6443 H             1 RES     \\n     105 H           -5.5589     0.0035    -1.9023 H             1 RES     \\n     106 H           -4.8508     0.6712    -3.3832 H             1 RES     \\n     107 H           -2.8930     1.5802    -2.1522 H             1 RES     \\n     108 H           -4.4453     2.2874    -1.6641 H             1 RES     \\n     109 H           -2.9788     1.9050     0.2845 H             1 RES     \\n     110 H           -2.7788     0.2012    -0.1146 H             1 RES     \\n     111 H           -5.1949    -0.2533     0.3818 H             1 RES     \\n     112 H           -4.3509     0.4746     1.7636 H             1 RES     \\n     113 H           -6.1956     2.0009    -0.1959 H             1 RES     \\n     114 H           -6.6474     1.3798     1.4155 H             1 RES     \\n     115 H           -4.8160     2.8000     2.4628 H             1 RES     \\n     116 H           -4.5103     3.5512     0.8583 H             1 RES     \\n     117 H           -7.2695     3.5658     2.2606 H             1 RES     \\n     118 H           -6.0223     4.8393     2.4785 H             1 RES     \\n     119 H           -7.2935     4.0533    -0.2243 H             1 RES     \\n     120 H           -6.0239     5.3144     0.0240 H             1 RES     \\n     121 H           -8.8621     5.2996     1.2565 H             1 RES     \\n     122 H           -7.6021     6.5542     1.5666 H             1 RES     \\n     123 H           -9.2189     7.2980    -0.1680 H             1 RES     \\n     124 H           -8.8169     5.8645    -1.1912 H             1 RES     \\n     125 H           -7.5621     7.1331    -0.8646 H             1 RES     \\n@<TRIPOS>BOND\\n       1        2        1 1\\n       2       21        1 1\\n       3       37        1 1\\n       4        8        1 1\\n       5        3        2 1\\n       6        6        2 1\\n       7        4        3 1\\n       8        7        3 1\\n       9        5        4 1\\n      10        6        5 1\\n      11       53        5 1\\n      12       54        6 1\\n      13        8        7 1\\n      14       11        7 1\\n      15        9        8 1\\n      16       10        9 1\\n      17       55        9 1\\n      18       11       10 1\\n      19       12       10 1\\n      20       13       12 1\\n      21       17       12 1\\n      22       14       13 1\\n      23       56       13 1\\n      24       15       14 1\\n      25       16       15 1\\n      26       57       15 1\\n      27       17       16 1\\n      28       20       16 1\\n      29       18       17 1\\n      30       19       18 1\\n      31       58       18 1\\n      32       20       19 1\\n      33       59       20 1\\n      34       22       21 1\\n      35       60       21 1\\n      36       61       21 1\\n      37       23       22 1\\n      38       62       22 1\\n      39       63       22 1\\n      40       24       23 1\\n      41       64       23 1\\n      42       65       23 1\\n      43       25       24 1\\n      44       66       24 1\\n      45       67       24 1\\n      46       26       25 1\\n      47       68       25 1\\n      48       69       25 1\\n      49       27       26 1\\n      50       70       26 1\\n      51       71       26 1\\n      52       28       27 1\\n      53       72       27 1\\n      54       73       27 1\\n      55       29       28 1\\n      56       74       28 1\\n      57       75       28 1\\n      58       30       29 1\\n      59       76       29 1\\n      60       77       29 1\\n      61       31       30 1\\n      62       78       30 1\\n      63       79       30 1\\n      64       32       31 1\\n      65       80       31 1\\n      66       81       31 1\\n      67       33       32 1\\n      68       82       32 1\\n      69       83       32 1\\n      70       34       33 1\\n      71       84       33 1\\n      72       85       33 1\\n      73       35       34 1\\n      74       86       34 1\\n      75       87       34 1\\n      76       36       35 1\\n      77       88       35 1\\n      78       89       35 1\\n      79       90       36 1\\n      80       91       36 1\\n      81       92       36 1\\n      82       38       37 1\\n      83       93       37 1\\n      84       94       37 1\\n      85       39       38 1\\n      86       95       38 1\\n      87       96       38 1\\n      88       40       39 1\\n      89       97       39 1\\n      90       98       39 1\\n      91       41       40 1\\n      92       99       40 1\\n      93      100       40 1\\n      94       42       41 1\\n      95      101       41 1\\n      96      102       41 1\\n      97       43       42 1\\n      98      103       42 1\\n      99      104       42 1\\n     100       44       43 1\\n     101      105       43 1\\n     102      106       43 1\\n     103       45       44 1\\n     104      107       44 1\\n     105      108       44 1\\n     106       46       45 1\\n     107      109       45 1\\n     108      110       45 1\\n     109       47       46 1\\n     110      111       46 1\\n     111      112       46 1\\n     112       48       47 1\\n     113      113       47 1\\n     114      114       47 1\\n     115       49       48 1\\n     116      115       48 1\\n     117      116       48 1\\n     118       50       49 1\\n     119      117       49 1\\n     120      118       49 1\\n     121       51       50 1\\n     122      119       50 1\\n     123      120       50 1\\n     124       52       51 1\\n     125      121       51 1\\n     126      122       51 1\\n     127      123       52 1\\n     128      124       52 1\\n     129      125       52 1\\n@<TRIPOS>SUBSTRUCTURE\\n       1 RES             1 RESIDUE    0 **** ROOT      0\\n\",\"mol2\");\n",
       "\tviewer_1674079672154953.setStyle({\"stick\": {\"radius\": 0.2, \"color\": \"grey\"}, \"sphere\": {\"scale\": 0.3, \"colorscheme\": {}}});\n",
       "\tviewer_1674079672154953.zoomTo();\n",
       "viewer_1674079672154953.render();\n",
       "});\n",
       "</script>"
      ]
     },
     "metadata": {},
     "output_type": "display_data"
    },
    {
     "data": {
      "text/plain": [
       "<py3Dmol.view at 0x18a4864f0>"
      ]
     },
     "execution_count": 11,
     "metadata": {},
     "output_type": "execute_result"
    }
   ],
   "source": [
    "mb.load(\"C1([C]2[C](S[CH][CH]2)[C]2[C]1[CH][C](S2)[C]1[CH]=N[CH]=[C]2[C]1NSN2)(CCCCCCCCCCCCCCCC)CCCCCCCCCCCCCCCC\",smiles=True).visualize()"
   ]
  },
  {
   "cell_type": "code",
   "execution_count": 12,
   "id": "703ca58d",
   "metadata": {},
   "outputs": [],
   "source": [
    "#cant get the sdf file or mol file to work with N-S-N bonds, it works from smiles string though...\n",
    "#either need to get smiles string directly from mol2 file or figure out how to get the \n",
    "#smiles string from the smi file into a usable format. \n",
    "#it worked to run openbabel and get the smile string from the smi file and then just \n",
    "#delete the brackets around the N's.\n",
    "\n",
    "#molecule = Molecule.from_file(\"cpdt_test.sdf\",file_format = \"sdf\")\n",
    "\n",
    "molecule = Molecule.from_smiles(\"C1([C]2[C](S[CH][CH]2)[C]2[C]1[CH][C](S2)[C]1[CH]=N[CH]=[C]2[C]1NSN2)(CCCCCCCCCCCCCCCC)CCCCCCCCCCCCCCCC\")\n",
    "molecule_graph = esp.Graph(molecule)\n",
    "#either generate smiles string from the built fragments or get our fragments into a Molecule supported file format\n",
    "\n",
    "espaloma_model = torch.load(\"espaloma_model.pt\")\n",
    "espaloma_model(molecule_graph.heterograph)\n",
    "openmm_system = esp.graphs.deploy.openmm_system_from_graph(molecule_graph)\n",
    "\n",
    "# Store the results for each in something more accessible\n",
    "pair_forces = openmm_system.getForces()[1]\n",
    "angle_forces = openmm_system.getForces()[3]\n",
    "bond_forces = openmm_system.getForces()[2]\n",
    "torsion_forces = openmm_system.getForces()[0]"
   ]
  },
  {
   "cell_type": "code",
   "execution_count": null,
   "id": "33b65525",
   "metadata": {},
   "outputs": [],
   "source": []
  }
 ],
 "metadata": {
  "kernelspec": {
   "display_name": "Python 3 (ipykernel)",
   "language": "python",
   "name": "python3"
  },
  "language_info": {
   "codemirror_mode": {
    "name": "ipython",
    "version": 3
   },
   "file_extension": ".py",
   "mimetype": "text/x-python",
   "name": "python",
   "nbconvert_exporter": "python",
   "pygments_lexer": "ipython3",
   "version": "3.9.15"
  }
 },
 "nbformat": 4,
 "nbformat_minor": 5
}
