{
 "cells": [
  {
   "cell_type": "code",
   "execution_count": 1,
   "id": "538feb4b",
   "metadata": {
    "scrolled": true
   },
   "outputs": [
    {
     "name": "stderr",
     "output_type": "stream",
     "text": [
      "Warning: importing 'simtk.openmm' is deprecated.  Import 'openmm' instead.\n",
      "/Users/madilyn/miniconda3/envs/espaloma/lib/python3.9/site-packages/qcelemental/models/results.py:788: DeprecationWarning: ResultProtocols has been renamed to AtomicResultProtocols and will be removed as soon as v0.13.0\n",
      "  warn(\n",
      "/Users/madilyn/miniconda3/envs/espaloma/lib/python3.9/site-packages/qcelemental/models/results.py:788: DeprecationWarning: ResultProtocols has been renamed to AtomicResultProtocols and will be removed as soon as v0.13.0\n",
      "  warn(\n",
      "LICENSE: Could not open license file \"oe_license.txt\" in local directory\n",
      "LICENSE: N.B. OE_LICENSE environment variable is not set\n",
      "LICENSE: N.B. OE_DIR environment variable is not set\n",
      "LICENSE: No product keys!\n",
      "LICENSE: No product keys!\n",
      "LICENSE: No product keys!\n",
      "Warning: Unable to load toolkit 'OpenEye Toolkit'. The Open Force Field Toolkit does not require the OpenEye Toolkits, and can use RDKit/AmberTools instead. However, if you have a valid license for the OpenEye Toolkits, consider installing them for faster performance and additional file format support: https://docs.eyesopen.com/toolkits/python/quickstart-python/linuxosx.html OpenEye offers free Toolkit licenses for academics: https://www.eyesopen.com/academic-licensing\n",
      "LICENSE: No product keys!\n"
     ]
    }
   ],
   "source": [
    "from writers import foyer_xml_writer\n",
    "from writers.foyer_xml_writer import parmed_to_foyer_xml, mbuild_to_foyer_xml\n",
    "\n",
    "\n",
    "import ele\n",
    "import espaloma as esp\n",
    "import forcefield_utilities as ffutils\n",
    "import foyer\n",
    "import gmso\n",
    "import mbuild as mb\n",
    "from mbuild.lib.recipes import Polymer\n",
    "from mbuild.formats.hoomd_forcefield import create_hoomd_forcefield\n",
    "import numpy as np\n",
    "from openff.toolkit.topology import Molecule\n",
    "import torch\n",
    "from mbuild.formats.hoomd_forcefield import create_hoomd_forcefield\n",
    "import hoomd\n",
    "import gsd.hoomd\n",
    "import matplotlib.pyplot as plt\n",
    "\n",
    "import os\n",
    "import warnings\n",
    "warnings.filterwarnings(\"ignore\")\n",
    "\n",
    "if not os.path.exists(\"espaloma_model.pt\"):\n",
    "    os.system(\"wget http://data.wangyq.net/espaloma_model.pt\")"
   ]
  },
  {
   "cell_type": "code",
   "execution_count": null,
   "id": "273bdcb9",
   "metadata": {},
   "outputs": [],
   "source": [
    "# Use espaloma to find the FF parameters for Benzene\n",
    "#smiles = \"c1ccccc1\"\n",
    "#mb_benzene = mb.load(smiles, smiles=True)\n",
    "#benzene.visualize().show()\n",
    "\n",
    "#try to either save molecule as a usable format or get smiles string from mol2 file..\n",
    "\n",
    "#mb_benzene.save(\"benzene.sdf\")\n",
    "\n",
    "#mb_benzene2 = mb.load(\"benzene.sdf\")\n",
    "#mb_benzene2.visualize()"
   ]
  },
  {
   "cell_type": "code",
   "execution_count": 3,
   "id": "c3eebc8a",
   "metadata": {
    "scrolled": true
   },
   "outputs": [],
   "source": [
    "molecule = Molecule.from_file(\"benzene.sdf\",file_format = \"sdf\")\n",
    "#molecule = Molecule.from_smiles(smiles) #molecule is benzene\n",
    "molecule_graph = esp.Graph(molecule)\n",
    "#either generate smiles string from the built fragments or get our fragments into a Molecule supported file format\n",
    "\n",
    "espaloma_model = torch.load(\"espaloma_model.pt\")\n",
    "espaloma_model(molecule_graph.heterograph)\n",
    "openmm_system = esp.graphs.deploy.openmm_system_from_graph(molecule_graph)\n",
    "\n",
    "# Store the results for each in something more accessible\n",
    "pair_forces = openmm_system.getForces()[1]\n",
    "angle_forces = openmm_system.getForces()[3]\n",
    "bond_forces = openmm_system.getForces()[2]\n",
    "torsion_forces = openmm_system.getForces()[0]"
   ]
  },
  {
   "cell_type": "code",
   "execution_count": null,
   "id": "ec6cfe57",
   "metadata": {},
   "outputs": [],
   "source": [
    "# get a parmed structure from openmm \n",
    "import parmed as pmd\n",
    "topology = molecule.to_topology()\n",
    "openmm_topology = topology.to_openmm()\n",
    "\n",
    "structure = pmd.openmm.load_topology(topology=openmm_topology, system=openmm_system)\n",
    "structure.bonds.sort(key=lambda x: x.atom1.idx)"
   ]
  },
  {
   "cell_type": "code",
   "execution_count": null,
   "id": "1b98eb25",
   "metadata": {},
   "outputs": [],
   "source": [
    "# step 1: how to get bond parameters\n",
    "\n",
    "bond_parameters = {}\n",
    "\n",
    "for bond in structure.bonds:\n",
    "    bond_parameters[(bond.atom1.name, bond.atom2.name)] = {\"k\":[bond.type.k] , \"l0\":[bond.type.req]}\n",
    "    \n",
    "# step 2: get angle parameters\n",
    "\n",
    "angle_parameters = {}\n",
    "\n",
    "for angle in structure.angles:\n",
    "    angle_parameters[(angle.atom1.name, angle.atom2.name,angle.atom3.name)] = {\"k\":[angle.type.k], \n",
    "                                                                               \"t0\":[angle.type.theteq]}\n",
    "    \n",
    "# step 3: dihedral parameters\n",
    "\n",
    "dihedral_parameters = {}\n",
    "\n",
    "for dihedral in structure.dihedrals:\n",
    "    dihedral_parameters[(dihedral.atom1.name, dihedral.atom2.name,dihedral.atom3.name,\n",
    "                         dihedral.atom4.name)] = {\"periodicity\":[dihedral.type.per],\n",
    "                                                  \"k\":[dihedral.type.phi_k],\"phase\":[dihedral.type.phase]}\n",
    "    \n",
    "# step 4: non-bonding parameters\n",
    "\n",
    "nonbonded_parameters = {}\n",
    "\n",
    "for nonbonded in structure.adjusts:\n",
    "    nonbonded_parameters[(nonbonded.atom1.name,nonbonded.atom2.name)] = {\"sigma\":[nonbonded.type.rmin],\n",
    "                                                    \"epsilon\":[nonbonded.type.epsilon],\n",
    "                                                    \"charge\":[nonbonded.type.chgscale]}"
   ]
  },
  {
   "cell_type": "code",
   "execution_count": null,
   "id": "31a33eae",
   "metadata": {},
   "outputs": [],
   "source": [
    "particle_types = []\n",
    "particle_type_dict = dict()\n",
    "\n",
    "for i in range(pair_forces.getNumParticles()):\n",
    "    pair_parms = pair_forces.getParticleParameters(index=i)\n",
    "    charge = pair_parms[0]\n",
    "    sigma = pair_parms[1]\n",
    "    epsilon = pair_parms[2]\n",
    "    if (charge, sigma, epsilon) not in particle_types: #this is adding the charge,sigma, and epsilon to the particle_types, but only once.\n",
    "        particle_types.append((charge, sigma, epsilon))\n",
    "        #print((charge, sigma, epsilon) )\n",
    "    particle_type_dict[i] = particle_types.index((charge, sigma, epsilon)) #adding only the index of the pair_parms, this gives particle types.\n",
    "print(particle_type_dict)\n",
    "\n",
    "#particle_types gives the sigma, charge, and epsilon associated with each unique particle, \n",
    "#particle_type_dict only gives the index associated with each unique particle type"
   ]
  },
  {
   "cell_type": "code",
   "execution_count": null,
   "id": "4de400b7",
   "metadata": {},
   "outputs": [],
   "source": [
    "#graph check\n",
    "#want to check if the opemm and parmed graphs are the same so we can use types from parmed \n",
    "import networkx  as nx\n",
    "Gopenmm = nx.Graph()\n",
    "Gparmed = nx.Graph()\n",
    "#openmm:\n",
    "for i in range(bond_forces.getNumBonds()):\n",
    "    Gopenmm.add_edge(bond_forces.getBondParameters(index=i)[0],bond_forces.getBondParameters(index=i)[1])\n",
    "#parmed\n",
    "for b in structure.bonds:\n",
    "    Gparmed.add_edge(b.atom1.idx,b.atom2.idx)\n",
    "type_map = {}\n",
    "#nx.rooted_tree_isomorphism\n",
    "#in here we still need to check that one known index on one corresponds to the same index on the other....\n",
    "tree_openmm = nx.bfs_tree(Gopenmm,0)\n",
    "tree_parmed = nx.bfs_tree(Gparmed,0)\n",
    "if nx.is_isomorphic(Gopenmm,Gparmed):\n",
    "#if nx.isomorphism.tree_isomorphism(tree_openmm,tree_parmed):  <- want this work\n",
    "    for b in structure.bonds:\n",
    "        type_map[b.atom1.idx] = b.atom1.atom_type.__str__()\n",
    "        type_map[b.atom2.idx] = b.atom2.atom_type.__str__()\n",
    "print(type_map)"
   ]
  },
  {
   "cell_type": "code",
   "execution_count": null,
   "id": "c07909e7",
   "metadata": {},
   "outputs": [],
   "source": [
    "# Rename the particle types so that they match the xml file\n",
    "# This is needed when we aren't using SMARTS matching with Foyer.\n",
    "\n",
    "for index in type_map:\n",
    "    mb_benzene2[index].name = type_map[index]"
   ]
  },
  {
   "cell_type": "code",
   "execution_count": null,
   "id": "d7bce47f",
   "metadata": {},
   "outputs": [],
   "source": [
    "bond_types = []\n",
    "bond_dict = dict() #creating an empty dictionary to put our parameters in \n",
    "\n",
    "for i in range(bond_forces.getNumBonds()):\n",
    "    bond_parms = bond_forces.getBondParameters(index=i)\n",
    "    #print(bond_parms)\n",
    "    #atoms = {(bond.atom1.name,bond.atom2.name):[]} #gives you the atom type name and index\n",
    "    l0 = bond_parms[2]/bond_parms[2].unit\n",
    "    k = bond_parms[3]/bond_parms[3].unit\n",
    "    #if (type_map[bond_parms[0]],type_map[bond_parms[1]],k,l0) not in bond_dict:\n",
    "    #    bond_types.append((type_map[bond_parms[0]],type_map[bond_parms[1]],k,l0))\n",
    "    bond_dict[type_map[bond_parms[0]],type_map[bond_parms[1]]] = {'k':k,'l0':l0}\n",
    "print(bond_dict)"
   ]
  },
  {
   "cell_type": "code",
   "execution_count": null,
   "id": "569a6335",
   "metadata": {
    "scrolled": true
   },
   "outputs": [],
   "source": [
    "angle_types = []\n",
    "angle_dict = dict() #creating an empty dictionary to put our parameters in \n",
    "\n",
    "for i in range(angle_forces.getNumAngles()):\n",
    "    angle_parms = angle_forces.getAngleParameters(index=i)\n",
    "    k = angle_parms[4]/angle_parms[4].unit\n",
    "    t0 = angle_parms[3]/angle_parms[3].unit  \n",
    "#    if (type_map[angle_parms[0]],type_map[angle_parms[1]],type_map[angle_parms[2]],k,t0) not in angle_types:\n",
    "#        angle_types.append((type_map[angle_parms[0]],type_map[angle_parms[1]],type_map[angle_parms[2]],k,t0))\n",
    "    angle_dict[type_map[angle_parms[0]],type_map[angle_parms[1]],type_map[angle_parms[2]]] = {'k':k,'t0':t0}\n",
    "print(angle_dict)"
   ]
  },
  {
   "cell_type": "code",
   "execution_count": null,
   "id": "83bacdda",
   "metadata": {},
   "outputs": [],
   "source": [
    "dihedral_types = []\n",
    "dihedral_dict = {}\n",
    "\n",
    "for i in range(torsion_forces.getNumTorsions()):\n",
    "    if i%6==0:\n",
    "        periodicity=[]\n",
    "        phase = []\n",
    "        k = []\n",
    "    dihedral_parms = torsion_forces.getTorsionParameters(index=i)\n",
    "    periodicity.append(dihedral_parms[4])  \n",
    "    phase.append( dihedral_parms[5]/dihedral_parms[5].unit)\n",
    "    k.append(dihedral_parms[6]/dihedral_parms[6].unit)\n",
    "#    if (type_map[dihedral_parms[0]],type_map[dihedral_parms[1]],type_map[dihedral_parms[2]],type_map[dihedral_parms[3]],periodicity,k,phase) not in dihedral_types:\n",
    "#        dihedral_types.append((type_map[dihedral_parms[0]],type_map[dihedral_parms[1]],type_map[dihedral_parms[2]],\n",
    "#        type_map[dihedral_parms[3]],periodicity,k,phase))\n",
    "    dt = (type_map[dihedral_parms[0]],type_map[dihedral_parms[1]],type_map[dihedral_parms[2]],\n",
    "                  type_map[dihedral_parms[3]])\n",
    "   \n",
    "\n",
    "    if periodicity[-1]==6:\n",
    "        #print(dt,periodicity,phase)\n",
    "        dihedral_dict[dt] = {'periodicity':periodicity,'k':k,'phase':phase}\n",
    "print(dihedral_dict)"
   ]
  },
  {
   "cell_type": "code",
   "execution_count": null,
   "id": "eed592f7",
   "metadata": {
    "scrolled": true
   },
   "outputs": [],
   "source": [
    "nonbonded_types = []\n",
    "nonbonded_dict = {}\n",
    "\n",
    "for i in range(pair_forces.getNumParticles()):\n",
    "    nonbonded_parms = pair_forces.getParticleParameters(index=i)\n",
    "    charge = nonbonded_parms[0]/nonbonded_parms[0].unit\n",
    "    sigma = nonbonded_parms[1]/nonbonded_parms[1].unit\n",
    "    epsilon = nonbonded_parms[2]/nonbonded_parms[2].unit\n",
    "    #atom_type = structure.adjusts.atom\n",
    "    if (charge,sigma,epsilon) not in nonbonded_types:\n",
    "        nonbonded_types.append((charge,sigma,epsilon))\n",
    "    nonbonded_dict[(type_map[i])]={'charge':charge,'sigma':sigma,'epsilon':epsilon}\n",
    "print(nonbonded_dict)"
   ]
  },
  {
   "cell_type": "code",
   "execution_count": null,
   "id": "dda945e2",
   "metadata": {},
   "outputs": [],
   "source": [
    "# Save the forcefield XML file for future use, so that we don't have to repeat the espaloma process everytime\n",
    "mbuild_to_foyer_xml(\n",
    "    file_name=\"benzene_esp2.xml\",\n",
    "    compound=mb_benzene2,\n",
    "    bond_params=bond_dict,\n",
    "    angle_params=angle_dict,\n",
    "    dihedral_params=dihedral_dict,\n",
    "    dihedral_type=\"periodic\",\n",
    "    non_bonded_params=nonbonded_dict,\n",
    "    combining_rule=\"geometric\",\n",
    "    name=\"\",\n",
    "    version=\"\",\n",
    "    coulomb14scale=1.0,\n",
    "    lj14scale=1.0)\n",
    "\n",
    "# Save the mb.Compound with the new atom type names for future use.\n",
    "mb_benzene2.save(\"benzene_typed.mol2\", overwrite=True)"
   ]
  },
  {
   "cell_type": "code",
   "execution_count": null,
   "id": "f6a7c1c8",
   "metadata": {},
   "outputs": [],
   "source": []
  },
  {
   "cell_type": "code",
   "execution_count": null,
   "id": "18493a49",
   "metadata": {},
   "outputs": [],
   "source": []
  },
  {
   "cell_type": "markdown",
   "id": "43a03bf9",
   "metadata": {},
   "source": [
    "## Workflow once we have created an XML file, and a typed mol2 file:\n",
    "\n",
    "Everything above this cell is something that we should only need to do once.\n",
    "Then, once we have an XML file, and a typed mol2 file (i.e. one with the particles renamed correctly)\n",
    "every time we want to run a new simulation, the process would look like the cells below:"
   ]
  },
  {
   "cell_type": "code",
   "execution_count": null,
   "id": "c566e937",
   "metadata": {},
   "outputs": [],
   "source": [
    "import mbuild as mb\n",
    "import foyer\n",
    "from mbuild.formats.hoomd_forcefield import create_hoomd_forcefield"
   ]
  },
  {
   "cell_type": "code",
   "execution_count": null,
   "id": "7ceb1a5f",
   "metadata": {},
   "outputs": [],
   "source": [
    "esp = foyer.Forcefield(forcefield_files=\"benzene_esp2.xml\")"
   ]
  },
  {
   "cell_type": "code",
   "execution_count": null,
   "id": "adfa549d",
   "metadata": {},
   "outputs": [],
   "source": [
    "# We have to add the underscore to the names manually if we are using foyer XML files without SMARTS definitions\n",
    "benzene = mb.load(\"benzene_typed.mol2\")\n",
    "for p in benzene.particles():\n",
    "    p.name = f\"_{p.name}\""
   ]
  },
  {
   "cell_type": "code",
   "execution_count": null,
   "id": "e8226e83",
   "metadata": {},
   "outputs": [],
   "source": [
    "box = mb.fill_box(compound=benzene, n_compounds=5, box=[1,1,1])\n",
    "box_pmd = esp.apply(box)"
   ]
  },
  {
   "cell_type": "code",
   "execution_count": null,
   "id": "079c3d81",
   "metadata": {},
   "outputs": [],
   "source": [
    "snapshot, forcefield, refs = create_hoomd_forcefield(box_pmd, auto_scale=True, r_cut=2.5)"
   ]
  },
  {
   "cell_type": "code",
   "execution_count": null,
   "id": "5087683d",
   "metadata": {},
   "outputs": [],
   "source": [
    "#setting cpu and simulation \n",
    "cpu = hoomd.device.CPU()\n",
    "sim = hoomd.Simulation(device=cpu,seed=0)\n",
    "sim.create_state_from_snapshot(snapshot)"
   ]
  },
  {
   "cell_type": "code",
   "execution_count": null,
   "id": "0f20d047",
   "metadata": {},
   "outputs": [],
   "source": [
    "#setting the integrator\n",
    "kt = 4\n",
    "free_particle = hoomd.filter.Tags(tags=[0,1])  #letting hoomd know which particles to update the positions of\n",
    "integrator = hoomd.md.Integrator(dt=0.01)\n",
    "nvt = hoomd.md.methods.NVT(kT=kt,filter=free_particle, tau=0.1)\n",
    "integrator.forces = forcefield\n",
    "integrator.methods.append(nvt)\n",
    "sim.operations.integrator = integrator\n",
    "sim.state.thermalize_particle_momenta(filter=free_particle, kT=kt)\n",
    "# Set up GSD writer\n",
    "gsd_writer = hoomd.write.GSD(\n",
    "    trigger=hoomd.trigger.Periodic(int(2e2)),\n",
    "    filename=\"traj_benzene.gsd\",  #name the output file\n",
    "    mode=\"wb\"\n",
    ")\n",
    "sim.operations.writers.append(gsd_writer)"
   ]
  },
  {
   "cell_type": "code",
   "execution_count": null,
   "id": "83999296",
   "metadata": {},
   "outputs": [],
   "source": []
  }
 ],
 "metadata": {
  "kernelspec": {
   "display_name": "Python 3 (ipykernel)",
   "language": "python",
   "name": "python3"
  },
  "language_info": {
   "codemirror_mode": {
    "name": "ipython",
    "version": 3
   },
   "file_extension": ".py",
   "mimetype": "text/x-python",
   "name": "python",
   "nbconvert_exporter": "python",
   "pygments_lexer": "ipython3",
   "version": "3.9.15"
  }
 },
 "nbformat": 4,
 "nbformat_minor": 5
}
