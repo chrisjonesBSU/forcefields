{
 "cells": [
  {
   "cell_type": "code",
   "execution_count": 1,
   "id": "538feb4b",
   "metadata": {
    "scrolled": true
   },
   "outputs": [
    {
     "name": "stderr",
     "output_type": "stream",
     "text": [
      "Warning: importing 'simtk.openmm' is deprecated.  Import 'openmm' instead.\n",
      "/Users/madilyn/miniconda3/envs/espaloma/lib/python3.9/site-packages/qcelemental/models/results.py:788: DeprecationWarning: ResultProtocols has been renamed to AtomicResultProtocols and will be removed as soon as v0.13.0\n",
      "  warn(\n",
      "/Users/madilyn/miniconda3/envs/espaloma/lib/python3.9/site-packages/qcelemental/models/results.py:788: DeprecationWarning: ResultProtocols has been renamed to AtomicResultProtocols and will be removed as soon as v0.13.0\n",
      "  warn(\n",
      "LICENSE: Could not open license file \"oe_license.txt\" in local directory\n",
      "LICENSE: N.B. OE_LICENSE environment variable is not set\n",
      "LICENSE: N.B. OE_DIR environment variable is not set\n",
      "LICENSE: No product keys!\n",
      "LICENSE: No product keys!\n",
      "LICENSE: No product keys!\n",
      "LICENSE: No product keys!\n",
      "Warning: Unable to load toolkit 'OpenEye Toolkit'. The Open Force Field Toolkit does not require the OpenEye Toolkits, and can use RDKit/AmberTools instead. However, if you have a valid license for the OpenEye Toolkits, consider installing them for faster performance and additional file format support: https://docs.eyesopen.com/toolkits/python/quickstart-python/linuxosx.html OpenEye offers free Toolkit licenses for academics: https://www.eyesopen.com/academic-licensing\n"
     ]
    }
   ],
   "source": [
    "from writers import foyer_xml_writer\n",
    "from writers.foyer_xml_writer import parmed_to_foyer_xml, mbuild_to_foyer_xml\n",
    "\n",
    "\n",
    "import ele\n",
    "import espaloma as esp\n",
    "import forcefield_utilities as ffutils\n",
    "import foyer\n",
    "import gmso\n",
    "import mbuild as mb\n",
    "from mbuild.lib.recipes import Polymer\n",
    "from mbuild.formats.hoomd_forcefield import create_hoomd_forcefield\n",
    "import numpy as np\n",
    "from openff.toolkit.topology import Molecule\n",
    "import torch\n",
    "from mbuild.formats.hoomd_forcefield import create_hoomd_forcefield\n",
    "import hoomd\n",
    "import gsd.hoomd\n",
    "import matplotlib.pyplot as plt\n",
    "\n",
    "import os\n",
    "import warnings\n",
    "warnings.filterwarnings(\"ignore\")\n",
    "\n",
    "if not os.path.exists(\"espaloma_model.pt\"):\n",
    "    os.system(\"wget http://data.wangyq.net/espaloma_model.pt\")"
   ]
  },
  {
   "cell_type": "code",
   "execution_count": 50,
   "id": "c3eebc8a",
   "metadata": {
    "scrolled": false
   },
   "outputs": [
    {
     "name": "stderr",
     "output_type": "stream",
     "text": [
      "/Users/madilyn/miniconda3/envs/espaloma/bin/wrapped_progs/antechamber: Fatal Error!\n",
      "Cannot properly run \"/Users/madilyn/miniconda3/envs/espaloma/bin/sqm -O -i sqm.in -o sqm.out\".\n"
     ]
    },
    {
     "ename": "KeyboardInterrupt",
     "evalue": "",
     "output_type": "error",
     "traceback": [
      "\u001b[0;31m---------------------------------------------------------------------------\u001b[0m",
      "\u001b[0;31mKeyboardInterrupt\u001b[0m                         Traceback (most recent call last)",
      "Cell \u001b[0;32mIn[50], line 15\u001b[0m\n\u001b[1;32m     13\u001b[0m espaloma_model \u001b[38;5;241m=\u001b[39m torch\u001b[38;5;241m.\u001b[39mload(\u001b[38;5;124m\"\u001b[39m\u001b[38;5;124mespaloma_model.pt\u001b[39m\u001b[38;5;124m\"\u001b[39m)\n\u001b[1;32m     14\u001b[0m espaloma_model(molecule_graph\u001b[38;5;241m.\u001b[39mheterograph)\n\u001b[0;32m---> 15\u001b[0m openmm_system \u001b[38;5;241m=\u001b[39m \u001b[43mesp\u001b[49m\u001b[38;5;241;43m.\u001b[39;49m\u001b[43mgraphs\u001b[49m\u001b[38;5;241;43m.\u001b[39;49m\u001b[43mdeploy\u001b[49m\u001b[38;5;241;43m.\u001b[39;49m\u001b[43mopenmm_system_from_graph\u001b[49m\u001b[43m(\u001b[49m\u001b[43mmolecule_graph\u001b[49m\u001b[43m)\u001b[49m\n\u001b[1;32m     17\u001b[0m \u001b[38;5;66;03m# Store the results for each in something more accessible\u001b[39;00m\n\u001b[1;32m     18\u001b[0m pair_forces \u001b[38;5;241m=\u001b[39m openmm_system\u001b[38;5;241m.\u001b[39mgetForces()[\u001b[38;5;241m1\u001b[39m]\n",
      "File \u001b[0;32m~/miniconda3/envs/espaloma/lib/python3.9/site-packages/espaloma-0.2.4+6.ga178702-py3.9.egg/espaloma/graphs/deploy.py:100\u001b[0m, in \u001b[0;36mopenmm_system_from_graph\u001b[0;34m(g, forcefield, suffix, charge_method, create_system_kwargs)\u001b[0m\n\u001b[1;32m     95\u001b[0m     sys \u001b[38;5;241m=\u001b[39m ff\u001b[38;5;241m.\u001b[39mcreate_openmm_system(\n\u001b[1;32m     96\u001b[0m         g\u001b[38;5;241m.\u001b[39mmol\u001b[38;5;241m.\u001b[39mto_topology(), charge_from_molecules\u001b[38;5;241m=\u001b[39m[g\u001b[38;5;241m.\u001b[39mmol]\n\u001b[1;32m     97\u001b[0m     )\n\u001b[1;32m     99\u001b[0m \u001b[38;5;28;01melif\u001b[39;00m charge_method \u001b[38;5;241m==\u001b[39m \u001b[38;5;124m\"\u001b[39m\u001b[38;5;124mam1-bcc\u001b[39m\u001b[38;5;124m\"\u001b[39m:\n\u001b[0;32m--> 100\u001b[0m     \u001b[43mg\u001b[49m\u001b[38;5;241;43m.\u001b[39;49m\u001b[43mmol\u001b[49m\u001b[38;5;241;43m.\u001b[39;49m\u001b[43massign_partial_charges\u001b[49m\u001b[43m(\u001b[49m\u001b[38;5;124;43m\"\u001b[39;49m\u001b[38;5;124;43mam1bcc\u001b[39;49m\u001b[38;5;124;43m\"\u001b[39;49m\u001b[43m)\u001b[49m\n\u001b[1;32m    101\u001b[0m     sys \u001b[38;5;241m=\u001b[39m ff\u001b[38;5;241m.\u001b[39mcreate_openmm_system(\n\u001b[1;32m    102\u001b[0m         g\u001b[38;5;241m.\u001b[39mmol\u001b[38;5;241m.\u001b[39mto_topology(), charge_from_molecules\u001b[38;5;241m=\u001b[39m[g\u001b[38;5;241m.\u001b[39mmol]\n\u001b[1;32m    103\u001b[0m     )\n\u001b[1;32m    105\u001b[0m \u001b[38;5;28;01melif\u001b[39;00m charge_method \u001b[38;5;241m==\u001b[39m \u001b[38;5;124m\"\u001b[39m\u001b[38;5;124mfrom-molecule\u001b[39m\u001b[38;5;124m\"\u001b[39m:\n",
      "File \u001b[0;32m~/miniconda3/envs/espaloma/lib/python3.9/site-packages/openff/toolkit/topology/molecule.py:3396\u001b[0m, in \u001b[0;36mFrozenMolecule.assign_partial_charges\u001b[0;34m(self, partial_charge_method, strict_n_conformers, use_conformers, toolkit_registry, normalize_partial_charges)\u001b[0m\n\u001b[1;32m   3359\u001b[0m \u001b[38;5;250m\u001b[39m\u001b[38;5;124;03m\"\"\"\u001b[39;00m\n\u001b[1;32m   3360\u001b[0m \u001b[38;5;124;03mCalculate partial atomic charges for this molecule using an underlying toolkit, and assign\u001b[39;00m\n\u001b[1;32m   3361\u001b[0m \u001b[38;5;124;03mthe new values to the partial_charges attribute.\u001b[39;00m\n\u001b[0;32m   (...)\u001b[0m\n\u001b[1;32m   3389\u001b[0m \n\u001b[1;32m   3390\u001b[0m \u001b[38;5;124;03m\"\"\"\u001b[39;00m\n\u001b[1;32m   3391\u001b[0m \u001b[38;5;28;01mif\u001b[39;00m \u001b[38;5;28misinstance\u001b[39m(toolkit_registry, ToolkitRegistry):\n\u001b[1;32m   3392\u001b[0m     \u001b[38;5;66;03m# We may need to try several toolkitwrappers to find one\u001b[39;00m\n\u001b[1;32m   3393\u001b[0m     \u001b[38;5;66;03m# that supports the desired partial charge method, so we\u001b[39;00m\n\u001b[1;32m   3394\u001b[0m     \u001b[38;5;66;03m# tell the ToolkitRegistry to continue trying ToolkitWrappers\u001b[39;00m\n\u001b[1;32m   3395\u001b[0m     \u001b[38;5;66;03m# if one raises an error (raise_exception_types=[])\u001b[39;00m\n\u001b[0;32m-> 3396\u001b[0m     \u001b[43mtoolkit_registry\u001b[49m\u001b[38;5;241;43m.\u001b[39;49m\u001b[43mcall\u001b[49m\u001b[43m(\u001b[49m\n\u001b[1;32m   3397\u001b[0m \u001b[43m        \u001b[49m\u001b[38;5;124;43m\"\u001b[39;49m\u001b[38;5;124;43massign_partial_charges\u001b[39;49m\u001b[38;5;124;43m\"\u001b[39;49m\u001b[43m,\u001b[49m\n\u001b[1;32m   3398\u001b[0m \u001b[43m        \u001b[49m\u001b[43mmolecule\u001b[49m\u001b[38;5;241;43m=\u001b[39;49m\u001b[38;5;28;43mself\u001b[39;49m\u001b[43m,\u001b[49m\n\u001b[1;32m   3399\u001b[0m \u001b[43m        \u001b[49m\u001b[43mpartial_charge_method\u001b[49m\u001b[38;5;241;43m=\u001b[39;49m\u001b[43mpartial_charge_method\u001b[49m\u001b[43m,\u001b[49m\n\u001b[1;32m   3400\u001b[0m \u001b[43m        \u001b[49m\u001b[43muse_conformers\u001b[49m\u001b[38;5;241;43m=\u001b[39;49m\u001b[43muse_conformers\u001b[49m\u001b[43m,\u001b[49m\n\u001b[1;32m   3401\u001b[0m \u001b[43m        \u001b[49m\u001b[43mstrict_n_conformers\u001b[49m\u001b[38;5;241;43m=\u001b[39;49m\u001b[43mstrict_n_conformers\u001b[49m\u001b[43m,\u001b[49m\n\u001b[1;32m   3402\u001b[0m \u001b[43m        \u001b[49m\u001b[43mnormalize_partial_charges\u001b[49m\u001b[38;5;241;43m=\u001b[39;49m\u001b[43mnormalize_partial_charges\u001b[49m\u001b[43m,\u001b[49m\n\u001b[1;32m   3403\u001b[0m \u001b[43m        \u001b[49m\u001b[43mraise_exception_types\u001b[49m\u001b[38;5;241;43m=\u001b[39;49m\u001b[43m[\u001b[49m\u001b[43m]\u001b[49m\u001b[43m,\u001b[49m\n\u001b[1;32m   3404\u001b[0m \u001b[43m        \u001b[49m\u001b[43m_cls\u001b[49m\u001b[38;5;241;43m=\u001b[39;49m\u001b[38;5;28;43mself\u001b[39;49m\u001b[38;5;241;43m.\u001b[39;49m\u001b[38;5;18;43m__class__\u001b[39;49m\u001b[43m,\u001b[49m\n\u001b[1;32m   3405\u001b[0m \u001b[43m    \u001b[49m\u001b[43m)\u001b[49m\n\u001b[1;32m   3406\u001b[0m \u001b[38;5;28;01melif\u001b[39;00m \u001b[38;5;28misinstance\u001b[39m(toolkit_registry, ToolkitWrapper):\n\u001b[1;32m   3407\u001b[0m     toolkit \u001b[38;5;241m=\u001b[39m toolkit_registry\n",
      "File \u001b[0;32m~/miniconda3/envs/espaloma/lib/python3.9/site-packages/openff/toolkit/utils/toolkit_registry.py:362\u001b[0m, in \u001b[0;36mToolkitRegistry.call\u001b[0;34m(self, method_name, raise_exception_types, *args, **kwargs)\u001b[0m\n\u001b[1;32m    360\u001b[0m method \u001b[38;5;241m=\u001b[39m \u001b[38;5;28mgetattr\u001b[39m(toolkit, method_name)\n\u001b[1;32m    361\u001b[0m \u001b[38;5;28;01mtry\u001b[39;00m:\n\u001b[0;32m--> 362\u001b[0m     \u001b[38;5;28;01mreturn\u001b[39;00m \u001b[43mmethod\u001b[49m\u001b[43m(\u001b[49m\u001b[38;5;241;43m*\u001b[39;49m\u001b[43margs\u001b[49m\u001b[43m,\u001b[49m\u001b[43m \u001b[49m\u001b[38;5;241;43m*\u001b[39;49m\u001b[38;5;241;43m*\u001b[39;49m\u001b[43mkwargs\u001b[49m\u001b[43m)\u001b[49m\n\u001b[1;32m    363\u001b[0m \u001b[38;5;28;01mexcept\u001b[39;00m \u001b[38;5;167;01mException\u001b[39;00m \u001b[38;5;28;01mas\u001b[39;00m e:\n\u001b[1;32m    364\u001b[0m     \u001b[38;5;28;01mfor\u001b[39;00m exception_type \u001b[38;5;129;01min\u001b[39;00m raise_exception_types:\n",
      "File \u001b[0;32m~/miniconda3/envs/espaloma/lib/python3.9/site-packages/openff/toolkit/utils/ambertools_wrapper.py:228\u001b[0m, in \u001b[0;36mAmberToolsToolkitWrapper.assign_partial_charges\u001b[0;34m(self, molecule, partial_charge_method, use_conformers, strict_n_conformers, normalize_partial_charges, _cls)\u001b[0m\n\u001b[1;32m    225\u001b[0m \u001b[38;5;66;03m# Compute desired charges\u001b[39;00m\n\u001b[1;32m    226\u001b[0m \u001b[38;5;66;03m# TODO: Add error handling if antechamber chokes\u001b[39;00m\n\u001b[1;32m    227\u001b[0m short_charge_method \u001b[38;5;241m=\u001b[39m charge_method[\u001b[38;5;124m\"\u001b[39m\u001b[38;5;124mantechamber_keyword\u001b[39m\u001b[38;5;124m\"\u001b[39m]\n\u001b[0;32m--> 228\u001b[0m \u001b[43msubprocess\u001b[49m\u001b[38;5;241;43m.\u001b[39;49m\u001b[43mcheck_output\u001b[49m\u001b[43m(\u001b[49m\n\u001b[1;32m    229\u001b[0m \u001b[43m    \u001b[49m\u001b[43m[\u001b[49m\n\u001b[1;32m    230\u001b[0m \u001b[43m        \u001b[49m\u001b[38;5;124;43m\"\u001b[39;49m\u001b[38;5;124;43mantechamber\u001b[39;49m\u001b[38;5;124;43m\"\u001b[39;49m\u001b[43m,\u001b[49m\n\u001b[1;32m    231\u001b[0m \u001b[43m        \u001b[49m\u001b[38;5;124;43m\"\u001b[39;49m\u001b[38;5;124;43m-i\u001b[39;49m\u001b[38;5;124;43m\"\u001b[39;49m\u001b[43m,\u001b[49m\n\u001b[1;32m    232\u001b[0m \u001b[43m        \u001b[49m\u001b[38;5;124;43m\"\u001b[39;49m\u001b[38;5;124;43mmolecule.sdf\u001b[39;49m\u001b[38;5;124;43m\"\u001b[39;49m\u001b[43m,\u001b[49m\n\u001b[1;32m    233\u001b[0m \u001b[43m        \u001b[49m\u001b[38;5;124;43m\"\u001b[39;49m\u001b[38;5;124;43m-fi\u001b[39;49m\u001b[38;5;124;43m\"\u001b[39;49m\u001b[43m,\u001b[49m\n\u001b[1;32m    234\u001b[0m \u001b[43m        \u001b[49m\u001b[38;5;124;43m\"\u001b[39;49m\u001b[38;5;124;43msdf\u001b[39;49m\u001b[38;5;124;43m\"\u001b[39;49m\u001b[43m,\u001b[49m\n\u001b[1;32m    235\u001b[0m \u001b[43m        \u001b[49m\u001b[38;5;124;43m\"\u001b[39;49m\u001b[38;5;124;43m-o\u001b[39;49m\u001b[38;5;124;43m\"\u001b[39;49m\u001b[43m,\u001b[49m\n\u001b[1;32m    236\u001b[0m \u001b[43m        \u001b[49m\u001b[38;5;124;43m\"\u001b[39;49m\u001b[38;5;124;43mcharged.mol2\u001b[39;49m\u001b[38;5;124;43m\"\u001b[39;49m\u001b[43m,\u001b[49m\n\u001b[1;32m    237\u001b[0m \u001b[43m        \u001b[49m\u001b[38;5;124;43m\"\u001b[39;49m\u001b[38;5;124;43m-fo\u001b[39;49m\u001b[38;5;124;43m\"\u001b[39;49m\u001b[43m,\u001b[49m\n\u001b[1;32m    238\u001b[0m \u001b[43m        \u001b[49m\u001b[38;5;124;43m\"\u001b[39;49m\u001b[38;5;124;43mmol2\u001b[39;49m\u001b[38;5;124;43m\"\u001b[39;49m\u001b[43m,\u001b[49m\n\u001b[1;32m    239\u001b[0m \u001b[43m        \u001b[49m\u001b[38;5;124;43m\"\u001b[39;49m\u001b[38;5;124;43m-pf\u001b[39;49m\u001b[38;5;124;43m\"\u001b[39;49m\u001b[43m,\u001b[49m\n\u001b[1;32m    240\u001b[0m \u001b[43m        \u001b[49m\u001b[38;5;124;43m\"\u001b[39;49m\u001b[38;5;124;43myes\u001b[39;49m\u001b[38;5;124;43m\"\u001b[39;49m\u001b[43m,\u001b[49m\n\u001b[1;32m    241\u001b[0m \u001b[43m        \u001b[49m\u001b[38;5;124;43m\"\u001b[39;49m\u001b[38;5;124;43m-dr\u001b[39;49m\u001b[38;5;124;43m\"\u001b[39;49m\u001b[43m,\u001b[49m\n\u001b[1;32m    242\u001b[0m \u001b[43m        \u001b[49m\u001b[38;5;124;43m\"\u001b[39;49m\u001b[38;5;124;43mn\u001b[39;49m\u001b[38;5;124;43m\"\u001b[39;49m\u001b[43m,\u001b[49m\n\u001b[1;32m    243\u001b[0m \u001b[43m        \u001b[49m\u001b[38;5;124;43m\"\u001b[39;49m\u001b[38;5;124;43m-c\u001b[39;49m\u001b[38;5;124;43m\"\u001b[39;49m\u001b[43m,\u001b[49m\n\u001b[1;32m    244\u001b[0m \u001b[43m        \u001b[49m\u001b[43mshort_charge_method\u001b[49m\u001b[43m,\u001b[49m\n\u001b[1;32m    245\u001b[0m \u001b[43m        \u001b[49m\u001b[38;5;124;43m\"\u001b[39;49m\u001b[38;5;124;43m-nc\u001b[39;49m\u001b[38;5;124;43m\"\u001b[39;49m\u001b[43m,\u001b[49m\n\u001b[1;32m    246\u001b[0m \u001b[43m        \u001b[49m\u001b[38;5;28;43mstr\u001b[39;49m\u001b[43m(\u001b[49m\u001b[43mnet_charge\u001b[49m\u001b[43m)\u001b[49m\u001b[43m,\u001b[49m\n\u001b[1;32m    247\u001b[0m \u001b[43m    \u001b[49m\u001b[43m]\u001b[49m\n\u001b[1;32m    248\u001b[0m \u001b[43m\u001b[49m\u001b[43m)\u001b[49m\n\u001b[1;32m    249\u001b[0m \u001b[38;5;66;03m# Write out just charges\u001b[39;00m\n\u001b[1;32m    250\u001b[0m subprocess\u001b[38;5;241m.\u001b[39mcheck_output(\n\u001b[1;32m    251\u001b[0m     [\n\u001b[1;32m    252\u001b[0m         \u001b[38;5;124m\"\u001b[39m\u001b[38;5;124mantechamber\u001b[39m\u001b[38;5;124m\"\u001b[39m,\n\u001b[0;32m   (...)\u001b[0m\n\u001b[1;32m    269\u001b[0m     ]\n\u001b[1;32m    270\u001b[0m )\n",
      "File \u001b[0;32m~/miniconda3/envs/espaloma/lib/python3.9/subprocess.py:424\u001b[0m, in \u001b[0;36mcheck_output\u001b[0;34m(timeout, *popenargs, **kwargs)\u001b[0m\n\u001b[1;32m    421\u001b[0m         empty \u001b[38;5;241m=\u001b[39m \u001b[38;5;124mb\u001b[39m\u001b[38;5;124m'\u001b[39m\u001b[38;5;124m'\u001b[39m\n\u001b[1;32m    422\u001b[0m     kwargs[\u001b[38;5;124m'\u001b[39m\u001b[38;5;124minput\u001b[39m\u001b[38;5;124m'\u001b[39m] \u001b[38;5;241m=\u001b[39m empty\n\u001b[0;32m--> 424\u001b[0m \u001b[38;5;28;01mreturn\u001b[39;00m \u001b[43mrun\u001b[49m\u001b[43m(\u001b[49m\u001b[38;5;241;43m*\u001b[39;49m\u001b[43mpopenargs\u001b[49m\u001b[43m,\u001b[49m\u001b[43m \u001b[49m\u001b[43mstdout\u001b[49m\u001b[38;5;241;43m=\u001b[39;49m\u001b[43mPIPE\u001b[49m\u001b[43m,\u001b[49m\u001b[43m \u001b[49m\u001b[43mtimeout\u001b[49m\u001b[38;5;241;43m=\u001b[39;49m\u001b[43mtimeout\u001b[49m\u001b[43m,\u001b[49m\u001b[43m \u001b[49m\u001b[43mcheck\u001b[49m\u001b[38;5;241;43m=\u001b[39;49m\u001b[38;5;28;43;01mTrue\u001b[39;49;00m\u001b[43m,\u001b[49m\n\u001b[1;32m    425\u001b[0m \u001b[43m           \u001b[49m\u001b[38;5;241;43m*\u001b[39;49m\u001b[38;5;241;43m*\u001b[39;49m\u001b[43mkwargs\u001b[49m\u001b[43m)\u001b[49m\u001b[38;5;241m.\u001b[39mstdout\n",
      "File \u001b[0;32m~/miniconda3/envs/espaloma/lib/python3.9/subprocess.py:507\u001b[0m, in \u001b[0;36mrun\u001b[0;34m(input, capture_output, timeout, check, *popenargs, **kwargs)\u001b[0m\n\u001b[1;32m    505\u001b[0m \u001b[38;5;28;01mwith\u001b[39;00m Popen(\u001b[38;5;241m*\u001b[39mpopenargs, \u001b[38;5;241m*\u001b[39m\u001b[38;5;241m*\u001b[39mkwargs) \u001b[38;5;28;01mas\u001b[39;00m process:\n\u001b[1;32m    506\u001b[0m     \u001b[38;5;28;01mtry\u001b[39;00m:\n\u001b[0;32m--> 507\u001b[0m         stdout, stderr \u001b[38;5;241m=\u001b[39m \u001b[43mprocess\u001b[49m\u001b[38;5;241;43m.\u001b[39;49m\u001b[43mcommunicate\u001b[49m\u001b[43m(\u001b[49m\u001b[38;5;28;43minput\u001b[39;49m\u001b[43m,\u001b[49m\u001b[43m \u001b[49m\u001b[43mtimeout\u001b[49m\u001b[38;5;241;43m=\u001b[39;49m\u001b[43mtimeout\u001b[49m\u001b[43m)\u001b[49m\n\u001b[1;32m    508\u001b[0m     \u001b[38;5;28;01mexcept\u001b[39;00m TimeoutExpired \u001b[38;5;28;01mas\u001b[39;00m exc:\n\u001b[1;32m    509\u001b[0m         process\u001b[38;5;241m.\u001b[39mkill()\n",
      "File \u001b[0;32m~/miniconda3/envs/espaloma/lib/python3.9/subprocess.py:1121\u001b[0m, in \u001b[0;36mPopen.communicate\u001b[0;34m(self, input, timeout)\u001b[0m\n\u001b[1;32m   1119\u001b[0m     \u001b[38;5;28mself\u001b[39m\u001b[38;5;241m.\u001b[39m_stdin_write(\u001b[38;5;28minput\u001b[39m)\n\u001b[1;32m   1120\u001b[0m \u001b[38;5;28;01melif\u001b[39;00m \u001b[38;5;28mself\u001b[39m\u001b[38;5;241m.\u001b[39mstdout:\n\u001b[0;32m-> 1121\u001b[0m     stdout \u001b[38;5;241m=\u001b[39m \u001b[38;5;28;43mself\u001b[39;49m\u001b[38;5;241;43m.\u001b[39;49m\u001b[43mstdout\u001b[49m\u001b[38;5;241;43m.\u001b[39;49m\u001b[43mread\u001b[49m\u001b[43m(\u001b[49m\u001b[43m)\u001b[49m\n\u001b[1;32m   1122\u001b[0m     \u001b[38;5;28mself\u001b[39m\u001b[38;5;241m.\u001b[39mstdout\u001b[38;5;241m.\u001b[39mclose()\n\u001b[1;32m   1123\u001b[0m \u001b[38;5;28;01melif\u001b[39;00m \u001b[38;5;28mself\u001b[39m\u001b[38;5;241m.\u001b[39mstderr:\n",
      "\u001b[0;31mKeyboardInterrupt\u001b[0m: "
     ]
    }
   ],
   "source": [
    "#cant get the sdf file or mol file to work with N-S-N bonds, it works from smiles string though...\n",
    "#either need to get smiles string directly from mol2 file or figure out how to get the \n",
    "#smiles string from the smi file into a usable format. \n",
    "#it worked to run openbabel and get the smile string from the smi file and then just \n",
    "#delete the brackets around the N's.\n",
    "\n",
    "#molecule = Molecule.from_file(\"C5.sdf\",file_format = \"sdf\")\n",
    "\n",
    "molecule = Molecule.from_smiles(\"C1([C]2[C](S[CH][CH]2)[C]2[C]1[CH][C](S2)[C]1[CH][N][CH][C]2[C]1NSN2)(CCCCCCCCCCCCCCCC)CCCCCCCCCCCCCCCC\")\n",
    "molecule_graph = esp.Graph(molecule)\n",
    "#either generate smiles string from the built fragments or get our fragments into a Molecule supported file format\n",
    "\n",
    "espaloma_model = torch.load(\"espaloma_model.pt\")\n",
    "espaloma_model(molecule_graph.heterograph)\n",
    "openmm_system = esp.graphs.deploy.openmm_system_from_graph(molecule_graph)\n",
    "\n",
    "# Store the results for each in something more accessible\n",
    "pair_forces = openmm_system.getForces()[1]\n",
    "angle_forces = openmm_system.getForces()[3]\n",
    "bond_forces = openmm_system.getForces()[2]\n",
    "torsion_forces = openmm_system.getForces()[0]"
   ]
  },
  {
   "cell_type": "code",
   "execution_count": 3,
   "id": "ec6cfe57",
   "metadata": {},
   "outputs": [],
   "source": [
    "# get a parmed structure from openmm \n",
    "import parmed as pmd\n",
    "topology = molecule.to_topology()\n",
    "openmm_topology = topology.to_openmm()\n",
    "\n",
    "structure = pmd.openmm.load_topology(topology=openmm_topology, system=openmm_system)\n",
    "structure.bonds.sort(key=lambda x: x.atom1.idx)"
   ]
  },
  {
   "cell_type": "code",
   "execution_count": 4,
   "id": "1b98eb25",
   "metadata": {},
   "outputs": [],
   "source": [
    "# step 1: how to get bond parameters\n",
    "\n",
    "bond_parameters = {}\n",
    "\n",
    "for bond in structure.bonds:\n",
    "    bond_parameters[(bond.atom1.name, bond.atom2.name)] = {\"k\":[bond.type.k] , \"l0\":[bond.type.req]}\n",
    "    \n",
    "# step 2: get angle parameters\n",
    "\n",
    "angle_parameters = {}\n",
    "\n",
    "for angle in structure.angles:\n",
    "    angle_parameters[(angle.atom1.name, angle.atom2.name,angle.atom3.name)] = {\"k\":[angle.type.k], \n",
    "                                                                               \"t0\":[angle.type.theteq]}\n",
    "    \n",
    "# step 3: dihedral parameters\n",
    "\n",
    "dihedral_parameters = {}\n",
    "\n",
    "for dihedral in structure.dihedrals:\n",
    "    dihedral_parameters[(dihedral.atom1.name, dihedral.atom2.name,dihedral.atom3.name,\n",
    "                         dihedral.atom4.name)] = {\"periodicity\":[dihedral.type.per],\n",
    "                                                  \"k\":[dihedral.type.phi_k],\"phase\":[dihedral.type.phase]}\n",
    "    \n",
    "# step 4: non-bonding parameters\n",
    "\n",
    "nonbonded_parameters = {}\n",
    "\n",
    "for nonbonded in structure.adjusts:\n",
    "    nonbonded_parameters[(nonbonded.atom1.name,nonbonded.atom2.name)] = {\"sigma\":[nonbonded.type.rmin],\n",
    "                                                    \"epsilon\":[nonbonded.type.epsilon],\n",
    "                                                    \"charge\":[nonbonded.type.chgscale]}"
   ]
  },
  {
   "cell_type": "code",
   "execution_count": 5,
   "id": "31a33eae",
   "metadata": {},
   "outputs": [
    {
     "name": "stdout",
     "output_type": "stream",
     "text": [
      "{0: 0, 1: 1, 2: 2, 3: 3, 4: 4, 5: 5, 6: 6, 7: 7, 8: 8, 9: 9, 10: 10, 11: 11, 12: 11, 13: 12, 14: 13, 15: 14, 16: 15, 17: 16, 18: 17, 19: 18, 20: 18, 21: 19, 22: 19, 23: 20, 24: 20, 25: 20}\n"
     ]
    }
   ],
   "source": [
    "particle_types = []\n",
    "particle_type_dict = dict()\n",
    "\n",
    "for i in range(pair_forces.getNumParticles()):\n",
    "    pair_parms = pair_forces.getParticleParameters(index=i)\n",
    "    charge = pair_parms[0]\n",
    "    sigma = pair_parms[1]\n",
    "    epsilon = pair_parms[2]\n",
    "    if (charge, sigma, epsilon) not in particle_types: #this is adding the charge,sigma, and epsilon to the particle_types, but only once.\n",
    "        particle_types.append((charge, sigma, epsilon))\n",
    "        #print((charge, sigma, epsilon) )\n",
    "    particle_type_dict[i] = particle_types.index((charge, sigma, epsilon)) #adding only the index of the pair_parms, this gives particle types.\n",
    "print(particle_type_dict)\n",
    "\n",
    "#particle_types gives the sigma, charge, and epsilon associated with each unique particle, \n",
    "#particle_type_dict only gives the index associated with each unique particle type"
   ]
  },
  {
   "cell_type": "code",
   "execution_count": 6,
   "id": "4de400b7",
   "metadata": {},
   "outputs": [
    {
     "name": "stdout",
     "output_type": "stream",
     "text": [
      "{1: 'C2', 0: 'C1', 5: 'C2', 2: 'C2', 3: 'S1', 4: 'C2', 6: 'C2', 10: 'S1', 7: 'C2', 8: 'C2', 9: 'C2', 16: 'C1', 11: 'H1', 12: 'H1', 13: 'H2', 14: 'H3', 15: 'H3', 17: 'C1', 18: 'C1', 19: 'H1', 20: 'H1', 21: 'H1', 22: 'H1', 23: 'H1', 24: 'H1', 25: 'H1'}\n"
     ]
    }
   ],
   "source": [
    "#graph check\n",
    "#want to check if the opemm and parmed graphs are the same so we can use types from parmed \n",
    "import networkx  as nx\n",
    "Gopenmm = nx.Graph()\n",
    "Gparmed = nx.Graph()\n",
    "#openmm:\n",
    "for i in range(bond_forces.getNumBonds()):\n",
    "    Gopenmm.add_edge(bond_forces.getBondParameters(index=i)[0],bond_forces.getBondParameters(index=i)[1])\n",
    "#parmed\n",
    "for b in structure.bonds:\n",
    "    Gparmed.add_edge(b.atom1.idx,b.atom2.idx)\n",
    "type_map = {}\n",
    "#nx.rooted_tree_isomorphism\n",
    "#in here we still need to check that one known index on one corresponds to the same index on the other....\n",
    "tree_openmm = nx.bfs_tree(Gopenmm,0)\n",
    "tree_parmed = nx.bfs_tree(Gparmed,0)\n",
    "if nx.is_isomorphic(Gopenmm,Gparmed):\n",
    "#if nx.isomorphism.tree_isomorphism(tree_openmm,tree_parmed):  <- want this work\n",
    "    for b in structure.bonds:\n",
    "        type_map[b.atom1.idx] = b.atom1.atom_type.__str__()\n",
    "        type_map[b.atom2.idx] = b.atom2.atom_type.__str__()\n",
    "print(type_map)"
   ]
  },
  {
   "cell_type": "code",
   "execution_count": 7,
   "id": "c07909e7",
   "metadata": {},
   "outputs": [],
   "source": [
    "# Rename the particle types so that they match the xml file\n",
    "# This is needed when we aren't using SMARTS matching with Foyer.\n",
    "\n",
    "c5 = mb.load(\"C5.mol2\")\n",
    "\n",
    "for index in type_map:\n",
    "    c5[index].name = type_map[index]"
   ]
  },
  {
   "cell_type": "code",
   "execution_count": 8,
   "id": "d7bce47f",
   "metadata": {},
   "outputs": [
    {
     "name": "stdout",
     "output_type": "stream",
     "text": [
      "{('C1', 'C2'): {'k': 133294.27795350857, 'l0': 0.15228319801780385}, ('C1', 'H1'): {'k': 367143.4369119569, 'l0': 0.11571172936022506}, ('C2', 'C2'): {'k': 79255.34916790333, 'l0': 0.1521817355789801}, ('C2', 'S1'): {'k': 21114.006445429724, 'l0': 0.18958480007468242}, ('S1', 'C2'): {'k': 28694.966463816825, 'l0': 0.18876555585650523}, ('C2', 'H2'): {'k': 315697.8888381377, 'l0': 0.10270294393487327}, ('C2', 'H3'): {'k': 195188.3176604623, 'l0': 0.10494616970245124}, ('C2', 'C1'): {'k': 174204.69976096076, 'l0': 0.1451684252139238}, ('C1', 'C1'): {'k': 256858.34515821582, 'l0': 0.15905723517317444}}\n"
     ]
    }
   ],
   "source": [
    "bond_types = []\n",
    "bond_dict = dict() #creating an empty dictionary to put our parameters in \n",
    "\n",
    "for i in range(bond_forces.getNumBonds()):\n",
    "    bond_parms = bond_forces.getBondParameters(index=i)\n",
    "    #print(bond_parms)\n",
    "    #atoms = {(bond.atom1.name,bond.atom2.name):[]} #gives you the atom type name and index\n",
    "    l0 = bond_parms[2]/bond_parms[2].unit\n",
    "    k = bond_parms[3]/bond_parms[3].unit\n",
    "    #if (type_map[bond_parms[0]],type_map[bond_parms[1]],k,l0) not in bond_dict:\n",
    "    #    bond_types.append((type_map[bond_parms[0]],type_map[bond_parms[1]],k,l0))\n",
    "    bond_dict[type_map[bond_parms[0]],type_map[bond_parms[1]]] = {'k':k,'l0':l0}\n",
    "print(bond_dict)"
   ]
  },
  {
   "cell_type": "code",
   "execution_count": 9,
   "id": "569a6335",
   "metadata": {
    "scrolled": true
   },
   "outputs": [
    {
     "name": "stdout",
     "output_type": "stream",
     "text": [
      "{('C1', 'C2', 'C2'): {'k': 308.70868383326155, 't0': 1.894422173500061}, ('C2', 'C1', 'C2'): {'k': 632.8632819300277, 't0': 1.8301576375961304}, ('C2', 'C1', 'H1'): {'k': 343.88739479425425, 't0': 1.9283297061920166}, ('C2', 'C2', 'S1'): {'k': 270.93150190046146, 't0': 1.8118257522583008}, ('C2', 'C2', 'C2'): {'k': 503.57289986390884, 't0': 1.8925292491912842}, ('C2', 'C2', 'H3'): {'k': 372.1358782760925, 't0': 2.002474308013916}, ('C2', 'S1', 'C2'): {'k': 391.468035960259, 't0': 1.534282922744751}, ('S1', 'C2', 'C2'): {'k': 313.25530382004433, 't0': 2.0114521980285645}, ('S1', 'C2', 'H2'): {'k': 320.7375371737616, 't0': 2.1473066806793213}, ('C2', 'C2', 'H2'): {'k': 388.3106930285571, 't0': 2.039250373840332}, ('C2', 'C2', 'C1'): {'k': 304.77293026452503, 't0': 1.9249714612960815}, ('C2', 'C1', 'C1'): {'k': 341.8755731076143, 't0': 2.0228121280670166}, ('S1', 'C2', 'C1'): {'k': 244.62416441779027, 't0': 1.8533281087875366}, ('H1', 'C1', 'H1'): {'k': 448.81099853196895, 't0': 2.028378963470459}, ('C1', 'C1', 'C1'): {'k': 261.2991079556459, 't0': 2.026238441467285}, ('C1', 'C1', 'H1'): {'k': 267.1515947757039, 't0': 2.0718319416046143}}\n"
     ]
    }
   ],
   "source": [
    "angle_types = []\n",
    "angle_dict = dict() #creating an empty dictionary to put our parameters in \n",
    "\n",
    "for i in range(angle_forces.getNumAngles()):\n",
    "    angle_parms = angle_forces.getAngleParameters(index=i)\n",
    "    k = angle_parms[4]/angle_parms[4].unit\n",
    "    t0 = angle_parms[3]/angle_parms[3].unit  \n",
    "#    if (type_map[angle_parms[0]],type_map[angle_parms[1]],type_map[angle_parms[2]],k,t0) not in angle_types:\n",
    "#        angle_types.append((type_map[angle_parms[0]],type_map[angle_parms[1]],type_map[angle_parms[2]],k,t0))\n",
    "    angle_dict[type_map[angle_parms[0]],type_map[angle_parms[1]],type_map[angle_parms[2]]] = {'k':k,'t0':t0}\n",
    "print(angle_dict)"
   ]
  },
  {
   "cell_type": "code",
   "execution_count": 10,
   "id": "83bacdda",
   "metadata": {},
   "outputs": [
    {
     "name": "stdout",
     "output_type": "stream",
     "text": [
      "{('C1', 'C2', 'C2', 'S1'): {'periodicity': [1, 2, 3, 4, 5, 6], 'k': [2.243226856698272, 2.6613758547276207, 0.11668677283042739, 2.013308360386957, 0.47831771660268824, 1.1670633432709854], 'phase': [3.141592653589793, 3.141592653589793, 0.0, 0.0, 0.0, 3.141592653589793]}, ('C1', 'C2', 'C2', 'C2'): {'periodicity': [1, 2, 3, 4, 5, 6], 'k': [0.6032129824737422, 3.4322210829246877, 0.7715152094580535, 0.819685395010733, 0.9580340802173629, 0.855737233375642], 'phase': [0.0, 3.141592653589793, 0.0, 0.0, 3.141592653589793, 3.141592653589793]}, ('C1', 'C2', 'C2', 'H3'): {'periodicity': [1, 2, 3, 4, 5, 6], 'k': [3.3635333325510675, 2.506036787068565, 0.6030907231195477, 0.6834982551862641, 1.3595337993924888, 0.21699201479231792], 'phase': [0.0, 3.141592653589793, 0.0, 3.141592653589793, 0.0, 3.141592653589793]}, ('C2', 'C1', 'C2', 'C2'): {'periodicity': [1, 2, 3, 4, 5, 6], 'k': [4.0184326796041265, 3.962859690154963, 0.5619822378651492, 0.0381253570120497, 0.44654984600875863, 0.154473471431358], 'phase': [3.141592653589793, 3.141592653589793, 0.0, 3.141592653589793, 0.0, 3.141592653589793]}, ('C2', 'C2', 'S1', 'C2'): {'periodicity': [1, 2, 3, 4, 5, 6], 'k': [1.0655905244765362, 2.1684163578665854, 0.4746230389189269, 1.2942032908850525, 0.6313962088026857, 0.13858831354085127], 'phase': [3.141592653589793, 3.141592653589793, 0.0, 0.0, 0.0, 3.141592653589793]}, ('C2', 'C2', 'C2', 'C2'): {'periodicity': [1, 2, 3, 4, 5, 6], 'k': [2.849151551648051, 3.091595518796604, 0.3876403987836239, 1.2751357220048598, 3.437551590767573, 0.1487578466227596], 'phase': [3.141592653589793, 3.141592653589793, 3.141592653589793, 0.0, 0.0, 0.0]}, ('C2', 'C2', 'C2', 'S1'): {'periodicity': [1, 2, 3, 4, 5, 6], 'k': [1.1478906313461852, 2.2466721252994764, 0.44872606251342284, 1.240448298032763, 0.5906398304883678, 0.1426473241001126], 'phase': [3.141592653589793, 3.141592653589793, 0.0, 0.0, 0.0, 3.141592653589793]}, ('C2', 'C2', 'C2', 'H2'): {'periodicity': [1, 2, 3, 4, 5, 6], 'k': [1.3452905846288157, 3.9482717040124613, 0.12659222570727535, 1.050217633280105, 2.129190666666784, 0.04835357458397145], 'phase': [0.0, 3.141592653589793, 0.0, 0.0, 0.0, 3.141592653589793]}, ('C2', 'C2', 'C1', 'C2'): {'periodicity': [1, 2, 3, 4, 5, 6], 'k': [2.4902885596547564, 2.1071693117892494, 1.2121941612783866, 0.7259026895951254, 0.39203195478629455, 0.13642676815869043], 'phase': [0.0, 3.141592653589793, 0.0, 0.0, 3.141592653589793, 3.141592653589793]}, ('C2', 'C2', 'C1', 'H1'): {'periodicity': [1, 2, 3, 4, 5, 6], 'k': [4.062076823864522, 1.1883352483073069, 1.247123658771789, 0.1590349679363592, 0.8292803091279267, 0.5344567668617729], 'phase': [0.0, 3.141592653589793, 3.141592653589793, 3.141592653589793, 0.0, 0.0]}, ('C2', 'C2', 'C2', 'H3'): {'periodicity': [1, 2, 3, 4, 5, 6], 'k': [0.34570299510778596, 1.4115380382927114, 1.091403141927646, 0.04631673374308912, 1.4723742929399533, 0.08137093577777], 'phase': [3.141592653589793, 3.141592653589793, 3.141592653589793, 3.141592653589793, 0.0, 3.141592653589793]}, ('C2', 'S1', 'C2', 'C2'): {'periodicity': [1, 2, 3, 4, 5, 6], 'k': [5.095041217080682, 4.681373024382566, 0.4528388671885298, 1.1078066794799377, 1.5143434840478818, 0.052479827788039814], 'phase': [3.141592653589793, 3.141592653589793, 0.0, 3.141592653589793, 0.0, 3.141592653589793]}, ('C2', 'S1', 'C2', 'H2'): {'periodicity': [1, 2, 3, 4, 5, 6], 'k': [0.7285606079553164, 2.6021668720847093, 1.1781204792643465, 0.7834183801824416, 1.3750069432593595, 0.2948125389242762], 'phase': [0.0, 3.141592653589793, 0.0, 3.141592653589793, 0.0, 3.141592653589793]}, ('S1', 'C2', 'C2', 'C2'): {'periodicity': [1, 2, 3, 4, 5, 6], 'k': [1.9987717231732172, 1.0768310495011895, 2.982334779139958, 0.6659418119239169, 0.7105420243341136, 1.8528747454386116], 'phase': [0.0, 3.141592653589793, 0.0, 0.0, 0.0, 3.141592653589793]}, ('S1', 'C2', 'C2', 'S1'): {'periodicity': [1, 2, 3, 4, 5, 6], 'k': [6.475112142790782, 2.5822679395959933, 0.9716880048938178, 2.3781498348003685, 5.16281691267201, 0.15036555713041883], 'phase': [3.141592653589793, 3.141592653589793, 0.0, 3.141592653589793, 0.0, 3.141592653589793]}, ('S1', 'C2', 'C2', 'H3'): {'periodicity': [1, 2, 3, 4, 5, 6], 'k': [0.6602763134505383, 2.4980116830592305, 0.9333768136633923, 1.491466313690985, 3.473221979947395, 0.23045032450206146], 'phase': [0.0, 3.141592653589793, 0.0, 3.141592653589793, 0.0, 3.141592653589793]}, ('C2', 'S1', 'C2', 'C1'): {'periodicity': [1, 2, 3, 4, 5, 6], 'k': [5.3723180968328235, 3.1352127659990763, 0.27939685695387684, 0.21419838854897089, 0.40829733926834655, 0.01313799020175366], 'phase': [3.141592653589793, 3.141592653589793, 0.0, 3.141592653589793, 0.0, 3.141592653589793]}, ('C2', 'C2', 'C2', 'C1'): {'periodicity': [1, 2, 3, 4, 5, 6], 'k': [1.0999796356243983, 1.4178074979758115, 0.6037240265742758, 0.768913530400792, 0.3771358750712223, 0.24582443829203468], 'phase': [0.0, 3.141592653589793, 0.0, 0.0, 0.0, 3.141592653589793]}, ('C2', 'C2', 'C1', 'C1'): {'periodicity': [1, 2, 3, 4, 5, 6], 'k': [1.7015567879390165, 1.811769927964839, 0.04130410022110977, 1.8278653719445606, 0.5446214095695135, 0.2899722910917113], 'phase': [0.0, 3.141592653589793, 3.141592653589793, 3.141592653589793, 0.0, 0.0]}, ('C2', 'C1', 'C1', 'C1'): {'periodicity': [1, 2, 3, 4, 5, 6], 'k': [0.5957967300482967, 0.5958566371318521, 0.4286706380513377, 1.3787138468785403, 1.7303219687939264, 0.25884383692021956], 'phase': [0.0, 3.141592653589793, 0.0, 0.0, 3.141592653589793, 0.0]}, ('C2', 'C1', 'C1', 'H1'): {'periodicity': [1, 2, 3, 4, 5, 6], 'k': [5.669244499991125, 0.47007132316226125, 0.29334420408039885, 0.06277284281768471, 1.6545798536832765, 0.21275939595010024], 'phase': [0.0, 3.141592653589793, 0.0, 3.141592653589793, 3.141592653589793, 0.0]}, ('S1', 'C2', 'C1', 'C1'): {'periodicity': [1, 2, 3, 4, 5, 6], 'k': [1.6550077614229577, 2.502789578621156, 0.30194148186736436, 0.34377374249859494, 0.6952644954339541, 0.10889396159406244], 'phase': [3.141592653589793, 3.141592653589793, 0.0, 0.0, 0.0, 3.141592653589793]}, ('S1', 'C2', 'C1', 'H1'): {'periodicity': [1, 2, 3, 4, 5, 6], 'k': [1.67095282639702, 2.2654548298843955, 0.21526449011754795, 0.474346732778447, 0.7991360427577017, 0.1796503402406557], 'phase': [0.0, 3.141592653589793, 0.0, 3.141592653589793, 0.0, 0.0]}, ('H2', 'C2', 'C2', 'H3'): {'periodicity': [1, 2, 3, 4, 5, 6], 'k': [2.9072027382067396, 2.0484738184339553, 0.806784587956117, 1.3715152161035613, 0.24433287417086036, 0.21673037977434143], 'phase': [0.0, 3.141592653589793, 0.0, 3.141592653589793, 3.141592653589793, 3.141592653589793]}, ('H3', 'C2', 'C2', 'C1'): {'periodicity': [1, 2, 3, 4, 5, 6], 'k': [0.2867226374572183, 0.9582431437130356, 0.11436629028781353, 0.16347542768070772, 2.704308449546603, 0.020394082873204242], 'phase': [0.0, 3.141592653589793, 0.0, 0.0, 0.0, 0.0]}, ('C1', 'C1', 'C1', 'H1'): {'periodicity': [1, 2, 3, 4, 5, 6], 'k': [3.386875088453904, 0.5928759540765873, 0.09608607164863424, 1.210641467480115, 0.673776191340708, 0.022902844821277805], 'phase': [0.0, 0.0, 0.0, 0.0, 3.141592653589793, 0.0]}, ('H1', 'C1', 'C1', 'H1'): {'periodicity': [1, 2, 3, 4, 5, 6], 'k': [4.52638606366359, 1.3171232520159175, 0.11116798558208232, 1.864993092626382, 0.515464998781181, 0.07064512263427616], 'phase': [0.0, 3.141592653589793, 0.0, 0.0, 3.141592653589793, 3.141592653589793]}, ('C2', 'C2', 'H3', 'C2'): {'periodicity': [1, 2, 3, 4, 5, 6], 'k': [0.4138283524521111, 1.2617018641659552, 1.114231408542865, 0.6471481039971202, 1.1779444257943064, 1.153644156554584], 'phase': [0.0, 3.141592653589793, 3.141592653589793, 0.0, 0.0, 0.0]}, ('S1', 'C2', 'C2', 'H2'): {'periodicity': [1, 2, 3, 4, 5, 6], 'k': [0.5608452258711393, 1.0820344076157122, 0.062085745247110954, 0.29302143938532504, 1.2010172111179147, 0.1321770330068855], 'phase': [0.0, 3.141592653589793, 0.0, 3.141592653589793, 0.0, 0.0]}, ('S1', 'C2', 'H2', 'C2'): {'periodicity': [1, 2, 3, 4, 5, 6], 'k': [0.9691816881328281, 1.4260379977001931, 0.26916008122716145, 1.0311451740257445, 1.8966827172336271, 0.17951096457687385], 'phase': [0.0, 3.141592653589793, 0.0, 3.141592653589793, 0.0, 0.0]}, ('C2', 'C2', 'S1', 'H2'): {'periodicity': [1, 2, 3, 4, 5, 6], 'k': [0.9801385714557498, 2.534162551501037, 0.4088621774847257, 0.5986258115043602, 0.4529757976652278, 0.9403847198458278], 'phase': [0.0, 3.141592653589793, 0.0, 0.0, 0.0, 0.0]}, ('C2', 'C2', 'H2', 'S1'): {'periodicity': [1, 2, 3, 4, 5, 6], 'k': [0.5714035436993865, 1.7406162064171131, 0.9004584825464914, 1.0035732444677743, 1.4493308498613517, 1.4248105137840792], 'phase': [3.141592653589793, 3.141592653589793, 3.141592653589793, 3.141592653589793, 0.0, 0.0]}, ('C2', 'C2', 'C1', 'S1'): {'periodicity': [1, 2, 3, 4, 5, 6], 'k': [2.432611486719903, 0.3951764653761801, 1.2128763684747925, 0.04682044228237094, 0.8133963738309619, 0.7770070996484758], 'phase': [0.0, 3.141592653589793, 0.0, 3.141592653589793, 0.0, 0.0]}, ('C2', 'C2', 'S1', 'C1'): {'periodicity': [1, 2, 3, 4, 5, 6], 'k': [1.9051504001051462, 2.362441952973444, 0.3457836862815544, 0.7460119081730562, 0.5403667840435408, 0.7539538758215386], 'phase': [0.0, 3.141592653589793, 0.0, 0.0, 0.0, 0.0]}, ('S1', 'C2', 'C2', 'C1'): {'periodicity': [1, 2, 3, 4, 5, 6], 'k': [2.1201336937080466, 1.129544392655741, 0.8690940678214041, 0.28808216147586246, 1.4564512346496463, 0.1136082822918069], 'phase': [0.0, 3.141592653589793, 0.0, 3.141592653589793, 0.0, 3.141592653589793]}, ('S1', 'C2', 'C1', 'C2'): {'periodicity': [1, 2, 3, 4, 5, 6], 'k': [2.237042978563108, 1.1354813068954315, 0.7856911815769195, 1.0551520208153997, 0.7146303771383816, 0.911551073752569], 'phase': [0.0, 3.141592653589793, 0.0, 3.141592653589793, 0.0, 0.0]}, ('H2', 'C2', 'S1', 'C2'): {'periodicity': [1, 2, 3, 4, 5, 6], 'k': [1.2939709981120828, 0.1699502830788547, 1.3404809016347994, 2.006026593251126, 0.47969680211800353, 1.0987497065212004], 'phase': [3.141592653589793, 0.0, 3.141592653589793, 0.0, 3.141592653589793, 3.141592653589793]}, ('H2', 'C2', 'C2', 'S1'): {'periodicity': [1, 2, 3, 4, 5, 6], 'k': [2.161826578675495, 0.8375694933423218, 0.7219292605838004, 1.5959051444181955, 0.6626652612315012, 0.9627875239084496], 'phase': [3.141592653589793, 0.0, 3.141592653589793, 0.0, 3.141592653589793, 0.0]}, ('H3', 'C2', 'C2', 'C2'): {'periodicity': [1, 2, 3, 4, 5, 6], 'k': [1.0997204457935057, 1.5216007993128744, 0.5370401070159052, 0.7724541612982682, 1.6067617750706775, 2.144751837268675], 'phase': [3.141592653589793, 3.141592653589793, 3.141592653589793, 3.141592653589793, 3.141592653589793, 0.0]}, ('C1', 'C2', 'S1', 'C2'): {'periodicity': [1, 2, 3, 4, 5, 6], 'k': [2.3041266862096954, 3.4674708999260804, 1.2766162827841567, 2.2046197978306954, 0.9296894715408827, 0.8710832275141505], 'phase': [3.141592653589793, 3.141592653589793, 3.141592653589793, 0.0, 0.0, 3.141592653589793]}}\n"
     ]
    }
   ],
   "source": [
    "dihedral_types = []\n",
    "dihedral_dict = {}\n",
    "\n",
    "for i in range(torsion_forces.getNumTorsions()):\n",
    "    if i%6==0:\n",
    "        periodicity=[]\n",
    "        phase = []\n",
    "        k = []\n",
    "    dihedral_parms = torsion_forces.getTorsionParameters(index=i)\n",
    "    periodicity.append(dihedral_parms[4])  \n",
    "    phase.append( dihedral_parms[5]/dihedral_parms[5].unit)\n",
    "    k.append(dihedral_parms[6]/dihedral_parms[6].unit)\n",
    "#    if (type_map[dihedral_parms[0]],type_map[dihedral_parms[1]],type_map[dihedral_parms[2]],type_map[dihedral_parms[3]],periodicity,k,phase) not in dihedral_types:\n",
    "#        dihedral_types.append((type_map[dihedral_parms[0]],type_map[dihedral_parms[1]],type_map[dihedral_parms[2]],\n",
    "#        type_map[dihedral_parms[3]],periodicity,k,phase))\n",
    "    dt = (type_map[dihedral_parms[0]],type_map[dihedral_parms[1]],type_map[dihedral_parms[2]],\n",
    "                  type_map[dihedral_parms[3]])\n",
    "   \n",
    "\n",
    "    if periodicity[-1]==6:\n",
    "        #print(dt,periodicity,phase)\n",
    "        dihedral_dict[dt] = {'periodicity':periodicity,'k':k,'phase':phase}\n",
    "print(dihedral_dict)"
   ]
  },
  {
   "cell_type": "code",
   "execution_count": 11,
   "id": "eed592f7",
   "metadata": {
    "scrolled": true
   },
   "outputs": [
    {
     "name": "stdout",
     "output_type": "stream",
     "text": [
      "{'C1': {'charge': -0.09417688461538462, 'sigma': 0.3399669508423535, 'epsilon': 0.4577296}, 'C2': {'charge': -0.12047688461538461, 'sigma': 0.3399669508423535, 'epsilon': 0.359824}, 'S1': {'charge': 0.08012311538461538, 'sigma': 0.35635948725613575, 'epsilon': 1.046}, 'H1': {'charge': 0.034956115384615384, 'sigma': 0.2649532787749369, 'epsilon': 0.06568879999999999}, 'H2': {'charge': 0.1689231153846154, 'sigma': 0.2510552587719476, 'epsilon': 0.06276}, 'H3': {'charge': 0.1549231153846154, 'sigma': 0.25996424595335105, 'epsilon': 0.06276}}\n"
     ]
    }
   ],
   "source": [
    "nonbonded_types = []\n",
    "nonbonded_dict = {}\n",
    "\n",
    "for i in range(pair_forces.getNumParticles()):\n",
    "    nonbonded_parms = pair_forces.getParticleParameters(index=i)\n",
    "    charge = nonbonded_parms[0]/nonbonded_parms[0].unit\n",
    "    sigma = nonbonded_parms[1]/nonbonded_parms[1].unit\n",
    "    epsilon = nonbonded_parms[2]/nonbonded_parms[2].unit\n",
    "    #atom_type = structure.adjusts.atom\n",
    "    if (charge,sigma,epsilon) not in nonbonded_types:\n",
    "        nonbonded_types.append((charge,sigma,epsilon))\n",
    "    nonbonded_dict[(type_map[i])]={'charge':charge,'sigma':sigma,'epsilon':epsilon}\n",
    "print(nonbonded_dict)"
   ]
  },
  {
   "cell_type": "code",
   "execution_count": 12,
   "id": "dda945e2",
   "metadata": {},
   "outputs": [],
   "source": [
    "# Save the forcefield XML file for future use, so that we don't have to repeat the espaloma process everytime\n",
    "mbuild_to_foyer_xml(\n",
    "    file_name=\"c5.xml\",\n",
    "    compound=c5,\n",
    "    bond_params=bond_dict,\n",
    "    angle_params=angle_dict,\n",
    "    dihedral_params=dihedral_dict,\n",
    "    dihedral_type=\"periodic\",\n",
    "    non_bonded_params=nonbonded_dict,\n",
    "    combining_rule=\"geometric\",\n",
    "    name=\"\",\n",
    "    version=\"\",\n",
    "    coulomb14scale=1.0,\n",
    "    lj14scale=1.0)\n",
    "\n",
    "# Save the mb.Compound with the new atom type names for future use.\n",
    "c5.save(\"c5_typed.mol2\", overwrite=True)"
   ]
  },
  {
   "cell_type": "code",
   "execution_count": null,
   "id": "f6a7c1c8",
   "metadata": {},
   "outputs": [],
   "source": []
  },
  {
   "cell_type": "code",
   "execution_count": null,
   "id": "18493a49",
   "metadata": {},
   "outputs": [],
   "source": []
  },
  {
   "cell_type": "markdown",
   "id": "43a03bf9",
   "metadata": {},
   "source": [
    "## Workflow once we have created an XML file, and a typed mol2 file:\n",
    "\n",
    "Everything above this cell is something that we should only need to do once.\n",
    "Then, once we have an XML file, and a typed mol2 file (i.e. one with the particles renamed correctly)\n",
    "every time we want to run a new simulation, the process would look like the cells below:"
   ]
  },
  {
   "cell_type": "code",
   "execution_count": 13,
   "id": "c566e937",
   "metadata": {},
   "outputs": [],
   "source": [
    "import mbuild as mb\n",
    "import foyer\n",
    "import hoomd\n",
    "from mbuild.formats.hoomd_forcefield import create_hoomd_forcefield"
   ]
  },
  {
   "cell_type": "code",
   "execution_count": 14,
   "id": "7ceb1a5f",
   "metadata": {},
   "outputs": [],
   "source": [
    "esp_ff = foyer.Forcefield(forcefield_files=\"c5.xml\")"
   ]
  },
  {
   "cell_type": "code",
   "execution_count": 15,
   "id": "adfa549d",
   "metadata": {},
   "outputs": [],
   "source": [
    "# We have to add the underscore to the names manually if we are using foyer XML files without SMARTS definitions\n",
    "c5s = mb.load(\"c5_typed.mol2\")\n",
    "for p in c5s.particles():\n",
    "    p.name = f\"_{p.name}\""
   ]
  },
  {
   "cell_type": "code",
   "execution_count": 16,
   "id": "e8226e83",
   "metadata": {},
   "outputs": [
    {
     "ename": "RuntimeError",
     "evalue": "PACKMOL failed. See 'log.txt'",
     "output_type": "error",
     "traceback": [
      "\u001b[0;31m---------------------------------------------------------------------------\u001b[0m",
      "\u001b[0;31mRuntimeError\u001b[0m                              Traceback (most recent call last)",
      "Cell \u001b[0;32mIn[16], line 1\u001b[0m\n\u001b[0;32m----> 1\u001b[0m box \u001b[38;5;241m=\u001b[39m \u001b[43mmb\u001b[49m\u001b[38;5;241;43m.\u001b[39;49m\u001b[43mfill_box\u001b[49m\u001b[43m(\u001b[49m\u001b[43mcompound\u001b[49m\u001b[38;5;241;43m=\u001b[39;49m\u001b[43mc5s\u001b[49m\u001b[43m,\u001b[49m\u001b[43m \u001b[49m\u001b[43mn_compounds\u001b[49m\u001b[38;5;241;43m=\u001b[39;49m\u001b[38;5;241;43m5\u001b[39;49m\u001b[43m,\u001b[49m\u001b[43m \u001b[49m\u001b[43mbox\u001b[49m\u001b[38;5;241;43m=\u001b[39;49m\u001b[43m[\u001b[49m\u001b[38;5;241;43m1\u001b[39;49m\u001b[43m,\u001b[49m\u001b[38;5;241;43m1\u001b[39;49m\u001b[43m,\u001b[49m\u001b[38;5;241;43m1\u001b[39;49m\u001b[43m]\u001b[49m\u001b[43m)\u001b[49m\n\u001b[1;32m      2\u001b[0m box_pmd \u001b[38;5;241m=\u001b[39m esp_ff\u001b[38;5;241m.\u001b[39mapply(box)\n",
      "File \u001b[0;32m~/miniconda3/envs/espaloma/lib/python3.9/site-packages/mbuild/packing.py:262\u001b[0m, in \u001b[0;36mfill_box\u001b[0;34m(compound, n_compounds, box, density, overlap, seed, sidemax, edge, compound_ratio, aspect_ratio, fix_orientation, temp_file, update_port_locations)\u001b[0m\n\u001b[1;32m    250\u001b[0m     comp\u001b[38;5;241m.\u001b[39msave(compound_xyz\u001b[38;5;241m.\u001b[39mname, overwrite\u001b[38;5;241m=\u001b[39m\u001b[38;5;28;01mTrue\u001b[39;00m)\n\u001b[1;32m    251\u001b[0m     input_text \u001b[38;5;241m+\u001b[39m\u001b[38;5;241m=\u001b[39m PACKMOL_BOX\u001b[38;5;241m.\u001b[39mformat(\n\u001b[1;32m    252\u001b[0m         compound_xyz\u001b[38;5;241m.\u001b[39mname,\n\u001b[1;32m    253\u001b[0m         m_compounds,\n\u001b[0;32m   (...)\u001b[0m\n\u001b[1;32m    260\u001b[0m         PACKMOL_CONSTRAIN \u001b[38;5;28;01mif\u001b[39;00m rotate \u001b[38;5;28;01melse\u001b[39;00m \u001b[38;5;124m\"\u001b[39m\u001b[38;5;124m\"\u001b[39m,\n\u001b[1;32m    261\u001b[0m     )\n\u001b[0;32m--> 262\u001b[0m \u001b[43m_run_packmol\u001b[49m\u001b[43m(\u001b[49m\u001b[43minput_text\u001b[49m\u001b[43m,\u001b[49m\u001b[43m \u001b[49m\u001b[43mfilled_xyz\u001b[49m\u001b[43m,\u001b[49m\u001b[43m \u001b[49m\u001b[43mtemp_file\u001b[49m\u001b[43m)\u001b[49m\n\u001b[1;32m    263\u001b[0m \u001b[38;5;66;03m# Create the topology and update the coordinates.\u001b[39;00m\n\u001b[1;32m    264\u001b[0m filled \u001b[38;5;241m=\u001b[39m Compound()\n",
      "File \u001b[0;32m~/miniconda3/envs/espaloma/lib/python3.9/site-packages/mbuild/packing.py:922\u001b[0m, in \u001b[0;36m_run_packmol\u001b[0;34m(input_text, filled_xyz, temp_file)\u001b[0m\n\u001b[1;32m    919\u001b[0m     os\u001b[38;5;241m.\u001b[39msystem(\u001b[38;5;124m\"\u001b[39m\u001b[38;5;124mcp \u001b[39m\u001b[38;5;132;01m{0}\u001b[39;00m\u001b[38;5;124m_FORCED \u001b[39m\u001b[38;5;132;01m{0}\u001b[39;00m\u001b[38;5;124m\"\u001b[39m\u001b[38;5;241m.\u001b[39mformat(filled_xyz\u001b[38;5;241m.\u001b[39mname))\n\u001b[1;32m    921\u001b[0m \u001b[38;5;28;01mif\u001b[39;00m \u001b[38;5;124m\"\u001b[39m\u001b[38;5;124mERROR\u001b[39m\u001b[38;5;124m\"\u001b[39m \u001b[38;5;129;01min\u001b[39;00m out \u001b[38;5;129;01mor\u001b[39;00m proc\u001b[38;5;241m.\u001b[39mreturncode \u001b[38;5;241m!=\u001b[39m \u001b[38;5;241m0\u001b[39m:\n\u001b[0;32m--> 922\u001b[0m     \u001b[43m_packmol_error\u001b[49m\u001b[43m(\u001b[49m\u001b[43mout\u001b[49m\u001b[43m,\u001b[49m\u001b[43m \u001b[49m\u001b[43merr\u001b[49m\u001b[43m)\u001b[49m\n\u001b[1;32m    923\u001b[0m \u001b[38;5;28;01melse\u001b[39;00m:\n\u001b[1;32m    924\u001b[0m     \u001b[38;5;66;03m# Delete input file if success\u001b[39;00m\n\u001b[1;32m    925\u001b[0m     os\u001b[38;5;241m.\u001b[39mremove(packmol_inp\u001b[38;5;241m.\u001b[39mname)\n",
      "File \u001b[0;32m~/miniconda3/envs/espaloma/lib/python3.9/site-packages/mbuild/packing.py:882\u001b[0m, in \u001b[0;36m_packmol_error\u001b[0;34m(out, err)\u001b[0m\n\u001b[1;32m    880\u001b[0m \u001b[38;5;28;01mwith\u001b[39;00m \u001b[38;5;28mopen\u001b[39m(\u001b[38;5;124m\"\u001b[39m\u001b[38;5;124mlog.txt\u001b[39m\u001b[38;5;124m\"\u001b[39m, \u001b[38;5;124m\"\u001b[39m\u001b[38;5;124mw\u001b[39m\u001b[38;5;124m\"\u001b[39m) \u001b[38;5;28;01mas\u001b[39;00m log_file:\n\u001b[1;32m    881\u001b[0m     log_file\u001b[38;5;241m.\u001b[39mwrite(out)\n\u001b[0;32m--> 882\u001b[0m \u001b[38;5;28;01mraise\u001b[39;00m \u001b[38;5;167;01mRuntimeError\u001b[39;00m(\u001b[38;5;124m\"\u001b[39m\u001b[38;5;124mPACKMOL failed. See \u001b[39m\u001b[38;5;124m'\u001b[39m\u001b[38;5;124mlog.txt\u001b[39m\u001b[38;5;124m'\u001b[39m\u001b[38;5;124m\"\u001b[39m)\n",
      "\u001b[0;31mRuntimeError\u001b[0m: PACKMOL failed. See 'log.txt'"
     ]
    }
   ],
   "source": [
    "box = mb.fill_box(compound=c5s, n_compounds=5, box=[1,1,1])\n",
    "box_pmd = esp_ff.apply(box)"
   ]
  },
  {
   "cell_type": "code",
   "execution_count": null,
   "id": "079c3d81",
   "metadata": {},
   "outputs": [],
   "source": [
    "snapshot, forcefield, refs = create_hoomd_forcefield(box_pmd, auto_scale=True, r_cut=2.5)"
   ]
  },
  {
   "cell_type": "code",
   "execution_count": null,
   "id": "5087683d",
   "metadata": {},
   "outputs": [],
   "source": [
    "#setting cpu and simulation \n",
    "cpu = hoomd.device.CPU()\n",
    "sim = hoomd.Simulation(device=cpu,seed=0)\n",
    "sim.create_state_from_snapshot(snapshot)"
   ]
  },
  {
   "cell_type": "code",
   "execution_count": null,
   "id": "0f20d047",
   "metadata": {},
   "outputs": [],
   "source": [
    "#setting the integrator\n",
    "kt = 4\n",
    "free_particle = hoomd.filter.Tags(tags=[0,1])  #letting hoomd know which particles to update the positions of\n",
    "integrator = hoomd.md.Integrator(dt=0.01)\n",
    "nvt = hoomd.md.methods.NVT(kT=kt,filter=all, tau=0.1)\n",
    "integrator.forces = forcefield\n",
    "integrator.methods.append(nvt)\n",
    "sim.operations.integrator = integrator\n",
    "sim.state.thermalize_particle_momenta(filter=free_particle, kT=kt)\n",
    "# Set up GSD writer\n",
    "gsd_writer = hoomd.write.GSD(\n",
    "    trigger=hoomd.trigger.Periodic(int(2e2)),\n",
    "    filename=\"traj_c5s.gsd\",  #name the output file\n",
    "    mode=\"wb\"\n",
    ")\n",
    "sim.operations.writers.append(gsd_writer)"
   ]
  },
  {
   "cell_type": "code",
   "execution_count": null,
   "id": "83999296",
   "metadata": {},
   "outputs": [],
   "source": []
  }
 ],
 "metadata": {
  "kernelspec": {
   "display_name": "Python 3 (ipykernel)",
   "language": "python",
   "name": "python3"
  },
  "language_info": {
   "codemirror_mode": {
    "name": "ipython",
    "version": 3
   },
   "file_extension": ".py",
   "mimetype": "text/x-python",
   "name": "python",
   "nbconvert_exporter": "python",
   "pygments_lexer": "ipython3",
   "version": "3.9.15"
  }
 },
 "nbformat": 4,
 "nbformat_minor": 5
}
