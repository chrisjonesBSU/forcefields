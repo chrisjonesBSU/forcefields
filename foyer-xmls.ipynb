{
 "cells": [
  {
   "cell_type": "code",
   "execution_count": 1,
   "id": "47a3a4d5",
   "metadata": {
    "scrolled": true
   },
   "outputs": [
    {
     "name": "stderr",
     "output_type": "stream",
     "text": [
      "Warning: importing 'simtk.openmm' is deprecated.  Import 'openmm' instead.\n",
      "/home/chris/miniconda3/envs/forcefields/lib/python3.10/site-packages/qcelemental/models/results.py:788: DeprecationWarning: ResultProtocols has been renamed to AtomicResultProtocols and will be removed as soon as v0.13.0\n",
      "  warn(\n",
      "/home/chris/miniconda3/envs/forcefields/lib/python3.10/site-packages/qcelemental/models/results.py:788: DeprecationWarning: ResultProtocols has been renamed to AtomicResultProtocols and will be removed as soon as v0.13.0\n",
      "  warn(\n",
      "LICENSE: Could not open license file \"oe_license.txt\" in local directory\n",
      "LICENSE: N.B. OE_LICENSE environment variable is not set\n",
      "LICENSE: N.B. OE_DIR environment variable is not set\n",
      "LICENSE: No product keys!\n",
      "LICENSE: No product keys!\n",
      "LICENSE: No product keys!\n",
      "Warning: Unable to load toolkit 'OpenEye Toolkit'. The Open Force Field Toolkit does not require the OpenEye Toolkits, and can use RDKit/AmberTools instead. However, if you have a valid license for the OpenEye Toolkits, consider installing them for faster performance and additional file format support: https://docs.eyesopen.com/toolkits/python/quickstart-python/linuxosx.html OpenEye offers free Toolkit licenses for academics: https://www.eyesopen.com/academic-licensing\n",
      "LICENSE: No product keys!\n"
     ]
    }
   ],
   "source": [
    "from writers import foyer_xml_writer\n",
    "from writers.foyer_xml_writer import parmed_to_foyer_xml, mbuild_to_foyer_xml\n",
    "\n",
    "\n",
    "import ele\n",
    "import espaloma as esp\n",
    "import forcefield_utilities as ffutils\n",
    "import foyer\n",
    "import gmso\n",
    "import mbuild as mb\n",
    "from mbuild.lib.recipes import Polymer\n",
    "from mbuild.formats.hoomd_forcefield import create_hoomd_forcefield\n",
    "import numpy as np\n",
    "from openff.toolkit.topology import Molecule\n",
    "import torch\n",
    "\n",
    "\n",
    "import os\n",
    "import warnings\n",
    "warnings.filterwarnings(\"ignore\")\n",
    "\n",
    "if not os.path.exists(\"espaloma_model.pt\"):\n",
    "    os.system(\"wget http://data.wangyq.net/espaloma_model.pt\")"
   ]
  },
  {
   "cell_type": "markdown",
   "id": "00b3c879",
   "metadata": {},
   "source": [
    "# Example:\n",
    "\n",
    "### Write out a trimmed-down forcefield file that only has the parameters we're using.\n",
    "\n",
    "#### This works with our typical workflow:\n",
    "\n",
    "1. Create molecule or system in mBuild\n",
    "2. Use an existing focefield along with Foyer to apply the forcefield\n",
    "3. Write out a useable, trimmed down foyer forcefield file"
   ]
  },
  {
   "cell_type": "code",
   "execution_count": 2,
   "id": "e7afaa9e",
   "metadata": {},
   "outputs": [],
   "source": [
    "# mBuild system\n",
    "pps = mb.load(\"/home/chris/cme/forks/polybinder/polybinder/library/compounds/pps.mol2\")\n",
    "\n",
    "# opls forcefield form foyer\n",
    "#ff = foyer.forcefields.get_forcefield(name=\"opls\")\n",
    "gaff = foyer.Forcefield(\n",
    "    forcefield_files=\"/home/chris/cme/forks/polybinder/polybinder/library/forcefields/gaff.xml\",\n",
    ")\n",
    "\n",
    "# parmed structure\n",
    "pps_pmd = gaff.apply(pps, assert_dihedral_params=False)"
   ]
  },
  {
   "cell_type": "code",
   "execution_count": 3,
   "id": "a44405ef",
   "metadata": {},
   "outputs": [
    {
     "name": "stdout",
     "output_type": "stream",
     "text": [
      "{'periodicity': [2], 'phase': [3.141592653589793], 'k': [1.6736000000000002]}\n",
      "[2, 0, 0, 0] [1.6736000000000002, 0, 0, 0] [3.141592653589793, 0, 0, 0]\n",
      "{'periodicity': [2], 'phase': [3.141592653589793], 'k': [15.167]}\n",
      "[2, 0, 0, 0] [15.167, 0, 0, 0] [3.141592653589793, 0, 0, 0]\n",
      "{'periodicity': [2], 'phase': [3.141592653589793], 'k': [15.167]}\n",
      "[2, 0, 0, 0] [15.167, 0, 0, 0] [3.141592653589793, 0, 0, 0]\n",
      "{'periodicity': [2], 'phase': [3.141592653589793], 'k': [15.167]}\n",
      "[2, 0, 0, 0] [15.167, 0, 0, 0] [3.141592653589793, 0, 0, 0]\n",
      "{'periodicity': [2], 'phase': [3.141592653589793], 'k': [15.167]}\n",
      "[2, 0, 0, 0] [15.167, 0, 0, 0] [3.141592653589793, 0, 0, 0]\n",
      "{'periodicity': [2], 'phase': [3.141592653589793], 'k': [15.167]}\n",
      "[2, 0, 0, 0] [15.167, 0, 0, 0] [3.141592653589793, 0, 0, 0]\n",
      "{'periodicity': [2], 'phase': [3.141592653589793], 'k': [1.6736000000000002]}\n",
      "[2, 0, 0, 0] [1.6736000000000002, 0, 0, 0] [3.141592653589793, 0, 0, 0]\n",
      "{'periodicity': [2], 'phase': [3.141592653589793], 'k': [15.167]}\n",
      "[2, 0, 0, 0] [15.167, 0, 0, 0] [3.141592653589793, 0, 0, 0]\n",
      "{'periodicity': [2], 'phase': [3.141592653589793], 'k': [15.167]}\n",
      "[2, 0, 0, 0] [15.167, 0, 0, 0] [3.141592653589793, 0, 0, 0]\n",
      "{'periodicity': [2], 'phase': [3.141592653589793], 'k': [15.167]}\n",
      "[2, 0, 0, 0] [15.167, 0, 0, 0] [3.141592653589793, 0, 0, 0]\n",
      "{'periodicity': [2], 'phase': [3.141592653589793], 'k': [15.167]}\n",
      "[2, 0, 0, 0] [15.167, 0, 0, 0] [3.141592653589793, 0, 0, 0]\n"
     ]
    }
   ],
   "source": [
    "# Save the trimmed xml file:\n",
    "parmed_to_foyer_xml(\n",
    "    structure=pps_pmd,\n",
    "    ff=gaff,\n",
    "    file_name=\"pps_gaff.xml\",\n",
    "    torsion_type=\"periodic\"\n",
    ")"
   ]
  },
  {
   "cell_type": "code",
   "execution_count": null,
   "id": "48724e69",
   "metadata": {},
   "outputs": [],
   "source": [
    "gaff.name"
   ]
  },
  {
   "cell_type": "code",
   "execution_count": null,
   "id": "3357c621",
   "metadata": {},
   "outputs": [],
   "source": [
    "gaff."
   ]
  },
  {
   "cell_type": "code",
   "execution_count": null,
   "id": "032d224d",
   "metadata": {},
   "outputs": [],
   "source": []
  },
  {
   "cell_type": "markdown",
   "id": "1d09c6d7",
   "metadata": {},
   "source": [
    "### Try it out with GAFF"
   ]
  },
  {
   "cell_type": "code",
   "execution_count": null,
   "id": "fb87e99e",
   "metadata": {},
   "outputs": [],
   "source": [
    "gaff = foyer.Forcefield(forcefield_files=\"/Users/madilyn/Projects/repos/GAFF-foyer/gafffoyer/xml/gaff.xml\")\n",
    "alkane_pmd = gaff.apply(alkane_box)\n",
    "\n",
    "parmed_to_foyer_xml(\n",
    "    structure=alkane_pmd,\n",
    "    ff=gaff,\n",
    "    file_name=\"alkane_gaff.xml\",\n",
    "    torsion_type=\"periodic\"\n",
    ")\n",
    "\n",
    "gaff_test = foyer.Forcefield(forcefield_files=\"alkane_gaff.xml\")\n",
    "alkane_gaff_test = gaff_test.apply(alkane_box)"
   ]
  },
  {
   "cell_type": "markdown",
   "id": "0b0729d9",
   "metadata": {},
   "source": [
    "# Example:\n",
    "\n",
    "### Create a foyer xml file we can use with a abstract system\n",
    "\n",
    "#### Workflow:\n",
    "1. Create molecule or system in mBuild\n",
    "2. Create data structure containing our abstract forcefield parameters\n",
    "3. Write out a useable Foyer forcefield file"
   ]
  },
  {
   "cell_type": "code",
   "execution_count": null,
   "id": "f429fbc9",
   "metadata": {
    "scrolled": false
   },
   "outputs": [],
   "source": [
    "# Example: Creating a bead-spring model of a polymer\n",
    "mer = mb.Compound()\n",
    "mer.add(mb.Compound(name=\"A\", pos=[0,0,0], mass=1))\n",
    "mer.add(mb.Compound(name=\"A\", pos=[0.5,0,0], mass=1))\n",
    "mer.add(mb.Compound(name=\"A\", pos=[1.0,0,0], mass=1))\n",
    "mer.freud_generate_bonds(name_a=\"A\", name_b=\"A\", dmax=0.51, dmin=0.049)\n",
    "\n",
    "chain = Polymer()\n",
    "chain.add_monomer(mer, indices=[0, 2], replace=False, orientation=[[-1, 0, 0], [1,0,0]], separation=0.5)\n",
    "chain.build(n=3, add_hydrogens=False)\n",
    "chain.visualize().show()\n",
    "\n",
    "box_of_chains = mb.fill_box(compound=chain, n_compounds=10, box=[10, 10, 10])\n",
    "box_of_chains.visualize().show()"
   ]
  },
  {
   "cell_type": "code",
   "execution_count": null,
   "id": "130f4403",
   "metadata": {},
   "outputs": [],
   "source": [
    "bond_parameters = {\n",
    "    (\"A\", \"A\"): {\"k\": 50, \"l0\": 0.5}\n",
    "}\n",
    "\n",
    "angle_parameters = {\n",
    "    (\"A\", \"A\", \"A\"): {\"k\": 5, \"t0\": 2.2}\n",
    "}\n",
    "\n",
    "dihedral_parameters = {\n",
    "    (\"A\", \"A\", \"A\", \"A\"): {\n",
    "        \"periodicity\": [2],\n",
    "        \"k\": [10],\n",
    "        \"phase\": [3.14]\n",
    "    }\n",
    "}\n",
    "\n",
    "non_bonded_parameters = {\n",
    "    \"A\": {\"sigma\": 1.0, \"epsilon\": 1.0, \"charge\": 0}\n",
    "}"
   ]
  },
  {
   "cell_type": "code",
   "execution_count": null,
   "id": "bfd26666",
   "metadata": {},
   "outputs": [],
   "source": [
    "mbuild_to_foyer_xml(\n",
    "    file_name=\"testmb.xml\",\n",
    "    compound=box_of_chains,\n",
    "    bond_params=bond_parameters,\n",
    "    angle_params=angle_parameters,\n",
    "    dihedral_params=dihedral_parameters,\n",
    "    non_bonded_params=non_bonded_parameters,\n",
    ")"
   ]
  },
  {
   "cell_type": "code",
   "execution_count": null,
   "id": "2c48dc4c",
   "metadata": {},
   "outputs": [],
   "source": [
    "ff_test = foyer.Forcefield(forcefield_files=\"testmb.xml\")\n",
    "box_of_chains_typed = ff_test.apply(box_of_chains)"
   ]
  },
  {
   "cell_type": "code",
   "execution_count": null,
   "id": "c92cda07",
   "metadata": {},
   "outputs": [],
   "source": [
    "snap, hoomd_ff, refs = create_hoomd_forcefield(structure=box_of_chains_typed, auto_scale=False, r_cut=25)"
   ]
  },
  {
   "cell_type": "code",
   "execution_count": null,
   "id": "f1bcfa32",
   "metadata": {},
   "outputs": [],
   "source": [
    "print(snap.angles.types)\n",
    "print(snap.dihedrals.types)"
   ]
  },
  {
   "cell_type": "code",
   "execution_count": null,
   "id": "61025fef",
   "metadata": {},
   "outputs": [],
   "source": [
    "print(\"Pairs:\", hoomd_ff[0].params[('A', 'A')])\n",
    "print(\"Bonds:\", hoomd_ff[3].params[\"A-A\"])\n",
    "print(\"Angles:\", hoomd_ff[4].params[\"A-A-A\"])\n",
    "print(\"Dihedrals:\", hoomd_ff[5].params[\"A-A-A-A\"])"
   ]
  },
  {
   "cell_type": "markdown",
   "id": "d6dce6b2",
   "metadata": {},
   "source": [
    "# Example:\n",
    "\n",
    "### Fitting espaloma into our MoSDeF-Hoomd Workflow:"
   ]
  },
  {
   "cell_type": "code",
   "execution_count": null,
   "id": "a7e14f4b",
   "metadata": {},
   "outputs": [],
   "source": [
    "# Use espaloma to find the FF parameters for Benzene\n",
    "smiles = \"c1ccccc1\"\n",
    "benzene = mb.load(smiles, smiles=True)\n",
    "benzene.visualize().show()\n",
    "\n",
    "molecule = Molecule.from_smiles(smiles)\n",
    "molecule_graph = esp.Graph(molecule)\n",
    "\n",
    "espaloma_model = torch.load(\"espaloma_model.pt\")\n",
    "espaloma_model(molecule_graph.heterograph)\n",
    "openmm_system = esp.graphs.deploy.openmm_system_from_graph(molecule_graph)\n",
    "\n",
    "# Store the results for each in something more accessible\n",
    "pair_forces = openmm_system.getForces()[1]\n",
    "angle_forces = openmm_system.getForces()[3]\n",
    "bond_forces = openmm_system.getForces()[2]\n",
    "torsion_forces = openmm_system.getForces()[0]"
   ]
  },
  {
   "cell_type": "markdown",
   "id": "9cdd0783",
   "metadata": {},
   "source": [
    "## Find the set of particle type parameters:"
   ]
  },
  {
   "cell_type": "code",
   "execution_count": null,
   "id": "d9f822f8",
   "metadata": {},
   "outputs": [],
   "source": [
    "particle_types = []\n",
    "particle_type_dict = dict()\n",
    "\n",
    "for i in range(pair_forces.getNumParticles()):\n",
    "    pair_parms = pair_forces.getParticleParameters(index=i)\n",
    "    charge = pair_parms[0]\n",
    "    sigma = pair_parms[1]\n",
    "    epsilon = pair_parms[2]\n",
    "    if (charge, sigma, epsilon) not in particle_types:\n",
    "        particle_types.append((charge, sigma, epsilon))\n",
    "    particle_type_dict[i] = particle_types.index((charge, sigma, epsilon))"
   ]
  },
  {
   "cell_type": "markdown",
   "id": "dffa1635",
   "metadata": {},
   "source": [
    "### `particle_types`  \n",
    "\n",
    "\n",
    "#### This is the set (i.e. no duplicates) of the particle types found by espaloma"
   ]
  },
  {
   "cell_type": "code",
   "execution_count": null,
   "id": "f4bcbc86",
   "metadata": {
    "scrolled": true
   },
   "outputs": [],
   "source": [
    "print(particle_types)"
   ]
  },
  {
   "cell_type": "code",
   "execution_count": null,
   "id": "68ddea74",
   "metadata": {},
   "outputs": [],
   "source": [
    "print(len(particle_types))"
   ]
  },
  {
   "cell_type": "code",
   "execution_count": null,
   "id": "760d426d",
   "metadata": {},
   "outputs": [],
   "source": [
    "for p in particle_types:\n",
    "    print(p)\n",
    "    print()"
   ]
  },
  {
   "cell_type": "markdown",
   "id": "a1c6e92f",
   "metadata": {},
   "source": [
    "### `particle_type_dict`  \n",
    "\n",
    "#### This is a dictionary that points to the parameters for each particle in benzene\n",
    "\n",
    "#### `key: value`\n",
    "#### `mbuild particle index: particle types index`\n",
    "\n",
    "#### We have 12 total particles, but only 2 particle types"
   ]
  },
  {
   "cell_type": "code",
   "execution_count": null,
   "id": "5bcdb858",
   "metadata": {},
   "outputs": [],
   "source": [
    "len(particle_type_dict)"
   ]
  },
  {
   "cell_type": "code",
   "execution_count": null,
   "id": "ca0d5477",
   "metadata": {},
   "outputs": [],
   "source": [
    "print(particle_type_dict)"
   ]
  },
  {
   "cell_type": "code",
   "execution_count": null,
   "id": "db7bd488",
   "metadata": {},
   "outputs": [],
   "source": [
    "for p in particle_type_dict:\n",
    "    print(particle_type_dict[p])"
   ]
  },
  {
   "cell_type": "code",
   "execution_count": null,
   "id": "0f117c34",
   "metadata": {},
   "outputs": [],
   "source": []
  },
  {
   "cell_type": "code",
   "execution_count": null,
   "id": "d253356f",
   "metadata": {},
   "outputs": [],
   "source": []
  },
  {
   "cell_type": "code",
   "execution_count": null,
   "id": "d6779ba0",
   "metadata": {},
   "outputs": [],
   "source": [
    "start = 0\n",
    "for idx, type_num in enumerate(particle_type_dict):\n",
    "    if particle_type_dict[type_num] == last:  \n",
    "        "
   ]
  },
  {
   "cell_type": "code",
   "execution_count": null,
   "id": "7dbf0609",
   "metadata": {},
   "outputs": [],
   "source": []
  },
  {
   "cell_type": "code",
   "execution_count": null,
   "id": "174eab09",
   "metadata": {},
   "outputs": [],
   "source": []
  },
  {
   "cell_type": "code",
   "execution_count": null,
   "id": "a919c7ce",
   "metadata": {},
   "outputs": [],
   "source": []
  },
  {
   "cell_type": "code",
   "execution_count": null,
   "id": "e376404e",
   "metadata": {},
   "outputs": [],
   "source": []
  }
 ],
 "metadata": {
  "kernelspec": {
   "display_name": "Python 3 (ipykernel)",
   "language": "python",
   "name": "python3"
  },
  "language_info": {
   "codemirror_mode": {
    "name": "ipython",
    "version": 3
   },
   "file_extension": ".py",
   "mimetype": "text/x-python",
   "name": "python",
   "nbconvert_exporter": "python",
   "pygments_lexer": "ipython3",
   "version": "3.10.8"
  }
 },
 "nbformat": 4,
 "nbformat_minor": 5
}
