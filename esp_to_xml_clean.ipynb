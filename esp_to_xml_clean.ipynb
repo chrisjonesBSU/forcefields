{
 "cells": [
  {
   "cell_type": "code",
   "execution_count": 2,
   "id": "538feb4b",
   "metadata": {
    "scrolled": true
   },
   "outputs": [
    {
     "name": "stderr",
     "output_type": "stream",
     "text": [
      "Warning: importing 'simtk.openmm' is deprecated.  Import 'openmm' instead.\n",
      "/Users/madilyn/miniconda3/envs/espaloma/lib/python3.9/site-packages/qcelemental/models/results.py:788: DeprecationWarning: ResultProtocols has been renamed to AtomicResultProtocols and will be removed as soon as v0.13.0\n",
      "  warn(\n",
      "/Users/madilyn/miniconda3/envs/espaloma/lib/python3.9/site-packages/qcelemental/models/results.py:788: DeprecationWarning: ResultProtocols has been renamed to AtomicResultProtocols and will be removed as soon as v0.13.0\n",
      "  warn(\n",
      "LICENSE: Could not open license file \"oe_license.txt\" in local directory\n",
      "LICENSE: N.B. OE_LICENSE environment variable is not set\n",
      "LICENSE: N.B. OE_DIR environment variable is not set\n",
      "LICENSE: No product keys!\n",
      "LICENSE: No product keys!\n",
      "LICENSE: No product keys!\n",
      "Warning: Unable to load toolkit 'OpenEye Toolkit'. The Open Force Field Toolkit does not require the OpenEye Toolkits, and can use RDKit/AmberTools instead. However, if you have a valid license for the OpenEye Toolkits, consider installing them for faster performance and additional file format support: https://docs.eyesopen.com/toolkits/python/quickstart-python/linuxosx.html OpenEye offers free Toolkit licenses for academics: https://www.eyesopen.com/academic-licensing\n",
      "LICENSE: No product keys!\n"
     ]
    }
   ],
   "source": [
    "from writers import foyer_xml_writer\n",
    "from writers.foyer_xml_writer import parmed_to_foyer_xml, mbuild_to_foyer_xml\n",
    "\n",
    "\n",
    "import ele\n",
    "import espaloma as esp\n",
    "import forcefield_utilities as ffutils\n",
    "import foyer\n",
    "import gmso\n",
    "import mbuild as mb\n",
    "from mbuild.lib.recipes import Polymer\n",
    "from mbuild.formats.hoomd_forcefield import create_hoomd_forcefield\n",
    "import numpy as np\n",
    "from openff.toolkit.topology import Molecule\n",
    "import torch\n",
    "from mbuild.formats.hoomd_forcefield import create_hoomd_forcefield\n",
    "import hoomd\n",
    "import gsd.hoomd\n",
    "import matplotlib.pyplot as plt\n",
    "\n",
    "import numpy as np\n",
    "import os\n",
    "import warnings\n",
    "warnings.filterwarnings(\"ignore\")\n",
    "\n",
    "if not os.path.exists(\"espaloma_model.pt\"):\n",
    "    os.system(\"wget http://data.wangyq.net/espaloma_model.pt\")"
   ]
  },
  {
   "cell_type": "code",
   "execution_count": 4,
   "id": "273bdcb9",
   "metadata": {},
   "outputs": [
    {
     "data": {
      "application/3dmoljs_load.v0": "<div id=\"3dmolviewer_1674503070018632\"  style=\"position: relative; width: 640px; height: 480px\">\n        <p id=\"3dmolwarning_1674503070018632\" style=\"background-color:#ffcccc;color:black\">You appear to be running in JupyterLab (or JavaScript failed to load for some other reason).  You need to install the 3dmol extension: <br>\n        <tt>jupyter labextension install jupyterlab_3dmol</tt></p>\n        </div>\n<script>\n\nvar loadScriptAsync = function(uri){\n  return new Promise((resolve, reject) => {\n    //this is to ignore the existence of requirejs amd\n    var savedexports, savedmodule;\n    if (typeof exports !== 'undefined') savedexports = exports;\n    else exports = {}\n    if (typeof module !== 'undefined') savedmodule = module;\n    else module = {}\n\n    var tag = document.createElement('script');\n    tag.src = uri;\n    tag.async = true;\n    tag.onload = () => {\n        exports = savedexports;\n        module = savedmodule;\n        resolve();\n    };\n  var firstScriptTag = document.getElementsByTagName('script')[0];\n  firstScriptTag.parentNode.insertBefore(tag, firstScriptTag);\n});\n};\n\nif(typeof $3Dmolpromise === 'undefined') {\n$3Dmolpromise = null;\n  $3Dmolpromise = loadScriptAsync('https://cdn.jsdelivr.net/npm/3dmol@latest/build/3Dmol-min.min.js');\n}\n\nvar viewer_1674503070018632 = null;\nvar warn = document.getElementById(\"3dmolwarning_1674503070018632\");\nif(warn) {\n    warn.parentNode.removeChild(warn);\n}\n$3Dmolpromise.then(function() {\nviewer_1674503070018632 = $3Dmol.createViewer(document.getElementById(\"3dmolviewer_1674503070018632\"),{backgroundColor:\"white\"});\nviewer_1674503070018632.zoomTo();\n\tviewer_1674503070018632.addModel(\"@<TRIPOS>MOLECULE\\nRES\\n16 17 1 0 1\\nSMALL\\nNO_CHARGES\\n@<TRIPOS>CRYSIN\\n   13.1910     9.7520     6.0340    90.0000    90.0000    90.0000  1  1\\n@<TRIPOS>ATOM\\n       1 C           -4.6360     1.9930     0.0290 C             1 RES     \\n       2 C           -3.2890     2.0830    -0.2290 C             1 RES     \\n       3 C           -2.5950     0.7820    -0.4930 C             1 RES     \\n       4 S           -3.8850    -0.5220    -0.4010 S             1 RES     \\n       5 C           -5.1140     0.7100    -0.0040 C             1 RES     \\n       6 H           -5.2600     2.8530     0.2350 H             1 RES     \\n       7 H           -2.7750     3.0350    -0.2410 H             1 RES     \\n       8 H           -6.1540     0.4670     0.1640 H             1 RES     \\n       9 C            0.5300    -0.6880    -0.0390 C             1 RES     \\n      10 C           -0.8030    -0.7690     0.2830 C             1 RES     \\n      11 C           -1.4850     0.5410     0.5410 C             1 RES     \\n      12 S           -0.1860     1.8330     0.4110 S             1 RES     \\n      13 C            1.0110     0.5940    -0.0540 C             1 RES     \\n      14 H            1.1390    -1.5530    -0.2710 H             1 RES     \\n      15 H           -1.3210    -1.7170     0.3270 H             1 RES     \\n      16 H            2.0370     0.8330    -0.2990 H             1 RES     \\n@<TRIPOS>BOND\\n       1        2        1 1\\n       2        5        1 1\\n       3        6        1 1\\n       4        3        2 1\\n       5        7        2 1\\n       6        4        3 1\\n       7       11        3 1\\n       8        5        4 1\\n       9        8        5 1\\n      10       10        9 1\\n      11       13        9 1\\n      12       14        9 1\\n      13       11       10 1\\n      14       15       10 1\\n      15       12       11 1\\n      16       13       12 1\\n      17       16       13 1\\n@<TRIPOS>SUBSTRUCTURE\\n       1 RES             1 RESIDUE    0 **** ROOT      0\\n\",\"mol2\");\n\tviewer_1674503070018632.setStyle({\"stick\": {\"radius\": 0.2, \"color\": \"grey\"}, \"sphere\": {\"scale\": 0.3, \"colorscheme\": {}}});\n\tviewer_1674503070018632.zoomTo();\nviewer_1674503070018632.render();\n});\n</script>",
      "text/html": [
       "<div id=\"3dmolviewer_1674503070018632\"  style=\"position: relative; width: 640px; height: 480px\">\n",
       "        <p id=\"3dmolwarning_1674503070018632\" style=\"background-color:#ffcccc;color:black\">You appear to be running in JupyterLab (or JavaScript failed to load for some other reason).  You need to install the 3dmol extension: <br>\n",
       "        <tt>jupyter labextension install jupyterlab_3dmol</tt></p>\n",
       "        </div>\n",
       "<script>\n",
       "\n",
       "var loadScriptAsync = function(uri){\n",
       "  return new Promise((resolve, reject) => {\n",
       "    //this is to ignore the existence of requirejs amd\n",
       "    var savedexports, savedmodule;\n",
       "    if (typeof exports !== 'undefined') savedexports = exports;\n",
       "    else exports = {}\n",
       "    if (typeof module !== 'undefined') savedmodule = module;\n",
       "    else module = {}\n",
       "\n",
       "    var tag = document.createElement('script');\n",
       "    tag.src = uri;\n",
       "    tag.async = true;\n",
       "    tag.onload = () => {\n",
       "        exports = savedexports;\n",
       "        module = savedmodule;\n",
       "        resolve();\n",
       "    };\n",
       "  var firstScriptTag = document.getElementsByTagName('script')[0];\n",
       "  firstScriptTag.parentNode.insertBefore(tag, firstScriptTag);\n",
       "});\n",
       "};\n",
       "\n",
       "if(typeof $3Dmolpromise === 'undefined') {\n",
       "$3Dmolpromise = null;\n",
       "  $3Dmolpromise = loadScriptAsync('https://cdn.jsdelivr.net/npm/3dmol@latest/build/3Dmol-min.min.js');\n",
       "}\n",
       "\n",
       "var viewer_1674503070018632 = null;\n",
       "var warn = document.getElementById(\"3dmolwarning_1674503070018632\");\n",
       "if(warn) {\n",
       "    warn.parentNode.removeChild(warn);\n",
       "}\n",
       "$3Dmolpromise.then(function() {\n",
       "viewer_1674503070018632 = $3Dmol.createViewer(document.getElementById(\"3dmolviewer_1674503070018632\"),{backgroundColor:\"white\"});\n",
       "viewer_1674503070018632.zoomTo();\n",
       "\tviewer_1674503070018632.addModel(\"@<TRIPOS>MOLECULE\\nRES\\n16 17 1 0 1\\nSMALL\\nNO_CHARGES\\n@<TRIPOS>CRYSIN\\n   13.1910     9.7520     6.0340    90.0000    90.0000    90.0000  1  1\\n@<TRIPOS>ATOM\\n       1 C           -4.6360     1.9930     0.0290 C             1 RES     \\n       2 C           -3.2890     2.0830    -0.2290 C             1 RES     \\n       3 C           -2.5950     0.7820    -0.4930 C             1 RES     \\n       4 S           -3.8850    -0.5220    -0.4010 S             1 RES     \\n       5 C           -5.1140     0.7100    -0.0040 C             1 RES     \\n       6 H           -5.2600     2.8530     0.2350 H             1 RES     \\n       7 H           -2.7750     3.0350    -0.2410 H             1 RES     \\n       8 H           -6.1540     0.4670     0.1640 H             1 RES     \\n       9 C            0.5300    -0.6880    -0.0390 C             1 RES     \\n      10 C           -0.8030    -0.7690     0.2830 C             1 RES     \\n      11 C           -1.4850     0.5410     0.5410 C             1 RES     \\n      12 S           -0.1860     1.8330     0.4110 S             1 RES     \\n      13 C            1.0110     0.5940    -0.0540 C             1 RES     \\n      14 H            1.1390    -1.5530    -0.2710 H             1 RES     \\n      15 H           -1.3210    -1.7170     0.3270 H             1 RES     \\n      16 H            2.0370     0.8330    -0.2990 H             1 RES     \\n@<TRIPOS>BOND\\n       1        2        1 1\\n       2        5        1 1\\n       3        6        1 1\\n       4        3        2 1\\n       5        7        2 1\\n       6        4        3 1\\n       7       11        3 1\\n       8        5        4 1\\n       9        8        5 1\\n      10       10        9 1\\n      11       13        9 1\\n      12       14        9 1\\n      13       11       10 1\\n      14       15       10 1\\n      15       12       11 1\\n      16       13       12 1\\n      17       16       13 1\\n@<TRIPOS>SUBSTRUCTURE\\n       1 RES             1 RESIDUE    0 **** ROOT      0\\n\",\"mol2\");\n",
       "\tviewer_1674503070018632.setStyle({\"stick\": {\"radius\": 0.2, \"color\": \"grey\"}, \"sphere\": {\"scale\": 0.3, \"colorscheme\": {}}});\n",
       "\tviewer_1674503070018632.zoomTo();\n",
       "viewer_1674503070018632.render();\n",
       "});\n",
       "</script>"
      ]
     },
     "metadata": {},
     "output_type": "display_data"
    },
    {
     "data": {
      "text/plain": [
       "<py3Dmol.view at 0x183ab4460>"
      ]
     },
     "execution_count": 4,
     "metadata": {},
     "output_type": "execute_result"
    }
   ],
   "source": [
    "#Change input file for molecule, this one should be .mol2 file!\n",
    "mb_comp = mb.load(\"/Users/madilyn/Projects/repos/Fragment-Library/monomer_builder/thio_dimer.mol2\")\n",
    "mb_comp.visualize()"
   ]
  },
  {
   "cell_type": "code",
   "execution_count": 5,
   "id": "c3eebc8a",
   "metadata": {
    "scrolled": true
   },
   "outputs": [],
   "source": [
    "#Change input file for molecule\n",
    "#This one needs to be .sdf file!\n",
    "\n",
    "molecule = Molecule.from_file(\"/Users/madilyn/Projects/repos/Fragment-Library/monomer_builder/thio_dimer.sdf\",file_format = \"sdf\")\n",
    "#molecule = Molecule.from_smiles(smiles) #molecule is benzene\n",
    "molecule_graph = esp.Graph(molecule)\n",
    "\n",
    "espaloma_model = torch.load(\"espaloma_model.pt\")\n",
    "espaloma_model(molecule_graph.heterograph)\n",
    "openmm_system = esp.graphs.deploy.openmm_system_from_graph(molecule_graph)\n",
    "\n",
    "# Store the results for each in something more accessible\n",
    "pair_forces = openmm_system.getForces()[1]\n",
    "angle_forces = openmm_system.getForces()[3]\n",
    "bond_forces = openmm_system.getForces()[2]\n",
    "torsion_forces = openmm_system.getForces()[0]"
   ]
  },
  {
   "cell_type": "code",
   "execution_count": 6,
   "id": "ec6cfe57",
   "metadata": {},
   "outputs": [],
   "source": [
    "# get a parmed structure from openmm \n",
    "import parmed as pmd\n",
    "topology = molecule.to_topology()\n",
    "openmm_topology = topology.to_openmm()\n",
    "\n",
    "structure = pmd.openmm.load_topology(topology=openmm_topology, system=openmm_system)\n",
    "structure.bonds.sort(key=lambda x: x.atom1.idx)"
   ]
  },
  {
   "cell_type": "code",
   "execution_count": 7,
   "id": "1b98eb25",
   "metadata": {},
   "outputs": [],
   "source": [
    "# step 1: how to get bond parameters\n",
    "\n",
    "bond_parameters = {}\n",
    "\n",
    "for bond in structure.bonds:\n",
    "    bond_parameters[(bond.atom1.name, bond.atom2.name)] = {\"k\":[bond.type.k] , \"l0\":[bond.type.req]}\n",
    "    \n",
    "# step 2: get angle parameters\n",
    "\n",
    "angle_parameters = {}\n",
    "\n",
    "for angle in structure.angles:\n",
    "    angle_parameters[(angle.atom1.name, angle.atom2.name,angle.atom3.name)] = {\"k\":[angle.type.k], \n",
    "                                                                               \"t0\":[angle.type.theteq]}\n",
    "    \n",
    "# step 3: dihedral parameters\n",
    "\n",
    "dihedral_parameters = {}\n",
    "\n",
    "for dihedral in structure.dihedrals:\n",
    "    dihedral_parameters[(dihedral.atom1.name, dihedral.atom2.name,dihedral.atom3.name,\n",
    "                         dihedral.atom4.name)] = {\"periodicity\":[dihedral.type.per],\n",
    "                                                  \"k\":[dihedral.type.phi_k],\"phase\":[dihedral.type.phase]}\n",
    "    \n",
    "# step 4: non-bonding parameters\n",
    "\n",
    "nonbonded_parameters = {}\n",
    "\n",
    "for nonbonded in structure.adjusts:\n",
    "    nonbonded_parameters[(nonbonded.atom1.name,nonbonded.atom2.name)] = {\"sigma\":[nonbonded.type.rmin],\n",
    "                                                    \"epsilon\":[nonbonded.type.epsilon],\n",
    "                                                    \"charge\":[nonbonded.type.chgscale]}"
   ]
  },
  {
   "cell_type": "code",
   "execution_count": 8,
   "id": "31a33eae",
   "metadata": {},
   "outputs": [
    {
     "name": "stdout",
     "output_type": "stream",
     "text": [
      "{0: 0, 1: 1, 2: 2, 3: 3, 4: 4, 5: 5, 6: 6, 7: 7, 8: 0, 9: 1, 10: 2, 11: 3, 12: 4, 13: 5, 14: 6, 15: 7}\n"
     ]
    }
   ],
   "source": [
    "particle_types = []\n",
    "particle_type_dict = dict()\n",
    "\n",
    "for i in range(pair_forces.getNumParticles()):\n",
    "    pair_parms = pair_forces.getParticleParameters(index=i)\n",
    "    charge = pair_parms[0]\n",
    "    sigma = pair_parms[1]\n",
    "    epsilon = pair_parms[2]\n",
    "    if (charge, sigma, epsilon) not in particle_types: \n",
    "        particle_types.append((charge, sigma, epsilon))\n",
    "    particle_type_dict[i] = particle_types.index((charge, sigma, epsilon))\n",
    "print(particle_type_dict)"
   ]
  },
  {
   "cell_type": "code",
   "execution_count": 9,
   "id": "4de400b7",
   "metadata": {},
   "outputs": [
    {
     "name": "stdout",
     "output_type": "stream",
     "text": [
      "{1: 'C1', 0: 'C1', 2: 'C1', 3: 'S1', 4: 'C1', 5: 'H1', 6: 'H1', 7: 'H2', 9: 'C1', 8: 'C1', 10: 'C1', 11: 'S1', 12: 'C1', 13: 'H1', 14: 'H1', 15: 'H2'}\n"
     ]
    }
   ],
   "source": [
    "import networkx  as nx\n",
    "Gopenmm = nx.Graph()\n",
    "Gparmed = nx.Graph()\n",
    "#openmm:\n",
    "for i in range(bond_forces.getNumBonds()):\n",
    "    Gopenmm.add_edge(bond_forces.getBondParameters(index=i)[0],bond_forces.getBondParameters(index=i)[1])\n",
    "#parmed\n",
    "for b in structure.bonds:\n",
    "    Gparmed.add_edge(b.atom1.idx,b.atom2.idx)\n",
    "type_map = {}\n",
    "#nx.rooted_tree_isomorphism\n",
    "#in here we still need to check that one known index on one corresponds to the same index on the other....\n",
    "tree_openmm = nx.bfs_tree(Gopenmm,0)\n",
    "tree_parmed = nx.bfs_tree(Gparmed,0)\n",
    "if nx.is_isomorphic(Gopenmm,Gparmed):\n",
    "#if nx.isomorphism.tree_isomorphism(tree_openmm,tree_parmed):  <- want this work\n",
    "    for b in structure.bonds:\n",
    "        type_map[b.atom1.idx] = b.atom1.atom_type.__str__()\n",
    "        type_map[b.atom2.idx] = b.atom2.atom_type.__str__()\n",
    "print(type_map)"
   ]
  },
  {
   "cell_type": "code",
   "execution_count": 10,
   "id": "c07909e7",
   "metadata": {},
   "outputs": [],
   "source": [
    "# Rename the particle types so that they match the xml file\n",
    "# This is needed when we aren't using SMARTS matching with Foyer.\n",
    "\n",
    "for index in type_map:\n",
    "    mb_comp[index].name = type_map[index]"
   ]
  },
  {
   "cell_type": "code",
   "execution_count": 11,
   "id": "d7bce47f",
   "metadata": {},
   "outputs": [
    {
     "name": "stdout",
     "output_type": "stream",
     "text": [
      "{('C1', 'C1'): {'k': 130476.47987136067, 'l0': 0.1437500201875223}, ('C1', 'H1'): {'k': 220608.8694128878, 'l0': 0.10636677631994633}, ('C1', 'S1'): {'k': 33909.788790605766, 'l0': 0.16919207367819306}, ('S1', 'C1'): {'k': 31259.517863286273, 'l0': 0.18678229446992245}, ('C1', 'H2'): {'k': 325993.2295521471, 'l0': 0.10261831199759029}}\n"
     ]
    }
   ],
   "source": [
    "bond_types = []\n",
    "bond_dict = dict() \n",
    "\n",
    "for i in range(bond_forces.getNumBonds()):\n",
    "    bond_parms = bond_forces.getBondParameters(index=i)\n",
    "    l0 = bond_parms[2]/bond_parms[2].unit\n",
    "    k = bond_parms[3]/bond_parms[3].unit\n",
    "    bond_dict[type_map[bond_parms[0]],type_map[bond_parms[1]]] = {'k':k,'l0':l0}\n",
    "print(bond_dict)"
   ]
  },
  {
   "cell_type": "code",
   "execution_count": 12,
   "id": "569a6335",
   "metadata": {
    "scrolled": true
   },
   "outputs": [
    {
     "name": "stdout",
     "output_type": "stream",
     "text": [
      "{('C1', 'C1', 'C1'): {'k': 453.64722647696794, 't0': 1.9165141582489014}, ('C1', 'C1', 'H1'): {'k': 382.3958441571115, 't0': 1.9976266622543335}, ('C1', 'C1', 'S1'): {'k': 315.3169486387057, 't0': 1.9456881284713745}, ('C1', 'C1', 'H2'): {'k': 422.3934320155559, 't0': 2.045948028564453}, ('C1', 'S1', 'C1'): {'k': 404.16477748160173, 't0': 1.5887885093688965}, ('S1', 'C1', 'C1'): {'k': 290.8783991790151, 't0': 1.9554286003112793}, ('S1', 'C1', 'H2'): {'k': 322.5393661936369, 't0': 2.158613681793213}}\n"
     ]
    }
   ],
   "source": [
    "angle_types = []\n",
    "angle_dict = dict()\n",
    "\n",
    "for i in range(angle_forces.getNumAngles()):\n",
    "    angle_parms = angle_forces.getAngleParameters(index=i)\n",
    "    k = angle_parms[4]/angle_parms[4].unit\n",
    "    t0 = angle_parms[3]/angle_parms[3].unit  \n",
    "    angle_dict[type_map[angle_parms[0]],type_map[angle_parms[1]],type_map[angle_parms[2]]] = {'k':k,'t0':t0}\n",
    "print(angle_dict)"
   ]
  },
  {
   "cell_type": "code",
   "execution_count": 13,
   "id": "83bacdda",
   "metadata": {},
   "outputs": [
    {
     "name": "stdout",
     "output_type": "stream",
     "text": [
      "{('C1', 'C1', 'C1', 'S1'): {'periodicity': [1, 2, 3, 4, 5, 6], 'k': [1.2904303672146067, 1.3034656595588368, 0.2455493547450968, 1.1997261523376195, 0.5343222815721589, 1.8644796033387647], 'phase': [3.141592653589793, 3.141592653589793, 3.141592653589793, 3.141592653589793, 3.141592653589793, 0.0]}, ('C1', 'C1', 'C1', 'C1'): {'periodicity': [1, 2, 3, 4, 5, 6], 'k': [0.9754364766934248, 3.0114569573091163, 0.09166517340095685, 0.29993642845857266, 0.15489771139041333, 0.016000081683449668], 'phase': [3.141592653589793, 3.141592653589793, 0.0, 0.0, 0.0, 3.141592653589793]}, ('C1', 'C1', 'S1', 'C1'): {'periodicity': [1, 2, 3, 4, 5, 6], 'k': [1.0515649313633295, 1.339424580814558, 0.6694225357378377, 0.8573657279735143, 0.40790610933492377, 0.1303920464356441], 'phase': [3.141592653589793, 3.141592653589793, 0.0, 3.141592653589793, 0.0, 3.141592653589793]}, ('C1', 'C1', 'C1', 'H2'): {'periodicity': [1, 2, 3, 4, 5, 6], 'k': [3.2285492247718737, 2.721208360076925, 0.2643442852654354, 0.268579349294737, 0.7688939689041209, 0.19164887326131552], 'phase': [0.0, 3.141592653589793, 0.0, 3.141592653589793, 0.0, 3.141592653589793]}, ('C1', 'C1', 'C1', 'H1'): {'periodicity': [1, 2, 3, 4, 5, 6], 'k': [0.6247184028765755, 1.0115396639870955, 2.567124895985448, 0.5519374093245194, 0.052072704138571735, 0.7617686937416586], 'phase': [3.141592653589793, 3.141592653589793, 3.141592653589793, 3.141592653589793, 0.0, 0.0]}, ('C1', 'S1', 'C1', 'H2'): {'periodicity': [1, 2, 3, 4, 5, 6], 'k': [2.743563482991411, 4.779204959609099, 1.1734648430566155, 0.5769076598252283, 1.4789860788147984, 0.31938177874322665], 'phase': [0.0, 3.141592653589793, 0.0, 3.141592653589793, 0.0, 3.141592653589793]}, ('S1', 'C1', 'C1', 'H1'): {'periodicity': [1, 2, 3, 4, 5, 6], 'k': [0.9169989505754812, 2.286131331865789, 1.2279925150274151, 0.5808003976627849, 2.216503407058412, 0.4750436110973563], 'phase': [0.0, 3.141592653589793, 0.0, 3.141592653589793, 0.0, 3.141592653589793]}, ('S1', 'C1', 'C1', 'C1'): {'periodicity': [1, 2, 3, 4, 5, 6], 'k': [1.8636946982848352, 1.6040133847883826, 1.2192142933962415, 0.11188687058474668, 0.3583079345252511, 0.6915967148081156], 'phase': [0.0, 3.141592653589793, 0.0, 0.0, 0.0, 3.141592653589793]}, ('S1', 'C1', 'C1', 'S1'): {'periodicity': [1, 2, 3, 4, 5, 6], 'k': [8.707504375520328, 3.1034497857793144, 0.9536914279563701, 2.38589618748214, 5.122500668032793, 0.10940989606876372], 'phase': [3.141592653589793, 3.141592653589793, 0.0, 3.141592653589793, 0.0, 3.141592653589793]}, ('C1', 'S1', 'C1', 'C1'): {'periodicity': [1, 2, 3, 4, 5, 6], 'k': [3.8449026426344535, 4.396904849416696, 0.738201980627104, 0.44862336465589936, 2.3777879471119525, 0.1374635274822608], 'phase': [3.141592653589793, 3.141592653589793, 0.0, 3.141592653589793, 0.0, 0.0]}, ('H1', 'C1', 'C1', 'H1'): {'periodicity': [1, 2, 3, 4, 5, 6], 'k': [3.1148333542483755, 2.7349698729850713, 0.6461064542993821, 1.689487344492924, 0.0891515210787155, 0.48097441236933725], 'phase': [0.0, 3.141592653589793, 0.0, 3.141592653589793, 0.0, 3.141592653589793]}, ('H1', 'C1', 'C1', 'H2'): {'periodicity': [1, 2, 3, 4, 5, 6], 'k': [2.9832798439478827, 1.8128262487850806, 0.6253028025896259, 1.1148683797782188, 0.2080462978458977, 0.3298056112818598], 'phase': [0.0, 3.141592653589793, 0.0, 3.141592653589793, 0.0, 3.141592653589793]}, ('H1', 'C1', 'C1', 'C1'): {'periodicity': [1, 2, 3, 4, 5, 6], 'k': [3.4352262178507917, 2.0444453727132426, 0.31326025287870213, 0.8291335979028931, 1.2563762466972377, 0.5506708024150632], 'phase': [3.141592653589793, 3.141592653589793, 3.141592653589793, 3.141592653589793, 3.141592653589793, 0.0]}, ('C1', 'C1', 'H1', 'C1'): {'periodicity': [1, 2, 3, 4, 5, 6], 'k': [0.1676542524070798, 0.528732583898381, 2.4974450109525383, 0.16012552137577518, 0.3493389883015339, 0.5956231217653404], 'phase': [3.141592653589793, 3.141592653589793, 3.141592653589793, 3.141592653589793, 0.0, 0.0]}, ('C1', 'C1', 'S1', 'H2'): {'periodicity': [1, 2, 3, 4, 5, 6], 'k': [0.5278205291160891, 2.5211248139697227, 0.1795183001381255, 0.3692574822869211, 0.34567120767569537, 1.3356198697120214], 'phase': [0.0, 3.141592653589793, 0.0, 0.0, 0.0, 0.0]}, ('C1', 'C1', 'H2', 'S1'): {'periodicity': [1, 2, 3, 4, 5, 6], 'k': [1.2975800942479079, 1.6791393127538914, 1.2259825712444556, 1.50366290686544, 1.373657199989051, 1.702456616785889], 'phase': [3.141592653589793, 3.141592653589793, 3.141592653589793, 3.141592653589793, 0.0, 0.0]}, ('S1', 'C1', 'C1', 'H2'): {'periodicity': [1, 2, 3, 4, 5, 6], 'k': [0.3052547103660385, 0.7529953624846528, 0.2802832372717878, 0.4260542878715729, 1.168251704193757, 0.08549352120121254], 'phase': [0.0, 3.141592653589793, 3.141592653589793, 3.141592653589793, 0.0, 0.0]}, ('S1', 'C1', 'H2', 'C1'): {'periodicity': [1, 2, 3, 4, 5, 6], 'k': [0.4152343350253492, 0.7737501104527311, 0.15002689871929975, 0.9348194740428888, 1.714408691251955, 0.05792648201741005], 'phase': [0.0, 3.141592653589793, 0.0, 3.141592653589793, 0.0, 0.0]}, ('H2', 'C1', 'C1', 'S1'): {'periodicity': [1, 2, 3, 4, 5, 6], 'k': [2.3460274120792746, 0.6322813665270547, 0.6778841056416472, 1.3013970312858638, 0.9656337216741003, 1.3701556920849172], 'phase': [3.141592653589793, 0.0, 3.141592653589793, 0.0, 3.141592653589793, 0.0]}, ('H2', 'C1', 'S1', 'C1'): {'periodicity': [1, 2, 3, 4, 5, 6], 'k': [1.078638042756186, 0.5231379958504352, 1.0068791374051966, 1.7943222955277252, 0.6573934378786292, 1.3374048562832628], 'phase': [3.141592653589793, 0.0, 3.141592653589793, 0.0, 3.141592653589793, 3.141592653589793]}}\n"
     ]
    }
   ],
   "source": [
    "dihedral_types = []\n",
    "dihedral_dict = {}\n",
    "\n",
    "for i in range(torsion_forces.getNumTorsions()):\n",
    "    if i%6==0:\n",
    "        periodicity=[]\n",
    "        phase = []\n",
    "        k = []\n",
    "    dihedral_parms = torsion_forces.getTorsionParameters(index=i)\n",
    "    periodicity.append(dihedral_parms[4])  \n",
    "    phase.append( dihedral_parms[5]/dihedral_parms[5].unit)\n",
    "    k.append(dihedral_parms[6]/dihedral_parms[6].unit)\n",
    "    dt = (type_map[dihedral_parms[0]],type_map[dihedral_parms[1]],type_map[dihedral_parms[2]],\n",
    "                  type_map[dihedral_parms[3]])\n",
    "   \n",
    "\n",
    "    if periodicity[-1]==6:\n",
    "        #print(dt,periodicity,phase)\n",
    "        dihedral_dict[dt] = {'periodicity':periodicity,'k':k,'phase':phase}\n",
    "print(dihedral_dict)"
   ]
  },
  {
   "cell_type": "code",
   "execution_count": 14,
   "id": "eed592f7",
   "metadata": {
    "scrolled": true
   },
   "outputs": [
    {
     "name": "stdout",
     "output_type": "stream",
     "text": [
      "{'C1': {'charge': -0.17597500000000002, 'sigma': 0.3399669508423535, 'epsilon': 0.359824}, 'S1': {'charge': 0.037325, 'sigma': 0.35635948725613575, 'epsilon': 1.046}, 'H1': {'charge': 0.15512499999999999, 'sigma': 0.25996424595335105, 'epsilon': 0.06276}, 'H2': {'charge': 0.171125, 'sigma': 0.2510552587719476, 'epsilon': 0.06276}}\n"
     ]
    }
   ],
   "source": [
    "nonbonded_types = []\n",
    "nonbonded_dict = {}\n",
    "\n",
    "for i in range(pair_forces.getNumParticles()):\n",
    "    nonbonded_parms = pair_forces.getParticleParameters(index=i)\n",
    "    charge = nonbonded_parms[0]/nonbonded_parms[0].unit\n",
    "    sigma = nonbonded_parms[1]/nonbonded_parms[1].unit\n",
    "    epsilon = nonbonded_parms[2]/nonbonded_parms[2].unit\n",
    "    if (charge,sigma,epsilon) not in nonbonded_types:\n",
    "        nonbonded_types.append((charge,sigma,epsilon))\n",
    "    nonbonded_dict[(type_map[i])]={'charge':charge,'sigma':sigma,'epsilon':epsilon}\n",
    "print(nonbonded_dict)"
   ]
  },
  {
   "cell_type": "code",
   "execution_count": 15,
   "id": "dda945e2",
   "metadata": {},
   "outputs": [],
   "source": [
    "# Save the forcefield XML file for future use, so that we don't have to repeat the espaloma process everytime\n",
    "mbuild_to_foyer_xml(\n",
    "    file_name=\"thio_dimer_esp.xml\", #change this to whatever you want to save your xml file as\n",
    "    compound=mb_comp,\n",
    "    bond_params=bond_dict,\n",
    "    angle_params=angle_dict,\n",
    "    dihedral_params=dihedral_dict,\n",
    "    dihedral_type=\"periodic\",\n",
    "    non_bonded_params=nonbonded_dict,\n",
    "    combining_rule=\"geometric\",\n",
    "    name=\"\",\n",
    "    version=\"\",\n",
    "    coulomb14scale=1.0,\n",
    "    lj14scale=1.0)\n",
    "\n",
    "# Save the mb.Compound with the new atom type names for future use.\n",
    "mb_comp.save(\"thio_dimer_typed.mol2\", overwrite=True) #change this to match your molecule name. "
   ]
  }
 ],
 "metadata": {
  "kernelspec": {
   "display_name": "Python 3 (ipykernel)",
   "language": "python",
   "name": "python3"
  },
  "language_info": {
   "codemirror_mode": {
    "name": "ipython",
    "version": 3
   },
   "file_extension": ".py",
   "mimetype": "text/x-python",
   "name": "python",
   "nbconvert_exporter": "python",
   "pygments_lexer": "ipython3",
   "version": "3.9.15"
  }
 },
 "nbformat": 4,
 "nbformat_minor": 5
}
