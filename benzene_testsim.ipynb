{
 "cells": [
  {
   "cell_type": "code",
   "execution_count": 1,
   "id": "228de95e",
   "metadata": {},
   "outputs": [
    {
     "name": "stderr",
     "output_type": "stream",
     "text": [
      "Warning: importing 'simtk.openmm' is deprecated.  Import 'openmm' instead.\n"
     ]
    }
   ],
   "source": [
    "import mbuild as mb\n",
    "import warnings \n",
    "warnings.filterwarnings('ignore')\n",
    "import hoomd\n",
    "import foyer\n",
    "import gsd.hoomd\n",
    "from mbuild.formats.hoomd_forcefield import create_hoomd_forcefield"
   ]
  },
  {
   "cell_type": "code",
   "execution_count": 2,
   "id": "2f157532",
   "metadata": {},
   "outputs": [
    {
     "data": {
      "application/3dmoljs_load.v0": "<div id=\"3dmolviewer_1670558607358044\"  style=\"position: relative; width: 640px; height: 480px\">\n        <p id=\"3dmolwarning_1670558607358044\" style=\"background-color:#ffcccc;color:black\">You appear to be running in JupyterLab (or JavaScript failed to load for some other reason).  You need to install the 3dmol extension: <br>\n        <tt>jupyter labextension install jupyterlab_3dmol</tt></p>\n        </div>\n<script>\n\nvar loadScriptAsync = function(uri){\n  return new Promise((resolve, reject) => {\n    var tag = document.createElement('script');\n    tag.src = uri;\n    tag.async = true;\n    tag.onload = () => {\n      resolve();\n    };\n  var firstScriptTag = document.getElementsByTagName('script')[0];\n  firstScriptTag.parentNode.insertBefore(tag, firstScriptTag);\n});\n};\n\nif(typeof $3Dmolpromise === 'undefined') {\n$3Dmolpromise = null;\n  $3Dmolpromise = loadScriptAsync('https://cdn.jsdelivr.net/npm/3dmol@latest/build/3Dmol-min.min.js');\n}\n\nvar viewer_1670558607358044 = null;\nvar warn = document.getElementById(\"3dmolwarning_1670558607358044\");\nif(warn) {\n    warn.parentNode.removeChild(warn);\n}\n$3Dmolpromise.then(function() {\nviewer_1670558607358044 = $3Dmol.createViewer($(\"#3dmolviewer_1670558607358044\"),{backgroundColor:\"white\"});\nviewer_1670558607358044.zoomTo();\n\tviewer_1670558607358044.addModel(\"@<TRIPOS>MOLECULE\\nRES\\n12 12 1 0 1\\nSMALL\\nNO_CHARGES\\n@<TRIPOS>CRYSIN\\n    9.3455     9.9325     5.5369    90.0000    90.0000    90.0000  1  1\\n@<TRIPOS>ATOM\\n       1 C           -1.2250     0.6633    -0.1287 C             1 RES     \\n       2 C           -1.1950    -0.7272     0.0226 C             1 RES     \\n       3 C            0.0300    -1.3905     0.1513 C             1 RES     \\n       4 C            1.2250    -0.6633     0.1287 C             1 RES     \\n       5 C            1.1950     0.7272    -0.0226 C             1 RES     \\n       6 C           -0.0300     1.3905    -0.1513 C             1 RES     \\n       7 H           -2.1728     1.1765    -0.2283 H             1 RES     \\n       8 H           -2.1195    -1.2897     0.0401 H             1 RES     \\n       9 H            0.0533    -2.4662     0.2684 H             1 RES     \\n      10 H            2.1728    -1.1765     0.2283 H             1 RES     \\n      11 H            2.1195     1.2897    -0.0401 H             1 RES     \\n      12 H           -0.0533     2.4662    -0.2684 H             1 RES     \\n@<TRIPOS>BOND\\n       1        2        1 1\\n       2        6        1 1\\n       3        7        1 1\\n       4        3        2 1\\n       5        8        2 1\\n       6        4        3 1\\n       7        9        3 1\\n       8        5        4 1\\n       9       10        4 1\\n      10        6        5 1\\n      11       11        5 1\\n      12       12        6 1\\n@<TRIPOS>SUBSTRUCTURE\\n       1 RES             1 RESIDUE    0 **** ROOT      0\\n\",\"mol2\");\n\tviewer_1670558607358044.setStyle({\"stick\": {\"radius\": 0.2, \"color\": \"grey\"}, \"sphere\": {\"scale\": 0.3, \"colorscheme\": {}}});\n\tviewer_1670558607358044.zoomTo();\nviewer_1670558607358044.render();\n});\n</script>",
      "text/html": [
       "<div id=\"3dmolviewer_1670558607358044\"  style=\"position: relative; width: 640px; height: 480px\">\n",
       "        <p id=\"3dmolwarning_1670558607358044\" style=\"background-color:#ffcccc;color:black\">You appear to be running in JupyterLab (or JavaScript failed to load for some other reason).  You need to install the 3dmol extension: <br>\n",
       "        <tt>jupyter labextension install jupyterlab_3dmol</tt></p>\n",
       "        </div>\n",
       "<script>\n",
       "\n",
       "var loadScriptAsync = function(uri){\n",
       "  return new Promise((resolve, reject) => {\n",
       "    var tag = document.createElement('script');\n",
       "    tag.src = uri;\n",
       "    tag.async = true;\n",
       "    tag.onload = () => {\n",
       "      resolve();\n",
       "    };\n",
       "  var firstScriptTag = document.getElementsByTagName('script')[0];\n",
       "  firstScriptTag.parentNode.insertBefore(tag, firstScriptTag);\n",
       "});\n",
       "};\n",
       "\n",
       "if(typeof $3Dmolpromise === 'undefined') {\n",
       "$3Dmolpromise = null;\n",
       "  $3Dmolpromise = loadScriptAsync('https://cdn.jsdelivr.net/npm/3dmol@latest/build/3Dmol-min.min.js');\n",
       "}\n",
       "\n",
       "var viewer_1670558607358044 = null;\n",
       "var warn = document.getElementById(\"3dmolwarning_1670558607358044\");\n",
       "if(warn) {\n",
       "    warn.parentNode.removeChild(warn);\n",
       "}\n",
       "$3Dmolpromise.then(function() {\n",
       "viewer_1670558607358044 = $3Dmol.createViewer($(\"#3dmolviewer_1670558607358044\"),{backgroundColor:\"white\"});\n",
       "viewer_1670558607358044.zoomTo();\n",
       "\tviewer_1670558607358044.addModel(\"@<TRIPOS>MOLECULE\\nRES\\n12 12 1 0 1\\nSMALL\\nNO_CHARGES\\n@<TRIPOS>CRYSIN\\n    9.3455     9.9325     5.5369    90.0000    90.0000    90.0000  1  1\\n@<TRIPOS>ATOM\\n       1 C           -1.2250     0.6633    -0.1287 C             1 RES     \\n       2 C           -1.1950    -0.7272     0.0226 C             1 RES     \\n       3 C            0.0300    -1.3905     0.1513 C             1 RES     \\n       4 C            1.2250    -0.6633     0.1287 C             1 RES     \\n       5 C            1.1950     0.7272    -0.0226 C             1 RES     \\n       6 C           -0.0300     1.3905    -0.1513 C             1 RES     \\n       7 H           -2.1728     1.1765    -0.2283 H             1 RES     \\n       8 H           -2.1195    -1.2897     0.0401 H             1 RES     \\n       9 H            0.0533    -2.4662     0.2684 H             1 RES     \\n      10 H            2.1728    -1.1765     0.2283 H             1 RES     \\n      11 H            2.1195     1.2897    -0.0401 H             1 RES     \\n      12 H           -0.0533     2.4662    -0.2684 H             1 RES     \\n@<TRIPOS>BOND\\n       1        2        1 1\\n       2        6        1 1\\n       3        7        1 1\\n       4        3        2 1\\n       5        8        2 1\\n       6        4        3 1\\n       7        9        3 1\\n       8        5        4 1\\n       9       10        4 1\\n      10        6        5 1\\n      11       11        5 1\\n      12       12        6 1\\n@<TRIPOS>SUBSTRUCTURE\\n       1 RES             1 RESIDUE    0 **** ROOT      0\\n\",\"mol2\");\n",
       "\tviewer_1670558607358044.setStyle({\"stick\": {\"radius\": 0.2, \"color\": \"grey\"}, \"sphere\": {\"scale\": 0.3, \"colorscheme\": {}}});\n",
       "\tviewer_1670558607358044.zoomTo();\n",
       "viewer_1670558607358044.render();\n",
       "});\n",
       "</script>"
      ]
     },
     "metadata": {},
     "output_type": "display_data"
    },
    {
     "data": {
      "text/plain": [
       "<py3Dmol.view at 0x13f61b340>"
      ]
     },
     "execution_count": 2,
     "metadata": {},
     "output_type": "execute_result"
    }
   ],
   "source": [
    "benzene = mb.load('c1ccccc1',smiles=True)\n",
    "benzene.visualize()"
   ]
  },
  {
   "cell_type": "code",
   "execution_count": 3,
   "id": "5b20b550",
   "metadata": {},
   "outputs": [
    {
     "data": {
      "application/3dmoljs_load.v0": "<div id=\"3dmolviewer_167055864388098\"  style=\"position: relative; width: 640px; height: 480px\">\n        <p id=\"3dmolwarning_167055864388098\" style=\"background-color:#ffcccc;color:black\">You appear to be running in JupyterLab (or JavaScript failed to load for some other reason).  You need to install the 3dmol extension: <br>\n        <tt>jupyter labextension install jupyterlab_3dmol</tt></p>\n        </div>\n<script>\n\nvar loadScriptAsync = function(uri){\n  return new Promise((resolve, reject) => {\n    var tag = document.createElement('script');\n    tag.src = uri;\n    tag.async = true;\n    tag.onload = () => {\n      resolve();\n    };\n  var firstScriptTag = document.getElementsByTagName('script')[0];\n  firstScriptTag.parentNode.insertBefore(tag, firstScriptTag);\n});\n};\n\nif(typeof $3Dmolpromise === 'undefined') {\n$3Dmolpromise = null;\n  $3Dmolpromise = loadScriptAsync('https://cdn.jsdelivr.net/npm/3dmol@latest/build/3Dmol-min.min.js');\n}\n\nvar viewer_167055864388098 = null;\nvar warn = document.getElementById(\"3dmolwarning_167055864388098\");\nif(warn) {\n    warn.parentNode.removeChild(warn);\n}\n$3Dmolpromise.then(function() {\nviewer_167055864388098 = $3Dmol.createViewer($(\"#3dmolviewer_167055864388098\"),{backgroundColor:\"white\"});\nviewer_167055864388098.zoomTo();\n\tviewer_167055864388098.addModel(\"@<TRIPOS>MOLECULE\\nRES\\n12 12 1 0 1\\nSMALL\\nNO_CHARGES\\n@<TRIPOS>CRYSIN\\n  234.9593   234.9593   234.9593    90.0000    90.0000    90.0000  1  1\\n@<TRIPOS>ATOM\\n       1 C            5.4435    24.0625   220.3463 C             1 RES     \\n       2 C            4.3280    23.3875   219.8390 C             1 RES     \\n       3 C            3.1009    24.0500   219.7268 C             1 RES     \\n       4 C            2.9893    25.3875   220.1219 C             1 RES     \\n       5 C            4.1048    26.0624   220.6292 C             1 RES     \\n       6 C            5.3320    25.3999   220.7414 C             1 RES     \\n       7 H            6.3928    23.5499   220.4331 H             1 RES     \\n       8 H            4.4143    22.3528   219.5333 H             1 RES     \\n       9 H            2.2378    23.5279   219.3343 H             1 RES     \\n      10 H            2.0400    25.9000   220.0351 H             1 RES     \\n      11 H            4.0185    27.0971   220.9348 H             1 RES     \\n      12 H            6.1950    25.9221   221.1338 H             1 RES     \\n@<TRIPOS>BOND\\n       1        2        1 1\\n       2        6        1 1\\n       3        7        1 1\\n       4        3        2 1\\n       5        8        2 1\\n       6        4        3 1\\n       7        9        3 1\\n       8        5        4 1\\n       9       10        4 1\\n      10        6        5 1\\n      11       11        5 1\\n      12       12        6 1\\n@<TRIPOS>SUBSTRUCTURE\\n       1 RES             1 RESIDUE    0 **** ROOT      0\\n\",\"mol2\");\n\tviewer_167055864388098.setStyle({\"stick\": {\"radius\": 0.2, \"color\": \"grey\"}, \"sphere\": {\"scale\": 0.3, \"colorscheme\": {}}});\n\tviewer_167055864388098.zoomTo();\nviewer_167055864388098.render();\n});\n</script>",
      "text/html": [
       "<div id=\"3dmolviewer_167055864388098\"  style=\"position: relative; width: 640px; height: 480px\">\n",
       "        <p id=\"3dmolwarning_167055864388098\" style=\"background-color:#ffcccc;color:black\">You appear to be running in JupyterLab (or JavaScript failed to load for some other reason).  You need to install the 3dmol extension: <br>\n",
       "        <tt>jupyter labextension install jupyterlab_3dmol</tt></p>\n",
       "        </div>\n",
       "<script>\n",
       "\n",
       "var loadScriptAsync = function(uri){\n",
       "  return new Promise((resolve, reject) => {\n",
       "    var tag = document.createElement('script');\n",
       "    tag.src = uri;\n",
       "    tag.async = true;\n",
       "    tag.onload = () => {\n",
       "      resolve();\n",
       "    };\n",
       "  var firstScriptTag = document.getElementsByTagName('script')[0];\n",
       "  firstScriptTag.parentNode.insertBefore(tag, firstScriptTag);\n",
       "});\n",
       "};\n",
       "\n",
       "if(typeof $3Dmolpromise === 'undefined') {\n",
       "$3Dmolpromise = null;\n",
       "  $3Dmolpromise = loadScriptAsync('https://cdn.jsdelivr.net/npm/3dmol@latest/build/3Dmol-min.min.js');\n",
       "}\n",
       "\n",
       "var viewer_167055864388098 = null;\n",
       "var warn = document.getElementById(\"3dmolwarning_167055864388098\");\n",
       "if(warn) {\n",
       "    warn.parentNode.removeChild(warn);\n",
       "}\n",
       "$3Dmolpromise.then(function() {\n",
       "viewer_167055864388098 = $3Dmol.createViewer($(\"#3dmolviewer_167055864388098\"),{backgroundColor:\"white\"});\n",
       "viewer_167055864388098.zoomTo();\n",
       "\tviewer_167055864388098.addModel(\"@<TRIPOS>MOLECULE\\nRES\\n12 12 1 0 1\\nSMALL\\nNO_CHARGES\\n@<TRIPOS>CRYSIN\\n  234.9593   234.9593   234.9593    90.0000    90.0000    90.0000  1  1\\n@<TRIPOS>ATOM\\n       1 C            5.4435    24.0625   220.3463 C             1 RES     \\n       2 C            4.3280    23.3875   219.8390 C             1 RES     \\n       3 C            3.1009    24.0500   219.7268 C             1 RES     \\n       4 C            2.9893    25.3875   220.1219 C             1 RES     \\n       5 C            4.1048    26.0624   220.6292 C             1 RES     \\n       6 C            5.3320    25.3999   220.7414 C             1 RES     \\n       7 H            6.3928    23.5499   220.4331 H             1 RES     \\n       8 H            4.4143    22.3528   219.5333 H             1 RES     \\n       9 H            2.2378    23.5279   219.3343 H             1 RES     \\n      10 H            2.0400    25.9000   220.0351 H             1 RES     \\n      11 H            4.0185    27.0971   220.9348 H             1 RES     \\n      12 H            6.1950    25.9221   221.1338 H             1 RES     \\n@<TRIPOS>BOND\\n       1        2        1 1\\n       2        6        1 1\\n       3        7        1 1\\n       4        3        2 1\\n       5        8        2 1\\n       6        4        3 1\\n       7        9        3 1\\n       8        5        4 1\\n       9       10        4 1\\n      10        6        5 1\\n      11       11        5 1\\n      12       12        6 1\\n@<TRIPOS>SUBSTRUCTURE\\n       1 RES             1 RESIDUE    0 **** ROOT      0\\n\",\"mol2\");\n",
       "\tviewer_167055864388098.setStyle({\"stick\": {\"radius\": 0.2, \"color\": \"grey\"}, \"sphere\": {\"scale\": 0.3, \"colorscheme\": {}}});\n",
       "\tviewer_167055864388098.zoomTo();\n",
       "viewer_167055864388098.render();\n",
       "});\n",
       "</script>"
      ]
     },
     "metadata": {},
     "output_type": "display_data"
    },
    {
     "data": {
      "text/plain": [
       "<py3Dmol.view at 0x13f633cd0>"
      ]
     },
     "execution_count": 3,
     "metadata": {},
     "output_type": "execute_result"
    }
   ],
   "source": [
    "box = mb.fill_box(compound = benzene,\n",
    "                 n_compounds=1, \n",
    "                 density=0.01)\n",
    "box.visualize()"
   ]
  },
  {
   "cell_type": "code",
   "execution_count": 4,
   "id": "1e1892a4",
   "metadata": {},
   "outputs": [
    {
     "ename": "ValidationError",
     "evalue": "Atom type 'H1' is found in NonbondedForce at line 23 but undefined in AtomTypes",
     "output_type": "error",
     "traceback": [
      "\u001b[0;31m---------------------------------------------------------------------------\u001b[0m",
      "\u001b[0;31mDocumentInvalid\u001b[0m                           Traceback (most recent call last)",
      "File \u001b[0;32m~/miniconda3/envs/sim_env/lib/python3.9/site-packages/foyer/validator.py:77\u001b[0m, in \u001b[0;36mValidator.validate_xsd\u001b[0;34m(ff_tree, xsd_file)\u001b[0m\n\u001b[1;32m     76\u001b[0m \u001b[38;5;28;01mtry\u001b[39;00m:\n\u001b[0;32m---> 77\u001b[0m     \u001b[43mxmlschema\u001b[49m\u001b[38;5;241;43m.\u001b[39;49m\u001b[43massertValid\u001b[49m\u001b[43m(\u001b[49m\u001b[43mff_tree\u001b[49m\u001b[43m)\u001b[49m\n\u001b[1;32m     78\u001b[0m \u001b[38;5;28;01mexcept\u001b[39;00m DocumentInvalid \u001b[38;5;28;01mas\u001b[39;00m ex:\n",
      "File \u001b[0;32msrc/lxml/etree.pyx:3640\u001b[0m, in \u001b[0;36mlxml.etree._Validator.assertValid\u001b[0;34m()\u001b[0m\n",
      "\u001b[0;31mDocumentInvalid\u001b[0m: Element 'Bond', attribute 'length': '[0.14419899337180256]' is not a valid value of the atomic type 'xs:float'., line 7",
      "\nDuring handling of the above exception, another exception occurred:\n",
      "\u001b[0;31mValidationError\u001b[0m                           Traceback (most recent call last)",
      "Cell \u001b[0;32mIn [4], line 1\u001b[0m\n\u001b[0;32m----> 1\u001b[0m esp \u001b[38;5;241m=\u001b[39m \u001b[43mfoyer\u001b[49m\u001b[38;5;241;43m.\u001b[39;49m\u001b[43mForcefield\u001b[49m\u001b[43m(\u001b[49m\u001b[43mforcefield_files\u001b[49m\u001b[38;5;241;43m=\u001b[39;49m\u001b[38;5;124;43m\"\u001b[39;49m\u001b[38;5;124;43m/Users/madilyn/Projects/repos/forcefields/benzene_esp_nonparmed.xml\u001b[39;49m\u001b[38;5;124;43m\"\u001b[39;49m\u001b[43m)\u001b[49m\n",
      "File \u001b[0;32m~/miniconda3/envs/sim_env/lib/python3.9/site-packages/foyer/forcefield.py:535\u001b[0m, in \u001b[0;36mForcefield.__init__\u001b[0;34m(self, forcefield_files, name, validation, debug)\u001b[0m\n\u001b[1;32m    533\u001b[0m \u001b[38;5;28;01mif\u001b[39;00m validation:\n\u001b[1;32m    534\u001b[0m     \u001b[38;5;28;01mfor\u001b[39;00m ff_file_name \u001b[38;5;129;01min\u001b[39;00m preprocessed_files:\n\u001b[0;32m--> 535\u001b[0m         \u001b[43mValidator\u001b[49m\u001b[43m(\u001b[49m\u001b[43mff_file_name\u001b[49m\u001b[43m,\u001b[49m\u001b[43m \u001b[49m\u001b[43mdebug\u001b[49m\u001b[43m)\u001b[49m\n\u001b[1;32m    536\u001b[0m \u001b[38;5;28msuper\u001b[39m(Forcefield, \u001b[38;5;28mself\u001b[39m)\u001b[38;5;241m.\u001b[39m\u001b[38;5;21m__init__\u001b[39m(\u001b[38;5;241m*\u001b[39mpreprocessed_files)\n\u001b[1;32m    538\u001b[0m \u001b[38;5;28;01mif\u001b[39;00m \u001b[38;5;28mlen\u001b[39m(preprocessed_files) \u001b[38;5;241m==\u001b[39m \u001b[38;5;241m1\u001b[39m:\n",
      "File \u001b[0;32m~/miniconda3/envs/sim_env/lib/python3.9/site-packages/foyer/validator.py:28\u001b[0m, in \u001b[0;36mValidator.__init__\u001b[0;34m(self, ff_file_name, debug)\u001b[0m\n\u001b[1;32m     23\u001b[0m preprocessed_ff_file_name \u001b[38;5;241m=\u001b[39m preprocess_forcefield_files(\n\u001b[1;32m     24\u001b[0m     [ff_file_name]\n\u001b[1;32m     25\u001b[0m )\n\u001b[1;32m     27\u001b[0m ff_tree \u001b[38;5;241m=\u001b[39m etree\u001b[38;5;241m.\u001b[39mparse(preprocessed_ff_file_name[\u001b[38;5;241m0\u001b[39m])\n\u001b[0;32m---> 28\u001b[0m \u001b[38;5;28;43mself\u001b[39;49m\u001b[38;5;241;43m.\u001b[39;49m\u001b[43mvalidate_xsd\u001b[49m\u001b[43m(\u001b[49m\u001b[43mff_tree\u001b[49m\u001b[43m)\u001b[49m\n\u001b[1;32m     30\u001b[0m \u001b[38;5;28mself\u001b[39m\u001b[38;5;241m.\u001b[39matom_type_names \u001b[38;5;241m=\u001b[39m ff_tree\u001b[38;5;241m.\u001b[39mxpath(\n\u001b[1;32m     31\u001b[0m     \u001b[38;5;124m\"\u001b[39m\u001b[38;5;124m/ForceField/AtomTypes/Type/@name\u001b[39m\u001b[38;5;124m\"\u001b[39m\n\u001b[1;32m     32\u001b[0m )\n\u001b[1;32m     33\u001b[0m \u001b[38;5;28mself\u001b[39m\u001b[38;5;241m.\u001b[39matom_types \u001b[38;5;241m=\u001b[39m ff_tree\u001b[38;5;241m.\u001b[39mxpath(\u001b[38;5;124m\"\u001b[39m\u001b[38;5;124m/ForceField/AtomTypes/Type\u001b[39m\u001b[38;5;124m\"\u001b[39m)\n",
      "File \u001b[0;32m~/miniconda3/envs/sim_env/lib/python3.9/site-packages/foyer/validator.py:85\u001b[0m, in \u001b[0;36mValidator.validate_xsd\u001b[0;34m(ff_tree, xsd_file)\u001b[0m\n\u001b[1;32m     83\u001b[0m \u001b[38;5;28;01mfor\u001b[39;00m keyword \u001b[38;5;129;01min\u001b[39;00m error_texts:\n\u001b[1;32m     84\u001b[0m     \u001b[38;5;28;01mif\u001b[39;00m keyword \u001b[38;5;129;01min\u001b[39;00m message:\n\u001b[0;32m---> 85\u001b[0m         \u001b[38;5;28;01mraise\u001b[39;00m create_error(keyword, message, line)\n\u001b[1;32m     86\u001b[0m \u001b[38;5;28;01melse\u001b[39;00m:\n\u001b[1;32m     87\u001b[0m     \u001b[38;5;28;01mraise\u001b[39;00m ValidationError(\n\u001b[1;32m     88\u001b[0m         \u001b[38;5;124m\"\u001b[39m\u001b[38;5;124mUnhandled XML validation error. \u001b[39m\u001b[38;5;124m\"\u001b[39m\n\u001b[1;32m     89\u001b[0m         \u001b[38;5;124m\"\u001b[39m\u001b[38;5;124mPlease consider submitting a bug report.\u001b[39m\u001b[38;5;124m\"\u001b[39m,\n\u001b[1;32m     90\u001b[0m         ex,\n\u001b[1;32m     91\u001b[0m         line,\n\u001b[1;32m     92\u001b[0m     )\n",
      "\u001b[0;31mValidationError\u001b[0m: Atom type 'H1' is found in NonbondedForce at line 23 but undefined in AtomTypes"
     ]
    }
   ],
   "source": [
    "esp = foyer.Forcefield(forcefield_files=\"/Users/madilyn/Projects/repos/forcefields/benzene_esp_nonparmed.xml\")"
   ]
  },
  {
   "cell_type": "code",
   "execution_count": null,
   "id": "fd38ec83",
   "metadata": {},
   "outputs": [],
   "source": []
  }
 ],
 "metadata": {
  "kernelspec": {
   "display_name": "Python 3 (ipykernel)",
   "language": "python",
   "name": "python3"
  },
  "language_info": {
   "codemirror_mode": {
    "name": "ipython",
    "version": 3
   },
   "file_extension": ".py",
   "mimetype": "text/x-python",
   "name": "python",
   "nbconvert_exporter": "python",
   "pygments_lexer": "ipython3",
   "version": "3.9.13"
  }
 },
 "nbformat": 4,
 "nbformat_minor": 5
}
