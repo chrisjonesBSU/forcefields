{
 "cells": [
  {
   "cell_type": "code",
   "execution_count": 1,
   "id": "538feb4b",
   "metadata": {
    "scrolled": true
   },
   "outputs": [
    {
     "name": "stderr",
     "output_type": "stream",
     "text": [
      "Warning: importing 'simtk.openmm' is deprecated.  Import 'openmm' instead.\n",
      "/Users/madilyn/miniconda3/envs/esp/lib/python3.9/site-packages/qcelemental/models/results.py:788: DeprecationWarning: ResultProtocols has been renamed to AtomicResultProtocols and will be removed as soon as v0.13.0\n",
      "  warn(\n",
      "/Users/madilyn/miniconda3/envs/esp/lib/python3.9/site-packages/qcelemental/models/results.py:788: DeprecationWarning: ResultProtocols has been renamed to AtomicResultProtocols and will be removed as soon as v0.13.0\n",
      "  warn(\n",
      "LICENSE: Could not open license file \"oe_license.txt\" in local directory\n",
      "LICENSE: N.B. OE_LICENSE environment variable is not set\n",
      "LICENSE: N.B. OE_DIR environment variable is not set\n",
      "LICENSE: No product keys!\n",
      "LICENSE: No product keys!\n",
      "LICENSE: No product keys!\n",
      "Warning: Unable to load toolkit 'OpenEye Toolkit'. The Open Force Field Toolkit does not require the OpenEye Toolkits, and can use RDKit/AmberTools instead. However, if you have a valid license for the OpenEye Toolkits, consider installing them for faster performance and additional file format support: https://docs.eyesopen.com/toolkits/python/quickstart-python/linuxosx.html OpenEye offers free Toolkit licenses for academics: https://www.eyesopen.com/academic-licensing\n",
      "LICENSE: No product keys!\n"
     ]
    }
   ],
   "source": [
    "from writers import foyer_xml_writer\n",
    "from writers.foyer_xml_writer import parmed_to_foyer_xml, mbuild_to_foyer_xml\n",
    "\n",
    "\n",
    "import ele\n",
    "import espaloma as esp\n",
    "import forcefield_utilities as ffutils\n",
    "import foyer\n",
    "import gmso\n",
    "import mbuild as mb\n",
    "from mbuild.lib.recipes import Polymer\n",
    "from mbuild.formats.hoomd_forcefield import create_hoomd_forcefield\n",
    "import numpy as np\n",
    "from openff.toolkit.topology import Molecule\n",
    "import torch\n",
    "\n",
    "\n",
    "import os\n",
    "import warnings\n",
    "warnings.filterwarnings(\"ignore\")\n",
    "\n",
    "if not os.path.exists(\"espaloma_model.pt\"):\n",
    "    os.system(\"wget http://data.wangyq.net/espaloma_model.pt\")"
   ]
  },
  {
   "cell_type": "code",
   "execution_count": 2,
   "id": "c3eebc8a",
   "metadata": {
    "scrolled": true
   },
   "outputs": [],
   "source": [
    "# Use espaloma to find the FF parameters for Benzene\n",
    "smiles = \"c1ccccc1\"\n",
    "benzene = mb.load(smiles, smiles=True)\n",
    "#benzene.visualize().show()\n",
    "\n",
    "molecule = Molecule.from_smiles(smiles) #molecule is benzene\n",
    "molecule_graph = esp.Graph(molecule)\n",
    "\n",
    "espaloma_model = torch.load(\"espaloma_model.pt\")\n",
    "espaloma_model(molecule_graph.heterograph)\n",
    "openmm_system = esp.graphs.deploy.openmm_system_from_graph(molecule_graph)\n",
    "\n",
    "# Store the results for each in something more accessible\n",
    "pair_forces = openmm_system.getForces()[1]\n",
    "angle_forces = openmm_system.getForces()[3]\n",
    "bond_forces = openmm_system.getForces()[2]\n",
    "torsion_forces = openmm_system.getForces()[0]"
   ]
  },
  {
   "cell_type": "code",
   "execution_count": 50,
   "id": "c2721e24",
   "metadata": {},
   "outputs": [
    {
     "name": "stdout",
     "output_type": "stream",
     "text": [
      "[Quantity(value=-0.13, unit=elementary charge), Quantity(value=0.3399669508423535, unit=nanometer), Quantity(value=0.359824, unit=kilojoule/mole)]\n",
      "Help on method getForces in module openmm.openmm:\n",
      "\n",
      "getForces() method of openmm.openmm.System instance\n",
      "    Get the list of Forces in this System\n",
      "\n"
     ]
    }
   ],
   "source": [
    "print(pair_forces.getParticleParameters(0)) \n",
    "#some issues with the data that comes out of pair_forces.getParticleParameters:\n",
    "    # WE have  list of \"QUantities\", which is nice, but we only want the values (but need to know units)\n",
    "    # WE need informatio nabout which particle type each of these quanitities corresponds to\n",
    "help(openmm_system.getForces)"
   ]
  },
  {
   "cell_type": "code",
   "execution_count": 7,
   "id": "4c0d8c9a",
   "metadata": {
    "scrolled": true
   },
   "outputs": [],
   "source": [
    "#structure.bonds"
   ]
  },
  {
   "cell_type": "code",
   "execution_count": 3,
   "id": "ec6cfe57",
   "metadata": {},
   "outputs": [],
   "source": [
    "# get a parmed structure from openmm \n",
    "import parmed as pmd\n",
    "topology = molecule.to_topology()\n",
    "openmm_topology = topology.to_openmm()\n",
    "\n",
    "structure = pmd.openmm.load_topology(topology=openmm_topology, system=openmm_system)\n",
    "structure.bonds.sort(key=lambda x: x.atom1.idx)"
   ]
  },
  {
   "cell_type": "code",
   "execution_count": 4,
   "id": "1b98eb25",
   "metadata": {},
   "outputs": [],
   "source": [
    "# step 1: how to get bond parameters\n",
    "\n",
    "bond_parameters = {}\n",
    "\n",
    "for bond in structure.bonds:\n",
    "    bond_parameters[(bond.atom1.name, bond.atom2.name)] = {\"k\":[bond.type.k] , \"l0\":[bond.type.req]}\n",
    "    \n",
    "# step 2: get angle parameters\n",
    "\n",
    "angle_parameters = {}\n",
    "\n",
    "for angle in structure.angles:\n",
    "    angle_parameters[(angle.atom1.name, angle.atom2.name,angle.atom3.name)] = {\"k\":[angle.type.k], \n",
    "                                                                               \"t0\":[angle.type.theteq]}\n",
    "    \n",
    "# step 3: dihedral parameters\n",
    "\n",
    "dihedral_parameters = {}\n",
    "\n",
    "for dihedral in structure.dihedrals:\n",
    "    dihedral_parameters[(dihedral.atom1.name, dihedral.atom2.name,dihedral.atom3.name,\n",
    "                         dihedral.atom4.name)] = {\"periodicity\":[dihedral.type.per],\n",
    "                                                  \"k\":[dihedral.type.phi_k],\"phase\":[dihedral.type.phase]}\n",
    "    \n",
    "# step 4: non-bonding parameters\n",
    "\n",
    "nonbonded_parameters = {}\n",
    "\n",
    "for nonbonded in structure.adjusts:\n",
    "    nonbonded_parameters[(nonbonded.atom1.name,nonbonded.atom2.name)] = {\"sigma\":[nonbonded.type.rmin],\n",
    "                                                    \"epsilon\":[nonbonded.type.epsilon],\n",
    "                                                    \"charge\":[nonbonded.type.chgscale]}"
   ]
  },
  {
   "cell_type": "code",
   "execution_count": null,
   "id": "8dafbf64",
   "metadata": {
    "scrolled": true
   },
   "outputs": [],
   "source": [
    "#bond_parameters\n",
    "#angle_parameters\n",
    "#dihedral_parameters\n",
    "#nonbonded_parameters"
   ]
  },
  {
   "cell_type": "code",
   "execution_count": null,
   "id": "dc8cc2be",
   "metadata": {},
   "outputs": [],
   "source": [
    "mbuild_to_foyer_xml(\n",
    "    file_name=\"benzene_esp.xml\",\n",
    "    compound=benzene,\n",
    "    bond_params=bond_parameters,\n",
    "    angle_params=angle_parameters,\n",
    "    dihedral_params=dihedral_parameters,\n",
    "    dihedral_type=\"periodic\",\n",
    "    non_bonded_params=nonbonded_parameters,\n",
    "    combining_rule=\"geometric\",\n",
    "    name=\"\",\n",
    "    version=\"\",\n",
    "    coulomb14scale=1.0,\n",
    "    lj14scale=1.0)"
   ]
  },
  {
   "cell_type": "code",
   "execution_count": null,
   "id": "8d8a7171",
   "metadata": {},
   "outputs": [],
   "source": [
    "##creating espaloma xml without parmed"
   ]
  },
  {
   "cell_type": "code",
   "execution_count": 46,
   "id": "31a33eae",
   "metadata": {},
   "outputs": [
    {
     "name": "stdout",
     "output_type": "stream",
     "text": [
      "(Quantity(value=-0.13, unit=elementary charge), Quantity(value=0.3399669508423535, unit=nanometer), Quantity(value=0.359824, unit=kilojoule/mole))\n",
      "(Quantity(value=0.13, unit=elementary charge), Quantity(value=0.25996424595335105, unit=nanometer), Quantity(value=0.06276, unit=kilojoule/mole))\n"
     ]
    }
   ],
   "source": [
    "particle_types = []\n",
    "particle_type_dict = dict()\n",
    "nonbonded_dict = {}\n",
    "\n",
    "for i in range(pair_forces.getNumParticles()):\n",
    "    pair_parms = pair_forces.getParticleParameters(index=i)\n",
    "    charge = pair_parms[0]\n",
    "    sigma = pair_parms[1]\n",
    "    epsilon = pair_parms[2]\n",
    "    if (charge, sigma, epsilon) not in particle_types: #this is adding the charge,sigma, and epsilon to the particle_types, but only once.\n",
    "        particle_types.append((charge, sigma, epsilon))\n",
    "        print((charge, sigma, epsilon) )\n",
    "    particle_type_dict[i] = particle_types.index((charge, sigma, epsilon)) #adding only the index of the pair_parms, this gives particle types.\n",
    "#print(particle_type_dict)\n",
    "\n",
    "#particle_types gives the sigma, charge, and epsilon associated with each unique particle, \n",
    "#particle_type_dict only gives the index associated with each unique particle type"
   ]
  },
  {
   "cell_type": "code",
   "execution_count": 44,
   "id": "d7bce47f",
   "metadata": {},
   "outputs": [],
   "source": [
    "bond_types = []\n",
    "bond_dict = dict() #creating an empty dictionary to put our parameters in \n",
    "atom1_names = {}\n",
    "\n",
    "for i in range(bond_forces.getNumBonds()):\n",
    "    bond_parms = bond_forces.getBondParameters(index=i)\n",
    "    atoms = {(bond.atom1.name,bond.atom2.name):[]} #gives you the atom type name and index\n",
    "    l0 = bond_parms[2]/bond_parms[2].unit\n",
    "    k = bond_parms[3]/bond_parms[3].unit\n",
    "    for bond in structure.bonds:\n",
    "        atom1 = bond.atom1.name\n",
    "        atom2 = bond.atom2.name\n",
    "        if (atom1,atom2,k,l0) not in bond_types:\n",
    "            bond_types.append((atom1,atom2,k,l0))\n",
    "        bond_dict = bond_types\n",
    "#print(bond_dict)"
   ]
  },
  {
   "cell_type": "code",
   "execution_count": 45,
   "id": "569a6335",
   "metadata": {},
   "outputs": [],
   "source": [
    "angle_types = []\n",
    "angle_dict = dict() #creating an empty dictionary to put our parameters in \n",
    "\n",
    "for i in range(angle_forces.getNumAngles()):\n",
    "    angle_parms = angle_forces.getAngleParameters(index=i)\n",
    "    atoms = {(angle.atom1.name,angle.atom2.name, angle.atom3.name):[]} #gives you the atom type name and index\n",
    "    k = angle_parms[4]/angle_parms[4].unit\n",
    "    t0 = angle_parms[3]/angle_parms[3].unit\n",
    "    for angle in structure.angles:\n",
    "        atom1 = angle.atom1.name\n",
    "        atom2 = angle.atom2.name\n",
    "        atom3 = angle.atom3.name\n",
    "        #if (atom1,atom2,atom3,k,t0) not in angle_types:\n",
    "        #    angle_types.append((atom1,atom2,atom3,k,t0))\n",
    "        angle_dict[(atom1,atom2,atom3)] = {\"k\":[k],\"t0\":[t0]}\n",
    "#print(angle_dict)"
   ]
  },
  {
   "cell_type": "code",
   "execution_count": 55,
   "id": "f2875389",
   "metadata": {
    "scrolled": true
   },
   "outputs": [
    {
     "name": "stdout",
     "output_type": "stream",
     "text": [
      "{('C1x', 'C4x'): {'charge': [0.13], 'sigma': [0.25996424595335105], 'epsilon': [0.06276]}, ('C2x', 'C5x'): {'charge': [0.13], 'sigma': [0.25996424595335105], 'epsilon': [0.06276]}, ('C3x', 'C6x'): {'charge': [0.13], 'sigma': [0.25996424595335105], 'epsilon': [0.06276]}, ('C3x', 'H1x'): {'charge': [0.13], 'sigma': [0.25996424595335105], 'epsilon': [0.06276]}, ('C5x', 'H1x'): {'charge': [0.13], 'sigma': [0.25996424595335105], 'epsilon': [0.06276]}, ('C4x', 'H2x'): {'charge': [0.13], 'sigma': [0.25996424595335105], 'epsilon': [0.06276]}, ('C6x', 'H2x'): {'charge': [0.13], 'sigma': [0.25996424595335105], 'epsilon': [0.06276]}, ('H1x', 'H2x'): {'charge': [0.13], 'sigma': [0.25996424595335105], 'epsilon': [0.06276]}, ('C1x', 'H3x'): {'charge': [0.13], 'sigma': [0.25996424595335105], 'epsilon': [0.06276]}, ('C5x', 'H3x'): {'charge': [0.13], 'sigma': [0.25996424595335105], 'epsilon': [0.06276]}, ('H2x', 'H3x'): {'charge': [0.13], 'sigma': [0.25996424595335105], 'epsilon': [0.06276]}, ('C2x', 'H4x'): {'charge': [0.13], 'sigma': [0.25996424595335105], 'epsilon': [0.06276]}, ('C6x', 'H4x'): {'charge': [0.13], 'sigma': [0.25996424595335105], 'epsilon': [0.06276]}, ('H3x', 'H4x'): {'charge': [0.13], 'sigma': [0.25996424595335105], 'epsilon': [0.06276]}, ('C1x', 'H5x'): {'charge': [0.13], 'sigma': [0.25996424595335105], 'epsilon': [0.06276]}, ('C3x', 'H5x'): {'charge': [0.13], 'sigma': [0.25996424595335105], 'epsilon': [0.06276]}, ('H4x', 'H5x'): {'charge': [0.13], 'sigma': [0.25996424595335105], 'epsilon': [0.06276]}, ('C2x', 'H6x'): {'charge': [0.13], 'sigma': [0.25996424595335105], 'epsilon': [0.06276]}, ('C4x', 'H6x'): {'charge': [0.13], 'sigma': [0.25996424595335105], 'epsilon': [0.06276]}, ('H1x', 'H6x'): {'charge': [0.13], 'sigma': [0.25996424595335105], 'epsilon': [0.06276]}, ('H5x', 'H6x'): {'charge': [0.13], 'sigma': [0.25996424595335105], 'epsilon': [0.06276]}}\n"
     ]
    }
   ],
   "source": [
    "nonbonded_dict = {}\n",
    "\n",
    "for i in range(pair_forces.getNumParticles()):\n",
    "    nonbonded_parms = pair_forces.getParticleParameters(index=i)\n",
    "    charge = nonbonded_parms[0]/nonbonded_parms[0].unit\n",
    "    sigma = nonbonded_parms[1]/nonbonded_parms[1].unit\n",
    "    epsilon = nonbonded_parms[2]/nonbonded_parms[2].unit\n",
    "    for nonbonded in structure.adjusts:\n",
    "        atom1 = nonbonded.atom1.name\n",
    "        atom2 = nonbonded.atom2.name\n",
    "        nonbonded_dict[(atom1,atom2)] = {\"charge\":[charge],\"sigma\":[sigma],\"epsilon\":[epsilon]}\n",
    "print(nonbonded_dict)"
   ]
  },
  {
   "cell_type": "code",
   "execution_count": 42,
   "id": "57235754",
   "metadata": {
    "scrolled": true
   },
   "outputs": [],
   "source": [
    "##using parmed to get atom types\n",
    "#\n",
    "#atom1_names = {}\n",
    "#for bond in structure.bonds:\n",
    "#    atom1_names = {\"atom1\":[bond.atom1.name,bond.atom1.idx],\"atom2\":[bond.atom2.name, bond.atom2.idx]} #gives you the atom type name and index\n",
    "##    print(atom1_names)\n",
    "#atoms = {}\n",
    "#for bond in structure.bonds:\n",
    "#    atoms = {(bond.atom1.name,bond.atom2.name):[bond.atom1.idx,bond.atom2.idx]} #gives you the atom type name and index\n",
    "#    print(atoms)"
   ]
  },
  {
   "cell_type": "code",
   "execution_count": 47,
   "id": "ed3e9dfd",
   "metadata": {
    "scrolled": true
   },
   "outputs": [
    {
     "data": {
      "text/plain": [
       "{('C1x', 'C2x', 'C3x', 'C4x'): {'periodicity': [6],\n",
       "  'k': [0.02235557875720232],\n",
       "  'phase': [0.0]},\n",
       " ('C1x', 'C2x', 'C3x', 'H3x'): {'periodicity': [6],\n",
       "  'k': [0.023185446266553934],\n",
       "  'phase': [180.0]},\n",
       " ('C1x', 'C6x', 'C5x', 'C4x'): {'periodicity': [6],\n",
       "  'k': [0.02235557875720232],\n",
       "  'phase': [0.0]},\n",
       " ('C1x', 'C6x', 'C5x', 'H5x'): {'periodicity': [6],\n",
       "  'k': [0.023185446266553934],\n",
       "  'phase': [180.0]},\n",
       " ('C2x', 'C1x', 'C6x', 'C5x'): {'periodicity': [6],\n",
       "  'k': [0.02235557875720232],\n",
       "  'phase': [0.0]},\n",
       " ('C2x', 'C1x', 'C6x', 'H6x'): {'periodicity': [6],\n",
       "  'k': [0.023185446266553934],\n",
       "  'phase': [180.0]},\n",
       " ('C2x', 'C3x', 'C4x', 'C5x'): {'periodicity': [6],\n",
       "  'k': [0.02235557875720232],\n",
       "  'phase': [0.0]},\n",
       " ('C2x', 'C3x', 'C4x', 'H4x'): {'periodicity': [6],\n",
       "  'k': [0.023185446266553934],\n",
       "  'phase': [180.0]},\n",
       " ('C3x', 'C2x', 'C1x', 'C6x'): {'periodicity': [6],\n",
       "  'k': [0.02235557875720232],\n",
       "  'phase': [0.0]},\n",
       " ('C3x', 'C2x', 'C1x', 'H1x'): {'periodicity': [6],\n",
       "  'k': [0.023185446266553934],\n",
       "  'phase': [180.0]},\n",
       " ('C3x', 'C4x', 'C5x', 'C6x'): {'periodicity': [6],\n",
       "  'k': [0.02235557875720232],\n",
       "  'phase': [0.0]},\n",
       " ('C3x', 'C4x', 'C5x', 'H5x'): {'periodicity': [6],\n",
       "  'k': [0.023185446266553934],\n",
       "  'phase': [180.0]},\n",
       " ('C4x', 'C3x', 'C2x', 'H2x'): {'periodicity': [6],\n",
       "  'k': [0.023185446266553934],\n",
       "  'phase': [180.0]},\n",
       " ('C4x', 'C5x', 'C6x', 'H6x'): {'periodicity': [6],\n",
       "  'k': [0.023185446266553934],\n",
       "  'phase': [180.0]},\n",
       " ('C5x', 'C4x', 'C3x', 'H3x'): {'periodicity': [6],\n",
       "  'k': [0.023185446266553934],\n",
       "  'phase': [180.0]},\n",
       " ('C5x', 'C6x', 'C1x', 'H1x'): {'periodicity': [6],\n",
       "  'k': [0.023185446266553934],\n",
       "  'phase': [180.0]},\n",
       " ('C6x', 'C1x', 'C2x', 'H2x'): {'periodicity': [6],\n",
       "  'k': [0.023185446266553934],\n",
       "  'phase': [180.0]},\n",
       " ('C6x', 'C5x', 'C4x', 'H4x'): {'periodicity': [6],\n",
       "  'k': [0.023185446266553934],\n",
       "  'phase': [180.0]},\n",
       " ('H1x', 'C1x', 'C2x', 'H2x'): {'periodicity': [6],\n",
       "  'k': [0.08153506720753506],\n",
       "  'phase': [180.0]},\n",
       " ('H1x', 'C1x', 'C6x', 'H6x'): {'periodicity': [6],\n",
       "  'k': [0.08153506720753506],\n",
       "  'phase': [180.0]},\n",
       " ('H2x', 'C2x', 'C3x', 'H3x'): {'periodicity': [6],\n",
       "  'k': [0.08153506720753506],\n",
       "  'phase': [180.0]},\n",
       " ('H3x', 'C3x', 'C4x', 'H4x'): {'periodicity': [6],\n",
       "  'k': [0.08153506720753506],\n",
       "  'phase': [180.0]},\n",
       " ('H4x', 'C4x', 'C5x', 'H5x'): {'periodicity': [6],\n",
       "  'k': [0.08153506720753506],\n",
       "  'phase': [180.0]},\n",
       " ('H5x', 'C5x', 'C6x', 'H6x'): {'periodicity': [6],\n",
       "  'k': [0.08153506720753506],\n",
       "  'phase': [180.0]},\n",
       " ('C1x', 'C2x', 'C3x', 'H2x'): {'periodicity': [6],\n",
       "  'k': [0.27752639636682713],\n",
       "  'phase': [0.0]},\n",
       " ('C1x', 'C2x', 'H2x', 'C3x'): {'periodicity': [6],\n",
       "  'k': [0.27752639636682713],\n",
       "  'phase': [0.0]},\n",
       " ('C1x', 'C6x', 'C5x', 'H6x'): {'periodicity': [6],\n",
       "  'k': [0.27752639636682713],\n",
       "  'phase': [0.0]},\n",
       " ('C1x', 'C6x', 'H6x', 'C5x'): {'periodicity': [6],\n",
       "  'k': [0.27752639636682713],\n",
       "  'phase': [0.0]},\n",
       " ('C2x', 'C1x', 'C6x', 'H1x'): {'periodicity': [6],\n",
       "  'k': [0.27752639636682713],\n",
       "  'phase': [0.0]},\n",
       " ('C2x', 'C1x', 'H1x', 'C6x'): {'periodicity': [6],\n",
       "  'k': [0.27752639636682713],\n",
       "  'phase': [0.0]},\n",
       " ('C2x', 'C3x', 'C4x', 'H3x'): {'periodicity': [6],\n",
       "  'k': [0.27752639636682713],\n",
       "  'phase': [0.0]},\n",
       " ('C2x', 'C3x', 'H3x', 'C4x'): {'periodicity': [6],\n",
       "  'k': [0.27752639636682713],\n",
       "  'phase': [0.0]},\n",
       " ('C3x', 'C2x', 'C1x', 'H2x'): {'periodicity': [6],\n",
       "  'k': [0.27752639636682713],\n",
       "  'phase': [0.0]},\n",
       " ('C3x', 'C2x', 'H2x', 'C1x'): {'periodicity': [6],\n",
       "  'k': [0.27752639636682713],\n",
       "  'phase': [0.0]},\n",
       " ('C3x', 'C4x', 'C5x', 'H4x'): {'periodicity': [6],\n",
       "  'k': [0.27752639636682713],\n",
       "  'phase': [0.0]},\n",
       " ('C3x', 'C4x', 'H4x', 'C5x'): {'periodicity': [6],\n",
       "  'k': [0.27752639636682713],\n",
       "  'phase': [0.0]},\n",
       " ('C4x', 'C3x', 'C2x', 'H3x'): {'periodicity': [6],\n",
       "  'k': [0.27752639636682713],\n",
       "  'phase': [0.0]},\n",
       " ('C4x', 'C3x', 'H3x', 'C2x'): {'periodicity': [6],\n",
       "  'k': [0.27752639636682713],\n",
       "  'phase': [0.0]},\n",
       " ('C4x', 'C5x', 'C6x', 'H5x'): {'periodicity': [6],\n",
       "  'k': [0.27752639636682713],\n",
       "  'phase': [0.0]},\n",
       " ('C4x', 'C5x', 'H5x', 'C6x'): {'periodicity': [6],\n",
       "  'k': [0.27752639636682713],\n",
       "  'phase': [0.0]},\n",
       " ('C5x', 'C4x', 'C3x', 'H4x'): {'periodicity': [6],\n",
       "  'k': [0.27752639636682713],\n",
       "  'phase': [0.0]},\n",
       " ('C5x', 'C4x', 'H4x', 'C3x'): {'periodicity': [6],\n",
       "  'k': [0.27752639636682713],\n",
       "  'phase': [0.0]},\n",
       " ('C5x', 'C6x', 'C1x', 'H6x'): {'periodicity': [6],\n",
       "  'k': [0.27752639636682713],\n",
       "  'phase': [0.0]},\n",
       " ('C5x', 'C6x', 'H6x', 'C1x'): {'periodicity': [6],\n",
       "  'k': [0.27752639636682713],\n",
       "  'phase': [0.0]},\n",
       " ('C6x', 'C5x', 'C4x', 'H5x'): {'periodicity': [6],\n",
       "  'k': [0.27752639636682713],\n",
       "  'phase': [0.0]},\n",
       " ('C6x', 'C5x', 'H5x', 'C4x'): {'periodicity': [6],\n",
       "  'k': [0.27752639636682713],\n",
       "  'phase': [0.0]},\n",
       " ('C6x', 'C1x', 'C2x', 'H1x'): {'periodicity': [6],\n",
       "  'k': [0.27752639636682713],\n",
       "  'phase': [0.0]},\n",
       " ('C6x', 'C1x', 'H1x', 'C2x'): {'periodicity': [6],\n",
       "  'k': [0.27752639636682713],\n",
       "  'phase': [0.0]},\n",
       " ('H1x', 'C1x', 'C2x', 'C6x'): {'periodicity': [6],\n",
       "  'k': [1.0920694086549074],\n",
       "  'phase': [180.0]},\n",
       " ('H1x', 'C1x', 'C6x', 'C2x'): {'periodicity': [6],\n",
       "  'k': [1.0920694086549074],\n",
       "  'phase': [180.0]},\n",
       " ('H2x', 'C2x', 'C1x', 'C3x'): {'periodicity': [6],\n",
       "  'k': [1.0920694086549074],\n",
       "  'phase': [180.0]},\n",
       " ('H2x', 'C2x', 'C3x', 'C1x'): {'periodicity': [6],\n",
       "  'k': [1.0920694086549074],\n",
       "  'phase': [180.0]},\n",
       " ('H3x', 'C3x', 'C2x', 'C4x'): {'periodicity': [6],\n",
       "  'k': [1.0920694086549074],\n",
       "  'phase': [180.0]},\n",
       " ('H3x', 'C3x', 'C4x', 'C2x'): {'periodicity': [6],\n",
       "  'k': [1.0920694086549074],\n",
       "  'phase': [180.0]},\n",
       " ('H4x', 'C4x', 'C3x', 'C5x'): {'periodicity': [6],\n",
       "  'k': [1.0920694086549074],\n",
       "  'phase': [180.0]},\n",
       " ('H4x', 'C4x', 'C5x', 'C3x'): {'periodicity': [6],\n",
       "  'k': [1.0920694086549074],\n",
       "  'phase': [180.0]},\n",
       " ('H5x', 'C5x', 'C4x', 'C6x'): {'periodicity': [6],\n",
       "  'k': [1.0920694086549074],\n",
       "  'phase': [180.0]},\n",
       " ('H5x', 'C5x', 'C6x', 'C4x'): {'periodicity': [6],\n",
       "  'k': [1.0920694086549074],\n",
       "  'phase': [180.0]},\n",
       " ('H6x', 'C6x', 'C5x', 'C1x'): {'periodicity': [6],\n",
       "  'k': [1.0920694086549074],\n",
       "  'phase': [180.0]},\n",
       " ('H6x', 'C6x', 'C1x', 'C5x'): {'periodicity': [6],\n",
       "  'k': [1.0920694086549074],\n",
       "  'phase': [180.0]}}"
      ]
     },
     "execution_count": 47,
     "metadata": {},
     "output_type": "execute_result"
    }
   ],
   "source": [
    "dihedral_parameters"
   ]
  },
  {
   "cell_type": "code",
   "execution_count": null,
   "id": "ea0f1899",
   "metadata": {},
   "outputs": [],
   "source": []
  }
 ],
 "metadata": {
  "kernelspec": {
   "display_name": "Python 3 (ipykernel)",
   "language": "python",
   "name": "python3"
  },
  "language_info": {
   "codemirror_mode": {
    "name": "ipython",
    "version": 3
   },
   "file_extension": ".py",
   "mimetype": "text/x-python",
   "name": "python",
   "nbconvert_exporter": "python",
   "pygments_lexer": "ipython3",
   "version": "3.9.13"
  }
 },
 "nbformat": 4,
 "nbformat_minor": 5
}
