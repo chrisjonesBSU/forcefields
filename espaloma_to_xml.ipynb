{
 "cells": [
  {
   "cell_type": "code",
   "execution_count": 2,
   "id": "538feb4b",
   "metadata": {
    "scrolled": true
   },
   "outputs": [
    {
     "name": "stderr",
     "output_type": "stream",
     "text": [
      "Warning: importing 'simtk.openmm' is deprecated.  Import 'openmm' instead.\n",
      "/Users/madilyn/miniconda3/envs/esp/lib/python3.9/site-packages/qcelemental/models/results.py:788: DeprecationWarning: ResultProtocols has been renamed to AtomicResultProtocols and will be removed as soon as v0.13.0\n",
      "  warn(\n",
      "/Users/madilyn/miniconda3/envs/esp/lib/python3.9/site-packages/qcelemental/models/results.py:788: DeprecationWarning: ResultProtocols has been renamed to AtomicResultProtocols and will be removed as soon as v0.13.0\n",
      "  warn(\n",
      "LICENSE: Could not open license file \"oe_license.txt\" in local directory\n",
      "LICENSE: N.B. OE_LICENSE environment variable is not set\n",
      "LICENSE: N.B. OE_DIR environment variable is not set\n",
      "LICENSE: No product keys!\n",
      "LICENSE: No product keys!\n",
      "LICENSE: No product keys!\n",
      "Warning: Unable to load toolkit 'OpenEye Toolkit'. The Open Force Field Toolkit does not require the OpenEye Toolkits, and can use RDKit/AmberTools instead. However, if you have a valid license for the OpenEye Toolkits, consider installing them for faster performance and additional file format support: https://docs.eyesopen.com/toolkits/python/quickstart-python/linuxosx.html OpenEye offers free Toolkit licenses for academics: https://www.eyesopen.com/academic-licensing\n",
      "LICENSE: No product keys!\n"
     ]
    }
   ],
   "source": [
    "from writers import foyer_xml_writer\n",
    "from writers.foyer_xml_writer import parmed_to_foyer_xml, mbuild_to_foyer_xml\n",
    "\n",
    "\n",
    "import ele\n",
    "import espaloma as esp\n",
    "import forcefield_utilities as ffutils\n",
    "import foyer\n",
    "import gmso\n",
    "import mbuild as mb\n",
    "from mbuild.lib.recipes import Polymer\n",
    "from mbuild.formats.hoomd_forcefield import create_hoomd_forcefield\n",
    "import numpy as np\n",
    "from openff.toolkit.topology import Molecule\n",
    "import torch\n",
    "\n",
    "\n",
    "import os\n",
    "import warnings\n",
    "warnings.filterwarnings(\"ignore\")\n",
    "\n",
    "if not os.path.exists(\"espaloma_model.pt\"):\n",
    "    os.system(\"wget http://data.wangyq.net/espaloma_model.pt\")"
   ]
  },
  {
   "cell_type": "code",
   "execution_count": 3,
   "id": "c3eebc8a",
   "metadata": {
    "scrolled": true
   },
   "outputs": [],
   "source": [
    "# Use espaloma to find the FF parameters for Benzene\n",
    "smiles = \"c1ccccc1\"\n",
    "benzene = mb.load(smiles, smiles=True)\n",
    "#benzene.visualize().show()\n",
    "\n",
    "molecule = Molecule.from_smiles(smiles) #molecule is benzene\n",
    "molecule_graph = esp.Graph(molecule)\n",
    "\n",
    "espaloma_model = torch.load(\"espaloma_model.pt\")\n",
    "espaloma_model(molecule_graph.heterograph)\n",
    "openmm_system = esp.graphs.deploy.openmm_system_from_graph(molecule_graph)\n",
    "\n",
    "# Store the results for each in something more accessible\n",
    "pair_forces = openmm_system.getForces()[1]\n",
    "angle_forces = openmm_system.getForces()[3]\n",
    "bond_forces = openmm_system.getForces()[2]\n",
    "torsion_forces = openmm_system.getForces()[0]"
   ]
  },
  {
   "cell_type": "code",
   "execution_count": 50,
   "id": "c2721e24",
   "metadata": {},
   "outputs": [
    {
     "name": "stdout",
     "output_type": "stream",
     "text": [
      "[Quantity(value=-0.13, unit=elementary charge), Quantity(value=0.3399669508423535, unit=nanometer), Quantity(value=0.359824, unit=kilojoule/mole)]\n",
      "Help on method getForces in module openmm.openmm:\n",
      "\n",
      "getForces() method of openmm.openmm.System instance\n",
      "    Get the list of Forces in this System\n",
      "\n"
     ]
    }
   ],
   "source": [
    "print(pair_forces.getParticleParameters(0)) \n",
    "#some issues with the data that comes out of pair_forces.getParticleParameters:\n",
    "    # WE have  list of \"QUantities\", which is nice, but we only want the values (but need to know units)\n",
    "    # WE need informatio nabout which particle type each of these quanitities corresponds to\n",
    "help(openmm_system.getForces)"
   ]
  },
  {
   "cell_type": "code",
   "execution_count": 7,
   "id": "4c0d8c9a",
   "metadata": {
    "scrolled": true
   },
   "outputs": [],
   "source": [
    "#structure.bonds"
   ]
  },
  {
   "cell_type": "code",
   "execution_count": 4,
   "id": "ec6cfe57",
   "metadata": {},
   "outputs": [],
   "source": [
    "# get a parmed structure from openmm \n",
    "import parmed as pmd\n",
    "topology = molecule.to_topology()\n",
    "openmm_topology = topology.to_openmm()\n",
    "\n",
    "structure = pmd.openmm.load_topology(topology=openmm_topology, system=openmm_system)\n",
    "structure.bonds.sort(key=lambda x: x.atom1.idx)"
   ]
  },
  {
   "cell_type": "code",
   "execution_count": 5,
   "id": "1b98eb25",
   "metadata": {},
   "outputs": [],
   "source": [
    "# step 1: how to get bond parameters\n",
    "\n",
    "bond_parameters = {}\n",
    "\n",
    "for bond in structure.bonds:\n",
    "    bond_parameters[(bond.atom1.name, bond.atom2.name)] = {\"k\":[bond.type.k] , \"l0\":[bond.type.req]}\n",
    "    \n",
    "# step 2: get angle parameters\n",
    "\n",
    "angle_parameters = {}\n",
    "\n",
    "for angle in structure.angles:\n",
    "    angle_parameters[(angle.atom1.name, angle.atom2.name,angle.atom3.name)] = {\"k\":[angle.type.k], \n",
    "                                                                               \"t0\":[angle.type.theteq]}\n",
    "    \n",
    "# step 3: dihedral parameters\n",
    "\n",
    "dihedral_parameters = {}\n",
    "\n",
    "for dihedral in structure.dihedrals:\n",
    "    dihedral_parameters[(dihedral.atom1.name, dihedral.atom2.name,dihedral.atom3.name,\n",
    "                         dihedral.atom4.name)] = {\"periodicity\":[dihedral.type.per],\n",
    "                                                  \"k\":[dihedral.type.phi_k],\"phase\":[dihedral.type.phase]}\n",
    "    \n",
    "# step 4: non-bonding parameters\n",
    "\n",
    "nonbonded_parameters = {}\n",
    "\n",
    "for nonbonded in structure.adjusts:\n",
    "    nonbonded_parameters[(nonbonded.atom1.name,nonbonded.atom2.name)] = {\"sigma\":[nonbonded.type.rmin],\n",
    "                                                    \"epsilon\":[nonbonded.type.epsilon],\n",
    "                                                    \"charge\":[nonbonded.type.chgscale]}"
   ]
  },
  {
   "cell_type": "code",
   "execution_count": null,
   "id": "8dafbf64",
   "metadata": {
    "scrolled": true
   },
   "outputs": [],
   "source": [
    "#bond_parameters\n",
    "#angle_parameters\n",
    "#dihedral_parameters\n",
    "#nonbonded_parameters"
   ]
  },
  {
   "cell_type": "code",
   "execution_count": null,
   "id": "dc8cc2be",
   "metadata": {},
   "outputs": [],
   "source": [
    "mbuild_to_foyer_xml(\n",
    "    file_name=\"benzene_esp.xml\",\n",
    "    compound=benzene,\n",
    "    bond_params=bond_parameters,\n",
    "    angle_params=angle_parameters,\n",
    "    dihedral_params=dihedral_parameters,\n",
    "    dihedral_type=\"periodic\",\n",
    "    non_bonded_params=nonbonded_parameters,\n",
    "    combining_rule=\"geometric\",\n",
    "    name=\"\",\n",
    "    version=\"\",\n",
    "    coulomb14scale=1.0,\n",
    "    lj14scale=1.0)"
   ]
  },
  {
   "cell_type": "code",
   "execution_count": null,
   "id": "8d8a7171",
   "metadata": {},
   "outputs": [],
   "source": [
    "##creating espaloma xml without parmed"
   ]
  },
  {
   "cell_type": "code",
   "execution_count": 6,
   "id": "31a33eae",
   "metadata": {},
   "outputs": [
    {
     "name": "stdout",
     "output_type": "stream",
     "text": [
      "(Quantity(value=-0.13, unit=elementary charge), Quantity(value=0.3399669508423535, unit=nanometer), Quantity(value=0.359824, unit=kilojoule/mole))\n",
      "(Quantity(value=0.13, unit=elementary charge), Quantity(value=0.25996424595335105, unit=nanometer), Quantity(value=0.06276, unit=kilojoule/mole))\n"
     ]
    }
   ],
   "source": [
    "particle_types = []\n",
    "particle_type_dict = dict()\n",
    "nonbonded_dict = {}\n",
    "\n",
    "for i in range(pair_forces.getNumParticles()):\n",
    "    pair_parms = pair_forces.getParticleParameters(index=i)\n",
    "    charge = pair_parms[0]\n",
    "    sigma = pair_parms[1]\n",
    "    epsilon = pair_parms[2]\n",
    "    if (charge, sigma, epsilon) not in particle_types: #this is adding the charge,sigma, and epsilon to the particle_types, but only once.\n",
    "        particle_types.append((charge, sigma, epsilon))\n",
    "        print((charge, sigma, epsilon) )\n",
    "    particle_type_dict[i] = particle_types.index((charge, sigma, epsilon)) #adding only the index of the pair_parms, this gives particle types.\n",
    "#print(particle_type_dict)\n",
    "\n",
    "#particle_types gives the sigma, charge, and epsilon associated with each unique particle, \n",
    "#particle_type_dict only gives the index associated with each unique particle type"
   ]
  },
  {
   "cell_type": "code",
   "execution_count": 87,
   "id": "214c17c1",
   "metadata": {},
   "outputs": [
    {
     "name": "stdout",
     "output_type": "stream",
     "text": [
      "{0: 'C1', 1: 'C1', 6: 'H1', 2: 'C1', 7: 'H1', 3: 'C1', 8: 'H1', 4: 'C1', 9: 'H1', 5: 'C1', 10: 'H1', 11: 'H1'}\n"
     ]
    }
   ],
   "source": [
    "#graph check\n",
    "#want to check if the opemm and parmed graphs are the same so we can use types from parmed \n",
    "import networkx  as nx\n",
    "Gopenmm = nx.Graph()\n",
    "Gparmed = nx.Graph()\n",
    "#openmm:\n",
    "for i in range(bond_forces.getNumBonds()):\n",
    "    Gopenmm.add_edge(bond_forces.getBondParameters(index=i)[0],bond_forces.getBondParameters(index=i)[1])\n",
    "#parmed\n",
    "for b in structure.bonds:\n",
    "    Gparmed.add_edge(b.atom1.idx,b.atom2.idx)\n",
    "type_map = {}\n",
    "#nx.rooted_tree_isomorphism\n",
    "#in here we still need to check that one known index on one corresponds to the same index on the other....\n",
    "tree_openmm = nx.bfs_tree(Gopenmm,0)\n",
    "tree_parmed = nx.bfs_tree(Gparmed,0)\n",
    "if nx.is_isomorphic(Gopenmm,Gparmed):\n",
    "#if nx.isomorphism.tree_isomorphism(tree_openmm,tree_parmed):  <- want this work\n",
    "    for b in structure.bonds:\n",
    "        type_map[b.atom1.idx] = b.atom1.atom_type.__str__()\n",
    "        type_map[b.atom2.idx] = b.atom2.atom_type.__str__()\n",
    "print(type_map)"
   ]
  },
  {
   "cell_type": "code",
   "execution_count": 85,
   "id": "2742c503",
   "metadata": {},
   "outputs": [
    {
     "data": {
      "text/plain": [
       "False"
      ]
     },
     "execution_count": 85,
     "metadata": {},
     "output_type": "execute_result"
    }
   ],
   "source": [
    "nx.is_tree(Gopenmm)#,Gopenmm.nodes[0],Gparmed,Gparmed.nodes[0])"
   ]
  },
  {
   "cell_type": "code",
   "execution_count": 81,
   "id": "407d9811",
   "metadata": {},
   "outputs": [
    {
     "ename": "AttributeError",
     "evalue": "module networkx has no attribute rooted_tree_isomorphism",
     "output_type": "error",
     "traceback": [
      "\u001b[0;31m---------------------------------------------------------------------------\u001b[0m",
      "\u001b[0;31mAttributeError\u001b[0m                            Traceback (most recent call last)",
      "Cell \u001b[0;32mIn [81], line 1\u001b[0m\n\u001b[0;32m----> 1\u001b[0m help(\u001b[43mnx\u001b[49m\u001b[38;5;241;43m.\u001b[39;49m\u001b[43mrooted_tree_isomorphism\u001b[49m)\n",
      "File \u001b[0;32m~/miniconda3/envs/esp/lib/python3.9/site-packages/networkx/__init__.py:51\u001b[0m, in \u001b[0;36m__getattr__\u001b[0;34m(name)\u001b[0m\n\u001b[1;32m     42\u001b[0m \u001b[38;5;28;01mif\u001b[39;00m name \u001b[38;5;241m==\u001b[39m \u001b[38;5;124m\"\u001b[39m\u001b[38;5;124mwrite_yaml\u001b[39m\u001b[38;5;124m\"\u001b[39m:\n\u001b[1;32m     43\u001b[0m     \u001b[38;5;28;01mraise\u001b[39;00m \u001b[38;5;167;01mImportError\u001b[39;00m(\n\u001b[1;32m     44\u001b[0m         \u001b[38;5;124m\"\u001b[39m\u001b[38;5;130;01m\\n\u001b[39;00m\u001b[38;5;124mwrite_yaml has been removed from NetworkX, please use `yaml`\u001b[39m\u001b[38;5;130;01m\\n\u001b[39;00m\u001b[38;5;124m\"\u001b[39m\n\u001b[1;32m     45\u001b[0m         \u001b[38;5;124m\"\u001b[39m\u001b[38;5;124mdirectly:\u001b[39m\u001b[38;5;130;01m\\n\u001b[39;00m\u001b[38;5;130;01m\\n\u001b[39;00m\u001b[38;5;124m\"\u001b[39m\n\u001b[0;32m   (...)\u001b[0m\n\u001b[1;32m     49\u001b[0m         \u001b[38;5;124m\"\u001b[39m\u001b[38;5;124mThis message will be removed in NetworkX 3.0.\u001b[39m\u001b[38;5;124m\"\u001b[39m\n\u001b[1;32m     50\u001b[0m     )\n\u001b[0;32m---> 51\u001b[0m \u001b[38;5;28;01mraise\u001b[39;00m \u001b[38;5;167;01mAttributeError\u001b[39;00m(\u001b[38;5;124mf\u001b[39m\u001b[38;5;124m\"\u001b[39m\u001b[38;5;124mmodule \u001b[39m\u001b[38;5;132;01m{\u001b[39;00m\u001b[38;5;18m__name__\u001b[39m\u001b[38;5;132;01m}\u001b[39;00m\u001b[38;5;124m has no attribute \u001b[39m\u001b[38;5;132;01m{\u001b[39;00mname\u001b[38;5;132;01m}\u001b[39;00m\u001b[38;5;124m\"\u001b[39m)\n",
      "\u001b[0;31mAttributeError\u001b[0m: module networkx has no attribute rooted_tree_isomorphism"
     ]
    }
   ],
   "source": []
  },
  {
   "cell_type": "code",
   "execution_count": 71,
   "id": "6064eae6",
   "metadata": {},
   "outputs": [
    {
     "data": {
      "text/plain": [
       "'C1'"
      ]
     },
     "execution_count": 71,
     "metadata": {},
     "output_type": "execute_result"
    }
   ],
   "source": [
    "structure.bonds[1].atom1.atom_type.__str__()"
   ]
  },
  {
   "cell_type": "code",
   "execution_count": 90,
   "id": "d7bce47f",
   "metadata": {},
   "outputs": [
    {
     "name": "stdout",
     "output_type": "stream",
     "text": [
      "[('C1', 'C1', 130064.45891205409, 0.14419899337180256), ('C1', 'H1', 123800.77912066571, 0.11234977990290071)]\n"
     ]
    }
   ],
   "source": [
    "bond_types = []\n",
    "bond_dict = dict() #creating an empty dictionary to put our parameters in \n",
    "atom1_names = {}\n",
    "\n",
    "for i in range(bond_forces.getNumBonds()):\n",
    "    bond_parms = bond_forces.getBondParameters(index=i)\n",
    "    #print(bond_parms)\n",
    "    #atoms = {(bond.atom1.name,bond.atom2.name):[]} #gives you the atom type name and index\n",
    "    l0 = bond_parms[2]/bond_parms[2].unit\n",
    "    k = bond_parms[3]/bond_parms[3].unit\n",
    "\n",
    "    if (type_map[bond_parms[0]],type_map[bond_parms[1]],k,l0) not in bond_types:\n",
    "        bond_types.append((type_map[bond_parms[0]],type_map[bond_parms[1]],k,l0))\n",
    "    bond_dict = bond_types\n",
    "print(bond_dict)"
   ]
  },
  {
   "cell_type": "code",
   "execution_count": 8,
   "id": "569a6335",
   "metadata": {},
   "outputs": [],
   "source": [
    "angle_types = []\n",
    "angle_dict = dict() #creating an empty dictionary to put our parameters in \n",
    "\n",
    "for i in range(angle_forces.getNumAngles()):\n",
    "    angle_parms = angle_forces.getAngleParameters(index=i)\n",
    "    atoms = {(angle.atom1.name,angle.atom2.name, angle.atom3.name):[]} #gives you the atom type name and index\n",
    "    k = angle_parms[4]/angle_parms[4].unit\n",
    "    t0 = angle_parms[3]/angle_parms[3].unit\n",
    "    for angle in structure.angles:\n",
    "        atom1 = angle.atom1.name\n",
    "        atom2 = angle.atom2.name\n",
    "        atom3 = angle.atom3.name\n",
    "        #if (atom1,atom2,atom3,k,t0) not in angle_types:\n",
    "        #    angle_types.append((atom1,atom2,atom3,k,t0))\n",
    "        angle_dict[(atom1,atom2,atom3)] = {\"k\":[k],\"t0\":[t0]}\n",
    "#print(angle_dict)"
   ]
  },
  {
   "cell_type": "code",
   "execution_count": 55,
   "id": "6157aa63",
   "metadata": {},
   "outputs": [
    {
     "name": "stdout",
     "output_type": "stream",
     "text": [
      "<openmm.openmm.HarmonicBondForce; proxy of <Swig Object of type 'OpenMM::HarmonicBondForce *' at 0x163e48660> >\n"
     ]
    }
   ],
   "source": [
    "print(bond_forces)"
   ]
  },
  {
   "cell_type": "code",
   "execution_count": 31,
   "id": "f2875389",
   "metadata": {
    "scrolled": false
   },
   "outputs": [
    {
     "name": "stdout",
     "output_type": "stream",
     "text": [
      "-0.13 0.3399669508423535 0.359824\n",
      "-0.13 0.3399669508423535 0.359824\n",
      "-0.13 0.3399669508423535 0.359824\n",
      "-0.13 0.3399669508423535 0.359824\n",
      "-0.13 0.3399669508423535 0.359824\n",
      "-0.13 0.3399669508423535 0.359824\n",
      "0.13 0.25996424595335105 0.06276\n",
      "0.13 0.25996424595335105 0.06276\n",
      "0.13 0.25996424595335105 0.06276\n",
      "0.13 0.25996424595335105 0.06276\n",
      "0.13 0.25996424595335105 0.06276\n",
      "0.13 0.25996424595335105 0.06276\n",
      "{('C1', 'C1'): {'charge': [-0.13], 'sigma': [0.3399669508423535], 'epsilon': [0.359824]}, ('H1', 'H1'): {'charge': [0.13], 'sigma': [0.25996424595335105], 'epsilon': [0.06276]}}\n"
     ]
    }
   ],
   "source": [
    "nonbonded_dict = {}\n",
    "\n",
    "for a in structure.atoms:\n",
    "    i = a.idx\n",
    "    t = a.atom_type.__str__()\n",
    "    nonbonded_parms = pair_forces.getParticleParameters(index=i)\n",
    "    charge = nonbonded_parms[0]/nonbonded_parms[0].unit\n",
    "    sigma = nonbonded_parms[1]/nonbonded_parms[1].unit\n",
    "    epsilon = nonbonded_parms[2]/nonbonded_parms[2].unit\n",
    "    print(charge,sigma,epsilon)\n",
    "    if (t,t) not in nonbonded_dict:\n",
    "        nonbonded_dict[(t,t)] = {\"charge\":[charge],\"sigma\":[sigma],\"epsilon\":[epsilon]}\n",
    "print(nonbonded_dict)\n",
    "#Checking indicies are in same order between parmed and openmm:\n",
    "    # bond graphs are same - necessary\n",
    "    # index 0 same on both graphs \n",
    "    \n",
    "#Describing graph is with edges: (our bond list!)\n",
    "#C1x-H1x\n",
    "#C1x-C2x\n",
    "#...\n",
    "\n",
    "#Numbered graph edges\n",
    "#0: 0-1\n",
    "#1: 1-2\n",
    "#3: 2-3\n",
    "\n",
    "\n"
   ]
  },
  {
   "cell_type": "code",
   "execution_count": 43,
   "id": "b9d5243d",
   "metadata": {},
   "outputs": [
    {
     "name": "stdout",
     "output_type": "stream",
     "text": [
      "0 -0.13 0.3399669508423535 0.359824\n",
      "1 -0.13 0.3399669508423535 0.359824\n",
      "2 -0.13 0.3399669508423535 0.359824\n",
      "3 -0.13 0.3399669508423535 0.359824\n",
      "4 -0.13 0.3399669508423535 0.359824\n",
      "5 -0.13 0.3399669508423535 0.359824\n",
      "6 0.13 0.25996424595335105 0.06276\n",
      "7 0.13 0.25996424595335105 0.06276\n",
      "8 0.13 0.25996424595335105 0.06276\n",
      "9 0.13 0.25996424595335105 0.06276\n",
      "10 0.13 0.25996424595335105 0.06276\n",
      "11 0.13 0.25996424595335105 0.06276\n",
      "{}\n"
     ]
    }
   ],
   "source": [
    "nonbonded_dict = {}\n",
    "\n",
    "for i in range(pair_forces.getNumParticles()):\n",
    "    nonbonded_parms = pair_forces.getParticleParameters(index=i)\n",
    "    charge = nonbonded_parms[0]/nonbonded_parms[0].unit\n",
    "    sigma = nonbonded_parms[1]/nonbonded_parms[1].unit\n",
    "    epsilon = nonbonded_parms[2]/nonbonded_parms[2].unit\n",
    "    print(i,charge,sigma,epsilon)\n",
    "print(nonbonded_dict)"
   ]
  },
  {
   "cell_type": "code",
   "execution_count": 49,
   "id": "4650da72",
   "metadata": {
    "scrolled": true
   },
   "outputs": [
    {
     "data": {
      "text/plain": [
       "['CutoffNonPeriodic',\n",
       " 'CutoffPeriodic',\n",
       " 'Ewald',\n",
       " 'LJPME',\n",
       " 'NoCutoff',\n",
       " 'PME',\n",
       " '__class__',\n",
       " '__copy__',\n",
       " '__deepcopy__',\n",
       " '__delattr__',\n",
       " '__dict__',\n",
       " '__dir__',\n",
       " '__doc__',\n",
       " '__eq__',\n",
       " '__format__',\n",
       " '__ge__',\n",
       " '__getattribute__',\n",
       " '__getstate__',\n",
       " '__gt__',\n",
       " '__hash__',\n",
       " '__init__',\n",
       " '__init_subclass__',\n",
       " '__le__',\n",
       " '__lt__',\n",
       " '__module__',\n",
       " '__ne__',\n",
       " '__new__',\n",
       " '__reduce__',\n",
       " '__reduce_ex__',\n",
       " '__repr__',\n",
       " '__setattr__',\n",
       " '__setstate__',\n",
       " '__sizeof__',\n",
       " '__str__',\n",
       " '__subclasshook__',\n",
       " '__swig_destroy__',\n",
       " '__weakref__',\n",
       " 'addException',\n",
       " 'addExceptionParameterOffset',\n",
       " 'addException_usingRMin',\n",
       " 'addGlobalParameter',\n",
       " 'addParticle',\n",
       " 'addParticleParameterOffset',\n",
       " 'addParticle_usingRVdw',\n",
       " 'createExceptionsFromBonds',\n",
       " 'getCutoffDistance',\n",
       " 'getEwaldErrorTolerance',\n",
       " 'getExceptionParameterOffset',\n",
       " 'getExceptionParameters',\n",
       " 'getExceptionsUsePeriodicBoundaryConditions',\n",
       " 'getForceGroup',\n",
       " 'getGlobalParameterDefaultValue',\n",
       " 'getGlobalParameterName',\n",
       " 'getIncludeDirectSpace',\n",
       " 'getLJPMEParameters',\n",
       " 'getLJPMEParametersInContext',\n",
       " 'getName',\n",
       " 'getNonbondedMethod',\n",
       " 'getNumExceptionParameterOffsets',\n",
       " 'getNumExceptions',\n",
       " 'getNumGlobalParameters',\n",
       " 'getNumParticleParameterOffsets',\n",
       " 'getNumParticles',\n",
       " 'getPMEParameters',\n",
       " 'getPMEParametersInContext',\n",
       " 'getParticleParameterOffset',\n",
       " 'getParticleParameters',\n",
       " 'getReactionFieldDielectric',\n",
       " 'getReciprocalSpaceForceGroup',\n",
       " 'getSwitchingDistance',\n",
       " 'getUseDispersionCorrection',\n",
       " 'getUseSwitchingFunction',\n",
       " 'setCutoffDistance',\n",
       " 'setEwaldErrorTolerance',\n",
       " 'setExceptionParameterOffset',\n",
       " 'setExceptionParameters',\n",
       " 'setExceptionsUsePeriodicBoundaryConditions',\n",
       " 'setForceGroup',\n",
       " 'setGlobalParameterDefaultValue',\n",
       " 'setGlobalParameterName',\n",
       " 'setIncludeDirectSpace',\n",
       " 'setLJPMEParameters',\n",
       " 'setName',\n",
       " 'setNonbondedMethod',\n",
       " 'setPMEParameters',\n",
       " 'setParticleParameterOffset',\n",
       " 'setParticleParameters',\n",
       " 'setReactionFieldDielectric',\n",
       " 'setReciprocalSpaceForceGroup',\n",
       " 'setSwitchingDistance',\n",
       " 'setUseDispersionCorrection',\n",
       " 'setUseSwitchingFunction',\n",
       " 'this',\n",
       " 'thisown',\n",
       " 'updateParametersInContext',\n",
       " 'usesPeriodicBoundaryConditions']"
      ]
     },
     "execution_count": 49,
     "metadata": {},
     "output_type": "execute_result"
    }
   ],
   "source": [
    "dir(pair_forces)"
   ]
  },
  {
   "cell_type": "code",
   "execution_count": 54,
   "id": "4a35af81",
   "metadata": {},
   "outputs": [
    {
     "data": {
      "text/plain": [
       "[Quantity(value=-0.13, unit=elementary charge),\n",
       " Quantity(value=0.3399669508423535, unit=nanometer),\n",
       " Quantity(value=0.359824, unit=kilojoule/mole)]"
      ]
     },
     "execution_count": 54,
     "metadata": {},
     "output_type": "execute_result"
    }
   ],
   "source": [
    "pair_forces.getParticleParameters(index=1)\n",
    "\n"
   ]
  },
  {
   "cell_type": "code",
   "execution_count": null,
   "id": "a60ec4b8",
   "metadata": {},
   "outputs": [],
   "source": [
    "torsion_forces.getTorsionParameters"
   ]
  },
  {
   "cell_type": "code",
   "execution_count": 42,
   "id": "57235754",
   "metadata": {
    "scrolled": true
   },
   "outputs": [],
   "source": [
    "##using parmed to get atom types\n",
    "#\n",
    "#atom1_names = {}\n",
    "#for bond in structure.bonds:\n",
    "#    atom1_names = {\"atom1\":[bond.atom1.name,bond.atom1.idx],\"atom2\":[bond.atom2.name, bond.atom2.idx]} #gives you the atom type name and index\n",
    "##    print(atom1_names)\n",
    "#atoms = {}\n",
    "#for bond in structure.bonds:\n",
    "#    atoms = {(bond.atom1.name,bond.atom2.name):[bond.atom1.idx,bond.atom2.idx]} #gives you the atom type name and index\n",
    "#    print(atoms)"
   ]
  },
  {
   "cell_type": "code",
   "execution_count": 1,
   "id": "ed3e9dfd",
   "metadata": {
    "scrolled": true
   },
   "outputs": [],
   "source": [
    "#dihedral_parameters"
   ]
  },
  {
   "cell_type": "code",
   "execution_count": null,
   "id": "ea0f1899",
   "metadata": {},
   "outputs": [],
   "source": []
  }
 ],
 "metadata": {
  "kernelspec": {
   "display_name": "Python 3 (ipykernel)",
   "language": "python",
   "name": "python3"
  },
  "language_info": {
   "codemirror_mode": {
    "name": "ipython",
    "version": 3
   },
   "file_extension": ".py",
   "mimetype": "text/x-python",
   "name": "python",
   "nbconvert_exporter": "python",
   "pygments_lexer": "ipython3",
   "version": "3.9.13"
  }
 },
 "nbformat": 4,
 "nbformat_minor": 5
}
